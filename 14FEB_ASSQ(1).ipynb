{
 "cells": [
  {
   "cell_type": "markdown",
   "id": "347c66c6-e217-48a1-832f-ea15742062e4",
   "metadata": {},
   "source": [
    "# Q-1: What is multithreadiing in python? Why is it used? Name the module used to handle threads in python?"
   ]
  },
  {
   "cell_type": "raw",
   "id": "5fda3f9a-cd03-4ac6-bf97-d776e8f2bab6",
   "metadata": {},
   "source": [
    "Multithreading is defined as the ability of a processor to execute multiple threads concurrently. In simple, single-core CPU, it is achieved using frequent switching between threads."
   ]
  },
  {
   "cell_type": "raw",
   "id": "6cf5a48c-58bf-41d1-bf2c-cc50bbb2fd27",
   "metadata": {},
   "source": [
    "Multithreading in Python allows the concurrent and parallel occurrence of various tasks. It causes a reduction in time consumption or response time, thereby increasing the performance."
   ]
  },
  {
   "cell_type": "raw",
   "id": "a0ef3d22-0272-4a85-ba96-6b65f1458778",
   "metadata": {},
   "source": [
    "The threading module is a high-level implementation of multithreading used to deploy an application in Python. To use multithreading, we need to import the threading module in Python Program. A start() method is used to initiate the activity of a thread."
   ]
  },
  {
   "cell_type": "markdown",
   "id": "b597b45f-5f00-4ef3-a27e-f047860bebb3",
   "metadata": {},
   "source": [
    "# Q-2: Why threading module is used? Write the use of the following functions?\n",
    "\n",
    "\n",
    "## 1. activeCount()\n",
    "## 2. currentThread()\n",
    "## 3. enumerate()\n"
   ]
  },
  {
   "cell_type": "raw",
   "id": "84715b07-a74b-4a57-8136-f6064bce6a45",
   "metadata": {},
   "source": [
    "Python threading allows you to have different parts of your program run concurrently and can simplify your design."
   ]
  },
  {
   "cell_type": "markdown",
   "id": "84fb816c-4c5d-4875-ada4-cb07069c95cc",
   "metadata": {},
   "source": [
    "## 1. activeCount():"
   ]
  },
  {
   "cell_type": "raw",
   "id": "06a70c4e-60e3-456d-9ab0-483848bd49bc",
   "metadata": {},
   "source": [
    "It returns the number of Threads currently alive."
   ]
  },
  {
   "cell_type": "code",
   "execution_count": 1,
   "id": "4b58843d-3c20-433b-a7f7-f0df8b9df855",
   "metadata": {},
   "outputs": [],
   "source": [
    "import threading"
   ]
  },
  {
   "cell_type": "code",
   "execution_count": 2,
   "id": "1d5e8345-f53b-4ce8-927b-cab985bd00d6",
   "metadata": {},
   "outputs": [
    {
     "data": {
      "text/plain": [
       "8"
      ]
     },
     "execution_count": 2,
     "metadata": {},
     "output_type": "execute_result"
    }
   ],
   "source": [
    "threading.active_count()"
   ]
  },
  {
   "cell_type": "markdown",
   "id": "df6fa19c-12c9-4aa1-a55e-04098f191614",
   "metadata": {},
   "source": [
    "## 2. currentThread():"
   ]
  },
  {
   "cell_type": "raw",
   "id": "80d055c8-fb6a-4113-b867-b45f05555836",
   "metadata": {},
   "source": [
    "returns the current Thread, corresponding to the caller’s thread of control"
   ]
  },
  {
   "cell_type": "code",
   "execution_count": 4,
   "id": "180e52b9-a5af-4165-a37a-cdc10817431e",
   "metadata": {},
   "outputs": [
    {
     "name": "stdout",
     "output_type": "stream",
     "text": [
      "<_MainThread(MainThread, started 140376929343296)>\n"
     ]
    }
   ],
   "source": [
    "print(threading.current_thread())"
   ]
  },
  {
   "cell_type": "markdown",
   "id": "ee9a62b6-3257-4ac7-b21e-dfbd6e462165",
   "metadata": {},
   "source": [
    "# 3. enumerate():"
   ]
  },
  {
   "cell_type": "raw",
   "id": "47ef93f8-55ce-4b0d-b072-258a63b7e48a",
   "metadata": {},
   "source": [
    "returns a list of all Threads currently alive, including the main thread; terminated threads and threads that have not yet been started are excluded."
   ]
  },
  {
   "cell_type": "code",
   "execution_count": 5,
   "id": "8baedfd6-ac0d-49d7-865e-16819fe0b9f3",
   "metadata": {},
   "outputs": [
    {
     "name": "stdout",
     "output_type": "stream",
     "text": [
      "[<_MainThread(MainThread, started 140376929343296)>, <Thread(IOPub, started daemon 140376860501568)>, <Heartbeat(Heartbeat, started daemon 140376778208832)>, <Thread(Thread-3 (_watch_pipe_fd), started daemon 140376753030720)>, <Thread(Thread-4 (_watch_pipe_fd), started daemon 140376744638016)>, <ControlThread(Control, started daemon 140376736245312)>, <HistorySavingThread(IPythonHistorySavingThread, started 140376727852608)>, <ParentPollerUnix(Thread-2, started daemon 140376308446784)>]\n"
     ]
    }
   ],
   "source": [
    "print(threading.enumerate())"
   ]
  },
  {
   "cell_type": "markdown",
   "id": "b85d50e2-bd98-4e02-a628-04b3b8804e27",
   "metadata": {},
   "source": [
    "## 4. threading.main_thread():"
   ]
  },
  {
   "cell_type": "markdown",
   "id": "2af84a9a-daf5-4d72-a139-6a63a286922b",
   "metadata": {},
   "source": [
    "returns the main thread"
   ]
  },
  {
   "cell_type": "code",
   "execution_count": 6,
   "id": "ee0f1099-9d47-4ae9-9fdf-f75a4cbe8128",
   "metadata": {},
   "outputs": [
    {
     "data": {
      "text/plain": [
       "<_MainThread(MainThread, started 140376929343296)>"
      ]
     },
     "execution_count": 6,
     "metadata": {},
     "output_type": "execute_result"
    }
   ],
   "source": [
    "threading.main_thread()"
   ]
  },
  {
   "cell_type": "markdown",
   "id": "5c9a1467-a7e2-45cd-9f95-31a8793f2a67",
   "metadata": {},
   "source": [
    "# Q-3: Explain the following functions:\n",
    "\n",
    "  ## 1. run()\n",
    "  ## 2. start()\n",
    "  ## 3. join()\n",
    "  ## 4. isAlive()"
   ]
  },
  {
   "cell_type": "code",
   "execution_count": 7,
   "id": "9f9c4852-359d-4b0c-9d92-ed55c2c99b54",
   "metadata": {},
   "outputs": [],
   "source": [
    "import threading"
   ]
  },
  {
   "cell_type": "markdown",
   "id": "04eb4429-6747-4f1f-8b9c-62233987cb45",
   "metadata": {},
   "source": [
    "## 1. run():\n",
    "\n",
    "This method denotes that activity of a thread and can be overridden by a class, that extends the thread class."
   ]
  },
  {
   "cell_type": "code",
   "execution_count": 9,
   "id": "a16d0878-a32f-4624-8b9e-e6231ec1068f",
   "metadata": {},
   "outputs": [],
   "source": [
    "from threading import Thread"
   ]
  },
  {
   "cell_type": "code",
   "execution_count": 10,
   "id": "fe556ab9-62d3-4000-8557-af86dfa84f16",
   "metadata": {},
   "outputs": [
    {
     "name": "stdout",
     "output_type": "stream",
     "text": [
      "1\n"
     ]
    }
   ],
   "source": [
    "t = Thread(target=print, args=[1])\n",
    "t.run()"
   ]
  },
  {
   "cell_type": "code",
   "execution_count": 12,
   "id": "22aba4d5-c6df-4f04-9256-d56ec94d1ba9",
   "metadata": {},
   "outputs": [
    {
     "name": "stdout",
     "output_type": "stream",
     "text": [
      "1\n"
     ]
    }
   ],
   "source": [
    "t = Thread(target=print, args=(1,))\n",
    "t.run()"
   ]
  },
  {
   "cell_type": "markdown",
   "id": "f64b5337-3fb0-4428-9d96-e5a97e824804",
   "metadata": {},
   "source": [
    "# 2. start()"
   ]
  },
  {
   "cell_type": "code",
   "execution_count": 15,
   "id": "4510552d-ee28-476d-ab95-8747657977d4",
   "metadata": {},
   "outputs": [
    {
     "name": "stderr",
     "output_type": "stream",
     "text": [
      "07:31:55: Main    : before creating thread\n",
      "07:31:55: Main    : before running thread\n",
      "07:31:55: Thread 1: starting\n",
      "07:31:55: Main    : wait for the thread to finish\n",
      "07:31:55: Main    : all done\n",
      "07:31:57: Thread 1: finishing\n"
     ]
    }
   ],
   "source": [
    "import logging\n",
    "import threading\n",
    "import time\n",
    "\n",
    "def thread_function(name):\n",
    "    logging.info(\"Thread %s: starting\", name)\n",
    "    time.sleep(2)\n",
    "    logging.info(\"Thread %s: finishing\", name)\n",
    "\n",
    "if __name__ == \"__main__\":\n",
    "    format = \"%(asctime)s: %(message)s\"\n",
    "    logging.basicConfig(format=format, level=logging.INFO,\n",
    "                        datefmt=\"%H:%M:%S\")\n",
    "\n",
    "    logging.info(\"Main    : before creating thread\")\n",
    "    x = threading.Thread(target=thread_function, args=(1,))\n",
    "    logging.info(\"Main    : before running thread\")\n",
    "    x.start()\n",
    "    logging.info(\"Main    : wait for the thread to finish\")\n",
    "    # x.join()\n",
    "    logging.info(\"Main    : all done\")"
   ]
  },
  {
   "cell_type": "code",
   "execution_count": 21,
   "id": "e7b1d285-1eac-4574-85d2-6ad349d737f3",
   "metadata": {},
   "outputs": [
    {
     "name": "stderr",
     "output_type": "stream",
     "text": [
      "07:50:09: Thread 1: starting\n",
      "07:50:11: Thread 1: finishing\n"
     ]
    }
   ],
   "source": [
    "x = threading.Thread(target=thread_function, args=(1,))\n",
    "x.start()"
   ]
  },
  {
   "cell_type": "code",
   "execution_count": 19,
   "id": "82f16aa9-7902-4671-b6f4-ff3b1acfbdc9",
   "metadata": {},
   "outputs": [
    {
     "name": "stderr",
     "output_type": "stream",
     "text": [
      "07:46:31: Main    : before creating thread\n",
      "07:46:31: Main    : before running thread\n",
      "07:46:31: Thread 1: starting\n",
      "07:46:31: Main    : wait for the thread to finish\n",
      "07:46:33: Thread 1: finishing\n",
      "07:46:33: Main    : all done\n"
     ]
    }
   ],
   "source": [
    "import logging\n",
    "import threading\n",
    "import time\n",
    "\n",
    "def thread_function(name):\n",
    "    logging.info(\"Thread %s: starting\", name)\n",
    "    time.sleep(2)\n",
    "    logging.info(\"Thread %s: finishing\", name)\n",
    "\n",
    "if __name__ == \"__main__\":\n",
    "    format = \"%(ascdate) %(asctime)s: %(message)s\"\n",
    "    logging.basicConfig(format=format, level=logging.INFO,\n",
    "                        datefmt=\"%dd-%mm-%yyyy %H:%M:%S\")\n",
    "\n",
    "    logging.info(\"Main    : before creating thread\")\n",
    "    x = threading.Thread(target=thread_function, args=(1,))\n",
    "    logging.info(\"Main    : before running thread\")\n",
    "    x.start()\n",
    "    logging.info(\"Main    : wait for the thread to finish\")\n",
    "    x.join()\n",
    "    logging.info(\"Main    : all done\")"
   ]
  },
  {
   "cell_type": "code",
   "execution_count": 20,
   "id": "52bb2b48-c7fb-4a91-b8e5-f38a78edc1b2",
   "metadata": {},
   "outputs": [
    {
     "name": "stderr",
     "output_type": "stream",
     "text": [
      "07:49:13: Thread 1: starting\n",
      "07:49:15: Thread 1: finishing\n"
     ]
    }
   ],
   "source": [
    "x = threading.Thread(target=thread_function, args=(1,))\n",
    "x.start()"
   ]
  },
  {
   "cell_type": "markdown",
   "id": "db0d4a3e-cf0b-420a-ac9b-ac2d5b00e10a",
   "metadata": {},
   "source": [
    "# 3. join():"
   ]
  },
  {
   "cell_type": "code",
   "execution_count": 22,
   "id": "70df12bf-5fff-4ebe-b0e6-67ec015dea4b",
   "metadata": {},
   "outputs": [
    {
     "name": "stdout",
     "output_type": "stream",
     "text": [
      "Greetings from the main thread.\n",
      "Hello\n",
      "Hello\n",
      "Hello\n",
      "Hello\n",
      "Hello\n",
      "Hello\n",
      "Hello\n",
      "Hello\n",
      "Hello\n",
      "Hello\n",
      "0\n",
      "1\n",
      "2\n",
      "3\n",
      "4\n",
      "5\n",
      "6\n",
      "7\n",
      "8\n",
      "9\n",
      "10\n",
      "Hello\n",
      "Hello\n",
      "Hello\n",
      "Hello\n",
      "Hello\n",
      "Hello\n",
      "Hello\n",
      "Hello\n",
      "Hello\n",
      "Hello\n",
      "It's the main thread again!\n",
      "Threads 1 and 2 have finished executing.\n"
     ]
    }
   ],
   "source": [
    "# importing the threading module \n",
    "import threading \n",
    "# importing the time module \n",
    "import time\n",
    "# Function to print \"Hello\", however, the function sleeps\n",
    "# for 2 seconds at the 11th iteration\n",
    "def print_hello(): \n",
    "  for i in range(20):\n",
    "    if i == 10:\n",
    "      time.sleep(2)\n",
    "    print(\"Hello\")\n",
    "# Function to print numbers till a given number\n",
    "def print_numbers(num): \n",
    "  for i in range(num+1):\n",
    "    print(i)\n",
    "# Creating the threads. Target is set to the name of the\n",
    "# function that neeeds to be executed inside the thread and\n",
    "# args are the arguments to be supplied to the function that\n",
    "# needs to be executed.\n",
    "print(\"Greetings from the main thread.\")\n",
    "thread1 = threading.Thread(target = print_hello, args = ())\n",
    "thread2 = threading.Thread(target = print_numbers, args = (10,))  \n",
    "# Starting the two threads\n",
    "thread1.start() \n",
    "thread2.start() \n",
    "thread1.join()\n",
    "thread2.join()\n",
    "print(\"It's the main thread again!\")\n",
    "print(\"Threads 1 and 2 have finished executing.\")"
   ]
  },
  {
   "cell_type": "markdown",
   "id": "8da1abbd-0abd-4a29-9ed0-88cf1ae48f5a",
   "metadata": {},
   "source": [
    "## 4. isAlive():"
   ]
  },
  {
   "cell_type": "code",
   "execution_count": null,
   "id": "ee9bb5e9-1084-4cf3-8a74-d8991900e47a",
   "metadata": {},
   "outputs": [],
   "source": []
  },
  {
   "cell_type": "code",
   "execution_count": null,
   "id": "de512e00-3778-4bc4-933a-a480fde92414",
   "metadata": {},
   "outputs": [],
   "source": []
  },
  {
   "cell_type": "markdown",
   "id": "cb7b12f9-2bbd-46fc-b9a7-004386eefea6",
   "metadata": {},
   "source": [
    "# Q-4: Write a python program to create two threads. Thread one must print the list of squares and thread two must print the list of cubes."
   ]
  },
  {
   "cell_type": "code",
   "execution_count": 77,
   "id": "be044f58-51b0-4a66-adcf-1e4fc28f07b4",
   "metadata": {},
   "outputs": [
    {
     "name": "stdin",
     "output_type": "stream",
     "text": [
      "Enter how many numbers you wants in list:\n",
      " 10\n"
     ]
    },
    {
     "name": "stdout",
     "output_type": "stream",
     "text": [
      "List of Squares: [0, 1, 4, 9, 16, 25, 36, 49, 64, 81, 100]\n",
      "List of Cubes: [0, 1, 8, 27, 64, 125, 216, 343, 512, 729, 1000]\n",
      "Both threads have finished\n"
     ]
    }
   ],
   "source": [
    "import threading\n",
    "def print_squares(n):\n",
    "    square_list = [i**2 for i in n]\n",
    "    print(f'List of Squares: {square_list}')\n",
    "    \n",
    "\n",
    "\n",
    "def print_cubes(n):\n",
    "    cube_list = [i**3 for i in n]\n",
    "    print(f'List of Cubes: {cube_list}')\n",
    "    \n",
    "if __name__=='__main__':\n",
    "    n=[]\n",
    "    for i in range(int(input('Enter how many numbers you wants in list:\\n'))+1):\n",
    "        n.append(i)\n",
    "    \n",
    "    thread_sqr = threading.Thread(target=print_squares, args=(n,)) \n",
    "    thread_cube = threading.Thread(target=print_cubes, args=(n,)) \n",
    "\n",
    "    thread_sqr.start()\n",
    "    thread_cube.start()\n",
    "    \n",
    "    thread_sqr.join()\n",
    "    thread_cube.join()\n",
    "    \n",
    "    print(\"Both threads have finished\")\n",
    "    \n"
   ]
  },
  {
   "cell_type": "markdown",
   "id": "a5a43d4b-08ee-4a0b-bae7-7bd7e958af32",
   "metadata": {},
   "source": [
    "# Q-5: State advantages and disadvantages of Multithreading."
   ]
  },
  {
   "cell_type": "markdown",
   "id": "d8cb9285-2377-426b-a780-d3c96a14f3e9",
   "metadata": {},
   "source": [
    "## Advantages of Multithreading:"
   ]
  },
  {
   "cell_type": "markdown",
   "id": "efc6c435-ff2e-43ee-bc54-e564b6a8896f",
   "metadata": {},
   "source": [
    "## a) Concurrency:"
   ]
  },
  {
   "cell_type": "raw",
   "id": "4b7c0144-a0b1-42c8-b388-38713b630893",
   "metadata": {},
   "source": [
    "Multithreading allows concurrent execution of tasks, enabling a program to perform multiple operations at the same time. This is particularly useful for tasks like I/O operations where waiting for data to be read or written to/from a file, network, or database can be done in parallel with other operations.\n",
    "\n"
   ]
  },
  {
   "cell_type": "markdown",
   "id": "1881e2ee-75c3-48df-ac5a-1dff071fd537",
   "metadata": {},
   "source": [
    "### b) Responsiveness:"
   ]
  },
  {
   "cell_type": "raw",
   "id": "dd559944-cba3-4e20-aba1-d9420f20c105",
   "metadata": {},
   "source": [
    "Multithreading can enhance the responsiveness of a program, especially in graphical user interfaces (GUIs). By offloading time-consuming tasks to separate threads, the main thread can remain responsive to user input."
   ]
  },
  {
   "cell_type": "markdown",
   "id": "20a0db78-5e5b-4bf0-9afc-a3f3ad28230d",
   "metadata": {},
   "source": [
    "## c) Resource Sharing:"
   ]
  },
  {
   "cell_type": "raw",
   "id": "190fb302-0c57-4e78-a631-2577edb5092a",
   "metadata": {},
   "source": [
    "Threads within the same process share the same resources, such as memory space. This can be an advantage for communication between threads by sharing data. However, careful synchronization mechanisms are required to avoid data corruption."
   ]
  },
  {
   "cell_type": "markdown",
   "id": "77cce68e-c806-4b09-8400-0b4c7e21b377",
   "metadata": {},
   "source": [
    "## d) Efficient for I/O-bound Tasks:"
   ]
  },
  {
   "cell_type": "raw",
   "id": "8506d7eb-d7de-46c4-b980-62c03450c563",
   "metadata": {},
   "source": [
    "Multithreading is beneficial for I/O-bound tasks where the program spends a significant amount of time waiting for external operations to complete. During these waiting periods, other threads can continue execution."
   ]
  },
  {
   "cell_type": "markdown",
   "id": "3603c350-4305-4b0d-9b3d-65a148b3fc88",
   "metadata": {},
   "source": [
    "# Disadvantages:"
   ]
  },
  {
   "cell_type": "markdown",
   "id": "299bca8f-d2c7-45b3-aa65-58ec68978b99",
   "metadata": {},
   "source": [
    "## 1. Global Interpreter Lock(GIL):"
   ]
  },
  {
   "cell_type": "raw",
   "id": "5e525669-d659-45a0-b243-d8cbf5ac2694",
   "metadata": {},
   "source": [
    "One significant disadvantage in CPython (the default and most widely used implementation of Python) is the Global Interpreter Lock (GIL). The GIL allows only one thread to execute Python bytecode at a time in a single process, making it challenging to achieve true parallelism for CPU-bound tasks using threads in CPython. This limitation can reduce the performance improvement expected from multithreading in certain scenarios."
   ]
  },
  {
   "cell_type": "markdown",
   "id": "0f2d97b4-8c53-41ba-b15d-b494078adad0",
   "metadata": {},
   "source": [
    "## 2. Complexicity and Bugs:"
   ]
  },
  {
   "cell_type": "raw",
   "id": "66acbd8b-173a-4275-a59e-07081cc22504",
   "metadata": {},
   "source": [
    "    Multithreading introduces complexity into the code, especially when dealing with shared data and synchronization. Ensuring proper synchronization and avoiding race conditions can be challenging, potentially leading to bugs that are hard to identify and fix.\n",
    "\n"
   ]
  },
  {
   "cell_type": "markdown",
   "id": "bde05921-cd5f-4397-af3d-cdef47b7e70a",
   "metadata": {},
   "source": [
    "## 3. Limited CPU-Bound Performance Improvement:"
   ]
  },
  {
   "cell_type": "raw",
   "id": "e411db1d-bdf3-44e9-be59-59cb078e6e6b",
   "metadata": {},
   "source": [
    "While multithreading can improve performance for IO-bound tasks, it may not provide significant benefits for CPU-bound tasks due to the GIL. For CPU-bound tasks, multiprocessing or other parallel processing approaches might be more suitable."
   ]
  },
  {
   "cell_type": "markdown",
   "id": "bac89b3f-711d-40c1-81b1-78854a33ac74",
   "metadata": {},
   "source": [
    "## 4. Difficulty in Debugging:"
   ]
  },
  {
   "cell_type": "raw",
   "id": "d374c6c2-7fb7-4be3-98da-76e305a8f700",
   "metadata": {},
   "source": [
    "Debugging multithreaded applications can be more challenging than single-threaded ones. Race conditions and other concurrency-related issues may occur sporadically and can be hard to reproduce and diagnose."
   ]
  },
  {
   "cell_type": "markdown",
   "id": "cbb7b52e-68c9-4b58-989e-bb843a501105",
   "metadata": {},
   "source": [
    "# Q-6: Explain deadlocks and race conditions."
   ]
  },
  {
   "cell_type": "raw",
   "id": "f46b38fb-7120-4a60-8dd4-da7aa8fbcb94",
   "metadata": {},
   "source": [
    "Deadlocks and race conditions are common concurrency issues that can occur in multithreading applications. Let's explore each concept:\n"
   ]
  },
  {
   "cell_type": "markdown",
   "id": "5199f8bf-3f49-41c9-90dc-6860a9ba82ab",
   "metadata": {},
   "source": [
    "## a) Deadlocks:"
   ]
  },
  {
   "cell_type": "raw",
   "id": "f9c3c454-1c7d-484e-8c2f-9fb080186284",
   "metadata": {},
   "source": [
    "A deadlock is a situation in which two or more threads are unable to proceed because each is waiting for the other to release a resource. Deadlocks can occur when multiple threads lock resources in a way that creates a cycle in the resource allocation graph. Here are the conditions necessary for a deadlock to occur:"
   ]
  },
  {
   "cell_type": "markdown",
   "id": "3a542b0a-640d-4795-a84a-7fe90f5fff11",
   "metadata": {},
   "source": [
    "### 1. Mutual Exclusion:"
   ]
  },
  {
   "cell_type": "raw",
   "id": "44c0cc21-fa1b-43ec-b947-edbb6cc50011",
   "metadata": {},
   "source": [
    "At least one resource must be held in a non-sharable mode (e.g., exclusive lock), meaning that only one thread can use it at a time."
   ]
  },
  {
   "cell_type": "markdown",
   "id": "5cbb208a-252d-4e4d-b719-de46785ea976",
   "metadata": {},
   "source": [
    "### 2. Hold and Wait:"
   ]
  },
  {
   "cell_type": "raw",
   "id": "198fafa9-6ca5-463e-a49f-d0a1a956c148",
   "metadata": {},
   "source": [
    "A thread holding a resource is waiting for another resource acquired by some other thread, and that thread, in turn, is waiting for the first thread's held resource."
   ]
  },
  {
   "cell_type": "markdown",
   "id": "6a308929-c0c2-418b-b432-ec727e13657f",
   "metadata": {},
   "source": [
    "### 3.No Preemption: "
   ]
  },
  {
   "cell_type": "raw",
   "id": "bb391e5f-66bd-4704-a2af-ee3be4e60cdf",
   "metadata": {},
   "source": [
    "Resources cannot be forcibly taken away from a thread. They can only be released voluntarily."
   ]
  },
  {
   "cell_type": "markdown",
   "id": "5b3bcff5-cd0d-45f6-945e-9a7a9d0f0312",
   "metadata": {},
   "source": [
    "### 4. Circular Wait:"
   ]
  },
  {
   "cell_type": "raw",
   "id": "7edc8bb6-f599-4491-9c69-496315c5f3d4",
   "metadata": {},
   "source": [
    "    There must exist a cycle in the resource allocation graph."
   ]
  },
  {
   "cell_type": "markdown",
   "id": "ef359bd0-1bef-48da-b1fd-2cd206ca84d9",
   "metadata": {},
   "source": [
    "# Race Conditions:"
   ]
  },
  {
   "cell_type": "raw",
   "id": "1974595c-1a04-4e4a-b8eb-ce1eb69054db",
   "metadata": {},
   "source": [
    "A race condition occurs when the behavior of a program depends on the relative timing of events, such as the order of execution of threads. It can lead to unpredictable results because the outcome depends on which thread finishes first. Race conditions typically occur when multiple threads access shared resources concurrently, and at least one of them modifies the resource."
   ]
  },
  {
   "cell_type": "code",
   "execution_count": null,
   "id": "60eaa23b-9858-4556-8f9a-15da402a83fd",
   "metadata": {},
   "outputs": [],
   "source": []
  }
 ],
 "metadata": {
  "kernelspec": {
   "display_name": "Python 3 (ipykernel)",
   "language": "python",
   "name": "python3"
  },
  "language_info": {
   "codemirror_mode": {
    "name": "ipython",
    "version": 3
   },
   "file_extension": ".py",
   "mimetype": "text/x-python",
   "name": "python",
   "nbconvert_exporter": "python",
   "pygments_lexer": "ipython3",
   "version": "3.10.6"
  }
 },
 "nbformat": 4,
 "nbformat_minor": 5
}
