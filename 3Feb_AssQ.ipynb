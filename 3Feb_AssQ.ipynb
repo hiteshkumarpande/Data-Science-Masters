{
 "cells": [
  {
   "cell_type": "markdown",
   "id": "20fa09a2-7d72-4fbf-92e4-45117a9dbd73",
   "metadata": {},
   "source": [
    "# Q1: Which keyword is used to create a function? Create a function to return a list of odd numbers in the range of 1 to 25."
   ]
  },
  {
   "cell_type": "markdown",
   "id": "8ecc2355-93e5-4eff-a268-69b94eba22ff",
   "metadata": {},
   "source": [
    "The 'def' keyword is used to create, (or define) a function."
   ]
  },
  {
   "cell_type": "code",
   "execution_count": 5,
   "id": "9cff46e2-2f66-4712-aa67-29957e98fb69",
   "metadata": {},
   "outputs": [
    {
     "name": "stdin",
     "output_type": "stream",
     "text": [
      "Enter the number of elements in list:\n",
      " 5\n",
      " 10\n",
      " 20\n",
      " 30\n",
      " 15\n",
      " 25\n"
     ]
    },
    {
     "name": "stdout",
     "output_type": "stream",
     "text": [
      "List of numbers: [10, 20, 30, 15, 25]\n",
      "Result of list with odd numbers is [15, 25]\n"
     ]
    }
   ],
   "source": [
    "def odd_no(num):\n",
    "        return num%2==1\n",
    "\n",
    "if __name__=='__main__':\n",
    "    n = int(input('Enter the number of elements in list:\\n'))\n",
    "    l=[]\n",
    "    for i in range(n):\n",
    "        l.append(int(input()))\n",
    "    print(f'List of numbers: {l}')\n",
    "    result = filter(odd_no,l)\n",
    "    print(f'Result of list with odd numbers is {list(result)}')\n",
    "    "
   ]
  },
  {
   "cell_type": "markdown",
   "id": "4f9f0564-b8b0-4e88-9808-41b663e7c1f0",
   "metadata": {},
   "source": [
    "# 2) Why *args and **kwargs is used in some functions? create a function each for *args and **kwargs to demonstrate their use."
   ]
  },
  {
   "cell_type": "code",
   "execution_count": null,
   "id": "7049952f-d56f-4d22-ac41-0e95a9f0a65c",
   "metadata": {},
   "outputs": [],
   "source": [
    "You can use *args and **kwargs as arguments of a function when you are unsure about the number of arguments to pass in the functions."
   ]
  },
  {
   "cell_type": "code",
   "execution_count": 12,
   "id": "614fb688-d54e-445a-b92d-2ce53adc8c71",
   "metadata": {},
   "outputs": [
    {
     "name": "stdout",
     "output_type": "stream",
     "text": [
      "Hello\n",
      "Welcome\n",
      "to\n",
      "Data Science\n"
     ]
    }
   ],
   "source": [
    "# Example of *args:\n",
    "def my_fun(*argv):\n",
    "    for arg in argv:\n",
    "        print(arg)\n",
    "\n",
    "\n",
    "my_fun('Hello','Welcome','to','Data Science')"
   ]
  },
  {
   "cell_type": "markdown",
   "id": "b418c8bd-e9ef-43ed-98c8-21e598f4e539",
   "metadata": {},
   "source": [
    "# The special syntax **kwargs in function definitions in Python is used to pass a keyworded, variable-length argument list. We use the name kwargs with the double star. The reason is that the double star allows us to pass through keyword arguments (and any number of them).\n",
    "\n",
    "# 1) A keyword argument is where you provide a name to the variable as you pass it into the function.\n",
    "\n",
    "# 2) One can think of the kwargs as being a dictionary that maps each keyword to the value that we pass alongside it. That is why when we iterate over the kwargs there doesn’t seem to be any order in which they were printed out."
   ]
  },
  {
   "cell_type": "code",
   "execution_count": 2,
   "id": "762320a0-167c-4ed5-8d67-84225bd7de62",
   "metadata": {},
   "outputs": [
    {
     "name": "stdout",
     "output_type": "stream",
     "text": [
      "{'name': 'Humpty', 'location': 'Wall'}\n",
      "{'name': 'Hitesh', 'address': 'Nagpur', 'number': 1234567890}\n"
     ]
    }
   ],
   "source": [
    "# Example of **kwargs\n",
    "def myFun(**kwargs):\n",
    "    print(kwargs)\n",
    "    \n",
    "# call the function\n",
    "myFun(name=\"Humpty\",location=\"Wall\")\n",
    "myFun(name=\"Hitesh\",address=\"Nagpur\",number=1234567890)"
   ]
  },
  {
   "cell_type": "markdown",
   "id": "e37ff588-6ac0-417f-a3c0-3878a024664c",
   "metadata": {},
   "source": [
    "# Q:3. What is an iterator in python? Name the method used to initialise the iterator object and the method used for iteration. Use these methods to print the first five elements of the given list [2,4,6,8,10,12,14,16,18,20]"
   ]
  },
  {
   "cell_type": "markdown",
   "id": "379f1695-6b1f-4388-bc9a-71768baeb3ff",
   "metadata": {},
   "source": [
    "# a) An iterator is an object that contains a countable number of values.\n",
    "\n",
    "# b) An iterator is an object that can be iterated upon, meaning that you can traverse through all the values.\n",
    "\n",
    "# c) Technically, in Python, an iterator is an object which implements the iterator protocol, which consist of methods __iter__() and __next__()."
   ]
  },
  {
   "cell_type": "markdown",
   "id": "06b13b19-911e-4109-b080-8f251f8dc708",
   "metadata": {},
   "source": [
    "# iterator vs iterable\n",
    "\n",
    "# d) List,tuples, dictionaries, and sets are all iterable objects. They are iterable containers which you can get an iterator form.\n",
    "\n",
    "# e) All these objects have a iter() method which is used to get an iterator:"
   ]
  },
  {
   "cell_type": "markdown",
   "id": "e863e671-14f4-4032-bc1f-2fb20a61afad",
   "metadata": {},
   "source": [
    "# Example: Return an iterator from a tuple, and print each value:"
   ]
  },
  {
   "cell_type": "code",
   "execution_count": 9,
   "id": "7cb2a66e-75ed-403d-b4d1-89cfd9723634",
   "metadata": {},
   "outputs": [
    {
     "name": "stdout",
     "output_type": "stream",
     "text": [
      "apple\n",
      "banana\n",
      "chikoo\n",
      "mango\n",
      "lemon\n"
     ]
    }
   ],
   "source": [
    "mylist=[\"apple\",\"banana\",\"chikoo\",\"mango\",\"lemon\"]\n",
    "my_iter=iter(mylist)\n",
    "\n",
    "print(next(my_iter))\n",
    "print(next(my_iter))\n",
    "print(next(my_iter))\n",
    "print(next(my_iter))\n",
    "print(next(my_iter))"
   ]
  },
  {
   "cell_type": "markdown",
   "id": "03d323d6-af5a-47c3-b476-0f7bba260307",
   "metadata": {},
   "source": [
    "# Looping through an iterator:\n",
    "\n",
    "# We can also use a \"for\" loop to iterate through an iterable object:\n",
    "\n",
    "## Example: Iterate the values of a tuple:\n",
    "\n"
   ]
  },
  {
   "cell_type": "code",
   "execution_count": 11,
   "id": "61c789f0-37fb-44f8-b8c6-5aeb0fc85c2c",
   "metadata": {},
   "outputs": [
    {
     "name": "stdout",
     "output_type": "stream",
     "text": [
      "apple\n",
      "banana\n",
      "cherry\n"
     ]
    }
   ],
   "source": [
    "mytuple=(\"apple\",\"banana\",\"cherry\")\n",
    "\n",
    "for x in mytuple:\n",
    "    print(x)"
   ]
  },
  {
   "cell_type": "markdown",
   "id": "876397b1-6064-4dc6-8006-4c2f1ba8d2c9",
   "metadata": {},
   "source": [
    "# Q:4) What is a generator function in python? Why yield keyword is used? Give an example of a generator function."
   ]
  },
  {
   "cell_type": "raw",
   "id": "e4d5c0ac-ba1d-4bf6-8337-a0f372bdbfbb",
   "metadata": {},
   "source": [
    " A generator-function is defined like a normal function, but whenever it needs to generate a value, it does so with the yield keyword rather than return. If the body of a def contains yield, the function automatically becomes a generator function. "
   ]
  },
  {
   "cell_type": "raw",
   "id": "5bb55fba-09ba-415e-8e68-c547c3cd61b7",
   "metadata": {},
   "source": [
    "The yield keyword in python controls the flow of a generator function. This is similar to a return statement used for returning values in Python."
   ]
  },
  {
   "cell_type": "code",
   "execution_count": 13,
   "id": "4ceaf76f-3caa-4d7b-a24f-86c20dd6cec0",
   "metadata": {},
   "outputs": [
    {
     "name": "stdout",
     "output_type": "stream",
     "text": [
      "0\n",
      "1\n",
      "2\n",
      "3\n",
      "4\n"
     ]
    }
   ],
   "source": [
    "def my_generator(n):\n",
    "\n",
    "    # initialize counter\n",
    "    value = 0\n",
    "\n",
    "    # loop until counter is less than n\n",
    "    while value < n:\n",
    "\n",
    "        # produce the current value of the counter\n",
    "        yield value\n",
    "\n",
    "        # increment the counter\n",
    "        value += 1\n",
    "\n",
    "# iterate over the generator object produced by my_generator\n",
    "for value in my_generator(5):\n",
    "\n",
    "    # print each value produced by generator\n",
    "    print(value)"
   ]
  },
  {
   "cell_type": "markdown",
   "id": "141592b2-c3e9-4961-b5b6-48c12924b97b",
   "metadata": {},
   "source": [
    "# Q-5) Create a generator funtion for prime numbers less than 1000. use the next() method to print the first 20 prime numbers."
   ]
  },
  {
   "cell_type": "code",
   "execution_count": 29,
   "id": "b9e71412-56d1-44fe-8d85-c42979f1187d",
   "metadata": {},
   "outputs": [],
   "source": [
    "def prime_generator():\n",
    "    primes = []\n",
    "    num = 2\n",
    "    while num <= 1000:\n",
    "        is_prime = True\n",
    "        for prime in primes:\n",
    "            if num % prime == 0:\n",
    "                is_prime = False\n",
    "                break\n",
    "        if is_prime:\n",
    "            primes.append(num)\n",
    "            yield num\n",
    "        num += 1\n"
   ]
  },
  {
   "cell_type": "code",
   "execution_count": 30,
   "id": "b7318890-7cc9-46d5-9e98-ea8e81f14cec",
   "metadata": {},
   "outputs": [
    {
     "data": {
      "text/plain": [
       "<generator object prime_generator at 0x7f0448923450>"
      ]
     },
     "execution_count": 30,
     "metadata": {},
     "output_type": "execute_result"
    }
   ],
   "source": [
    "prime_generator()"
   ]
  },
  {
   "cell_type": "code",
   "execution_count": 31,
   "id": "7f382525-83b4-4288-865b-278a1622b52e",
   "metadata": {},
   "outputs": [],
   "source": [
    "prime =prime_generator()"
   ]
  },
  {
   "cell_type": "code",
   "execution_count": 32,
   "id": "c44d3678-fcbc-4243-a18d-8afeac691c5a",
   "metadata": {},
   "outputs": [
    {
     "name": "stdout",
     "output_type": "stream",
     "text": [
      "2\n",
      "3\n",
      "5\n",
      "7\n",
      "11\n",
      "13\n",
      "17\n",
      "19\n",
      "23\n",
      "29\n",
      "31\n",
      "37\n",
      "41\n",
      "43\n",
      "47\n",
      "53\n",
      "59\n",
      "61\n",
      "67\n",
      "71\n"
     ]
    }
   ],
   "source": [
    "for i in range(20):\n",
    "    print(next(prime))"
   ]
  },
  {
   "cell_type": "markdown",
   "id": "0e064cbe-4021-4756-adb6-422b7fb57118",
   "metadata": {},
   "source": [
    "# Q-6) Write a python program to print the first 10 Fibonacci number using a while loop"
   ]
  },
  {
   "cell_type": "code",
   "execution_count": 24,
   "id": "2706f514-dfac-4316-b5ae-12c979642b86",
   "metadata": {},
   "outputs": [
    {
     "name": "stdin",
     "output_type": "stream",
     "text": [
      " 10\n"
     ]
    },
    {
     "name": "stdout",
     "output_type": "stream",
     "text": [
      "0 1 1 2 3 5 8 13 21 34 "
     ]
    }
   ],
   "source": [
    "i = 1\n",
    "a,b=0,1\n",
    "c=a+b\n",
    "n=int(input())\n",
    "while i<=n:\n",
    "    i+=1\n",
    "    print(a,end=' ')\n",
    "    a=b\n",
    "    b=c\n",
    "    c=a+b\n",
    "    \n",
    "    \n",
    "    "
   ]
  },
  {
   "cell_type": "markdown",
   "id": "ac631fcb-927b-4eae-b2f6-de7a1c006f21",
   "metadata": {},
   "source": [
    "# Q-7) Write a list comprehension to iterate through a given string:'pwskills'\n",
    "\n",
    "# Expected Output: ['p','w','s','k','i','l','l','s']"
   ]
  },
  {
   "cell_type": "code",
   "execution_count": 39,
   "id": "666b66c8-440a-49e2-8494-8664c07e283f",
   "metadata": {},
   "outputs": [],
   "source": [
    "s='pwskills'\n",
    "# s=input()"
   ]
  },
  {
   "cell_type": "code",
   "execution_count": 40,
   "id": "0264211c-950e-4d03-addf-b3846fc5d403",
   "metadata": {},
   "outputs": [
    {
     "data": {
      "text/plain": [
       "['p', 'w', 's', 'k', 'i', 'l', 'l', 's']"
      ]
     },
     "execution_count": 40,
     "metadata": {},
     "output_type": "execute_result"
    }
   ],
   "source": [
    "[str(i) for i in s]"
   ]
  },
  {
   "cell_type": "markdown",
   "id": "7cb746ea-39e4-434c-88be-356b57386483",
   "metadata": {},
   "source": [
    "# Q-8) Write a python program to check whether a given number is Palindrome or not using a while loop."
   ]
  },
  {
   "cell_type": "code",
   "execution_count": 2,
   "id": "a52c57a1-d2c5-4afd-acf9-81a6cbe80bf7",
   "metadata": {},
   "outputs": [
    {
     "name": "stdin",
     "output_type": "stream",
     "text": [
      "Enter the number:\n",
      " 125\n"
     ]
    },
    {
     "name": "stdout",
     "output_type": "stream",
     "text": [
      "The number is not a palindrome.\n"
     ]
    }
   ],
   "source": [
    "n = int(input(\"Enter the number:\\n\"))\n",
    "temp=n\n",
    "rev=0\n",
    "while(n>0):\n",
    "    dig=n%10\n",
    "    rev=rev*10+dig\n",
    "    n=n//10\n",
    "if(temp==rev):\n",
    "    print(f'The number is a palindrome.')\n",
    "else:\n",
    "    print(f'The number is not a palindrome.')"
   ]
  },
  {
   "cell_type": "markdown",
   "id": "ebcb4707-d491-49c0-80bf-7c5cacee19d7",
   "metadata": {},
   "source": [
    "# Q-9) Write a code to print odd numbers from 1 to 100 using list comprehension.\n",
    "\n",
    "# Note:Use a list comprehension to create a list from 1 to 100 and use another List comprehension to filter out odd numbers."
   ]
  },
  {
   "cell_type": "code",
   "execution_count": 3,
   "id": "d39a2de8-6c21-4449-887c-efde07028ce0",
   "metadata": {},
   "outputs": [],
   "source": [
    "l_n=[i for i in range(1,101)]"
   ]
  },
  {
   "cell_type": "code",
   "execution_count": 6,
   "id": "f9c3ba55-07ab-4343-ab7d-6f153d448087",
   "metadata": {},
   "outputs": [
    {
     "data": {
      "text/plain": [
       "[1,\n",
       " 2,\n",
       " 3,\n",
       " 4,\n",
       " 5,\n",
       " 6,\n",
       " 7,\n",
       " 8,\n",
       " 9,\n",
       " 10,\n",
       " 11,\n",
       " 12,\n",
       " 13,\n",
       " 14,\n",
       " 15,\n",
       " 16,\n",
       " 17,\n",
       " 18,\n",
       " 19,\n",
       " 20,\n",
       " 21,\n",
       " 22,\n",
       " 23,\n",
       " 24,\n",
       " 25,\n",
       " 26,\n",
       " 27,\n",
       " 28,\n",
       " 29,\n",
       " 30,\n",
       " 31,\n",
       " 32,\n",
       " 33,\n",
       " 34,\n",
       " 35,\n",
       " 36,\n",
       " 37,\n",
       " 38,\n",
       " 39,\n",
       " 40,\n",
       " 41,\n",
       " 42,\n",
       " 43,\n",
       " 44,\n",
       " 45,\n",
       " 46,\n",
       " 47,\n",
       " 48,\n",
       " 49,\n",
       " 50,\n",
       " 51,\n",
       " 52,\n",
       " 53,\n",
       " 54,\n",
       " 55,\n",
       " 56,\n",
       " 57,\n",
       " 58,\n",
       " 59,\n",
       " 60,\n",
       " 61,\n",
       " 62,\n",
       " 63,\n",
       " 64,\n",
       " 65,\n",
       " 66,\n",
       " 67,\n",
       " 68,\n",
       " 69,\n",
       " 70,\n",
       " 71,\n",
       " 72,\n",
       " 73,\n",
       " 74,\n",
       " 75,\n",
       " 76,\n",
       " 77,\n",
       " 78,\n",
       " 79,\n",
       " 80,\n",
       " 81,\n",
       " 82,\n",
       " 83,\n",
       " 84,\n",
       " 85,\n",
       " 86,\n",
       " 87,\n",
       " 88,\n",
       " 89,\n",
       " 90,\n",
       " 91,\n",
       " 92,\n",
       " 93,\n",
       " 94,\n",
       " 95,\n",
       " 96,\n",
       " 97,\n",
       " 98,\n",
       " 99,\n",
       " 100]"
      ]
     },
     "execution_count": 6,
     "metadata": {},
     "output_type": "execute_result"
    }
   ],
   "source": [
    "l_n"
   ]
  },
  {
   "cell_type": "code",
   "execution_count": 9,
   "id": "dcc6f4a9-decb-4463-87f0-af60b758ef2d",
   "metadata": {},
   "outputs": [
    {
     "data": {
      "text/plain": [
       "[1,\n",
       " 3,\n",
       " 5,\n",
       " 7,\n",
       " 9,\n",
       " 11,\n",
       " 13,\n",
       " 15,\n",
       " 17,\n",
       " 19,\n",
       " 21,\n",
       " 23,\n",
       " 25,\n",
       " 27,\n",
       " 29,\n",
       " 31,\n",
       " 33,\n",
       " 35,\n",
       " 37,\n",
       " 39,\n",
       " 41,\n",
       " 43,\n",
       " 45,\n",
       " 47,\n",
       " 49,\n",
       " 51,\n",
       " 53,\n",
       " 55,\n",
       " 57,\n",
       " 59,\n",
       " 61,\n",
       " 63,\n",
       " 65,\n",
       " 67,\n",
       " 69,\n",
       " 71,\n",
       " 73,\n",
       " 75,\n",
       " 77,\n",
       " 79,\n",
       " 81,\n",
       " 83,\n",
       " 85,\n",
       " 87,\n",
       " 89,\n",
       " 91,\n",
       " 93,\n",
       " 95,\n",
       " 97,\n",
       " 99]"
      ]
     },
     "execution_count": 9,
     "metadata": {},
     "output_type": "execute_result"
    }
   ],
   "source": [
    "list(filter(lambda l_n: l_n%2==1,l_n))"
   ]
  },
  {
   "cell_type": "code",
   "execution_count": null,
   "id": "75053841-9550-4c21-8a80-e2016163b44c",
   "metadata": {},
   "outputs": [],
   "source": []
  }
 ],
 "metadata": {
  "kernelspec": {
   "display_name": "Python 3 (ipykernel)",
   "language": "python",
   "name": "python3"
  },
  "language_info": {
   "codemirror_mode": {
    "name": "ipython",
    "version": 3
   },
   "file_extension": ".py",
   "mimetype": "text/x-python",
   "name": "python",
   "nbconvert_exporter": "python",
   "pygments_lexer": "ipython3",
   "version": "3.10.6"
  }
 },
 "nbformat": 4,
 "nbformat_minor": 5
}
