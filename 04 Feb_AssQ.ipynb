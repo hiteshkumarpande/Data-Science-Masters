{
 "cells": [
  {
   "cell_type": "markdown",
   "id": "e4c06213-8666-4519-bec9-3154a1c259dd",
   "metadata": {},
   "source": [
    "# 1) Create a python program to sort the given list of tuples based on integer value using a lambda function.\n",
    "\n",
    "# [('sachin Tendulkar',34357),('Ricky pointing',27483),('Jack Kallis',25534),('Virat Kohli',24936)]"
   ]
  },
  {
   "cell_type": "code",
   "execution_count": 44,
   "id": "c45207fc-d50d-4cfd-bd16-da265cbe9041",
   "metadata": {},
   "outputs": [],
   "source": [
    "l=[('sachin Tendulkar',34357),('Ricky Pointing',27483),('Jack Kallis',25534),('Virat Kohli',24936)]"
   ]
  },
  {
   "cell_type": "code",
   "execution_count": 45,
   "id": "30821efc-6195-492a-b22c-6811321c9df7",
   "metadata": {},
   "outputs": [
    {
     "name": "stdout",
     "output_type": "stream",
     "text": [
      "24936\n",
      "25534\n",
      "27483\n",
      "34357\n"
     ]
    }
   ],
   "source": [
    "def sort_tuple(l):\n",
    "    l.sort(key=lambda x:x[1])\n",
    "    return l\n",
    "\n",
    "y=sort_tuple(l)\n",
    "\n",
    "for i in y:\n",
    "    print(i[1])"
   ]
  },
  {
   "cell_type": "code",
   "execution_count": 46,
   "id": "1ba658a3-1858-404e-8c6e-53e2ac3ef7af",
   "metadata": {},
   "outputs": [
    {
     "data": {
      "text/plain": [
       "[24936, 25534, 27483, 34357]"
      ]
     },
     "execution_count": 46,
     "metadata": {},
     "output_type": "execute_result"
    }
   ],
   "source": [
    "m = list(map(lambda l:l[1],l))\n",
    "m"
   ]
  },
  {
   "cell_type": "markdown",
   "id": "e514ea50-6a8e-4fd7-8057-b314754de5fe",
   "metadata": {},
   "source": [
    "# 2) Write a python program to find the squares of all the numbers in the given list of integers using lambda and map functions.\n",
    "\n",
    "# [1,2,3,4,5,6,7,8,9,10]"
   ]
  },
  {
   "cell_type": "code",
   "execution_count": 51,
   "id": "2cc33f56-7430-4b4f-8262-cd441c1a4fee",
   "metadata": {},
   "outputs": [
    {
     "data": {
      "text/plain": [
       "[1, 4, 9, 16, 25, 36, 49, 64, 81, 100]"
      ]
     },
     "execution_count": 51,
     "metadata": {},
     "output_type": "execute_result"
    }
   ],
   "source": [
    "l=[1,2,3,4,5,6,7,8,9,10]\n",
    "list(map(lambda x:x**2,l))"
   ]
  },
  {
   "cell_type": "markdown",
   "id": "4c84361f-5aea-4c9c-9cac-0d1c45cc3ac2",
   "metadata": {},
   "source": [
    "#  3) Write a python program to convert the given list of integers into a tuple of strings. Use map and lambda functions.\n",
    "\n",
    "# Given String: [1,2,3,4,5,6,7,8,9,10]\n",
    "# Expected output: ('1','2','3','5','6','7','8','9','10')"
   ]
  },
  {
   "cell_type": "code",
   "execution_count": 8,
   "id": "930cbfab-86f8-4c71-af3a-9c38b1860714",
   "metadata": {},
   "outputs": [
    {
     "data": {
      "text/plain": [
       "('1', '2', '3', '4', '5', '6', '7', '8', '9', '10')"
      ]
     },
     "execution_count": 8,
     "metadata": {},
     "output_type": "execute_result"
    }
   ],
   "source": [
    "# l=[1,2,3,4,5,6,7,8,9,10]\n",
    "l=[]\n",
    "for i in range(1,11):\n",
    "    l.append(i)\n",
    "tuple(map(lambda x:str(x),l))"
   ]
  },
  {
   "cell_type": "markdown",
   "id": "38b8a375-8230-4d72-abc5-dffce80769bd",
   "metadata": {},
   "source": [
    "# Q4. Write a python program using reduce function to compute the product of a list containing numbers from 1 to 25."
   ]
  },
  {
   "cell_type": "code",
   "execution_count": 7,
   "id": "6b6e208f-3c55-4cdd-a3c0-322da5a3aa10",
   "metadata": {},
   "outputs": [],
   "source": [
    "from functools import reduce\n"
   ]
  },
  {
   "cell_type": "code",
   "execution_count": 8,
   "id": "cb291e5c-d4ad-46c8-87f0-13105b913b99",
   "metadata": {},
   "outputs": [
    {
     "name": "stdout",
     "output_type": "stream",
     "text": [
      "[1, 2, 3, 4, 5, 6, 7, 8, 9, 10, 11, 12, 13, 14, 15, 16, 17, 18, 19, 20, 21, 22, 23, 24, 25]\n"
     ]
    }
   ],
   "source": [
    "l_25=[]\n",
    "for i in range(1,26):\n",
    "    l_25.append(i)\n",
    "print(l_25)"
   ]
  },
  {
   "cell_type": "code",
   "execution_count": 9,
   "id": "fff96db9-c252-4ed4-919b-0d35b91fe868",
   "metadata": {},
   "outputs": [
    {
     "data": {
      "text/plain": [
       "15511210043330985984000000"
      ]
     },
     "execution_count": 9,
     "metadata": {},
     "output_type": "execute_result"
    }
   ],
   "source": [
    "reduce(lambda x,y:x*y,l_25)"
   ]
  },
  {
   "cell_type": "markdown",
   "id": "3c0db0e1-6262-4fc5-8b9f-b025bc8cb83f",
   "metadata": {},
   "source": [
    "# Write a python program to to filter the number in a given list that are divisible by 2 and 3 using the filter function.\n",
    "\n",
    "# [2,3,6,9,27,60,90,120,55,46]"
   ]
  },
  {
   "cell_type": "code",
   "execution_count": 16,
   "id": "d19559d5-51d0-4d0d-8bfe-fd235486e21e",
   "metadata": {},
   "outputs": [
    {
     "data": {
      "text/plain": [
       "[6, 60, 90, 120]"
      ]
     },
     "execution_count": 16,
     "metadata": {},
     "output_type": "execute_result"
    }
   ],
   "source": [
    "l_2_3=[2,3,6,9,27,60,90,120,55,46]\n",
    "list(filter(lambda x:x%2==0 and x%3==0,l_2_3))"
   ]
  },
  {
   "cell_type": "markdown",
   "id": "9c079fa6-1502-4f58-a4a5-e73140176cfe",
   "metadata": {},
   "source": [
    "# Q-6. Write a python program to find the palindromes in the given list of strings using lambda and filter functions.\n",
    "# ['python','php','aba','radar','level]"
   ]
  },
  {
   "cell_type": "code",
   "execution_count": 30,
   "id": "f392133c-5102-4cbd-9d53-afe5b8a45bbf",
   "metadata": {},
   "outputs": [
    {
     "name": "stdout",
     "output_type": "stream",
     "text": [
      "List of Palindrome elements are ['php', 'aba', 'radar', 'level']\n"
     ]
    }
   ],
   "source": [
    "test_palindrome_list=['python','php','aba','radar','level']\n",
    "\n",
    "filter_palindrome_list=list(filter(lambda x: (x == \"\".join(reversed(x))), test_palindrome_list)) \n",
    "print('List of Palindrome elements are',filter_palindrome_list)"
   ]
  },
  {
   "cell_type": "code",
   "execution_count": null,
   "id": "8e00bd52-d336-4075-ac4c-3385b919a10b",
   "metadata": {},
   "outputs": [],
   "source": []
  },
  {
   "cell_type": "code",
   "execution_count": null,
   "id": "2fe228ea-b00b-4bfc-ba32-308f4a96ab11",
   "metadata": {},
   "outputs": [],
   "source": []
  }
 ],
 "metadata": {
  "kernelspec": {
   "display_name": "Python 3 (ipykernel)",
   "language": "python",
   "name": "python3"
  },
  "language_info": {
   "codemirror_mode": {
    "name": "ipython",
    "version": 3
   },
   "file_extension": ".py",
   "mimetype": "text/x-python",
   "name": "python",
   "nbconvert_exporter": "python",
   "pygments_lexer": "ipython3",
   "version": "3.10.6"
  }
 },
 "nbformat": 4,
 "nbformat_minor": 5
}
