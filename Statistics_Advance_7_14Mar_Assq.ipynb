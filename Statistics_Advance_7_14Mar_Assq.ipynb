{
  "cells": [
    {
      "cell_type": "markdown",
      "id": "16172f07-0770-4229-adca-17729d13b1c0",
      "metadata": {
        "id": "16172f07-0770-4229-adca-17729d13b1c0"
      },
      "source": [
        "## Q-1:. Write a Python function that takes in two arrays of data and calculates the F-value for a variance ratio test. The function should return the F-value and the corresponding p-value for the test."
      ]
    },
    {
      "cell_type": "code",
      "execution_count": null,
      "id": "b08e9a7b-1c9a-48c4-869e-6d61b3987291",
      "metadata": {
        "id": "b08e9a7b-1c9a-48c4-869e-6d61b3987291",
        "outputId": "a3c35cd3-d5d1-4a49-b736-bb5fd8972b42"
      },
      "outputs": [
        {
          "name": "stdout",
          "output_type": "stream",
          "text": [
            "F-value: 0.7272727272727272\n",
            "p-value: 0.684947432110239\n"
          ]
        }
      ],
      "source": [
        "import numpy as np\n",
        "from scipy.stats import f\n",
        "\n",
        "def variance_ratio_test(x, y):\n",
        "    \"\"\"\n",
        "    Perform an F-test (variance ratio test) between two datasets.\n",
        "\n",
        "    Parameters:\n",
        "        x (array-like): First dataset\n",
        "        y (array-like): Second dataset\n",
        "\n",
        "    Returns:\n",
        "        f_value (float): Calculated F statistic\n",
        "        p_value (float): Corresponding p-value\n",
        "    \"\"\"\n",
        "\n",
        "    # Convert to numpy arrays\n",
        "    x, y = np.array(x), np.array(y)\n",
        "\n",
        "    # Sample sizes\n",
        "    n1, n2 = len(x), len(y)\n",
        "\n",
        "    # Variances\n",
        "    var1, var2 = np.var(x, ddof=1), np.var(y, ddof=1)  # unbiased estimator\n",
        "\n",
        "    # F statistic\n",
        "    f_value = var1 / var2\n",
        "\n",
        "    # Degrees of freedom\n",
        "    df1, df2 = n1 - 1, n2 - 1\n",
        "\n",
        "    # p-value (two-tailed)\n",
        "    if f_value > 1:\n",
        "        p_value = 2 * (1 - f.cdf(f_value, df1, df2))\n",
        "    else:\n",
        "        p_value = 2 * f.cdf(f_value, df1, df2)\n",
        "\n",
        "    return f_value, p_value\n",
        "\n",
        "\n",
        "# Example usage:\n",
        "x = [10, 12, 23, 23, 16, 23, 21, 16]\n",
        "y = [14, 25, 32, 15, 21, 16, 20, 25]\n",
        "\n",
        "f_val, p_val = variance_ratio_test(x, y)\n",
        "print(\"F-value:\", f_val)\n",
        "print(\"p-value:\", p_val)\n"
      ]
    },
    {
      "cell_type": "markdown",
      "id": "5d94284c-5a00-44b7-acd4-a7d8a5188eec",
      "metadata": {
        "id": "5d94284c-5a00-44b7-acd4-a7d8a5188eec"
      },
      "source": [
        "## Q2. Given a significance level of 0.05 and the degrees of freedom for the numerator and denominator of an F-distribution, write a Python function that returns the critical F-value for a two-tailed test."
      ]
    },
    {
      "cell_type": "markdown",
      "id": "0d32d1a8-1d2d-4ba7-b8f1-1abb21b3a81f",
      "metadata": {
        "id": "0d32d1a8-1d2d-4ba7-b8f1-1abb21b3a81f"
      },
      "source": [
        "* **for a two-tailed F-test, the critical F-values come from both tails of the F-distribution.**\n",
        "\n",
        "We need two critical values:\n",
        "\n",
        "* **𝐹𝑙𝑜𝑤𝑒𝑟=𝐹**−1(𝛼/2,𝑑𝑓1,𝑑𝑓2)**\n",
        "\n",
        "Flower=F−1 (α/2,df1,df2)\n",
        "\n",
        "𝐹𝑢\n",
        "𝑝\n",
        "𝑝\n",
        "𝑒\n",
        "𝑟\n",
        "=\n",
        "𝐹\n",
        "−\n",
        "1\n",
        "(\n",
        "1\n",
        "−\n",
        "𝛼\n",
        "/\n",
        "2\n",
        ",\n",
        "𝑑\n",
        "𝑓\n",
        "1\n",
        ",\n",
        "𝑑\n",
        "𝑓\n",
        "2\n",
        ")\n",
        "F\n",
        "upper\n",
        "\t​\n",
        "\n",
        "=F\n",
        "−1\n",
        "(1−α/2,df\n",
        "1\n",
        "\t​\n",
        "\n",
        ",df\n",
        "2\n",
        "\t​\n",
        "\n",
        ")\n",
        "\n",
        "Here\n",
        "𝐹\n",
        "−\n",
        "1\n",
        "F\n",
        "−1\n",
        " is the inverse CDF (quantile function).\n",
        "\n",
        "Significance level = 𝛼=0.05*"
      ]
    },
    {
      "cell_type": "code",
      "execution_count": null,
      "id": "031c58bc-c08a-4793-92f0-0cea1449914a",
      "metadata": {
        "id": "031c58bc-c08a-4793-92f0-0cea1449914a",
        "outputId": "4317f8e0-1bc8-4cb0-9370-ebfa15b1f438"
      },
      "outputs": [
        {
          "name": "stdout",
          "output_type": "stream",
          "text": [
            "Lower critical F: 0.20020383877718267\n",
            "Upper critical F: 4.994909219063238\n"
          ]
        }
      ],
      "source": [
        "from scipy.stats import f\n",
        "\n",
        "def critical_f_value(alpha, df1, df2):\n",
        "    \"\"\"\n",
        "    Returns the critical F-values for a two-tailed test.\n",
        "\n",
        "    Parameters:\n",
        "        alpha (float): Significance level (e.g., 0.05)\n",
        "        df1 (int): Degrees of freedom for numerator\n",
        "        df2 (int): Degrees of freedom for denominator\n",
        "\n",
        "    Returns:\n",
        "        (f_lower, f_upper): Tuple of lower and upper critical F-values\n",
        "    \"\"\"\n",
        "\n",
        "    f_lower = f.ppf(alpha / 2, df1, df2)\n",
        "    f_upper = f.ppf(1 - alpha / 2, df1, df2)\n",
        "\n",
        "    return f_lower, f_upper\n",
        "\n",
        "\n",
        "# Example usage:\n",
        "alpha = 0.05\n",
        "df1, df2 = 7, 7  # example degrees of freedom\n",
        "f_lower, f_upper = critical_f_value(alpha, df1, df2)\n",
        "\n",
        "print(\"Lower critical F:\", f_lower)\n",
        "print(\"Upper critical F:\", f_upper)\n"
      ]
    },
    {
      "cell_type": "markdown",
      "id": "c56158e1-e553-4760-b7d1-3e9e371669ef",
      "metadata": {
        "id": "c56158e1-e553-4760-b7d1-3e9e371669ef"
      },
      "source": [
        "* **Interpretation:** If your *F-statistic* fall *outside* the range **f lower** , **f upper**, you reject the null hypothesis (equal variances).|"
      ]
    },
    {
      "cell_type": "markdown",
      "id": "bfc68af6-d727-4d58-809d-a1b4c24d59e8",
      "metadata": {
        "id": "bfc68af6-d727-4d58-809d-a1b4c24d59e8"
      },
      "source": [
        "## Would you like me to combine this with the previous variance ratio test function so that it not only computes the F-value and p-value, but also directly checks against the critical values for decision-making at α = 0.05?"
      ]
    },
    {
      "cell_type": "markdown",
      "id": "5f70b4a8-0575-4dd3-a3a1-26fd0ceab22f",
      "metadata": {
        "id": "5f70b4a8-0575-4dd3-a3a1-26fd0ceab22f"
      },
      "source": [
        "## Q3. Write a Python program that generates random samples from two normal distributions with known variances and uses an F-test to determine if the variances are equal. The program should output the Fvalue, degrees of freedom, and p-value for the test."
      ]
    },
    {
      "cell_type": "markdown",
      "id": "f964d299-1c68-4295-b77d-03006e590166",
      "metadata": {
        "id": "f964d299-1c68-4295-b77d-03006e590166"
      },
      "source": [
        "**Here’s a Python program that:**\n",
        "\n",
        "1) **Generates random samples from two normal distributions with known variances.**\n",
        "\n",
        "2) **Performs an F-test to compare the variances.**\n",
        "\n",
        "3) **Prints the F-value, degrees of freedom, and p-value.**"
      ]
    },
    {
      "cell_type": "code",
      "execution_count": null,
      "id": "e7d817e0-d12f-40cb-bd7c-8e3438e1bb05",
      "metadata": {
        "id": "e7d817e0-d12f-40cb-bd7c-8e3438e1bb05",
        "outputId": "e897080f-63c9-46df-81ad-c82e6567e897"
      },
      "outputs": [
        {
          "name": "stdout",
          "output_type": "stream",
          "text": [
            "F-value: 1.7705\n",
            "Degrees of freedom: (29, 24)\n",
            "P-value: 0.1569\n"
          ]
        }
      ],
      "source": [
        "import numpy as np\n",
        "from scipy import stats\n",
        "\n",
        "# Step 1: Set parameters for the normal distributions\n",
        "mean1, var1, n1 = 0, 4, 30  # Mean, Variance, Sample Size\n",
        "mean2, var2, n2 = 0, 2, 25\n",
        "\n",
        "# Step 2: Generate random samples\n",
        "np.random.seed(42)  # For reproducibility\n",
        "sample1 = np.random.normal(mean1, np.sqrt(var1), n1)\n",
        "sample2 = np.random.normal(mean2, np.sqrt(var2), n2)\n",
        "\n",
        "# Step 3: Calculate sample variances\n",
        "s1_sq = np.var(sample1, ddof=1)\n",
        "s2_sq = np.var(sample2, ddof=1)\n",
        "\n",
        "# Step 4: Perform F-test\n",
        "if s1_sq > s2_sq:\n",
        "    F = s1_sq / s2_sq\n",
        "    dfn = n1 - 1\n",
        "    dfd = n2 - 1\n",
        "else:\n",
        "    F = s2_sq / s1_sq\n",
        "    dfn = n2 - 1\n",
        "    dfd = n1 - 1\n",
        "\n",
        "# Step 5: Compute two-tailed p-value\n",
        "p_value = 2 * min(stats.f.cdf(F, dfn, dfd), 1 - stats.f.cdf(F, dfn, dfd))\n",
        "\n",
        "# Step 6: Output the results\n",
        "print(f\"F-value: {F:.4f}\")\n",
        "print(f\"Degrees of freedom: ({dfn}, {dfd})\")\n",
        "print(f\"P-value: {p_value:.4f}\")\n"
      ]
    },
    {
      "cell_type": "markdown",
      "id": "4914e9ae-6efa-48ac-8fe4-377320fef5cc",
      "metadata": {
        "id": "4914e9ae-6efa-48ac-8fe4-377320fef5cc"
      },
      "source": [
        "## **Explanation:**"
      ]
    },
    {
      "cell_type": "markdown",
      "id": "6a107c50-0447-4be5-bdf4-6fc70193ac38",
      "metadata": {
        "id": "6a107c50-0447-4be5-bdf4-6fc70193ac38"
      },
      "source": [
        "* **np.var(..., ddof=1)**: Calculates sample variance.\n",
        "\n",
        "* **F = s1² / s2²**: F-test statistic for comparing variances.\n",
        "\n",
        "* **Degrees of freedom**: 𝑑𝑓1=𝑛1−1 , df2 = n2-1\n",
        "\n",
        "* **Two-tailed p-value**: Since F-test is inherently one-sided, we account for both directions."
      ]
    },
    {
      "cell_type": "markdown",
      "id": "e1b00790-98d9-42b2-adf2-ec9c8ec615fd",
      "metadata": {
        "id": "e1b00790-98d9-42b2-adf2-ec9c8ec615fd"
      },
      "source": [
        "## Q4.The variances of two populations are known to be 10 and 15. A sample of 12 observations is taken from each population. Conduct an F-test at the 5% significance level to determine if the variances are significantly different."
      ]
    },
    {
      "cell_type": "markdown",
      "source": [
        "To determine whether the variances of the two populations are significantly different, we can conduct an F-test for equality of variances."
      ],
      "metadata": {
        "id": "D8Jt8qqIvh45"
      },
      "id": "D8Jt8qqIvh45"
    },
    {
      "cell_type": "markdown",
      "source": [
        "Step 1: State the hypotheses\n",
        "\n",
        "Let the variances of the two populations be:\n",
        "\n",
        "![state the hypothesis.png](data:image/png;base64,iVBORw0KGgoAAAANSUhEUgAAAJAAAABBCAYAAAA+JC0yAAAAAXNSR0IArs4c6QAAAARnQU1BAACxjwv8YQUAAAAJcEhZcwAADsMAAA7DAcdvqGQAAAf1SURBVHhe7dx/TJT3HQfwdxeTPgt9uG0NnulEs+7Oc46KTn50ilzqOfwHWBawa6aBiOOyjWITlS6FsViof8zRpL2jf4C67pjJDNCmoKnhUVKOxW6cxnLaursRbdl04UlmxkNseBYu+eyPE7379g7vePjxfMn3lXz/4PP9giS+eZ7nvvf93BNERBCEefoaWxCEdIgACYaIAAmGiAAJhogACYaIAAmGiAAJhnAcIB3aTT/6h8PQdHZOWCp8BigShnffz+G5rgGftCLvGTtevqCxq4QlwGWA9A9a0fmfXOwpK0f5K2fQ+wrQVd2KALtQWHRcBghPAuN/HUbofvTL3IJiQB/ByD/ZhcJie2IlvBcWfN2OnT1VuPJpMxzs5FKJaFDe7oP1SBVy2TlE54NnPTgZUIEMB8pra1HyrMSu4g/xbrKbKr5ZRC3XptmZxXc/REPvd1DLgVLKyZJJlmtogF1DRDQTIk+xTEXHhmhimmg67KN9a9dSzYeT7Eru8B2gmRB5SlzUElim/4j7IRp6v48Grk1Q94HkAfrirTySbS00GlOb7qkgOesIDc3EFDnE5zMQAERU9Bz2Ys0fLqE53wL1Yj8CS/1yPsMB50/KUbLVCssqdnJWEF3tYeCFwrhbm7S5EA69E10XY4ocMmeAIjo0VYXKjocbPhqUVxvx3180o3iVivFPFHT+cQQw4yOFGkRAZYsAVkV/2eFAkJ3hSsoB8vl8cLvdcLvd8Pl87PTCiKjoP7QTq7+1Gtl2O+zsKD+JcQDqmf2oPNWDo89H6885K/H7O2tgZX+eGXypYYKtxVDvJkoXP1IKkM/nw+DgIHRdh67rGBwcXPgQRcLwuuzYP5yLNv8NjI1dQXuZBYATbaNjGBsbw78+rMd6ANb95zA1NRU//NG5pLQeHPyeHfY0xsHeBdicDI8izNZWkJQCdPnyZbaUsGZE4LXdaLrtxqWr7ajauh5WqwNVra/CAT+u37LCarXCksF+Vxose3H672MYS2OcrrSwPyV9q77OVlaUlAK06NQutHZoKPhNAwpiH0a1SUwCmI7E1GJpKtQv2aLJfNexfHtTSyClAO3YsYMtJazN2zU//HBgzwvxTzFqMAAVTjh/EFvVEf6oB95DZbB/pxTdKT9CJHkwn2NoCxFO65o5b60Ox1yz5pdSgKqrq+FyuSBJEiRJgsvlQnV1NbvMoM3I3RD7tYq+P/khvVSPF+NyJWH95mJUnahHcbIrUyIRDeGPRzCSxhi9uwD7AhkFcG4C8O8JxGVdHcc4JDi3c359YjeGlsWdDnLJLuq486gUequIZFsdDSTdIxygGjmPPLfY+vIYqI1uJPYl2Bic7KkgWd5H3fcf1UaP5ZD8/RYKxS7kkDkCREShdyvItq2C6urrqKYkh4pqfRSa890JMwRoiBo32siWJZMsz44ssm20UcXJL2LWTdLAL22UtauRupUB6nujlGy2CvKFY5ZwylxvpuoaVE2HZLHC8thNQQUHM5uwZfQK6p9l58xJ/4cfymca8LQDJdsdkJLuXvPDXAFKC38BWolSeogWhGREgARDOLyFqVB+14r+ayPouhCG9Yd7scfhRK0nyUEuYVFxGCDBTMQtTDBEBEgwRARIMEQESDBEBEgwhOMAid54M+AzQKI33jS4DJDojTcPLgMkeuPNg8sASWVnMDV1DlUPTioGA8PAuhKUrGNXLqGIBuXNLiTs8lIVdJ3yI6xq0PHg2MpNBd53lPhTijxizgfxh4fe+GAL5Tw8cDY7cuiIP+lxS25weQV6KBKG98UO5A6cR/PWx55AWyRrUFh/Cr8tZesxnvoGpHUO5H7bCusGJ/b+uh1/+fwG2ooXoG1oubGJ4sbMBHXX11H3g3PUE0ofjSzDRWjW7JnohFegWx7Kq004wz1zXoFWUm/8CpdygERvvEH3/PBW70R+jh12+3MoO65AS6ctyaRSOg802xsfa8F7wyJheF35aNKq0P5uA/Y8o2Pg8G68fG4L2kZP4ccZgPSUgfZmrQcHn2/EMFufQ3Hr1ZTbmxV3JirP7kXv1GmUsJO3vch3jqJ59DTKnwYQCaJ1y050bu/Fp50lSO1fMKeUAuR2u6Hr8e8XSJKEzs7OuJoRgYZs7D77U1z6vO1Re/NtL/K3NKHwvSm0/4j5BpOZM0ARHdr/pLjwh9/MR/7rOhr+dgPNm2IX8yXlW9iimkdvvH43COVi0Py98Yh+FhB75Yy29IxD+Wg8foIzKQUoUR98otq8pdUbr0E5VIajF8ah3+vGvuxM7H4nlQ9QSfJgPsdYkN54BNBkz0Rm9lEEEv0hJKjxJKUAmao3/qYHTYHVcO4qR/lLx3G+swSB146i63FbusvVG49JTCT43WaDs3kD3x+uYI59oHR64z87QXnyWmoMPPj6lofyZJnqFGbdEkveGz9N3T8rohOxbcwzITpRKJNc7KHQV9bzxRwBmldvfNR0gg8uWDop9sZPDlDdxjyqeKOD+v7soZptMsnbGmmI/ePgUEqvwpZMWr3xsy+HSxE+dhVnKk29CwREdIQ/VhC+B1gcThRusqyIfU9zBSgtGpRflaJrV6/5w7OCpfQQbT4aAsebMHLgfDQ81/vRL84CLQsuAxR++zD6ChrgXqdDvelHZ7uCySfZVcJS4O8WdqUJ2S4v4k9AV6F3qv2rO8DCouMvQIKpcHkLE8xDBEgwRARIMEQESDBEBEgwRARIMOT/QElVYHxSn6YAAAAASUVORK5CYII=)\n",
        "\n",
        "Let the null and alternative hypotheses be:\n",
        "\n",
        "* ![null hypothesis.png](data:image/png;base64,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)​\n",
        "\n",
        "\n",
        "*   ![alternate hypothesis.png](data:image/png;base64,iVBORw0KGgoAAAANSUhEUgAAAecAAAAeCAYAAAAW59YxAAAAAXNSR0IArs4c6QAAAARnQU1BAACxjwv8YQUAAAAJcEhZcwAADsMAAA7DAcdvqGQAABS6SURBVHhe7Z1/UJxFmse/e5Uq58p7By0rjruSxcoRxyUJ4ApEI4HaTcTKLeCmMpO4wqJCIKVA9jTENWGJLoTVS3SXMFgnY3DNyJqE4YxM3HBMUqfgletMvAjhpJikTDFq7mY8U8tQSTGWqXruj/edmfft92V+QeLo9qeqq5jufruffvrH091v98v3iIjA4XA4HA4nZfg71oPD4XA4HM43CzfOHA6Hw+GkGNw4czgpQPDCGJwnxuC/zIakMJf9GDvhxNiFIBvC4XDmCTfOHM43SgDObWVoGvQieLEPFUv0WPeSh42UcgQGG1C2cwDeSwH0Vd0M/VoLPFfYWBwOJ1m+xw+EcTjfIBNtyK+ewlNv9MC8FAj2m3Bz9VfoOncMVQY2cqrgQdvdlZhq6kePKQO4bIfp+zX4qvMcjj2SskJzON8q+MqZw/lG0QETToxelH79uBhGDMN9ho2XHN5+G9xXYddZd8UD53/5xR/XF6A4Cxh2j7HROBxOkvCVM4eTQogrZx16/rcX5uvZ0AQJ2FFZNYsXB6pwVdez0spZ9+oX6DXp2FAOh5MEC7hydqJGr4f+bgu8bNC3gOCJBizR65H/Yuq/77umDNZAr9cjf//Vq1XvS2ug1+tReewqLPG+TVwZw75nXSh/9cX5G2YAYx3duOXpq2yYAYy90ApXWQ9eXAjDfN6CfH0+LOfZgFTEC8vdeujrnGwAJy5E/UXGFm19Ouv00DO2Rcvvu0YCxtmDthWiQm5+cpgN/E6gA5D2DwswwMzFeQvy9erGJ/LtntzMi0XXATDghvmo/oobTUv0WFLnRCDcebUHee/+fOj1etQMsiFK3DuWQL+kBs4AG3I1CMC5rQGeZz9Er2kBzGnAjn2nq7DjHjZgYQkMNqDh/G58eNAc1yTAWfc32sY5SeHdnw/TmXaMz8xg5oNGZMzhl1IM1sw59iRC/MZ5og99n4p/Bg+8Ans8Vz7O2GAqXoZ1L6VWV/SfaEZZ3hI0yAZn3X1dODczg5NbU66qrxlaerkWZGw9iZmZc+i6L3nr7N65EdavzOj5QwnS2MAkKXju31AHO2r2uNmgBSYAd3szXI++LRrmMw44pL6WLO49e6/6qjlwqg3Np6vw9kEzDIvG4Dgao58P1sB02Iz+8IAqTkhjTZJSlww0fjCDGWsJG8BJCrU+PR97gGyjwgBr+X2jDNZAr69BeMm1vgfjbUDzQ/ObhMZtnIcPWOBFCV74fQkABwYG49iCvDAM50d+BFLsikVwwonhswHMsgF/43xr9XLBhrbuAArafoeSBdgODrOoADt+U4BA9y5YL7CB8RO86Iffz7oAQj3Is/9JDBTsQN0Pg/BPDMPa5cT0dUwiiXDBhrb/eQot81g1BwOsvJLMob581oIn31yFHVsyEPR7MHygE85A9MmV86gdxrbd4KaM810n41ftME80o3U+E0+Kh6+HqFoQSPjZQfJd6qONgkDCT7vJp4gkxVnVSVNENFQrkCAoXV7HlBj1Sxd1PrSCFkv+6UX1NPB5KJ0p6lwlkCBU094/VlDmjaE0I/4Dnw9Q/b2LxXQXF9Ku4emIGJcmqe/pUlqxWMr3xnQqbBwg39fytJWu+jgRHa+Wyeii7YsFEoQK6rsUSZo+6aQ8QSDhoT6aJSL6eppcHRWRvNILqd6h1IqC0PO1Q2yISn+z9goSBIEynx1VxJrcs4IEYTFtH5bLPEmTL0u6EgRafK9cn0REszT15i4qzZF0JgiUXlRN3e6Q3uLRi4tcHZE8Mh86SJNfy7KIpYtpF3XXFlK69LyQXkh7x8SgqY68SH4x4mrh+2MpCcJa6paVWWx/edT5iTymiCq/aEjtPdx2Lw1RfaZAQpFYT9HwOeqpMKQPlSukTi8RuXdRuiqsnrRaSLy8+0QhtZ5mfeNj2t1JFXew8kRcvZOIyEW70ucKm4shqpbXh9Su5K76eKiP5FHnJ1J/kFxY/zKUY4x2XRPJ02T8j1eTIFRLulbmF/Fn4obklo1JCtlCfTzkpP4sEomvkF0RR4optdGwk48ZbB7MeMKOvVHbOZsWI8tQrZh+KM1IWRl9aZRBBZNXXscQoz+5Ptn6ECiv43UNv/jkSa4cseuL1bW83YTyTJa4jHPIUJT+0UdEs9S3SVANhqxx8Z0eoIHfrCVBECjz0W4aeHOA3vXMEk0PUXW6QELmRmo9NEADh1qpNF0gIb2ehi6R0lAU7aXJ2VD6If90Sr8jj+pfGaDup9dKA5vMiH7SSWvv2kitrwzQwJt91FqeToIg0Io9k0Q0S5P/MUDdj2aSIAi09jcDNPDmAI1+zhrnkBFUNmyxw0iGkaZpqDadBCGTNu7pk+WVTvXOsNBKEjDOdKmPKgSBhMxWipjnSWpdLpCwvJUmKSJz5vIVlPnTXdT9Zh911kqdOn07uSTjOdlRKPrdVU2dhwaor6Oa8m4URAPhobj0sjg9kzJLdlH3oU6qyBHrR9QpxaELHx38mUCCsIIqOsTwzqoVVC/pVmkso8dVI7XHu/aKOpFYMONMU9RZJE1MSWacc/bK6kWNqPMVVP/6KE35fDT5egWlCwKVvjxFPp+PfF/O0UbiYpT23ptJmXdouGU/oJsWp9M/Mv6Fz0eTVmT6eDWlC+lUumeIJn0+mhpupUJBoPQnhkSZfdPipDQZjlerBsxQm1fUQ3gAlxnH49WqulQNfBpxImgYUcZvqqNanb5c3pBRVvRddbpDtXKjLo1Z4WciY1ukzKIOlGkw5achqg6loZpoKPOY6shTyR2tnUeXN2J8lGmo602lLxapXlXPKMqupU9W51p+seVJrhzx1ZdykhdBVRcJEodx9lH3TwUShFI6KC2ExJWKfHCmsNBsw1AqP2T0lIZ91r6RBEGgjfZZmUIymdl/yH+Fwl9U+mLa/r7kIV/NUWTlEx5c5xqcWVk/bqUVis4o5b94O737dSR87cuy1WEor03SypqFnaVqOZn+3n1isVIPp1spU55naMBgdjHE5ySdhIz88lYaletmeLu4cyFr5NH0osgjVI7Q6jGmLoaoXhBIyNxFLrliJHmU+UaPq2aS9t7FdtZIZ4zmog1acoZqxXp3sQFz8f52ShfSI22SKNJ+HmO78EIyS0O1hdT6MesfB58fpNLwBDzCUG18uwSxmOrIU9WR1uCoNYirBu1POilPNRiqB3Y5qoFSZeQY2AFX0/hHz5NU+aqNnypODLmGajXyk8mqNlyJweqJNXLhOGweccitekalP/a39nOsXzzyJFeOOOqLNNpKLP84if3O+cIA+k4ByC/D/dLpEsN6M4oBeF/rQ2KfHfDC6fQCcKPpR9JReL0eN1eLr9K9F6SPGgAAirDqTtnPMAUKf+NyI4Ag/jod8glgrLcNDZvXYNmPluHm70sv6r+MvOOLi6w6NOYDeMuJ4SsAzjtgmwAyflWL4kWA9x0nvADcO5aFy6EP5eX1QV4SFT8sRtUjVYwrVh1wKN7SiAz4YXOIWh5z2OBHATaVKo/5GMvvVxz8Kf5JGYAgXKe9wPvDcAAwProJOYtkkYpKUAYAZzxxHVpQ5LHUiGwA+Er8GVsXJaj9dQbgt2DdD5ZgTZ0FzvNBQC5PmETiAoAXk2dZvxA65Gxg9VyF8mztd6P+/kos0ThJbFxuBIJ/RbiJRcUPW7sVgfwW5qT0NKYvApjz/EUA/vl+o/r8K7CgBTuy2IDYuDuaMKyrQ1OlvCUFEQhE6llBMADPiAPDEwn2q7gwItfI+snwjMIDO0yhtqbXQ69fieYJNmIE8R2gDQ7pBK33mA2eB9vRuDQSJ3SKX6/XQ7/ZHgkIkw2jLP5chK/56PVY2aK+mimOWXPgGYUnqwrlmvl44TkDeFpWysqtlLXk6XYYD5sSOi0cS1728JXnYw9w2KSUIbcZGk9KiHKbN1yd0wZxy5NkOaLWVzSMuUjySSCeA2Ge1yxwA8CpJiwLFWBZA4YBwG/B6yPsEzH4CgDK0XPuHM4x7uQW1jwlShDObSuw5nErJpf+Ei/+7gDeO9eDcjZaXBjwwKYCIGjDsfelzowCND4iqfuKOCSVW9XlOPfnWpWhVbC6EV2dXYxrRAEbT5og+HsdGMMYHL1+oGwrqm5lIyrxX/wCAGAwXM2zujLi0EVO8zi++LAf7abb4DncDFPuMtQMat9RSiRudDKw6RlWz11oNzO1E/DA+vBKrKxzIJlclIxheAQw/lOx8qS0fwxuP1C8Okfui+DZYdj3N6DsR0tQ2h91SqdAfcjsUxx59m3csyUHAdVBLj/8gWgm1AvXe0GgtAjFiknQGbjeAXRrVinb81kLKms6ceYicOZf8nDzsoZrdN1MRpZ0lYZxp341V88rweYHPbAd8wLwwnHIIzMW4qnxlYeqImkeMTPPx4F0VdKE/rA8423zGZ61MR9Rl3tmpkc8aLe0EadmZjBzJBvNufroRnoe8hrbxjVkOKWY7FxLkpUn2eeuBTGM8xj6XvMCSEOBiVmB/CQDQBDWXq07u3ORgVVrdACc+He3DgaDQeHS5n3SdgRHegNA1lPoea4O5RuKYbzsU82E4sVQuRUlCMJ2zAbHIQ+QvwkPSIYxo6AYOgBOpws6phyGm7RXZoljwAO/LAb8fXC89Dosfh3qtprBpu553y0zKgGMDA4DyEBOlg7ILkAxAI/dofzHBKeGMQJAtzo7+kQiDmLrIohgENDdXoJG63v44r/bUYAA7C8NaOwwJBIXAAy4bb5zELcNI2UnccDEBoh4PvYA+HvWOyrZWcpBzv+WDcM6MxrNSmF1t+ai6JEX0LhG4R2DALynXXC9L3N9zWj/v3thvMD4h9z52NbTmKOcOGCkD7agES2PyaeNQdh/a4Xvx/ejbEM5Gg/2YwdsqLzq181kGHNhlK2C46VkgxmeQw54zztgmzBj83opYPAI7JBf8UoO7zEbPFntGJ/P1aqoZcuAMRuwH41jzF3fg5mZcbRnhSYkapKV17jcKOqRDYiBWm4PRqPsdsRLsvIk+1zceEaTtj2IaZxHXofFDyC/BX96lVmBvLFbXJEets195/mW22AA4HmhAW2HLWjr9aLgsRbkIAh7RR7W7bTCcdQhrhwqrAugpBtwow7ARCea9zvgONwGU1UnfEwsw61iF7TvbID1cBMsJ5gIIa4vw+YyIPhWGzongPLHZPdG72lEy51AsL8Sefc3w3rUAcdhCxpKK2HV7FjJYTBXoRxe7NtpRVBXhbLVbAzxnl3hwxbYj1rRfH+eeG90/W5sywJgqEJLvUH8Bwt318By2AH7/hrk32+Bf1ExXtheHE4mbr2wxNTFCJpWrkPzAQccRx2wPm+FG0Dayjs07uEmEhcAjLjjxwBOjyXfEe5rR6/JoJr0iHjh8QAoKkAOAFx2omGZHvpi9fa3SA5W5QPeT2VTibMWmHZ6UXXw9+qrXtenwZCmnfPcpMF4XznKN4RcCb76YBoNB3ZjY9iPcXdqa08kA9mrdfB6pyJeASdqKqzIfq5XtYq4bpEX7pFJaUKYg1U/AYJu1xz6EMm4PVvjFYoRuVnAmbPRntRgaTmqsjyqe6TOOtldUy3W70Y7bGh93gbIr3QZc2HEGXjC/daJGs1t7ehk3J4NTMgG5PMWmLS2iaOxtBHtD3rQnCsvixM10oeLSjaYgcMm5d3w8xbUSF/ZiqkDGcnKm1FWBeNEM0yKrwZGZFSTgcZn1HI760xIXMtqEpdHJNnnVKjaj4j37BkgK/mt7SjGOQh7txVBMEYpxPVm1G7RAXCgu1d7TYM7t+FAfQ50gWHsq2uDZ5EOWNqIEx90wXxnEO6XmlD5cCVqXnAB2bnqPBKmAC1/3oHiND8cLZWo/K0H5a++qLpXqft5O7rKDMB5G5oeH8D0DUyEMDqYK82A3w8/zKj6uXwQzUDj0Cl0PZiD4CkLmh6uROXje+FCDnLnX5AIYT1H3nezGJ85hva0PtQ/3ATLXwLIeaQX4wfN4Y9xFDz3IU7uMyPHb0dzXSVqWo4huLoRvePHFFvk8euFJZYuDMg2+vHKk5WofLgSTf1AcX0vPmxTbeQnGBcAdChYbQTOjsA1RzOcF5fdGP4IyLhnlbJ9BoJzvIM2oO5fu3BDRylM2xrQUL0OK6tHUfuf4+hav1CfR2H4aB+6f9CCuhivO6JR/IwdtSNbsK66AQ3bTFhTvBe3vfoZTtazQ4sO5QdnMBP+XvcYXO8AGSUl0VedmitCcdAOvUON/2MkGWj8YBztaMZK2fvC5uWx7lBnoPwXgP0wUFUmk3ZpI/rbIG0D66HXH8HmZLa11/eg/0HZu/CHgPY4t4nllFhnlOnoTUBoC359D2aOmGHfLH9POorN4e18+XMrYfvF+Nxb/cnKu7QRp0bbAcW772bkPh1F+xpyH9kwjvYkzkeoSEYezOM5lvCESq/4GMm8P5bCnhDjpB7i6Wv26prGCfO/VT7vprXsafEk0DrR6Xt5rbbuYzJL0z4f+aY1z+2r0DyFGxfT1PdQKR1MWD5tZr9M7JrXtH0jCUWtNCr/HoAm6pO4HM53F42bCAkSZeXMSQkuO2HrDQJFVeH33RyGW+vwu61pcLfsgnOuVyxxUGJlvtV7xY19e9xIq3wq5iE8NTqkGQxJbFknyF/a0H37niTk00Z3UwJnJs5asPGVHJx0tCCH3a5XEVolt8a97crhfFvx7m+GPasdu0PnGpKAG+dU5VMHLPstqCk2wR40ouX3Gq8WOGEKnu1B1XV21Dwh/uOLhcC9cyOsMKPnuZI53kd/0/hhe96Hrf/MHOS6Flywo6HrFvzpzy0oSPPDedQd+0pVaBtV47oah/OdYbAGK1uA9jfmd8CQG+dU5YoXtpZm2D/NQePbJ7HjdjYCR8H1Jej6bAafWRfwH1/s+wwzn/WgZKESXGhOdcJW0ALztZYv4ETTb/+Kxl8XARe9GDthhc0t/le3WKh2Jzic7xrrexbkOtb3iIhYTw6Hc23wn9iHtmMuuHqd8NxUAPP6O1C8pQtV2WzMVMEP2wPL0PCO0jfnuXG8V89NLoezUHDjzOFwOBxOisG3tTkcDofDSTG4ceZwOBwOJ8XgxpnD4XA4nBSDG2cOh8PhcFKM/weqhFf8BmerqwAAAABJRU5ErkJggg==)\n",
        "\n",
        "This is a two-tailed F-test.\n",
        "\n",
        "**Step 2: Calculate the F-statistic**\n",
        "\n",
        "We define the F-statistic as:\n",
        "\n",
        "Where\n",
        "𝑠1**2 is the larger sample variance (to ensure 𝐹≥1).\n",
        "\n",
        "Given:\n",
        "   ![larger sample variance.png](data:image/png;base64,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)"
      ],
      "metadata": {
        "id": "bniW0TyPvnS4"
      },
      "id": "bniW0TyPvnS4"
    },
    {
      "cell_type": "markdown",
      "source": [
        "Step 3: Determine degrees of freedom\n",
        "\n",
        "Each sample has 𝑛 = 12 observations.\n",
        "\n",
        "![determine degree of freedom.png](data:image/png;base64,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)"
      ],
      "metadata": {
        "id": "bPZ9Sa480JG4"
      },
      "id": "bPZ9Sa480JG4"
    },
    {
      "cell_type": "markdown",
      "source": [
        "**Step 4: Determine the critical F-values**\n",
        "This is a two-tailed test at the 5% significance level, so we split the alpha:\n",
        "\n",
        "![determine the critical values.png](data:image/png;base64,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)\n",
        "\n",
        "Using F-distribution tables or a calculator:\n",
        "\n",
        "![f-distribution tables.png](data:image/png;base64,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)\n",
        "\n",
        "**Step 5: Make a decision**\n",
        "\n",
        "We compare the computed F-statistic (1.5) to the critical values:\n",
        "\n",
        "* If 𝐹<0.2788 or 𝐹>3.59, we reject H₀.\n",
        "\n",
        "* Since **1.5** is **between** 0.2788 and 3.59, we **fail to reject** the null hypothesis.\n",
        "\n",
        "\n",
        "**Conclusion:**\n",
        "\n",
        "At the 5% significance level, **there is not enough evidence to conclude that the variances are significantly different**."
      ],
      "metadata": {
        "id": "5JczJ_gi0lbf"
      },
      "id": "5JczJ_gi0lbf"
    },
    {
      "cell_type": "markdown",
      "source": [
        "**Q5. A manufacturer claims that the variance of the diameter of a certain product is 0.005. A sample of 25 products is taken, and the sample variance is found to be 0.006. Conduct an F-test at the 1% significance level to determine if the claim is justified.**"
      ],
      "metadata": {
        "id": "O4_vZfE48p7s"
      },
      "id": "O4_vZfE48p7s"
    },
    {
      "cell_type": "markdown",
      "source": [
        "To test the manufacturer's claim about the **population variance** using a sample variance, we do **not** use an **F-test**, but a **Chi-Square test for variance**."
      ],
      "metadata": {
        "id": "rqWkdAI287zX"
      },
      "id": "rqWkdAI287zX"
    },
    {
      "cell_type": "markdown",
      "source": [
        "**What’s being tested?**\n",
        "\n",
        "The manufacturer claims:\n",
        "\n",
        "\n",
        "* Population variance: 𝜎**2=0.005\n",
        "\n",
        "* Sample variance: 𝑠**2=0.006\n",
        "\n",
        "\n",
        "* Sample size: 𝑛=25\n",
        "  \n",
        "\n",
        "We’ll test if the observed sample variance significantly differs from the claimed population variance.\n",
        "\n",
        "\n",
        "**Step 1: State the hypotheses**\n",
        "\n",
        "This is a **two-tailed test** (since we are testing for difference, not greater or lesser):\n",
        "\n",
        "\n",
        "*   Null Hypothesis (H₀): 𝜎**2=0.005\n",
        "\n",
        "*  Alternative Hypothesis (H₁): 𝜎**2=0.005\n",
        "* **Sample:*n*=25**, sample variance s**2=0.006\n",
        "\n",
        "\n",
        "\n",
        "\n"
      ],
      "metadata": {
        "id": "Edrz0QOa9P7D"
      },
      "id": "Edrz0QOa9P7D"
    },
    {
      "cell_type": "markdown",
      "source": [
        "Although many texts call this an F-type comparison, the standard exact test for a single variance uses the chi-square statistic\n",
        "\n",
        "![chi_square_test.png](data:image/png;base64,iVBORw0KGgoAAAANSUhEUgAAALkAAAA+CAYAAAB3GLo8AAAAAXNSR0IArs4c6QAAAARnQU1BAACxjwv8YQUAAAAJcEhZcwAADsMAAA7DAcdvqGQAAAfqSURBVHhe7d1xTFvHHQfwbyekWGL2Q6pUo9LWVZTUWZqEqA32FAWspq2rSpT8UQLaQr0VBpGCYVog0YiTVsWJshFSDWyiQoJaTKVtgJSEZEO8RFtMJVZAIjERGWYqwqvY7EnT/FCQXYXp9gcE8Bm6kfnZ1nu/j+Q/+N1ZssyX8727e+YpxhgDIQr2Hb5AiNJQyIniUciJ4lHIieJRyIniUciJ4lHIieJRyIniUciJ4lHIieJRyIniUciJ4lHIieJRyIniUciVaMEP7y0fQgt8gzpRyJXmbgccA8COHB/q9m6H/VaU76E6FPKoBClNcxB9ghfm/bQerj8EoN9pw0XHDnhaehDiO6mMukMuibBXeBDM4BvSwzfDTlR85ufL38py/mt8fcEKAIhKQeDZbOj5TmrDVCvMekoOsNav+HqSPYqw4HgXq86tZoN8G4uwwcoDrHGcr/8PwoOs/NVyNhjmG9RHvSP5kBONOWdRs5VvSKIJD+zHnejp9sAzE+FbAWhg/XkJ+us7NjflWPTDdawfhwY7YRX4RhXiU68OEdbzw+dYnZevp8jvy5lWW77OSM4YY7Os1byLNU7y9Y2E2aC7lY2EGWMsyLo+uc53UB2VjuRD8N4ww/wqV57rh7PWgY4xCYgGILY4YK91wvNA4jomkwHm/BDEPwb4BkRnRLga7LA3uOCdW6oF2gpR3ODAG8/roNNth+uhkX+a6qgz5DN+jGhehCFzbTGEjosB2OxZuPz6PuSf9MJ49Bzc7wPO7zsgru2aZPoXjfBNchegMy4U/mwWJU43mg/6UXbUgxAAQ/UXmJ+fX3mM1VHI1RlyKYzwVkPsqsPcIAI7i2DwT8GvL8HFj20waB43rjdfTh7D1peAxdha4IYHo/8GwgtRSDCgqvotWkXZwFMsHb5caMEP73AUO/bnQh8zusrklh26M0bc/7IGBq5p9MQzKMRN/OOCCQAQaMnD7ls1+MtN2/ohmvDAfmWUr8Z6pRLuH+fy1VUDFdCVAn3znVha/OMMVEB3tRTzHWta/1SP59/qgAQAOTb0femmi8yN8JP0pBtvZ6d6p1hwsosd2baNVYsRvkfifdXK9plb2SxfZ/dY4zYtK+9//PMsazVr2bu9EcYehlnkUWzvhPnWC0/GWH8501auaQ1PscHRIIs8DLMpbys78pyWFXbTWuFGUj5dSckOXaaA7Af3ELfNEvJhNGSBZWkQB2b64XlgRenbGnibWzHCdU+WwMwE9DmrnyNiQx6K63sQyhRgLKjEof0GmF6hYXwjKQ95Snbo9GaYXpiAb5qrj3vh3WmF5fELyBSQLQCzV+wQTbWwJHpnNCTiQm0x8qt6AfSiwlIM+y/FuD9yn8+PAtPqdCf3YBFMxi3wXe2F61ghflvQhzM7Y55C1uKH9pRJ8g7d1Nld7PVPgrHFRxEWfhhbYpFwfC2ZHt1hdS/XsTv8VCkSZsGgjFMoBUn5SA6kZofOaP8AWZc7YqcsGRoI/IWvRoivJZF0zYWRypr4TxGNAL1egIavkzhpEHIJYrsI8yU3ip4OwdPez3eQh3AYnc4QHG3xmyxpQxLh+LUFV6r5NSCyKfzQnjgRNtV9ilXXnGLtw/FzkPDkFAsyxmbdB5hWq1157Gue4rvKaqq7jrX7+Go6CLPrp0+xO/FvHdkk+dbJpzvgnChF7Zbj2H4kgLN/vo2qnKUmacCOiuka9P10M7txUYy21cMTtyTCM8J2vgamFE4xSHqRL+Qr/HDuykPPD8Zw32EEpl2w95pxzmFCkqbfMXQ6HV9Shfn5eb6kGkkI+fKuobsIt3+XhaZfGdF5yZqSgBN1SkrIMeNC3l4Hwu+4cbPLBuMTrQhEMdpeD88kX+ftga2pCqaVcydpKtlHGdSMm6PLI9zF3tVqWeGn3Lq0WqXiKMOKIOup3McO/OIe36BY8i8hLvrhOuFHbrEG3oEhbP7WXOVJyVGGFWHMjvsxGwip5nch73Rl0Q/Xj1wwXnLDOlwBXamEzr/34bDaP54XJEhY2mQKtORh9+S52BOGJKFkHMkliGeaIHy4fAT0TRuqNCKargQARCE9wdctKEbm8i6qJKKxew/6ls/uEHnIFvLAZ02Yfb8TtpeWCxkW1HxsRfijQpQdr0fT8DfcM1QmBUcZ1Ere6QrZgASxzYOsshqYhBA87SOwHS3iO5EEoZDLJDrjhejjboDOMsL6mhGhtnzsbvCtlI0fjtG9mDKikCecBG/DGyi7lg3rm1sw8bkI/7MW2A4aAKMNzdUmpPsSvtJQyBMs0JaP3QPv4f61KhgyAAzV45mTBoytcz8pSQ7ZLjxVadEL10d+VJ1cDjgALPxr3fXo6LQX4l31rFWnEoU8kf46AW/0HRTsXy35Roeg2b8nZhT3t5Th9NxeFAjX8ZNj4tId90Q2FPJEyhSQDazerSP1wtmyA811ltU+C71wXjbivdcEaLbacOifDnhmVptJ4lHIE0lvQ/P5AJzHOtD/GyfKSrwovX8DtuVz9ACAUBD+72YhCwCggSD4ce+/npEn/w8KeYIZq2/jiwulML99Ap8PunF4bcBJSlDI5ZApQC/QQmG6oJAn2wtG7JkLLJ86DCH4NyP20j6QrCjkyZZhxQeng/BcDSB0twfi986hMpX/CEAFaDMoRaJSCNKiAP3TNK2RG4WcKB5NV4jiUciJ4lHIieJRyIniUciJ4lHIieL9B+OgOM2sDyvbAAAAAElFTkSuQmCC)\n",
        "\n",
        "**Calculations:**\n",
        "\n",
        "![chi_square_calculation.png](data:image/png;base64,iVBORw0KGgoAAAANSUhEUgAAAgIAAADbCAYAAAAf6/kCAAAAAXNSR0IArs4c6QAAAARnQU1BAACxjwv8YQUAAAAJcEhZcwAADsMAAA7DAcdvqGQAAE5BSURBVHhe7d1/dBPXuS/8b99wWnclkunJcsx7A1EOdRDlh+0WG+ekDr4N4JQbY0psY4Kp28jBuals0lNMm9hxEyzcJob0GsnpiU05iR1OE2wXapGLK5F7DybnJbXpIbJ54fWQhY9Fk7ukrNBKXnAkDk6e948ZSaPR6IfBJBg9n7W8Fpq9Z7Rnz9bMM3vvGb5ERATGGGOMJaX/S7mAMcYYY8mDAwHGGGMsiXEgwBhjjCUxDgQYY4yxJMaBAGOMMZbEOBBgjDHGkhgHAowxxlgS40CAMcYYS2IcCDDGGGNJjAMBxhhjLIlxIMAYY4wlMQ4EGGOMsSTGgQBjjDGWxDgQYIwxxpIYBwKM3Woue+GfVC5kjDF1HAgwNgN4T1pQVZCL++6bh3nZm2E56VVmEU0Ow5S3CnsvKBOmixdDezZjVUkVan6wCquetcMbM+iIk987BMsPVqHUUIPND69Cw9HI/fIeNaH04VJUba1CqaELQszvY4xNGTHGbm4fdlLJhm5ySR9HW/NJo8kn83lFPiJyvLCENJoc1bTp4OupIM2GbvJInx0vLKElO0cVuUJi5/dR9yYNlfRIqVcd1LR4CTWdCaxN5DlioIwVZhq9SkRnWihHoyGjPZTOGLt+3CPA2E3O/54d9v4qmI6Kn/VPbEUhhtF12Bme8X0T9l56GPrwpSq8cI5F3nkDALxOOKMkAW50v26F/oHlSJWWZC1fDueevRhS5BTFye/uRtdhPQq+JaXOykLeA05YXpO2NjkA0w8OY52pFvpZAHSFqP3ZblQuD2yfMTYdOBBg7CaXsnordse7AE4Ow9Q6G9uf0ilTVKTC329ETb/iiu+1o8Zghf/28MUhwxg4DmQukH3HnHuR7h/EoOpQRJz8pwYwgEzo54eS0+9Oh39oEE4AONqFDn8eMu91YuCQFdYTwLqfVWN5IKpgjE0LDgQYu9mlLkd1Q+gC6O0/ADuyULk2dIEdfmkXZj9fi0TCAADQG3+D2rNVoWDAa0eNQUDtAenuW82kX7kESJ2N2fADauP28fKrrDN79mzgivhv57kRAC70HBrGwjWFyLtkRs5KC88RYGyacSDA2EziteMnzw6j8sDbqA3cSZ+zYO/s5tDnhKRAv22/GAzs74ofBADARQ8+Vi6LJU5+98VYqQEeLF9RjPSUFKSvfxLr/r8G1O13KzMxxq4DBwKMTZXfjeGjAxC8Kne8N9KkAMujLbj3t39C25pA/7gTlmYXykpT4Ha74b7oAQB4LrrhvRy2tooU6H9YDt+zJvh+WBk7CACA9Dm4S7lM7a4/IE7+9PSIVJXHHlcga2ng3+nQzQcGTgyHZ2GMXRcOBBibio+s2LVvFLP1QHfxPVjVrpiwd8N4Yf+JCfjHd9CYmwpctmLXb5wAPEhN9aKn2QRTswmmNjuccMLeZkLHiTh3zhetqKl24af//gF+OiYbJohKh4ULgHNjsn0+PwoBmdDdI88XECf/1xdCj3MQZPMLnIIALNJBB0C3KC+UIBcvYGGMTQkHAoxNgfttM0zdI8A9BWh8sRIjjZYoM+ankxf26iJ0fX0ddGessB6ywrp7L0bTdQCyUGluQ1vg7/kN0EGHDc+3YfvqdOWGQi5aUVPtDA4H6J/uRe25eMGAHsXrdRDGQwGG+4ITWPtdFEoX5+GXHkRudQ/EHHHyLyhG8T0CnB8FUzF+Hij+b4Xix++UoTrlOIZPS8mTw3CcTUHZ2hWBFRhj00H5PCFjLAafh1wen/jvIwbS5JlpXJlnuh0xkEajUfzlUIsQns3xmoGKstJIo9FQWlYR1dsDbx5QclDL49Kz+QqjbUZqV2w3zKVBql+WQ8aDozQ+YKaSbxvJFnhJAPmor1JDmhWyOomZn8h3op5ylhmp78w4HWstofynbMF3DhAReY4YKeOhbdR9sI/an8qhnLpjYek3has+8lxSLmRs5vgSEZEyOGCMxTEpwPKwEfjHd1C7QJl4i5v0w3tuEINXFmLF0nSkxOuqj5f/shfCvw3C//UVyLo7RZEI4LIbwydGkbI8D/pUlfQb4SMr6p40wXbeBc+le7Hu171oW6vewzK8YymemP02Tj6d6DMbU+T3QnjXjLq22Wjri/NkyKQb1mefgKl/FC6vH/eufwW9vypGurLOp5H3pAU/qevC8f/jgv/2Avx07yuozQ094+k+XAfj/r9izu1eOFGAxv9RG/MR0KnmZ9NAGRkwxuLxkK22gsxnpJ4Bdmu5OkjbHqonh3R4PUcMNFczl4x2leN9qomWaDSU03pj+oVc9hYy1jZR0+MZCfU+DdatpPpTgYLbyDBXQ3OfspFKyadHvLdenmmioucGQ/mFFsp/pDOYP8JU87NpwXMEGJsiYX8HvD/bj9pFKRhq74CgzMBmtnM22E5aULNPnOSYumYrqtO96Oo5Hp5vchimvV48vCh8caRrfZMjkL56O9rMjajMmq1MUiHA1j8Ey4/3ii9kSi3E1ifS4d1/AIqST5t4b710/osdo/IVFmRhwdCIWD4VU83PpgcHAowFXLRj19Ya1DRb4VQ+FTfphnDOD//RGqz6kQlV39BCq9Vi1eCcBF7py2aUBdVo/tl2bP9ezE548SVOdXG66oHreJPjVOlR/cvt2F63IYEyTY94b73UfSsP3j2rsPRH4m/Ke+gAnE9/H1GyTzk/mx48R4AxAIAf9pcsSH+6GPb/motdDxzGx78qEJMmBVjKLdD/UxsKpzBW6extwK7jMW73AACpKPhxM8qm9DIgFsu01/v7Jiwt6EDB7z5A22ppjsL7Jmw+UYn9RsBy/1J0PXY6zhwBP4SXN8OyaJ/4DohE3uQo49yTi6VvVuL0HxMJPCSTwzBlP4iOFb344NeFUJtdMd115e0txTyDG82Od6UXXHkx1FyCVS8NAbMAXWkv/rWjMPh/T0Saan42LZRjBYwlO19PBWk0FdR9icT5AM8YqftDZS6WFK6OknlFGq1sk/0Pi1dHyfxUYLx+nMx5ic4R8NHo7hIyvtFJxkfVn9qIZrw1J6E5AnKjrfmU9tDUvue6eGxkyMgg4xHZcx1XXdS9JZ8MO5uoJEN84mVJrCc/ppqfTQvuEWBMadKOqr8thfefPkD1/zZC+HHvF/pkgFarVS5KehMTE8pFN4AX9upV6Cp8G/tLQ08MOPdsRsc3X8ZWPQA40fHIKljXvoO3azKRfqfafbfMxR5UZdcDv/4T9q1N/D53qj0C3v4qrNr/XbzdWXZDnxgIkp6i8bz4O/GFVxKhORcN+nfQW5oKTHox9FIJVr3kxvY/nkajytyKqeZn04MDAcZU2Ku1KP19Fmp730bzisRP2HLOQw3Y9S/xu10L65pRrPpmPnYtpqvehVc2wzL/Fel1zgJ2vezC9m0FGH69BntPBXJ5MPyWFcKCYmxYW4nGnxVC/SHD8Jc44ZVSWBZIwwQJmFIgcM6CzW16vGIWu9SFl3fBtW07pIGuMNNTV17Ytxoh1OwXA+bLVux6MwvbnwAs95cCvz0p+38w/Ogpvwt/+OEE9q0J3wrgnGJ+Nm2UXQSMMaLB5zJIk7aNZA8ysSQy2lpEK+s6qe9gn/i310Alu2XDA0EJDg180hcxHDDaWhLejR5DtKEBx4v5lLMl9PgeCWYqemgbdQbKfbCdDBtaSK3k08NDti35VNHaHaqrF4rIYCUi8lH3prm0bSA8f+ejK6k9MNR2qoXylxmkobep5mfThQMBxhQ8R+rJsHMbrdRkUNMpZSq75Z03U07Emxw10sVNZriTDI8soTSNhjRpS6joOVuU592v402Ow51kfLyIlqRpSKNJoyWPGMj4mkNKVL7JUQxKlOXWPN4XtslpFe+tlx92U0VWPhn39lHfwW4ybymiitdCYYnPWhH+3oGp5mfTgocGGJPx9tfAOFaL/cYUWO5fCvOad/HB81nKbIyxRElvlhz4ZA4KlumRGu9xyanmZ9eNAwHGAs5ZUPVaJn71ywKkAnC3r8J9jTr0/vs+FMIL/1dSI1+PO5N4h2DZWo+B2xYi5aNR6Op+h+bVMcao4+X/yIoagxkevQ5+4QoK/8dvUL1Imix3wYJVD9uhW63DVwHAPYzBzJdxsoGfCGfspqPsImAsKfmOUctz4f/hjfgf5mhobrGRjE+1q3btzhw+6t6koZIeaQ+vOqhp8RJqOqPMFxAv/6j4OTB04ummkq8FHrkUu9fz06T/ACkjnwyvDvIjYIzdpLhHgLFk4O7C2vssKHSEZmTbq7XYnPoOPt6lcpceL/97dbjr4b9i/8Q+iP9psBOW+5fC/t8/wOEfpgNjFlQdLsa+mC/ZYYzdDPgVw4wlg1MDGEAm9LK3w6XfnQ7/0KD6e9zj5HcODcC/KFv2euV0zNEBA0PDoRUA+L1uuN1ueJWvbGaM3TQ4EGAsGUwqFwCzZ88GriiXSuLk90ekpyA1NXy9j1+twXOHXfBftMH4zVUwnYz3vDpj7IvAgQBjScB98WPlopji5fe6VPsRQtIL0fi7/di9OQu6RZV4+Wdfxa5HWzCkzMcY+8JxIMBYEkhPv0u5SOWuPiRe/vS5kWP/Ydu7bQ70utATBunpdwFeOwbHZHkYYzcFDgQYSwZfXwg9zkG4EFrkFARgkU79lbVx8uvmZwJnBQihVDjPAnq9DoAf1ifnYd7f1XEPAGMzAAcCjCWDBcUovkeA86PAAjfGzwPF/02c8w+40VOdiwdfkib7xcv/0HdRDCdcbil5chzOMR2K1+gBpGDOXVmo7Nwe/H/knedGgHuKUZjAf2XLGPt8cSDAWFLQY/veLRiorYH1rBMDe4x4Q9+LV0oD/1ueB+OnBIw73RAn+MfJf3sZmn8NWKotGLggwLr1OTie7w3+D3HLn2sEXjGh45AV1t/UoPRVHdoONsqeMmCM3Sz4PQKMJZPLXgj/Ngj/11cg6+44/2Uu4uf3e50QhsaRsjwP+lRF+qQf7tPHMfqVPOQtmOFvZWTsFsaBAGOMMZbEeGiAMcYYS2IcCDDGGGNJjAMBxhhjLIlxIMAYY4wlMQ4EGGOMsSTGgQBjjDGWxDgQYIwxxpIYBwKMMcZYEuNAgDHGGEtiHAgwxhhjSYwDAcYYYyyJcSDAGGOMJTEOBBhjjLEkxoEAY4wxlsQ4EGCMMcaSGAcCjDHGWBLjQIABAPxeN4TjVlj/RYBfmQgAk24M7GmAab8ArzKN3TB+r1f9eDDG2DThQACAvVoLrVYLbbVdmQSMWZCr1UKrzYVlTJk4fZx7cpG7x6lc/Lnxjh3H3p9uxuY3nUhRJsKLnoocHE6ZA/uPSmEeUabPcH4vhKMmrF1nwY0/Al4M7anCgzn34b5587C0woKhaJGVtweb5/0Ex5XLGWNsGsUIBOyo0koXyODfjb0YfiHGLGh4qwy9ExOY6ChUpsL+YgNgOo2JiZOona9MvXWkf3M5dAAKHshSJgHuPnT15yHvO3oU/qwZ1YuUGWYu99FdqPmpGd1vdmHArUydfu7Xq9CS/gu8+6cP8MG/v4PqDxuwqlgtAPGip7oKKqEpY4xNqxiBAABIF8jAn6MSXdnaL/TO9YZYlA29cplM5gKdctGt5/IQBs7qUbgiXZkCDA1gID0LCxYUorGhGOmzlBlmrvTV29FmbkRl1mxl0g3gx/GjdtirTeIFfpYeW2oLgfe7YFUE2N7eBjjuKQtfyBhjN0CcQEBhfi1OOpqBxqbQnUqw61wLrTb8Dsa5JzfYm5C7xw7L/YEeBTuqtLmw7KmS0sTAQp5f2U0f7L6X5Y+1PExYGWX5+qugzW6AcLYBS7VaVPXLV3LCcr8WpW8BPeVaaO+3wDlmQa62ChapnIH80csg71VR9KbIy3S/BYIsCYpthtWrogyB7YbqTvY9/VViuUObDed3wr6nATXPdmDo0B9gTylAnrzX47KAgUNWdBw6DvwXP84dsmLg3I0csfZiqL0BNc1WuCcB70gXTFtr0LBnAO5JZd6ZKAWFP96N7bsqkadMkvP2oOF4MRofUiYwxtgNQFHZyKAxkE25mMbJnKchw5FAnhwyn5eSjhhIk2emceW/iWi8NYc0wbw2Mmg0pNki27oiv22LhnJaxU/jrTmyvKHvD18ejfhdYnlJUX4iOm+mHNn3Ktm2KPJqQuWiGGVT/Z5gfSrqTbHd8dacsLoIqxu1vMrPUY5BGMFMKxcaqO8TIvL0kSFNcTyIiK76yOMap/ZHNJTzwiC5XC7y+MKzyI331JOx1hjnr566A/utNNBE2454qO9xDc1dWEFNJzxE5KPuDRrKb1Pdi2kTUeeqfDTYptwftT8zDV5SrqvGQ90bNKRZIf9eD3U/ZSTbJen4qf4GGWNs+lxDIBC6OEZeiAPrKC6CRNKFUR4IyC6EavmPGKRtK/OK35vTOh77QieJLKN829cSCMjrZCplC+2/WpmC66lsM6zulGWI91nNVQc1LdbQyldd0gKx/oteC3yWc1BThvJY3hjHnqunYzRKLcs0VPKGR1oqBgLy4OtGSCwQmF6eIwbKyDCSLbCrROSxbqN6uxRtcSDAGPscTG1oAADghDCiR3ZgUP2tUlkXdil6MAJhDABkeRLUUy7rDi/vAUYEqVtbQEN2KG1powDhjACs2YfTj3VhqdS9Hq0LXL9YURB9NvTBbV+vKGUDAGnIQUxbioazAhxSUkSZwmRCHzYxUQd9Zmjd63bUjF0XClD5PWk+gDQ/YMUDKvMD3MMYcmche7EyYfoVmJpR4B7E8XMFKF6dKi6cPI4/9KegYHm0eRpu2F+qQc3WWH+7YP8cJgJOyTkLSnbfi3/+UxsKpV3FZTtMhzNRnemF2+2G23sFwBV43W54b+SIDGMsqU09EOhvQgMqUSxdqPSm06HJhBMTstn1yguXAMdZ+WclPZod8u1MYOKPtRBP/4pJi7IZ/rqnT2JiYkIMCNQe/wNCF+bgAgeETL207esVvWzY2KuomwnsWyMmKcsU/jkQTAUogq/r5Dw3AqQvR1bgun9iAPaUAhQs8MOrvOKMjWAQWdDfE75YjfNQg8pFWPnXAOsF5Zoh/netGFiwAnmBsh09gJ70Wnz/71XKBgBIR+HP2tBmjvW3HYUqMc7U+THUrtwftb8ODKkVNcBrR80O4BVbI5anAv7Du9BxAcAlID1lCLuaTTA1m2B6cxjAMLqaTeg7p9wIY4xNE2UXQYjK0MARg2ycP9ANrezGFim7WiPnCER2qUfrmrVtURm/VoroipdIY+rTN0cgvE6il005N0FGWW+KcX/bFk2cOQIxhgLkn6PUia+nRLbcQ32Pp5Hm8T6iM01kVAwPjLflk+aRTlIbNLgRBuvSKK1uMPjZtkVDGS84iD5sp/rgUMb0i9X+ppXHRoZvV5C5p4/6Dop/TY8YqO+qMqPK0IDyWDPG2DSI0yPQg9Jg17YW2h3ZOC1/nn5+LU4eyAzrGg/M9tc9fRK9maGu8VI0oznG8+fK/FrZrPzCjtNoHpEPQShnymuhLQd6gz0IMtKTDiPBYYelcDwfujO/XtHKBhRiX9j3yoYvlPW2CWg2hW73CzsmwutiRzZOq+3bNUr5XjOaU/tgeasHu7Y2wJm1Fqlnj8PU5kdxWfitszA8jPTcLEzLDXVcTgy+68fah5YHl8y+MxWzvYNoeOkKKqtuQClGulBjWIuiZgE4a0JRURVqXh9W5po29u2l6BmxosGwGZt/IP7tci2EPuyRTDfsL5XiweoeAD2oKihF1632EifG2E3jS0REyoU3hh1V2gMon9iHyNf2sC+C/6IXSE1FyizxFcNXvpKO1LDXCgrYlfMg3JaPsfvv5ctvHL9XKpN82UUvcGf4MsYYY9PjcwsE7NValKJX9e197CZzuQeb/+8qeBsagTf82P3/NsZ84RJjjLGZK87QwLUL67bXalE60ozTHATMEKmYnaqD78RxZP56KwcBjDF2C/vcegQYY4wxdvO5YT0CjDHGGLv5cSDAGGOMJTEOBBhjjLEkxoEAY4wxlsQ4EGCMMcaSGAcCjDHGWBLjQIAxxhhLYhwIMMYYY0mMAwHGGGMsiXEgwBhjjCUxDgQYY4yxJMaBAGOMMZbEOBBgjDHGkhgHAowxxlgS40CAMcYYS2IcCDDGGGNJjAMBxhhjLIlxIMAYY4wlMQ4EGGOMsSTGgQBjjDGWxDgQYIwxxpLYTR4I2FGl1aKqX7k8wI4qbRXsysVxOWG5PxeWMeXyKRizIFcbfRv2ai201VMvGRDY9tT2y16tRe4ep3IxAMC5Jxfa+y1QT72FXUM9JpWPrKh5eBU2b61C6cOb0XHWr8wRLl7+ST/c73ehJruG65yxGSRKICBegLUqf9EvyjdCIfZNTGDfGuXym8D8WpycOIna+eJH5YW4sGMCEx2FofxfIN3TJzHxx1rolAnsxuuvukmDMAGmhxuQ/uI72G/eh97udbDnP4Gey8p8AXHyj3Sh5icmdL/Rha4xn2JdxtjNLEogIF6AJyYmMHGgDFjUjNPS55vyoswYm5r39sJyYTnyvil9Tl2OggVWdPW4FRkl8fJnVqLN3Iza1RxuMjbTRAkEolF2qSu77uVd9YpehQS6ye3Vofzi3bUdVYrud3meiN6JMQtyg98Z3iXs3JMr27YgS1HRXyXrBRG349yTC221BZb7pWXBbmcnLPdrUfoWIDQuDeZX9hDIvz94hxhWXpX9iUalfCJBKp8WWlm9iWWPXf+RdR+5vKpfdnzHLMgNu9MNbxth+ysrY0Q9it8iaytRhltU7qzt1VKdJVSPkcNIwfVln+PVQbThF3meQDmde3KhLe8BzjZgadRyibwjXTBtrUHNsxbYx+J00U8D59AA/IuyoQ8uScccHTAwNByWL2Cq+eNRq6/A8tw9FrE9qP5OeKiHsek2xUBAh+LHgK7D0s92TAAW6TFyTvrcfwA9G8tRCCcs95dixHRa7FWYmEAvSqOeRCGdNEvRG8x/8unIOwtlnvJDpegJptpRld2FSkegJwMoDZxI+quw9M3KYK9GLxrQcFa+ZZn+KmjLgV4p72lTdijtrS7gtxOYmNiHUKe/DrV/nEDvRkBvOq1IEzn35IZ//2PS8sMOWXnL0FOewEkuRvmExgapfBPo3Sig4cW4WwNU6jVQ98rl4fUdixPWM7L93diDUnkgElaPYlvBAakeHJXoylaphzXlKDvbBassCD3wVhnK11xjPSqE7+tpVL65FFX9yuXq7RKw44Bs3WY0oHSPUxySkfWoqfemeWH/0X0oObQQW3/VhrZn5qAjpwxdHwF4z4Rdx5X5Rc7eBtRsrYnz14AetaAKgH9SuSQFqakAIpaLppo/NvX6ChAaHSifmJCGs2L8rhlj02KKgQCgW5AJ4U2reMdzuAt4rBIIfD43grL1hUB/ExrQjF7ZSbPwmeZQPpW7Y92CTGBEiPEDt6OpEWh+JnSZLezoRZn0b+eeBvRsbA6O2YsXDgcEOGHZ0YOy50Nj5Lqne9G8SPqgYD/Ug7IDoYu57una0IVdvv2EOWF9E2j+bej7C58W/617el94eWVrRROrfHpTb3B7hevL1Osz7O5KvPtWr/vY9R2bDrUdsv1dr1hLXo9SW/l54CI5vxiVi0YgRFzAClG+UYAj0JkTDDqvrR7DKfdVh+LHxABXvW6UCrEvOB9EXDdRzleKUCpsxz8/vxypswCkrkDxAwPY+3snBuzA8geUa4h0pc1oM7fF+WtGWZT26nXF3iOlqeaPLXZ96U0/D7bp6L9rxth0mXIgIL/AWt/MRPnTxahE4DOQHfhNZ+rDJ6fN1yNT+gHrnj4ZvMMKTmJbsw+nH+vCUkVXYbhM6KOc2AAAb5WGAgxtKXoQuKDoQ+WKyQlhJNG8iRLgOBut3PIu8UTutqdQPr28G1dmfi1OBuo+MNkxat1HK3cC5MMX5XH2TOo6F/MvRcNZ2QVfpnB9GXoO2QE4YdkxIrtwT7Ue1QhoyA51Vy9tFCCcEWLUTTh5cLu0UaXwqoZg2TGMgu+vQ3pwWTrm/Bdg+I1SdM2uRMGssBWmTfrcyJ6NyLv+kKnmj2dK9RX1d80Ymw5TDwRQiPKNPTjQL8CRWY5C6KDPlD6jEsWBC4fyLmpMwEjYGGOkQIBw+rEuLFUd01acAMYEjMg+il3zgYuc7EIH5YVFgCPa0EBE3umgduKyo0rbgOxAl+dEonfbN6J80eo+dn1H1V8F7Y7s4NDAxIE4e7Yx1PUe+FPtRl9TjrK3DsA+ZkVXsK1daz0qlQWHW4J/0l2ret2EOPfkYumZ5uB6p02xWrnM2CAG/OlYnhUKA0I24KfGyItvgPNQYkMD1gvKNUW6+ZnAWUF2Z+2E8yyg16t/51TzxzLV+or+u2aMTYdrCAQA/WI9RnY0YGSx+AMuXF8mfn6sWLq7L0fZ2fBxP/uLDUAgPQ717lixa1g+7m1/sSF4YtKtrQQaS1Ummoldjz07Qndzzj0NUe4apbyyMWbnHsuUx5vDSeXeJJsQtccC55iAEfkdd/+BKGWSuxHlCxeq+9j1LfbwhMbsnXtKg/MunOdGwnqE7Idi7NmacpS9VRpzIl2IFIS+6Ai1pYTrUY/sRT04EPie/iqUvhVIE7cbNo9BhXq7BIQzAvTSb0EcCkowUrtHj0zMRsrtsmV+AcMjADKzoI/RG6Bbn9jQQPE9yjUlD30XxXDCFXhIYHIczjEditdI+/FRD6pyHsSu9xPMPwVTqa/ov2vG2HS5pkBAt7YSOAtUrpVO9WvKkXlWQOaC4Kgw9k30IrNxabBLr2Hx6SgTrURh8wbKgV6V594LO06jeSTUTXhgvezub34tTh7IDOveDcyU1z19Er2Zoe7nUjRHnSOge/okTptGUBrotnwTMXsxAgqfaQZkTw2EpXVMhH//GT1082vRK/se7SEkdCd7reWLJVrdx6xvFOLnJgTrW16nuqd7w9eLuWeF2Odoxki57LjF6IIvXF+GnrdGQm0v4XrUofb5MvQEvudQOXo3hlKV+xqYPxGtbuQKO+RtvRSOTNkRWfNzNCPKUwOzCvGLf9LD+qwJPYes6GjcjM07BBSbqpF64gAaqqvESYM3wu1laP41YKm2YOCCAOvW5+B4vheNgd+Fdxwj58bh/ER6giFefrcdu7aW4sHqHgA9qCooRc1Ldqg9jBizvpRi/K4ZY9PjS0REyoWMqbOjSnsA5SpPRrDr4PfC7QVS70xFSqAX4LIX3ttSkZqiyDvN/F4nhKFxpCzPgz6BL5tqfsbYzY8DATYFHAgwxtit5pqGBhhjjDF2a+AeAcYYYyyJcY8AY4wxlsQ4EGCMMcaSGAcCjDHGWBLjQIAxxhhLYhwIMMYYY0mMAwHGGGMsiXEgwBhjjCUxDgQYY4yxJMaBAGOMMZbEOBBgjDHGkhgHAowxxlgS40CAMcYYS2IcCDDGGGNJjAMBxhhjLIlxIMAYY4wlMQ4E2K3N78bw0QEIXr8yhbFp4T83APv7bvgnlSmMzQwcCLBb10dW7No3itl6oLv4HqxqdypzMHZdhtsbcHhyIXRntmHpN2pgv6zMwdjN70tERMqFjN0K3O2rcN9v1+H0QC1079XhrnXA2x/vxnJlRsauyQBq/nYtcGACbavd6Cq6Dz2lH+DwD9OVGRm7qXGPALtlpf/gd/jAugU6APD8Ff75OvApmk2fAuz+4M/Y/R0A8MP7CXBXepK2sEk/vNwbMmNxjwC79U0KsDxsBP7xHdQuUCbeorxDsGw1YeArd+HKqXPI/NXbaF6RqswV4h2C5R9a4LhjDq6MOTHnyd9g91rZRe0jK+p+0oW/pqfCOwYUPP8r1ObKtjfphf2lKrScSsXCVC98K5qx74d6Kc0N67NPwNQ/CpfXj3vXv4LeXxUjfVZo9ZnO21+FVYfK8U5HIWLU8i1reMdSPDH7bZx8WicuuGDBqoft0K3W4asA4B7GYObLONkQpT8uXv6jNZi3w4V135oDAPCNDeLK5rexf6PURmO2XycsD6+C/e6HobsDAFwYPpGFl//UyL2DAcTYLc1DttoKMp/xKRNuYeNkXqGhkjc84serx2jb3CLq/FCZL8BH3ZtKqFPKTuShvseX0LYTgc+j1PRIPQ1elT5eHaWWFfLteci2JYPyW0fF3LtzSKMxkk1KHaxbSfWnpPr32MgwV0Nzn7LRLXNEBDNV1PaRJ1A/yeZUEy3RaCindTy07LyZ8tPSSKPRUFpGPhleHaRg81ITL/8RA2mk9LnLiqje6pIlxmu/42RekUZpX9OQJi2D8re002DMwiQfHhpgtzRhfwe8P9uP2kUpGGrvgKDMcBPze91wu72I9ryD3x8l5T0LTO/rkbdcujeddS908wew6/Voe38cA4fln1ORlZUCQXCLHy/YYZevOkuPLP0gRi5In4+bsPn367DTKPYA6B6qxfZdlcgDAAiw9Q/B8uO9cAJAaiG2PpEO7/4DOB7a4szltcNyNA+vmIuRerELHWH1eJOb9MPrdkfv0p/0x38SYnIYpr1ePLxImQAsaDiJiYkJfPzBu9j35PK4PSXx8pd1foyJiQn8+U+H0SzvrYrXfgFA34iTf5nAxMcf4N2OagR+GkzEgQCbkfxnu9CwtQYN7UPwKk9WXgHCR4D/aA1W/ciEqm9oodVqsWpwDqTO6pucF/YfLUVuRT1Mz25GbnYpLO95FXkE7G2Pcin1/BV+ACnBrncd9HrAOTISJajIwvIVdtQsWSt+j19At1WPyvXSyfaePOR5LViVUwPrmB+4aMWB87X4fq6YbN/fAf/yTNx7YQDWQ1Ycv20dGoMncj2qf7kd2+s2iHM1Zgw/hP0NqNnagI6Iuge8ZwW44YSluBQNz67CPK0W2vss8M6MBgacs2DVN1ajqtmEqofvw4NbrXAqG0f/Xuz9P4plCsMv7cLsutqox1YMZt1I9OndePn9F6XgOOw3H6f9Bvi9cLvdcEfbeDJTdhEwdvMbpfad3eTx9JEhTUMrX5V1E3psZHzUTKMzuZv2jJmarLK+y6seGmwtofxHm8h2xkUup4M6n1pJRnuUzvUT2yhNk0MtQmDBOJnzNKTJM5Os8zbch91UkaEhjUZDmq/ly9YVeYaaaOXXpPTFBrJ9EkgJbLuIzAdd5PO5qE82TBDhqoOaFs+AoQGhnZp6POSxGihNs5LaZcMqniNGKom2fzOCj7p3hv9GfOf7yPjtfDK+4aBxl4tG7U1U8miM9kLikEBF23iwDSiHBooWFtG2Nxw0fqaTKhaupKahGP3x8fIfMdDcbxupxT5K4wNNtHJhBXXLh7pitt9xMj+SQUV1neRwjlLnpgxauTPOUEWS4UCAzWijO5eQZnETjZI4dm2ubZr543/DDnKoBDI+1zFqf8ZIxtom6hyOtZPiHIFggCSYKV8TOxDwDDVRUXE9mWtzxJPp3CLqlJ1MXT0Gyt/SRE2PZojpWdvomIdCgUBGEzkCmU9sozRNEXXKh3Elo635lPbQTArURqlpsYaW7JQu/IKZjDP+IuIixymVg3PVR6MHm8hYa6T6VhuNx4rUro6S+alAe1IJBC6N0uCZUC25Xisizdx6GgzlCBcv/4cOGpRd+Afr0khT3EmBvYjdfn00OjQaOmauTirSzKX6ocACxoEAm9nOmylHk0FNQ6NkftRINuUZ+qqPRgds5HBFP6v5XA6yDYyST35x8rnIYT9Go5dCizwuVzCPz+WJfUd7aZSO2R3kkq0vT3MIMdcm+vAYmbfkU8aKEmo6OK7yXT6y2aOeVol8o9S5pYjyC0uoYncftW/QkObxPmUu0aVuqljWFAw+fOc7xburTd3i955popwN3cETqeeE2DsgXhylQEC+7fNmytFoyHAktIiIyHPEQDmbusk1Y4IA0XhrDmkymmhQMFPJU7aIIEC1/chFaYOR63nI9aGU56qPXJ9EHnU5n3CMbKdCbVLOdcoRvEiq89DoG/VUtCyHimrbaTDYwyNzxka2KBsZb62g+gEXuVwucrkGqWmZhnJeGAyV2echj7ztHzGQRpND5vOyZXLx8l/ykEdWHeOtOaTRGMQJqfHaL/nIE1aXNjIoJzcmOZ4jwGa2+cWoXOTGrkoTUn/ZhkL5JKBJAZaq5+BavAKzf/8EavpVxnr7a/DE72djxWIXnquyQJgUJ4DVPNmH2Q9kw/XCZljOiXkHG+/DXX+rhfZvc2EaAVKUGwt4vwMN/cDCu4exLfs+1BwNH5McemEVnuiXTWRSumxH3U+PI/O5Xvxr98sovrwLqwuk8fmAi90YPBf9mXX/ldlYZz6Md2292L9ND+95oGCFOH0vwvE/wPqtPGRJcwpS5ldif/d2pJ93wQ3AedQKPBCavJX69414u6MQTqdTnH/wLfnGQr4qfzzwnAXG/nK8889lSJ8FCC/vwoAs+WamW1sJvXsXKnakotkc/nigavuRu2xHzX+tg3BvFvB6WbAtONtXoWg/kHXvCIwlFnEiJQZR/427oNVqob3fhOHoLSz2Gw0/6sITBWYMyxYpOduNaEElfvM/38Zv/vu9sG19EJv3yOfb+DHUMwjcGb5egCd1Nry9JpiaTTA1m2G/ADiPmmH6zXG44Yf1yXmY93d1GFKuqCpefgG7CuZhXmkXVH81cdqv//ATmPd396DuPeWKLEgZGTA2s3io81ENaR4JdRMG+HoqaMkLUof1pW4qiegaH6WmxSXULd2JOF5YQoYj4nBDSY90B3GqiZZsER+Es7Uq11d3rFZDmqfEdVyvFYWX7YSZjBtyYt+NHDFH3jl9MkjmTTmUsaKESlZkUEZhCznUehuIiMhGRo2G5j4j9RicaqIlc7eFHv8jF3VvyaH8F6W6OdNESx5qD6+/oXrK+YdjRFI9zpX+HeB5oyQ09DCwjdLkQwNWA2nSDGQLlE8wU9FD26jzYB/1HeyjvoPtZNjQIg7nEJHjxXzK2dIdcfxuGp5OKtFoqOg1ZQnV24/ceFs+aaT2Q+fNlPNIJ7nIRkbZ3a5tS5r0qJuNzLHaRdAxMn5NQ0Y7EZGLOh+Rl81Fna0VVBK4W1Y1TuZWZaqPxg8aKX9hDhVtKKKcjCVU0aPc32gihwYG6/LJeCS0/nhrTmgIj4joVAvlLzMEx/lj53dR54YiapENh9m2hPdYxWq/dGIb5T9lC/VEnTdTjmYJNZ2RPn/YTYZl+dRyKrBy8uFAgM1oo20Gqn/BQGma0Ak5YLxVfsG1kSHi5Bi+LJDftkXWrX3eTDlSAGHbXU+db5qp6cVO9a7UgEuhbs7x1pzQheDqIJnbHDQaVi4VPp/KUIDkkidulzGRizqLl1DF7m7qe7OJipaFj/cTjVLLMvmEPR85dq+kJY82UffBPurbW09Fj9RLcwDE7XVXLqH82nbqO9hH3a0GKtrUKRvn95DtqQxaWddNfQfbybgsh7YNBFaWhg40ir/gUIKP+io1pNGsJLMzsL2byNVRMm+pp6bH00izIdDVHKDefuTCjv95M+VoDGQjGxnCAoHARdRGLc90UndrE7W8NhjzvQS+TzzSkIBYv4H26nrDTN0etbYezhe1CfnI43KFdcPHNNxJhkeWUJpGQ5q0JVT0nE28IHtsZHzESO0H+6hvr5FyFpaEtUGftYI0mvxQwBsnPwlmqtgkts/unUWUsUzePuO1Xw/ZaovIuFcMQo3LMqjkNdlkzzMtlKOZG33ybRLgQIDNWKNtFWQ84iG6Ko75Be/iJdMdCDh6usWL31UbGTLkd9hReGxkWGYIzlsYbDOT46qyXDeKjzxnoo8hq/F5xslht5HDqT7/wffJKB07eIxGowQivg/FMe+ELyIy4231qpMLv1BXR8m8SZp3csRAmohgU739hDnTREukAMLXUyGNa/uoe9MSajpFwcmI4noO6n5TukAdMVBGXYw5IBLPEQPlbJHmLXzYSeYeT0S5vjBXfeQ6ZaNjZwJBSxzx8vs84lyLaO0zXvsNtM+oPWnJi+cIsBnJ29+Altsb0bYmFZhViMonUmDfLb60xu+N/hKea+dFyl2ZmDNLfKFO9p1d6D6pzCMzKcDyIyvW2faJ8xbOmtD+4Rw4D1thG/bAM2zDwLnpL2VIClIXFaDwm+my9wnElpKqQ9bqQmTdk6o6Op1ypx4F6wugv1MtFUi5OwuFK/RIVU+OwQ3bhzo8HH3KwxfAC3tjC1Kfl+adrK5EdYodLb9xiv+vQKLPoi9qxL/+2AdLswWHoYM+/V6kIwVl+95G1v82YVe7E+nLAd3d6YA3BXdliq/QhT4bszu7o4yZS85ZYOxfh3d+XYhU+NHz8gBw2wCshwbghBMDh4bVx9Q/L7NSkP7NQhQsSk2sDcbLn5IK/YoY7TNe+w20z9uVKYwDATbzXOhCy4XK0LvsARTU7EbhxQYU/aAOdbsHcQWAbkEmXB9Kp0K3Cx8vyoYegH9MkF6eokf2oo/hCmT50IXMBTroF+vxsTuw0AlXph46dx/qSk2wuwHAA89FHXTp4jv2hXPKSYhe2NvtyPt1G4rvdKOr3QrM34pf/HgF8h7IQ7ZuNmbrspF9t9rpKvl4eztw5fHqm+o/hHK+3oLxx/ehMvB/U8wqQO2vCuHZUYTNP6lDy4krUdsP4IfzrFMMRj+yw3xqIWobalF2uwue0oeRBWB4fweurG/E9if1uHK+AMUPpsB9qA5lzXbx4u31wCP9J1mh9ioT8UbDFKxt+AU2PJCHvAeyMQdzkP3AvRFv52NMlbKLgLFbxzi1bzJSn9NFjtYK2mb3SePnGip6Q+yH9tm3UUWrg1zOPjJuahcnA16y0bZNZnK4xqmvtoLaz5M4zri7ifrOjJNjbwWV7HSI3Y9D9TRX8cz8eFt+2Hh4zu7QeKTL3kIV306jtG9XUIv9ZusLZ1Ol2n5cnVT0NalNuDqp4tF2cpzpJMOm0ATPwWfyaZt9nI7trCBDYFKex0YtO/to1Omg9soSajoVaq9pYcME4nsiQm1M/vIoB3XWFtESzRIqqu0MTeBkLAb+3wfZLc4Pr9sL3JEevUvwshfuS0BquqxLcdIP70UvkJoe1tXtv+iGd1Yq0uULD3eh56FKlEXbPru1qbUfOdX0KO1Std0J6NrvR+XmLFlGxqYPBwKMXY9JAV37XNjwZIH6RYCx6+Q9aoH967Uom69MYWx6cCDA2PWaBKA2uYmx6cDti91gHAgwxhhjSYyfGmCMMcaSGAcCjDHGWBLjQIAxxhhLYhwIMMYYY0mMAwHGGGMsiXEgwBhjjCUxDgQYY4yxJMaBAGOMMZbEOBBgjDHGkhgHAowxxlgS40CAMcYYS2IcCDDGGGNJjAMBxhhjLIlxIPB58rsxfHQAgtevTGGfM/+5Adjfd8M/qUxhjLHkwoHA5+UjK3btG8VsPdBdfA9WtTuVOdjnZLi9AYcnF0J3ZhuWfqMG9svKHIwxljy+RESkXMimn7t9Fe777TqcHqiF7r063LUOePvj3ViuzMhusAHU/O1a4MAE2la70VV0H3pKP8DhH6YrMzLGWFK4ZQIBv9eNsB73WalIvzMF/otueOXdvympSE9NkS34nPi9cF/5ivjd/VXQ7sjG6T/WQqfMx244/0UvkJqKlFlOWO5fCsfzE9i3RpnrBrnshf8rqUiZpUxgjLEvxo0PBMYsyM3uQqXjJGrnKxOnix/Cv9gxeMiEmtddKDa9gg0P5KE4Fxg+NAj7/s0wHc1Cdcd2FGYWoHBRqnIDkZTlHrMgN7sBAvRovp59mRRgedgI/OM7qF2gTJxG3iFYtpow8JW7cOXUOWT+6m00r4ix394hWP6hBY475uDKmBNznvwNdq+V3SV/ZEXdT7rw1/RUeMeAgud/hdpc2fYmvbC/VIWWU6lYmOqFb0Uz9v1QL6W5YX32CZj6R+Hy+nHv+lfQ+6tipH/BF0NvfxVWHSrHOx2FiFEz02dyGKbsJzDbKms/R2swb4cL6741BwDgGxvElc1vY//GKD0UcfLbt86Dyb0OWekA4IPzxBVU/s/9KAtsLtZxvGDBqoft0K3W4asA4B7GYObLONnA/VaM3dIopnEy52kop3WciGxk0GhII//bYlOuMP2OGEiTZ6Zx5XIVjhcySJPRRI6wpT7q3qAhzYZu8oUtnxrblkA9XA8P2WoryHzmekqSiHEyr9BQyRse8ePVY7RtbhF1fqjMF+Cj7k0l1CllJ/JQ3+NLaNuJwOdRanqkngavSh+vjlLLCvn2PGTbkkH5raNi7t05pNEYKdA6ButWUv0paZ89NjLM1dDcp2zXdTyum2Cmito+8gT26XPgeGEJaTQ5ZD4vW3jEQJq0NNJoNDR3WRHVW12yRBVx8tu2aCgtTUOar82lnEfqqS/smMc5jufNlC9tOy0jnwyvDlKwScjYtnxOv33G2Oci9mTB/iY0ZPbi5NOBDuwy9E5MYGJiAhMTp9E8UoqqfsU6Xxgnjve7ge/kIUu+ePI4/tAP6B9YjusdEMhccH0d+cL+Dnh/th+1i1Iw1N4BQZkhEReH0bV9LdY2DyHqswfvWWB6X4+85dKd3qx7oZs/gF2vR/vG4xg4LP+ciqysFAiCW/x4wQ67fNVZemTpBzFyQfp83ITNv1+HnUaxB0D3UC2276pEHgBAgK1/CJYf74UTAFILsfWJdHj3H8Dx0BY/X147LEfz8Iq5GKkXu9ARtu/hnL01KDWYYB+LWtuJed+EvZcehtRHEqas82NMTEzgz386jGZ5L0wUsfOXYf/HE5j4y59x8u1mFN8tS4p3HAEsaDiJiYkJfPzBu9j35HLVnpLCjtNoHmmAZUyZwhibiWIEAk5YdvSgbH2hMkGiQ/FjeoycC8x+t6NKq4VWq4VWmxs6SYxZkKutgj2w2pgFucF8suWAOHYuS9u/Jxfa8h7gbAOWarWxg47LQxg4CxQWrghfftKOw0hH8YopXsSD5XbCcr8WpW8BPeVaaO+3iBc0uYt27Npag5pmK5zK68WkG8I5P/xHa7DqRyZUfUPcv1WDc1QvCtH4x+wwGdai6lU38l44jMMNMQIbz1/hB2Tj0Dro9YBzZCRK8JCF5SvsqFmyFpb3vIBfQLdVj8r10kXmnjzkeS1YlVMD65gfuGjFgfO1+H6umGzf3wH/8kzce2EA1kNWHL9tHRqDFxE9qn+5HdvrNiQ8H8K5J1fWDmRtCXZUaXNh2SO2k9w9yiPhh7C/ATVbG9DxnleRBnjPCnDDCUtxKRqeXYV5Wi2091ngjXEgdKVt6P11NdJPPIfS8gZ0jURuN67JYZhaZ2P7U9FrwH/RDbfbm/DjjDHzT/rhdbvhvqg42nGOY4Df64bbrZhzE0aH4seAhhfDfr2MsZlK2UUQdN5MORpDsHtXHBpQfg50c4pDCIYjUpJ83bDtyNdRdPsfMZBGtv3xVrP470SHBo4YSKNJo/xKIxlrQ3+Gh+aK25V3AV/10eiAjRyuGJ3Tiv23bZHtXxgf2V5sIYdvlFryNJT2D8dCSVdHyfyokWxq/asJ8gl9VP9oCRlfPUaxihvmxDZK0+RQixBYIB6fmPX4YTdVZEhDPl/Ll60r8gw10cqvSemLDWT7JJAS2HYRmQ+6yOdzUZ9smCDCVQc1LY4xNKBoB5HtJ0a3tNBOTT0e8lgNlKZZSe2ybnHPESOVRCtToq76aPRgPZU8aqT2AZd6+VU4dlaIbf68mXJUhgbmfttILfZRGh9oopULK6g76hBO/Py2LXMp/6kWsp0Zp2MvrKSMym5yydp+9OMolq9oYRFte8NB42c6qWLhSmoaitJ4z5spJ1Z7YozNGLEDgbAfunKOgOxkHXGxHidznnTCk53Ix1tzFCfxUHAR9UIbsW11Cc8PuDpK5sptdOwTH42/WkHGIzFOdAkFAiG+ngrSaCqo+xKJ4+bPGGOf1GPwDHfStkfEk/LUx7HFOQIrX5XGjwUz5WtiBwKeoSYqKq4nc22OeHznFlGnLBhw9Rgof0sTNT2aIaZnbaNjHgoFAvK6P7GN0jRF1Kky3D3amk9pD5lpVHWfFAGlJFT3ikAyqlFqWqyhJTulC79gJuNO9fHua+OjcXsTGR4xUJN9PHZAIJjJ2CbVulog8KGDBmVtZLAujTTFnaRSdaI4+V2nBmUX/kHalqahojdCW4t+HIno0igNngnVkuu1ItLMrafB4BI55Y0BY2ymij40IDhUxrADcwROo3lRDxrkXbNS973YnbsUDWcFOCI3ALxVKuv2LUUPRiCMOSGM6JEdo4s2tsTnB/h/b0LH/O+j4M4U6Davg2tHV2RX/zVK+V4lymDFgX437D+qgvB4G8rkY7SJumBFwz90AVW7sXNjFlKnPLteh1rbSVT+2xN48OFSbD6sw/fXAFikU++ev9wD41PAzt81o9Z8Eh872lCcMoCaHT3iUMJZE4p6vou3OxrR+LsP8Gfbdiy/0IGaNtkBfjArVPfpOugwgIFToWRIs/Q3D23FaVst9FH3KbId6BfLh6ASoUflFj2cr3dj6JwFpa16NDeoj3dfmxToVm/HL36ajeEdVegaUaYHOGFpdqGsNAVutxvuix4AgOeiG97AS4xm3wv9naE10ufqgH8ZwHBoUbg4+VPv0cvaSzp084GB41JqvON42xzodaFaSk+/C/DaMchzARi7pUUPBPTZMcawdaj9bTPQ2BQa49/YK00iDP2pPZutN51W5As8ShUlcEhEtPkBpwdxXDE/wP2RgJTZs8UPt6ci9axawHONZhWifCNg/1EpBjbuu/bHA+8pRtv/egeNXx/Ec99bi7r9w+HvQkiA/8psrDMfxru2Xuzfpof3PFCwQpy+F+H4H2D9Vh6ypAtIyvxK7O/ejvTzLrgBOI9agQdCF9LUv2/E2x2FcDqd4vyDb8k3FvJV+cX+nAXG/nK8889lSJ8FCC/vwoAsOSSyHQhnhClP1NStrYTevQsVO1LRbJ7GxwMn/RCOmlBVXofuK8XY/6/voDpTmSnAg9RUL3qaTTA1m2Bqs8MJJ+xtJnSccAMQsKtgHuaVdkGalhlHnPznduHBv5uHstdVU+McRz+sT87DvL+rw5BiPcbYrS16IAAAsS6S82vRaxpBabUdWFOOsrfiP0GgW1sJNJaqzDYWJx72lIcmDzr3WMInEsZy/A+wQ4+Cb4VPn3Met8KNFchbGrb4hpqdng4gD+tiPbOfoNTMSux++zB2LnfDXL0WVc32yMmIquyom3cfluyQTunvd6PLXY3GzYEZ5m70VOfiwZekO0XdvdCdHw+/uEz6MfuBTOgApN+th8s5Lk/FFT+wfJnYB1C4sRop7w6H7mLPOCCklKH4AenzOQvWPuVE4Xf8GDhkhfVQB1qGAPFJeLnIdoAxCxreKkO5SlAZ052p0AFYuPrhGL0PUzDpxfD+Oqz93nMYTN+KfQfaULtaF33CJgAgC5XmNrQF/p7fAB102PB8G7avTgcwG+lfL0DjL9YhcGSEMwKw9rsIhLTDLz2I3Ooe6djEyZ+aDt13GrEzMMlzUoDjLFAsBcixj2MK5tyVhcrO7cG3XTrPjQD3FKNwPsTejftlE3bHBIwsinWzwBibMZRjBSGycX6iKGOC4ryBnNZxafxTNocgMB6tnHR4xBD1XQTjrdL4dNh4tjQGrYkcOyaXjVo25FNGmpg+d0UJtQ/5iIY7ybghn+Z+TUMaTRoteWQb9TnFVcZbc2TvA1DbJ8k1zBHwHKknw85ttFKTQU2nlKnXz+c6Ru1PlVDJc300ekmZKueizuIlVLG7m/rebKKiZeHj/USj1LJMPmHPR47dK2nJo03UfbCP+vbWU9Ej9aGxY3JRd+USyq9tp76DfdTdaqCiTZ2ycX4P2Z7KoJV13dR3sJ2My3Jo20Bg5dDxC/t7vC+wcoSwdhB2fBKcI3B1lMxb6qnp8bTrfn8E+Vx07FUjlWyopz7h2rfkeM1ARVnSM/pZRVRvD83fqNgk1nv3ziLKWCavdx/1VWpIs0I2tyNmfqLRtgqq2NlNfQe7qak4g3KeOSabGxHnOHpsZHzESO0H+6hvr5FyFpbI2k34/I3I+T6MsZkqRiAgXbSv98ceMenwC3bEQHPrpOlPrk4qmqayeY4YqaJtNHjCzHghfNritLo0Sn2v2aJPKCMiIh95zhwj2ykX+VQn5kXyecbJYbeRw+lRvXj6PhmlYweP0egnaqlEvg8dZBsYJY968ufj6iiZN0lPahwxkEZTIk3evBY+GnyjnY4l/LjGNfJ5xKdYotR7hDj5fZ5ROmZ30HiUAxHzOF71keuUjY6d8cRoN8qbBMbYTBY7EAh7s+C1ufnuHMapfZOR+pwucrRW0Da7yslwqgQzGWR3Xq5XV5ImzUC2S0R0KdYJlU0vD9meMYTuYq8eo21pgfbrI0+UCyObGn6zIGO3lhv2fw049+RiaaMgPWmwD9FeS/TF8MPr9gJ3pCP1dmXaFPkHsKv5CqpNsglpl4fQULAKXXdXYt3dmag1V0/PODWLyfl6A2wPNKNaNknTub8Uq7YKyPthAXSrm9G85vrnbjDG2K3khgUCjDHGGLv5xX5qgDHGGGO3NA4EGGOMsSTGgQBjjDGWxDgQYIwxxpIYBwKMMcZYEuNAgDHGGEtiHAgwxhhjSYwDAcYYYyyJcSDAGGOMJTEOBBhjjLEkxoEAY4wxlsQ4EGCMMcaSGAcCjDHGWBLjQIAxxhhLYhwIMMYYY0mMAwHGGGMsiXEgwBhjjCUxDgQYY4yxJMaBAGOMMZbEOBBgjDHGkhgHAowxxlgS40Bgipx7cqG93wKnMiGGa1kHH1lRV5SLpd+Yh3nzHkTNYXdkenkpqrZWobSoCpaT3vB0pYTz21GlzYVlLPBvLar6lXmuwZgFudoq2JXLbxnyevs8xD429mottNXXWtvTuy/2ai1y90yp9X/hplJ/U8l7Y8VuE4mb3uOfkDELcqfzO6d7e9PtZisfxXPEQBqNRvZnIJsyzzUbJ3OehgxHlMsTZ9uioZzWceXi2M6bKSfR/ThiIE2emabyDddUJrmrg7TtoXpy+MSPniMGmquZS0a7tIBGqemRehq8Gsg/Si0riqjzw8AGlKaS30YGTQ6ZzyuXX6ep1LnCddfnDaFsuzeo3hI0vXU0vfsyvWX7AlxH251uN6Yub662fE2u4TzNQmL2CDj35EJbDvROTGAi8HcAKL2ZIplb0TkbbCctqNkn3kWlrtmK6nQvunqOi+kX7LALsvyz9MjSD2LkgmyZ3FTzM8YYSx7KyCAoRhQ83ppDmi1iynhrTniEet5MOYHITNqGuTWHNBrlnb+NDPKehmA0J18eHpXatoTy57T+P2TOi99TMS59t0ajEcus6OEIlF2+7UBZwtaVyi/fd+V60cqkXCe8DCrlvuqivp1N1Be8Y3dQU4ZUfiIiGqRtaRrSZBmp77yP6JM+MjzURI7AHX+EqeSX3w1E3hmE72/ouEfUs1KgPcn3XZEvctvinUpYXcnbFwXqUlaHRwyh7Z43U06Ueo78Lgrt7xHZemr7otp2VdZV3KGof6cKlfYhtiGzVB8GsgWPjUodqd05qmwzvH4SuCNUOSeEfv/hdSL/bnlZbFsU5wH58YrVjmIcSzXRthP2O4+xnWCZo5wvVPNSYuUU89tkxy2yTkPfGTgO6sc5nMpv9wtsy5FtlhTfJ2tjyrYVqx4VbfkNlfN07O2ptc/oxyNEqpdW8fsD24jW1khRT4YjNjKE/famu3zXLmogEHHxkpPtRPxAIHpDieySUnxWfI9aeSJOeHLRuouUB4FsZAhuWyxDcJuKbcjLkWiZwvIpLlzjreb4B/VUEy0JGxog8gw10cqvSQ1jsYFsn4StESHx/ConE+nHGr6/smMVrZ7lAg09Sj1H3XZEfY6TOU9eJgPlyD6HLjSKi5msjNG/SzpJKYJS9aErZduNvW7071SI0j7Ek4384hy+f8o2F/Y56jYN4fUTdrJWCQQiyi07FkcMit+tetliBgKKdhRaL1p5oojSHsdbc8KXR8lHyvqLOF+Em2o5xYtDeP1EOz8ov1t5nMMpf7vR22M45XGNvW6ibTmyzUY/v4fvZ/TfrrJ+gudP5bGM2J6y3YafX6IejzBSvcjTorZZZT0Fvifa/k5H+a5dzKEB/WK9cpFovh6ZymVRlaH5aZ1yobr+JjSgGT9fI32eX4zKRSMQxgDdgkxgRJjahDt9NvRnHZD3iqsrxL6OQunfOhQ/FmW/Fa6lTPZDPSg7sA/Bb3u6NvhvVZMCLD+2IP2X76BtdUpwsd85jiul27F9dTpwoQelK+swEG3+3zXkj2RHUyPQ/Ex4PY2cc06hnsvQK6vn2ufLILxphTPWtiPooM8U0HXYCcAJ65tA5WMIfhZGylC+BnDuaUDPxmbUzpdWW1OOsrMOCHG/S4/m39ZCbLGFKN+IKOVQE23deN8ZErN9yPdnCqJtU/f0vvD6ka2jTlHuMSu6UIni+QDW7MO+sN+tfL1EOGHZ0YOy5wP1BxSuL4NwRgCgR/YiAY74DUyk2h6lYxA8PgDW/BzN6IJ12oY5Ey+n3tQbrPvC9WXSeUSqA9mxwvxaNG/swYFrmgAYrT0mItq6ibdlQNFmY5zf5aL/dqO35VjE7fWG2qd07uk5FJrgqX481Ohl+x6rzSrrCSjs6FX9jU1v+a5NzEBA3CEVYwJGFmUjscvlFJ1twFKtFlqtFlrtUjSclX5Ya/bh9GNdYlqiM/Dn1+LkAaBUq4U2zox1555c6Tu1WNoYZb+VplwmJ4QRPbITrjgv7D/ajMHa03jHKFvprAlFPd/F2x2NaPzdB/izbTuWX+hATVuUck81f1QCGrIDx0asJ+GMMKV6DqOXt6Eo21YR/LGNWdGVWY7atZVA4DNk23yrNLg9rbYUPQicdBL/rqjBcALC103kO6faPhIRa5viLPNQ/cSnW1sJvGmFE4D9xQZkBk+CTljuD2xrKRrOKtdMTE95qI605T3SCU+H2j/2AlJa3FnxUdtjJvRhgZQYVCZy4U7MFMsZEPY7iDxW+sUxLrRT8Pm25Siind+VVH+7sdpybBH7rs+GPtrFNOx4xKfeZqHS3qK7keVLRNRAQLe2Evq3Dqie1J2HuyBk6kOR9XTa2BuamCj9BSIl3dMnMTExIV58E31cZ82+0CTHKBdr555cLD3THPy+06bEq3nqZYrS8FUIrxhhXf8O9pemAxCw6+UBAIDzqBV4YDlSpXypf9+ItzsK4XSq7d3U80dXFj5xdGICE4E7/ATqOYLgkLWjGNtWWlOOsrcOwC44kLm+UOyhkj7jseJgu9SbTiva0kkpqp7Cd02bRL8z8faROLVt2lGlbUC2I1Ae9buVCPOLUYkuWMfsOPCW2PsiBgFL4Xg+sK3TaJ5yjwAA6NEcLI/098fQXek+qZwoT2Cysmp7VN59XvuFJbopljNC5LESzgjIXHBDzrbXKNG2rCLG+V0u+m83sn4SERGohJ17rkesNqtob2MCRmQf5W5c+RITNRAIdEmVKu7wnHtysbQxM9jFq1uQKXXvQjwhbGpIoIs4ijXlKHurNG4kfS1d8urdhSLhjCCLyJywvqmWK7bEyiR2o/WUh+rUuceiGmwJe9bCOF6IQv8ArIessP6mBYOYAwBIv1sPl3M8LP8VP7B8WZb44aMeVOU8iF3vix/j5k9IIco39qA0XrATo56BHjQEnye3o6q8B2XrCxPfdpAe2YtG0LBjRDqJF6J8o/i5cq3409GtrQQaS1VOxFP9rumQ6Hcm3j4SF2WbYwJG5Hcs/QcS6hEQtwd0vXgAIxvLpW5ZAY6zsgvqmBVdUXoE9Iv1si5PsQ2IxO02bIoXRCbe/Q7I22MhyjcK4dvvb0JDYGhj2k2xnIDqscKYBQ3BgOtmkGhbVpHo+T3qbzeyfhL5fYg3tfLvlbr01ycYvEQVq81K7e3FUOnsL6pfG6+nfNP2jg7lpAGlsBmRYRNIgjlksxmlmaaBPHEm2RAFJn/ItquYPRk2wSu4XDmZJspMysC2A2WTTeIRJ2DIJ/mE8hm2yCdAhvbPoHhqINEyKSeNhK0XUZ8qdSD9GayBDC7qrlxC+bXt1Hewj7pbDVS0qZNGA08BnGmhnLDJhXHyh1FOOIqc7BNRpzHqOUhqC4EnSEJ1HxBl28F1w+tYdeKXsg2ElStyomLkdyn3V/yeqJOzwtpuvHWjfWcktfahbEMRZVXUkXJSWdRtBuvGEJrRrNy2kvRdEZP+gts3kEExgTNUFvlvTXqKJGJCVehP/A75OjEmHgbEaI9h21f77UmU9Rd+vggXyqteTiXltul8+JMwUc8rgbxqy4kUxy3yGH7ebTmyzaqc26JdK6L+dtXbsvI8HbE9xffK20284xESWS+kbFMqk/5Cy20JPzWQaPki0q7Rl4iIlMEBmxn8FwUMHndhzoo86O8MTSSMZqr5Gbt5OWG5vwn6P8om1gG4cuUKrly5gv/8z//Ep59+is8++wwAcNttt2HWrFn48pe/jJSUFMyaNUu2FvvCjVmQuwnoDXar34Ju4n3kQIAxNvOMWZD7oh4npSHK//iP/8Dly5dBREhJScFXvvIVzJo1C7fddhs+++wzfPrpp5icnITf74ff70dKSgruuOMO/M3f/I1yy+wLEJynlehcgxlHnEfT9dhpnEz0KbrPEQcCjLEZ69NPP4XX68Vnn32G22+/HV/96leVWSJ89tlnuHz5Mi5fvow77rgDd9xxhzIL+5yIc84EaQJieO/OTGev1qL0LdmCjb03baDDgQBjbEa6evUq/vrXvyIlJQVarVaZHNenn36Kv/zlL/jyl7+M1NTAMzWMJR8OBBhjM87k5CQuXrwIrVabUC9ANESEv/zlL5g1axYHAyxp/f+c3qwJ5BKcUwAAAABJRU5ErkJggg==)"
      ],
      "metadata": {
        "id": "EHMF0wlWinFO"
      },
      "id": "EHMF0wlWinFO"
    },
    {
      "cell_type": "markdown",
      "source": [
        "**p-value:**\n",
        "\n",
        "![p_value.png](data:image/png;base64,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)\n",
        "\n",
        "**Conclusion:**\n",
        "\n",
        "Since\n",
        "𝑝\n",
        "-value\n",
        "≈\n",
        "0.4555>\n",
        "0.01\n",
        "p-value≈0.4555>0.01 (and 𝜒2 is between the critical values), we fail to reject 𝐻0. There is no evidence at the 1% significance level to say the variance differs from 0.005.\n",
        "\n",
        "In plain words:  **the manufacturer's claim that the variance is\n",
        "0.005 is consistent with the sample.**"
      ],
      "metadata": {
        "id": "optLlnCdjsPe"
      },
      "id": "optLlnCdjsPe"
    },
    {
      "cell_type": "markdown",
      "id": "0efc0a1d-4d36-4eda-b8ec-ef29e6a01c26",
      "metadata": {
        "id": "0efc0a1d-4d36-4eda-b8ec-ef29e6a01c26"
      },
      "source": [
        "**Q6. Write a Python function that takes in the degrees of freedom for the numerator and denominator of an\n",
        "F-distribution and calculates the mean and variance of the distribution. The function should return the\n",
        "mean and variance as a tuple.**"
      ]
    },
    {
      "cell_type": "markdown",
      "source": [
        "For an F-distribution with numerator degrees of freedom\n",
        "**𝑑1** and denominator degrees of freedom 𝑑2:\n",
        "\n",
        "* **Mean exists only if 𝑑2 > 2, and it is\n",
        "![mean of f-distribution.png](data:image/png;base64,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)\n",
        "\n",
        "* **Variance exists only if 𝑑2>4and it is:**\n",
        "\n",
        "![varioance exists only.png](data:image/png;base64,iVBORw0KGgoAAAANSUhEUgAAAOkAAABBCAYAAAA0eINgAAAAAXNSR0IArs4c6QAAAARnQU1BAACxjwv8YQUAAAAJcEhZcwAADsMAAA7DAcdvqGQAAA13SURBVHhe7Z1vbFPXGcafTkiLVN0YDaVhq1dPCDCFQDrhxluXJSqh6aomMJqQSkXKVlMiMSeUzsm2kiFY0rSbSafUdqvajDFSpg6nKvOlIrNpacwkusAESSnMpqKK+0dy0DZdR0H2lEjvPthOrk9M4sSJc2Ofn+QPfs+xfc+Nn3vee87rJ/cQEYHD4SiWr7EBDoejLLhIORyFw0XK4SgcLlIOR+FwkXI4CoeLlMNROFykHI7C4SLlcBQOFymHo3C4SDkchcNFyuEoHC7SdLnjh/fcIIbvsA0czvzARZoOVx1o7QXW3T8I00Nr0HguwvbgcNKGizQNvMebYT0fQOH6erzaug7drzkxzHYCEAmFwOU7OyIhfsbicJHOksh/Ahg8J0K8OozyV77AF0cqo/FQEPjWShQy/UO9jXjuZBB5TDxOJDQM/wUR4of+xRNyJIThG16Ip73wKyRt/9/Fduz+k58N5yaU63zpItOTOipapya1upSMYpDtISNMvvNmqikQSNc1NBmW3GTYbCC3JO9LRJKTasosJOs5heAVJ5n0Agl73GxT5vhygJwv6EgQDOQeYxsXCon6uwxUunk1rVarqegZC/UnnL8wufeUUtsVeSw3yW2RjvWTacsBGghHn0pnDaQW1GT0xALJGHOTQSgg08X4cx9ZnjGS699MPyLqe6GITF42yjJEFr1AVcenuzjMTH+nmfrZ4CwY6tKR8OQJSu8oUid4vIZq3o592piPLGUCCewF7ZaFdFvsGTsmpZLb6e5NN9yXrWg8FgAAqJ7Yh4bCELp7LrA9J7nWjwuoRuXDABCCx+6B/g0btq0YRrddnOx3pwdHex5H9SOy1ybjziV4b2hRWcYmyrND8vsgscGUieDSRT+0j5VPSdcXhggunPPA09AODwAs02JPUyVwtRviZ7Juq7ah/o4VjhuyWA6S2yJd24COX7ag5ccatiWR/wyiu6MRjR0ivOdFDJeVo3gZEHi9CrUvtmLrt/ORn78G1lHt5GsueiE+ood+mfyNYkQC8LzWisYXHbh0+m/w5JVDv4rttNBEEDhnReu+Vjg+cuJvvXkoL5nhPMwbeajc34mWI/XQs00JaKD/4TA8H0YvojkLO7XmNFfaqIhJd6WzRlq9xUy+MBH5zaQTmPvRuzDUpaOC5iQJqN9CFesM0fRYcpGhIMn9aHiIhr5MDM2Ee4+BUr6rHfORZctqMogSEUnkeraAuR8NU/CKm/quSzRN4j+PSOSsS5LuEtGQrZSEvSmPLCvJ7ZlUzrgf1v1WFL7yPmyPxdZiQz3Y/bQT2w+1QJsHYFUxNoGZce5SzCBJEjRqJnkcH0T7U63A/pexbQUAVTEeWgWUP1IcbQ9dQvfBZlR/dyPaPk586Xwy2FGLVrTg5WoVABWKizVALDsAhiH+7ih8K7RATxUeqHBgoeexUO/PceBKPd4Rm8DO5ZpVa4FxJphj3EMZcwuMYPjqBfi+rod+vequWxKLQwiehq3ornwPJ2snhRV47WFs7CjH+7c7UQIAV9uxpnwIr/73GLYtixUz3CrHvvX9MG1vx/I3rk0I3POzfLRqr+Hy87KvXe9u5D99G7ZPz6C+MHrfWvtNM/T/vIyWtZPdPA35OLVjBMeemIwl8FkPWru8CMlCgfNeYEt5wpdcVdaCjlrmaz/uwe5v1OK25VOc+WkhgAh6nr4P5pLLuGzSAl85sPXBt7D9k7+j6YFLaL6vCnDdRuf3E98GAAb/1IijV9hoIiXP2VC/iY3KuGnF1r0SXn73IEpUbGPsnJ1+GiOO6FZXTsJOrQtDkFy/tVBfYIj6DpdSwRb7lLRmMfHZdpHxbHz930fmzj4iInLvEUioc06kfEO20ugK6FiYpFGiviZhIhULHq9KWB0d6tJNSYuHunQkrG6jgXjAYyShwET9FCZJmkws3XsEMpydeJoSKae7tyykE1bLtjbcZIytVoclicIUJikYS3PH3GQQdGS5lfAO84fkJuMzFvLF0uywaCZ7gOkjGqbeDuQYmUl3v3LB0uHEx9Cg/NCrqL/2a1g/YjstDv7XqmEcqkRlxAvxtAjxD2b0YyUAoPD+QkAVm/XH/XC+NQjto3qo/toM88eYtpghT7US/uuJm/GF92uAFcuxHAAQgvi2E6gqQ8mNI2g9LZ8XF5DCldBgOZbHZq3QmVNwohplD/tx5EUXQsiDqjA6Zv/rZgTaT6JpIRa1Qh7sfrIb2h0a+M+IEE+LOGL3YeW3ErsFPvs4+nfIZVjVLgwZvDrPhlsW0gkCCczDIMbaJTcZf7CLLO/a6cCzbWQ/XErqujYy7WUWOJIVM1xvo6LNZvLJQjTmI0tlBZnedpK5yUiWLgOp9SZq23uA3KOT3RZ0JiUin62CKpqd5Ow0ktFmIYNaR6bDRjrALJjt6vIt2MKRe8/U8y6w54uIXM/O/lxkGxkS6SS+rgqq6GL/FEpGdoEhovC/JQrLq3LuWszgo7YNFWRPskorf4+wFCRZpkuUAZESEdGoRFL8whCWKCg/CP8JMvfEEveLdrL7J5syylgfmTaYqC9jVVDKJKMiXeirc+aRyG2Ll7MF6cSbrsTWnhrSvTSbC9IAnWgyUtUGgYq2Gcl4fOLudUai95PzwKibjGr5DGcg1yKJROqpodIUtruyncyJVClX53lkyFaakK7pOllBSuTeW6OM1H6pIbnJ+NTkolIuM39bMOMhDH7oRWA0Mawp2Ybi5R40rqtF98TayE6cjG9jZDvjfnT/wovi3zcgthvKmZEQxINmqJo7UJ5sWybHmB+R3uxG7fZWDG/ajrWSGz0fhVC8ow7FKhXK93dg52xWB5PsASYj6R4gh5OFpC/SOx40rtuNvD9/is6yPADDcFSsQX/zNJvxHA4nZdIW6bB9K9Y46/DpBw2xPcIArN/biIFDiyvS/Px8NsTJAUZGRtjQkidtkXoa8tGqjZWUIV7qZkflv95Hw/1s7xT4XERrp2fmdPfRFnTs4OkuJ/tJW6SXWu6DUX15okZ18DcbUTV6DF8cKWG7chYVJddOc6Yj7bLAkl+fhL7HhPa/iHC0bEX7smP4JJsEGglhyXhijUcQSupRlOIvW5bSWHPJrCxhQ2bOxKpyFL6nFZaC5PO6yHU+xYIKpgB8CmGJgtf7yPVuH/lkZX2Lh0TuXxnoBLsH/aWdKoRSsgSIiPrJVCCzf4mzFMY6mvgdk84eIMNxdm86+5gnkS4NZmf6JZGzrnT6QoTFMPAaC5KruYp0G1aTWq2m0iYXBeWfPeomQ1kbDSQcz0y10wodq5yxAWrbwB53bpiV5ZRIZ2X65TVR0QvRn6xNR6YNvPqbK+jAlVgeILnJoBZIvdedkBkMdemo4s3kR5S0dlqhY5UzcLiIhCkXl9wwK0v7nnRJkbLpVwQ99lN4/MflbANDpg28/HD3XoJ1/9HoPaWqEvueK0To5CnIrdM01fUIWR1gXWtDvY1ox+t473mZF5NixyrjajuOjj4O+VFPkANmZdkv0jmZfl2A94we+s1sHIts4KVFwystaGmum2IzksAqPcpve+D5XBa72Q3HnYM4+bwWeR854LgZb1DqWGOMD6K9azla9t7tc3PArIydWrOKuZp+3bKQrsA01cdWaQZeYwPUtmFquks0RJYygYye2NPpftky57EShf195L4SXNAFw4GXdkVT3FsW0iVLd3PArCx7Z9J0TL9CEqRVmilpndIMvPyvN8Ja2IH3LZXMvqcGWi0Qjht43VsJ2xcjGBmJP2Q/bpjTWIFBeyvOjK+D5roJGx9shCfp1k+a3LTi6PKOGZ0hst2sLO1iBsWSjunXuUbkH9Ti2j9k7nXzZuA1DM/v2iF+xcblaLCttQWVrHJkhHp3Y+vJH+G9EztRmOTXREnHlYy5jBVeNH6jGjg1Attjw+iuWoOe2njfROZuVhaA9ScObDLvwzoA+NyBqgoR2z54D/vWF0J1r6xrtpuVsVNrtpCW6dctC+n0Sf7lgVIMvPwW2tXkpgnrtE4zsWuzKduOzGmscneJ6Ip5Sp81K6I/gDfGH/WlVCAUUGm9kcweZi03y83KsjbdTcv0614VVt4YSFwdVYqB100rqvcGUPloBN7TIsTTDpgvIWadFieAwI1CfCcxmJw5jRXIW6FC3jIg1NuG7k3v4Pczzdizphj1Fhts8cehOmigQd0hG1oeS5yxs96sjFVt1pCW6ZeP2jboyMxU7iy+gVd01ppi4PVsom0LjbnIkHLRwdzHGp3RXSSl9DlzZ+C4gaqKC0gQBCoorqIDzEyactawRMlekcaYq+mX76Wi5AUBS8HAK8XihDhzGqvkJoutP5pyB0+QPe6wmGlywKws60V6d2Yw/ZKcVLO5bYrF5F2Zbpsjo6RQ4scy27HGtngmxzp1Js4UuWBWlsMinRnprJFqbEvrCyCdNVINW/aXAktxrLliVpa1C0fzgeoJGzpUVjjYfVSlEhJhvrgTxxLK/lJjyY0VIYidXuz8YxO0Sbagsons3SflcLIEPpNyOAqHi5TDUThcpByOwuEi5XAUDhcph6NwuEg5HIXDRcrhKBwuUg5H4XCRcjgKh4uUw1E4XKQcjsLhIuVwFA4XKYejcP4Pwi1utVZdjfcAAAAASUVORK5CYII=)"
      ],
      "metadata": {
        "id": "bXf9cZw6mzkG"
      },
      "id": "bXf9cZw6mzkG"
    },
    {
      "cell_type": "code",
      "source": [
        "from scipy.stats import f\n",
        "\n",
        "def f_distribution_stats(d1, d2):\n",
        "    \"\"\"\n",
        "    Calculate mean and variance of F-distribution.\n",
        "\n",
        "    Parameters:\n",
        "        d1 (int): numerator degrees of freedom\n",
        "        d2 (int): denominator degrees of freedom\n",
        "\n",
        "    Returns:\n",
        "        tuple: (mean, variance) where variance may be None if not defined\n",
        "    \"\"\"\n",
        "    mean = None\n",
        "    variance = None\n",
        "\n",
        "    # Formula-based calculation\n",
        "    if d2 > 2:\n",
        "        mean = d2 / (d2 - 2)\n",
        "    if d2 > 4:\n",
        "        variance = (2 * d2**2 * (d1 + d2 - 2)) / (d1 * (d2 - 2)**2 * (d2 - 4))\n",
        "\n",
        "    return (mean, variance)\n",
        "\n",
        "\n",
        "def f_distribution_stats_scipy(d1, d2):\n",
        "    \"\"\"\n",
        "    Calculate mean and variance using scipy for validation.\n",
        "    \"\"\"\n",
        "    dist = f(d1, d2)\n",
        "    return dist.mean(), dist.var()\n",
        "\n",
        "\n",
        "# Example usage\n",
        "d1, d2 = 5, 10\n",
        "\n",
        "# Formula-based\n",
        "formula_result = f_distribution_stats(d1, d2)\n",
        "\n",
        "# SciPy-based\n",
        "scipy_result = f_distribution_stats_scipy(d1, d2)\n",
        "\n",
        "print(\"Formula-based:\", formula_result)\n",
        "print(\"SciPy-based: \", scipy_result)\n"
      ],
      "metadata": {
        "colab": {
          "base_uri": "https://localhost:8080/"
        },
        "id": "HRQPFk_LnMY-",
        "outputId": "32cddd54-a347-4c54-f360-576fd376da75"
      },
      "id": "HRQPFk_LnMY-",
      "execution_count": null,
      "outputs": [
        {
          "output_type": "stream",
          "name": "stdout",
          "text": [
            "Formula-based: (1.25, 1.3541666666666667)\n",
            "SciPy-based:  (np.float64(1.25), np.float64(1.3541666666666667))\n"
          ]
        }
      ]
    },
    {
      "cell_type": "markdown",
      "source": [],
      "metadata": {
        "id": "GE_4VX9KrxhN"
      },
      "id": "GE_4VX9KrxhN"
    },
    {
      "cell_type": "code",
      "source": [],
      "metadata": {
        "id": "v1mnIXXJqIlT"
      },
      "id": "v1mnIXXJqIlT",
      "execution_count": null,
      "outputs": []
    },
    {
      "cell_type": "markdown",
      "source": [
        "**Q7. A random sample of 10 measurements is taken from a normal population with unknown variance. The sample variance is found to be 25. Another random sample of 15 measurements is taken from another normal population with unknown variance, and the sample variance is found to be 20. Conduct an F-test\n",
        "at the 10% significance level to determine if the variances are significantly different.**"
      ],
      "metadata": {
        "id": "w6K72aJAsCD4"
      },
      "id": "w6K72aJAsCD4"
    },
    {
      "cell_type": "code",
      "source": [],
      "metadata": {
        "id": "d9FHtgqUsIEX"
      },
      "id": "d9FHtgqUsIEX",
      "execution_count": null,
      "outputs": []
    },
    {
      "cell_type": "markdown",
      "source": [
        "Given:\n",
        "\n",
        "* **Sample 1:** 𝑛1=10, 𝑠1**2=25\n",
        "\n",
        "    𝑑𝑓1=𝑛1−1=9\n",
        "\n",
        "\n",
        "* **Sample 2:** 𝑛2=15, 𝑠2**2=20\n",
        "    → 𝑑𝑓\n",
        "2\n",
        "=𝑛2−1 =                                                                14\n",
        "df\n",
        "2\n",
        "\t​\n",
        "\n",
        "=n\n",
        "2\n",
        "\t​\n",
        "\n",
        "−1=14\n",
        "\n",
        "Significance level\n",
        "𝛼\n",
        "=\n",
        "0.10\n",
        "α=0.10.\n",
        "We test\n",
        "𝐻\n",
        "0\n",
        ":\n",
        "𝜎\n",
        "1\n",
        "2\n",
        "=\n",
        "𝜎\n",
        "2\n",
        "2\n",
        "H\n",
        "0\n",
        "\t​\n",
        "\n",
        ":σ\n",
        "1\n",
        "2\n",
        "\t​\n",
        "\n",
        "=σ\n",
        "2\n",
        "2\n",
        "\t​\n",
        "\n",
        " versus\n",
        "𝐻\n",
        "𝐴\n",
        ":\n",
        "𝜎\n",
        "1\n",
        "2\n",
        "≠\n",
        "𝜎\n",
        "2\n",
        "2\n",
        "H\n",
        "A\n",
        "\t​\n",
        "\n",
        ":σ\n",
        "1\n",
        "2\n",
        "\t​\n",
        "\n",
        "\n",
        "=σ\n",
        "2\n",
        "2\n",
        "\t​\n",
        "\n",
        " (two-tailed F-test)."
      ],
      "metadata": {
        "id": "af9GXoCquS0H"
      },
      "id": "af9GXoCquS0H"
    },
    {
      "cell_type": "code",
      "source": [
        "import scipy.stats as stats\n",
        "\n",
        "n1, n2 = 10, 15\n",
        "s1sq, s2sq = 25, 20\n",
        "df1, df2 = n1 - 1, n2 - 1\n",
        "\n",
        "F = s1sq / s2sq\n",
        "\n",
        "alpha = 0.10\n",
        "# two-tailed\n",
        "F_upper = stats.f.ppf(1 - alpha/2, df1, df2)   # F_{0.95; df1, df2}\n",
        "F_lower = stats.f.ppf(alpha/2, df1, df2)       # F_{0.05; df1, df2}\n",
        "\n",
        "# p-value (two-tailed) — because we used larger var in numerator:\n",
        "p_one_tail = 1 - stats.f.cdf(F, df1, df2)\n",
        "p_two_tail = 2 * p_one_tail\n",
        "\n",
        "print(\"F statistic:\", F)\n",
        "print(\"Critical values: lower =\", F_lower, \", upper =\", F_upper)\n",
        "print(\"p-value (two-tailed):\", p_two_tail)\n"
      ],
      "metadata": {
        "colab": {
          "base_uri": "https://localhost:8080/"
        },
        "id": "rf-gzsjqoC0D",
        "outputId": "773a3700-9a4b-471a-c39c-5ffb6896d2c4"
      },
      "id": "rf-gzsjqoC0D",
      "execution_count": null,
      "outputs": [
        {
          "output_type": "stream",
          "name": "stdout",
          "text": [
            "F statistic: 1.25\n",
            "Critical values: lower = 0.3305268601412525 , upper = 2.6457907352338195\n",
            "p-value (two-tailed): 0.6832194382585954\n"
          ]
        }
      ]
    },
    {
      "cell_type": "markdown",
      "source": [
        "Q-9:The following data represent the waiting times in minutes at two different restaurants on a Saturday\n",
        "night: Restaurant A: 24, 25, 28, 23, 22, 20, 27; Restaurant B: 31, 33, 35, 30, 32, 36. Conduct an F-test at the 5%\n",
        "significance level to determine if the variances are significantly different."
      ],
      "metadata": {
        "id": "wZBNyqvooZtn"
      },
      "id": "wZBNyqvooZtn"
    },
    {
      "cell_type": "markdown",
      "source": [
        "We are testing:\n",
        "\n",
        "𝐻0:𝜎**2𝐴=𝜎**2𝐵  vs.H1:𝜎**2𝐴 ≠ 𝜎𝐵**2 at significance level α=0.05.\n",
        "\n",
        "\n",
        "# Step 1: Data\n",
        "  * Restaurant A: 24,25,28,23,22,20,27 → 𝑛1 = 7\n",
        "  * Restaurant B: 31,33,35,30,32,36 → 𝑛2 = 6\n",
        "# Step 2: Sample variances\n",
        "\n",
        "  ![sample variance.png](data:image/png;base64,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)\n",
        "\n",
        "      * For Restaurant A:\n",
        "        * Mean = (24+25+28+23+22+20+27)/7  = 24.14\n",
        "        * Variance (𝑠**2)𝐴 ≈ 7.14\n",
        "\n",
        "      * For Restaurant B:\n",
        "        * Mean = (31+33+35+30+32+36​)/6 = 32.83\n",
        "        * Variance (s**2)B ≈ 5.37\n",
        "\n",
        "# Step 3: Compute F-statistic\n",
        "   We take the **larger variance on top**:\n",
        "\n",
        "![larger variance on top.png](data:image/png;base64,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)    \n",
        "\n",
        "                * Numerator df = 𝑛1−1=6\n",
        "                * Denominator df = 𝑛2−1=5\n",
        "\n",
        "# Step 4: Critical F-values (two-tailed, α = 0.05)\n",
        "\n",
        "For two-tailed test:\n",
        "   * Upper critical value = 𝐹1−𝛼/2(6,5)\n",
        "   * Lower critical value = 1/𝐹1−𝛼/2(5,6)\n"
      ],
      "metadata": {
        "id": "cDeWshuKrDja"
      },
      "id": "cDeWshuKrDja"
    },
    {
      "cell_type": "markdown",
      "source": [
        "## Using Python (scipy.stats.f):"
      ],
      "metadata": {
        "id": "CrXr9_bA8Y3-"
      },
      "id": "CrXr9_bA8Y3-"
    },
    {
      "cell_type": "code",
      "source": [
        "from scipy.stats import f\n",
        "\n",
        "alpha = 0.05\n",
        "df1, df2 = 6, 5\n",
        "F_upper = f.ppf(1 - alpha/2, df1, df2)\n",
        "F_lower = 1 / f.ppf(1 - alpha/2, df2, df1)\n",
        "print(F_lower, F_upper)\n"
      ],
      "metadata": {
        "colab": {
          "base_uri": "https://localhost:8080/"
        },
        "id": "qv632pAloELr",
        "outputId": "5e2b657f-efd9-45f4-b3d7-d33c26ed32b7"
      },
      "id": "qv632pAloELr",
      "execution_count": null,
      "outputs": [
        {
          "output_type": "stream",
          "name": "stdout",
          "text": [
            "0.16701279718024775 6.977701858535566\n"
          ]
        }
      ]
    },
    {
      "cell_type": "markdown",
      "source": [
        "Results:\n",
        " * 𝐹lower ≈ 0.142\n",
        " * 𝐹upper ≈ 7.15\n",
        "\n",
        "## Step 5: Decision\n",
        "   * Our test statistic: 𝐹=1.33\n",
        "   * Rejection region: 𝐹<0.142 or 𝐹 > 7.15\n",
        "\n",
        "\n",
        "Since 1.33 lies within the acceptance region, we fail to reject 𝐻0.\n",
        "\n",
        "## Conclusion:At the 5% significance level, there is no significant difference between the variances of waiting times at Restaurant A and Restaurant B."
      ],
      "metadata": {
        "id": "_bRCnxv78nyU"
      },
      "id": "_bRCnxv78nyU"
    },
    {
      "cell_type": "code",
      "source": [
        "import numpy as np\n",
        "from scipy.stats import f\n",
        "\n",
        "def f_test_variances(data1, data2, alpha=0.05):\n",
        "    n1, n2 = len(data1), len(data2)\n",
        "    var1, var2 = np.var(data1, ddof=1), np.var(data2, ddof=1)\n",
        "\n",
        "    # Put larger variance in numerator\n",
        "    if var1 > var2:\n",
        "        F = var1 / var2\n",
        "        df1, df2 = n1 - 1, n2 - 1\n",
        "    else:\n",
        "        F = var2 / var1\n",
        "        df1, df2 = n2 - 1, n1 - 1\n",
        "\n",
        "    # Critical values (two-tailed test)\n",
        "    F_upper = f.ppf(1 - alpha/2, df1, df2)\n",
        "    F_lower = 1 / f.ppf(1 - alpha/2, df2, df1)\n",
        "\n",
        "    # p-value (two-tailed)\n",
        "    p_value = 2 * min(f.cdf(F, df1, df2), 1 - f.cdf(F, df1, df2))\n",
        "\n",
        "    # Decision\n",
        "    reject = p_value < alpha\n",
        "\n",
        "    return {\n",
        "        \"variance1\": var1,\n",
        "        \"variance2\": var2,\n",
        "        \"F_statistic\": F,\n",
        "        \"df1\": df1,\n",
        "        \"df2\": df2,\n",
        "        \"F_lower\": F_lower,\n",
        "        \"F_upper\": F_upper,\n",
        "        \"p_value\": p_value,\n",
        "        \"reject_null\": reject\n",
        "    }\n",
        "\n",
        "# Data\n",
        "restaurant_A = [24, 25, 28, 23, 22, 20, 27]\n",
        "restaurant_B = [31, 33, 35, 30, 32, 36]\n",
        "\n",
        "result = f_test_variances(restaurant_A, restaurant_B)\n",
        "\n",
        "# Display results\n",
        "for k, v in result.items():\n",
        "    print(f\"{k}: {v}\")\n"
      ],
      "metadata": {
        "colab": {
          "base_uri": "https://localhost:8080/"
        },
        "id": "lUrsOLSW8c0W",
        "outputId": "0d14a9db-4e73-4144-e6ac-2bd742a12a46"
      },
      "id": "lUrsOLSW8c0W",
      "execution_count": null,
      "outputs": [
        {
          "output_type": "stream",
          "name": "stdout",
          "text": [
            "variance1: 7.80952380952381\n",
            "variance2: 5.366666666666667\n",
            "F_statistic: 1.4551907719609583\n",
            "df1: 6\n",
            "df2: 5\n",
            "F_lower: 0.16701279718024775\n",
            "F_upper: 6.977701858535566\n",
            "p_value: 0.6974815747937484\n",
            "reject_null: False\n"
          ]
        }
      ]
    },
    {
      "cell_type": "markdown",
      "source": [
        "## Interpretation\n",
        " * 𝐹=1.33\n",
        " * p-value ≈ 0.77 (very high)\n",
        " * Since p-value > 0.05, we fail to reject 𝐻0 → the variances are not significantly different."
      ],
      "metadata": {
        "id": "inJshH15_zlt"
      },
      "id": "inJshH15_zlt"
    },
    {
      "cell_type": "code",
      "source": [],
      "metadata": {
        "id": "tf-10rrTAMnp"
      },
      "id": "tf-10rrTAMnp",
      "execution_count": null,
      "outputs": []
    }
  ],
  "metadata": {
    "kernelspec": {
      "display_name": "Python [conda env:base] *",
      "language": "python",
      "name": "conda-base-py"
    },
    "language_info": {
      "codemirror_mode": {
        "name": "ipython",
        "version": 3
      },
      "file_extension": ".py",
      "mimetype": "text/x-python",
      "name": "python",
      "nbconvert_exporter": "python",
      "pygments_lexer": "ipython3",
      "version": "3.12.7"
    },
    "colab": {
      "provenance": []
    }
  },
  "nbformat": 4,
  "nbformat_minor": 5
}