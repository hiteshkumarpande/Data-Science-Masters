{
 "cells": [
  {
   "cell_type": "markdown",
   "id": "0327fcbb-1e31-44ca-8f3e-3aff64d7bfdb",
   "metadata": {},
   "source": [
    "Q-1: what is a database ? differentiate between SQL and NOSQL ?"
   ]
  },
  {
   "cell_type": "raw",
   "id": "9c241035-1cf5-46cb-bd11-74c8cfac1786",
   "metadata": {},
   "source": [
    "A database is a structured collection of data that is organized in a way that makes it easy to manage, update, retrieve, and store information. Databases play a crucial role in storing and managing data for various applications, ranging from simple data storage to complex business applications.\n",
    "\n",
    "There are two main types of databases: SQL (relational) databases and NoSQL (non-relational) databases. Here's a brief differentiation between SQL and NoSQL databases:\n",
    "\n"
   ]
  },
  {
   "cell_type": "raw",
   "id": "524127f9-d464-4b93-8389-ea104290ff5f",
   "metadata": {},
   "source": [
    "1) SQL databases are relational, and NoSQL databases are non-relational.\n",
    "\n",
    "2) SQL databases use structured query language (SQL) and have a predefined schema. NoSQL databases have dynamic schemas for unstructured data.\n",
    "\n",
    "3) SQL databases are vertically scalable, while NoSQL databases are horizontally scalable.\n",
    "\n",
    "4) SQL databases are table-based, while NoSQL databases are document, key-value, graph, or wide-column stores.\n",
    "\n",
    "5) SQL databases are better for multi-row transactions, while NoSQL is better for unstructured data like documents or JSON."
   ]
  },
  {
   "cell_type": "raw",
   "id": "9110cf8d-e258-4d87-8204-bf15caf30ee4",
   "metadata": {},
   "source": [
    "EXAMPLE of SQL are: MySQL, PostgreSQL, SQLite, Oracle, Microsoft SQL Server.\n",
    "\n",
    "EXAMPLE of NOSQL are: MongoDB, Cassandra, CouchDB, Redis, Neo4j."
   ]
  },
  {
   "cell_type": "markdown",
   "id": "25241eb0-7642-4ecc-b8e8-61d6dc9c96bf",
   "metadata": {},
   "source": [
    "# Q-2: What is DDL ? Explain why CREATE, DROP , ALTER and TRUNCATE?"
   ]
  },
  {
   "cell_type": "raw",
   "id": "b7ff9841-3eb9-49a5-8a7b-50038733de8a",
   "metadata": {},
   "source": [
    "DDL stands for Data Definition Language. It is a subset of SQL (Structured Query Language) that deals with the definition and management of database structures. DDL statements are used to define and manage the structure of database objects, such as tables, indexes, and views. The primary purpose of DDL is to specify the database schema and to define how data is stored, organized, and accessed."
   ]
  },
  {
   "cell_type": "markdown",
   "id": "edaed761-a44a-468a-8316-3bf9417b1fb5",
   "metadata": {},
   "source": [
    "Common DDL statements include:"
   ]
  },
  {
   "cell_type": "markdown",
   "id": "62187d6c-73f2-477a-bf63-0ce301677ec7",
   "metadata": {},
   "source": [
    "# a) CREATE: Used to create database objects such as tables, indexes, and views."
   ]
  },
  {
   "cell_type": "markdown",
   "id": "b4d5418b-f9e1-432d-ba0d-e6dcfd566a2c",
   "metadata": {},
   "source": [
    "## Example:"
   ]
  },
  {
   "cell_type": "raw",
   "id": "3581c64b-7476-4c2b-8528-75a8ca71d625",
   "metadata": {},
   "source": [
    "CREATE TABLE employees (\n",
    "    employee_id INT PRIMARY KEY,\n",
    "    first_name VARCHAR(50),\n",
    "    last_name VARCHAR(50),\n",
    "    hire_date DATE\n",
    ");\n"
   ]
  },
  {
   "cell_type": "markdown",
   "id": "392f3c01-e87b-4204-bb5f-6d406f02a611",
   "metadata": {},
   "source": [
    "# b) ALTER: Used to modify the structure of existing database objects, such as adding or dropping columns from a table."
   ]
  },
  {
   "cell_type": "raw",
   "id": "377703b9-390e-424e-8003-aeeaad337643",
   "metadata": {},
   "source": [
    "ALTER TABLE employees\n",
    "ADD COLUMN email VARCHAR(100);\n"
   ]
  },
  {
   "cell_type": "markdown",
   "id": "7ead968c-5c2c-4d0f-8d68-3450b8199e4a",
   "metadata": {},
   "source": [
    "# c) DROP: Used to delete database objects, such as tables or indexes."
   ]
  },
  {
   "cell_type": "raw",
   "id": "60deda2d-c169-4abd-97d5-56f24cebe053",
   "metadata": {},
   "source": [
    "DROP TABLE employees;"
   ]
  },
  {
   "cell_type": "markdown",
   "id": "32134e8b-6592-4232-bf58-8828e016b507",
   "metadata": {},
   "source": [
    "# d) TRUNCATE: Used to remove all records from a table, but retain the structure for future use."
   ]
  },
  {
   "cell_type": "raw",
   "id": "643edd30-814d-4847-b80e-6a5c73951594",
   "metadata": {},
   "source": [
    "TRUNCATE TABLE employees;"
   ]
  },
  {
   "cell_type": "raw",
   "id": "f541056f-6b14-4c3b-99ab-e0fd89f74541",
   "metadata": {},
   "source": [
    "DDL statements are crucial for database administrators and developers to design and maintain the database structure. They allow for the creation, modification, and deletion of database objects, ensuring that the database remains organized and efficient."
   ]
  },
  {
   "cell_type": "markdown",
   "id": "6f969769-9bf3-4d2e-a107-94d3bd258085",
   "metadata": {},
   "source": [
    "# Q-3: What is DML Command ? Explain Insert , Update and Delete with an example ?"
   ]
  },
  {
   "cell_type": "raw",
   "id": "02c06966-8803-45c8-a0a4-9f551dcf77b9",
   "metadata": {},
   "source": [
    "DML stands for Data Manipulation Language. Unlike DDL (Data Definition Language), which is focused on defining and managing the structure of the database, DML deals with the manipulation of data stored in the database. The three main DML commands are INSERT, UPDATE, and DELETE.\n",
    "\n"
   ]
  },
  {
   "cell_type": "markdown",
   "id": "aed2cc7c-da2f-4728-8565-3a2312a45c9c",
   "metadata": {},
   "source": [
    "# 1. INSERT:"
   ]
  },
  {
   "cell_type": "raw",
   "id": "7a4cdf7b-bc89-437f-97bb-919e49b60aae",
   "metadata": {},
   "source": [
    "a) The INSERT statement is used to add new records (rows) to a table.\n",
    "b) It is used when you want to insert data into a table."
   ]
  },
  {
   "cell_type": "raw",
   "id": "aa92747e-c515-4d87-8d38-dde48d31718a",
   "metadata": {},
   "source": [
    "Example:\n",
    "    INSERT INTO employees (employee_id, first_name, last_name, hire_date)\n",
    "VALUES (1, 'John', 'Doe', '2023-01-01');\n"
   ]
  },
  {
   "cell_type": "markdown",
   "id": "ca8b0fce-6fe4-4663-a8e3-a37b4e4e24b7",
   "metadata": {},
   "source": [
    "# 2.UPDATE:"
   ]
  },
  {
   "cell_type": "raw",
   "id": "1d6d235d-8829-4e85-8f44-acc7d1d32009",
   "metadata": {},
   "source": [
    "A) The UPDATE statement is used to modify existing records in a table.\n",
    "B) It is used when you want to change the values of one or more columns in existing rows."
   ]
  },
  {
   "cell_type": "raw",
   "id": "be5c2d88-f826-4269-80be-582dc49a0569",
   "metadata": {},
   "source": [
    "Example:\n",
    "    UPDATE employees\n",
    "SET first_name = 'Jane'\n",
    "WHERE employee_id = 1;"
   ]
  },
  {
   "cell_type": "raw",
   "id": "f7ac27f4-b6b2-476e-b426-ebff9d4b1cd1",
   "metadata": {},
   "source": [
    "In this example, the \"first_name\" column of the employee with \"employee_id\" 1 is updated to 'Jane'."
   ]
  },
  {
   "cell_type": "markdown",
   "id": "f3500dff-237f-4ae0-9496-96a922d514d5",
   "metadata": {},
   "source": [
    "# 3.DELETE:"
   ]
  },
  {
   "cell_type": "raw",
   "id": "3332a7d3-8e47-4642-9fcb-635791b04354",
   "metadata": {},
   "source": [
    "A) The DELETE statement is used to remove one or more records from a table.\n",
    "B) It is used when you want to delete existing rows from a table.\n",
    "\n",
    "Example:\n",
    "\n",
    "    DELETE FROM employees\n",
    "    WHERE employee_id = 1;\n",
    "\n",
    "In this example, the employee with \"employee_id\" 1 is deleted from the \"employees\" table.\n",
    "\n"
   ]
  },
  {
   "cell_type": "raw",
   "id": "bceaf39f-82cc-46a4-914e-3907c142d3e3",
   "metadata": {},
   "source": [
    "These DML commands are essential for managing the data within a database. INSERT adds new data, UPDATE modifies existing data, and DELETE removes data. These operations, when used carefully, help maintain the integrity and accuracy of the data in a database."
   ]
  },
  {
   "cell_type": "markdown",
   "id": "ff737930-74a9-45cd-8e55-16730e5fcc5f",
   "metadata": {},
   "source": [
    "# Q-4: What is DQL ? Explain SELECT with an example ?"
   ]
  },
  {
   "cell_type": "raw",
   "id": "a3d54c42-9ebe-4897-9f76-1e7207cd0ab5",
   "metadata": {},
   "source": [
    "DQL stands for Data Query Language. It is a subset of SQL (Structured Query Language) that is specifically designed for querying and retrieving information from a database. The primary DQL command is SELECT, which is used to retrieve data from one or more tables in a database."
   ]
  },
  {
   "cell_type": "raw",
   "id": "c5684f57-6f82-4a22-bbdb-8caec3ff08c8",
   "metadata": {},
   "source": [
    "The basic syntax of the SELECT statement is as follows:"
   ]
  },
  {
   "cell_type": "raw",
   "id": "465cbaeb-c161-426e-9a0d-9cdd46e7da06",
   "metadata": {},
   "source": [
    "SELECT column1, column2, ...\n",
    "FROM table_name\n",
    "WHERE condition;"
   ]
  },
  {
   "cell_type": "raw",
   "id": "4315ef9c-6394-4501-b31d-ccabbbe8ee46",
   "metadata": {},
   "source": [
    "Example:\n",
    "    \n",
    "    SELECT employee_id, first_name, last_name\n",
    "    FROM employees\n",
    "    WHERE department = 'IT';\n"
   ]
  },
  {
   "cell_type": "raw",
   "id": "dd57c64b-68df-4939-9341-b1b6dba1f244",
   "metadata": {},
   "source": [
    "In this example:\n",
    "\n",
    "   1). SELECT employee_id, first_name, last_name: Specifies the columns that you want to retrieve in the result set.\n",
    "\n",
    "   2). FROM employees: Specifies the table (in this case, \"employees\") from which to retrieve the data.\n",
    "    \n",
    "   3). WHERE department = 'IT': Specifies a condition that filters the rows. In this case, only rows where the \"department\" column is equal to 'IT' will be included in        the result set.\n",
    "\n",
    "The result of this query would be a table-like structure containing the specified columns (\"employee_id,\" \"first_name,\" \"last_name\") for all records in the \"employees\" table where the department is 'IT'.\n",
    "\n",
    "SELECT statements can be quite flexible and powerful. They can include various clauses such as JOINs for combining data from multiple tables, GROUP BY for aggregating data, ORDER BY for sorting the result set, and more. The SELECT statement is fundamental for extracting meaningful information from a database.\n"
   ]
  },
  {
   "cell_type": "markdown",
   "id": "b2949782-020e-4cb9-b51f-fcb23d19f0ed",
   "metadata": {},
   "source": [
    "# Q-5: Explain Primary Key and Foreign Key ?"
   ]
  },
  {
   "cell_type": "raw",
   "id": "6848757f-008f-497d-8f8d-03af8d2d72be",
   "metadata": {},
   "source": [
    "In SQL, a primary key and a foreign key are two types of constraints that define the relationships between tables in a relational database."
   ]
  },
  {
   "cell_type": "markdown",
   "id": "628d24af-729a-44ea-b0e0-76d1e70a194a",
   "metadata": {},
   "source": [
    "# 1). Primary Key:"
   ]
  },
  {
   "cell_type": "raw",
   "id": "0940e58a-f9eb-4d17-89a1-2f096c273284",
   "metadata": {},
   "source": [
    "a) A primary key is a column or a set of columns that uniquely identifies each record in a table.\n",
    "b) It must contain unique values, and it cannot have NULL values.\n",
    "c) Every table can have only one primary key."
   ]
  },
  {
   "cell_type": "markdown",
   "id": "f0aedd9a-fc36-4c87-ae93-0580d3b83c6d",
   "metadata": {},
   "source": [
    "# Example:"
   ]
  },
  {
   "cell_type": "raw",
   "id": "618db507-bb92-43af-ade3-6eb17fa0552a",
   "metadata": {},
   "source": [
    "CREATE TABLE employees (\n",
    "    employee_id INT PRIMARY KEY,\n",
    "    first_name VARCHAR(50),\n",
    "    last_name VARCHAR(50),\n",
    "    hire_date DATE\n",
    ");"
   ]
  },
  {
   "cell_type": "raw",
   "id": "ea991b8f-f242-4c7a-8e56-7bd83ebaba43",
   "metadata": {},
   "source": [
    "In this example, the \"employee_id\" column is defined as the primary key for the \"employees\" table. This means that each employee in the table must have a unique \"employee_id,\" and the \"employee_id\" cannot be NULL."
   ]
  },
  {
   "cell_type": "markdown",
   "id": "0504c12b-e356-437f-8462-fc8483c0870d",
   "metadata": {},
   "source": [
    "# 2). Foreign Key:"
   ]
  },
  {
   "cell_type": "raw",
   "id": "11cced76-0e4c-496d-89ff-e911017c341e",
   "metadata": {},
   "source": [
    "a) A foreign key is a column or a set of columns in a table that refers to the primary key of another table.\n",
    "\n",
    "b) It establishes a link between the two tables based on the values in these columns.\n",
    "   \n",
    "c) The foreign key constraint is used to ensure referential integrity, meaning that the values in the foreign key column(s) must correspond to values in the primary key of the referenced table."
   ]
  },
  {
   "cell_type": "markdown",
   "id": "50f91d75-6fbd-4b8b-a6af-86f0792ca78b",
   "metadata": {},
   "source": [
    "# Example :"
   ]
  },
  {
   "cell_type": "raw",
   "id": "cb4c41c3-66c6-411a-a399-bddbb8c533f9",
   "metadata": {},
   "source": [
    "CREATE TABLE departments (\n",
    "    department_id INT PRIMARY KEY,\n",
    "    department_name VARCHAR(50)\n",
    ");\n",
    "\n",
    "CREATE TABLE employees (\n",
    "    employee_id INT PRIMARY KEY,\n",
    "    first_name VARCHAR(50),\n",
    "    last_name VARCHAR(50),\n",
    "    department_id INT,\n",
    "    FOREIGN KEY (department_id) REFERENCES departments(department_id)\n",
    ");"
   ]
  },
  {
   "cell_type": "raw",
   "id": "e013c8c7-b9f4-400f-9795-b3a9512a3405",
   "metadata": {},
   "source": [
    "In this example, the \"employees\" table has a foreign key relationship with the \"departments\" table. The \"department_id\" column in the \"employees\" table is a foreign key that refers to the \"department_id\" column in the \"departments\" table. This ensures that every value in the \"employees.department_id\" column corresponds to a valid value in the \"departments.department_id\" column.\n",
    "\n",
    "Using foreign keys helps maintain data integrity by preventing the creation of \"orphan\" records in the child table (in this case, \"employees\") that do not have a corresponding record in the parent table (in this case, \"departments\")."
   ]
  },
  {
   "cell_type": "markdown",
   "id": "d2849ae1-f195-41e7-a4e1-d2bbea0fdf4e",
   "metadata": {},
   "source": [
    "# Q-6: Write a Python Code to connect MySQL to python. Explain the cursor() and execute() method"
   ]
  },
  {
   "cell_type": "raw",
   "id": "1342f15c-00dd-4fe9-9787-e70759ea7d14",
   "metadata": {},
   "source": [
    "To connect Python to MySQL, you can use the mysql-connector library, which provides a MySQL driver for Python. First, you need to install the library if you haven't already:\n"
   ]
  },
  {
   "cell_type": "code",
   "execution_count": 5,
   "id": "78206064-4744-40f0-92d3-7545c216ad2e",
   "metadata": {},
   "outputs": [
    {
     "name": "stdout",
     "output_type": "stream",
     "text": [
      "Collecting mysql-connector-python\n",
      "  Downloading mysql_connector_python-8.2.0-cp310-cp310-manylinux_2_17_x86_64.whl (31.6 MB)\n",
      "\u001b[2K     \u001b[90m━━━━━━━━━━━━━━━━━━━━━━━━━━━━━━━━━━━━━━━━\u001b[0m \u001b[32m31.6/31.6 MB\u001b[0m \u001b[31m20.7 MB/s\u001b[0m eta \u001b[36m0:00:00\u001b[0m00:01\u001b[0m00:01\u001b[0m\n",
      "\u001b[?25hRequirement already satisfied: protobuf<=4.21.12,>=4.21.1 in /opt/conda/lib/python3.10/site-packages (from mysql-connector-python) (4.21.8)\n",
      "Installing collected packages: mysql-connector-python\n",
      "Successfully installed mysql-connector-python-8.2.0\n",
      "Note: you may need to restart the kernel to use updated packages.\n"
     ]
    }
   ],
   "source": [
    "pip install mysql-connector-python"
   ]
  },
  {
   "cell_type": "raw",
   "id": "e2894c36-3548-4820-b0a1-003f2aa4ef08",
   "metadata": {},
   "source": [
    "Now, you can use the following Python code to connect to MySQL and perform some basic operations:"
   ]
  },
  {
   "cell_type": "code",
   "execution_count": 8,
   "id": "8cb9b3f5-d5e2-4e7f-8d95-343bc9074792",
   "metadata": {},
   "outputs": [
    {
     "ename": "DatabaseError",
     "evalue": "2003 (HY000): Can't connect to MySQL server on 'localhost:3306' (99)",
     "output_type": "error",
     "traceback": [
      "\u001b[0;31m---------------------------------------------------------------------------\u001b[0m",
      "\u001b[0;31mMySQLInterfaceError\u001b[0m                       Traceback (most recent call last)",
      "File \u001b[0;32m/opt/conda/lib/python3.10/site-packages/mysql/connector/connection_cext.py:308\u001b[0m, in \u001b[0;36mCMySQLConnection._open_connection\u001b[0;34m(self)\u001b[0m\n\u001b[1;32m    307\u001b[0m \u001b[38;5;28;01mtry\u001b[39;00m:\n\u001b[0;32m--> 308\u001b[0m     \u001b[38;5;28;43mself\u001b[39;49m\u001b[38;5;241;43m.\u001b[39;49m\u001b[43m_cmysql\u001b[49m\u001b[38;5;241;43m.\u001b[39;49m\u001b[43mconnect\u001b[49m\u001b[43m(\u001b[49m\u001b[38;5;241;43m*\u001b[39;49m\u001b[38;5;241;43m*\u001b[39;49m\u001b[43mcnx_kwargs\u001b[49m\u001b[43m)\u001b[49m\n\u001b[1;32m    309\u001b[0m     \u001b[38;5;28mself\u001b[39m\u001b[38;5;241m.\u001b[39m_cmysql\u001b[38;5;241m.\u001b[39mconverter_str_fallback \u001b[38;5;241m=\u001b[39m \u001b[38;5;28mself\u001b[39m\u001b[38;5;241m.\u001b[39m_converter_str_fallback\n",
      "\u001b[0;31mMySQLInterfaceError\u001b[0m: Can't connect to MySQL server on 'localhost:3306' (99)",
      "\nThe above exception was the direct cause of the following exception:\n",
      "\u001b[0;31mDatabaseError\u001b[0m                             Traceback (most recent call last)",
      "Cell \u001b[0;32mIn [8], line 4\u001b[0m\n\u001b[1;32m      1\u001b[0m \u001b[38;5;28;01mimport\u001b[39;00m \u001b[38;5;21;01mmysql\u001b[39;00m\u001b[38;5;21;01m.\u001b[39;00m\u001b[38;5;21;01mconnector\u001b[39;00m\n\u001b[1;32m      3\u001b[0m \u001b[38;5;66;03m# Replace 'your_username', 'your_password', 'your_database', and 'your_host' with your MySQL credentials\u001b[39;00m\n\u001b[0;32m----> 4\u001b[0m conn \u001b[38;5;241m=\u001b[39m \u001b[43mmysql\u001b[49m\u001b[38;5;241;43m.\u001b[39;49m\u001b[43mconnector\u001b[49m\u001b[38;5;241;43m.\u001b[39;49m\u001b[43mconnect\u001b[49m\u001b[43m(\u001b[49m\n\u001b[1;32m      5\u001b[0m \u001b[43m    \u001b[49m\u001b[43muser\u001b[49m\u001b[38;5;241;43m=\u001b[39;49m\u001b[38;5;124;43m'\u001b[39;49m\u001b[38;5;124;43myour_username\u001b[39;49m\u001b[38;5;124;43m'\u001b[39;49m\u001b[43m,\u001b[49m\n\u001b[1;32m      6\u001b[0m \u001b[43m    \u001b[49m\u001b[43mpassword\u001b[49m\u001b[38;5;241;43m=\u001b[39;49m\u001b[38;5;124;43m'\u001b[39;49m\u001b[38;5;124;43myour_password\u001b[39;49m\u001b[38;5;124;43m'\u001b[39;49m\u001b[43m,\u001b[49m\n\u001b[1;32m      7\u001b[0m \u001b[43m    \u001b[49m\u001b[43mdatabase\u001b[49m\u001b[38;5;241;43m=\u001b[39;49m\u001b[38;5;124;43m'\u001b[39;49m\u001b[38;5;124;43myour_database\u001b[39;49m\u001b[38;5;124;43m'\u001b[39;49m\u001b[43m,\u001b[49m\n\u001b[1;32m      8\u001b[0m \u001b[43m    \u001b[49m\u001b[43mhost\u001b[49m\u001b[38;5;241;43m=\u001b[39;49m\u001b[38;5;124;43m'\u001b[39;49m\u001b[38;5;124;43mlocalhost\u001b[39;49m\u001b[38;5;124;43m'\u001b[39;49m\n\u001b[1;32m      9\u001b[0m \u001b[43m)\u001b[49m\n\u001b[1;32m     11\u001b[0m \u001b[38;5;66;03m# Create a cursor object\u001b[39;00m\n\u001b[1;32m     12\u001b[0m cursor \u001b[38;5;241m=\u001b[39m conn\u001b[38;5;241m.\u001b[39mcursor()\n",
      "File \u001b[0;32m/opt/conda/lib/python3.10/site-packages/mysql/connector/pooling.py:293\u001b[0m, in \u001b[0;36mconnect\u001b[0;34m(*args, **kwargs)\u001b[0m\n\u001b[1;32m    290\u001b[0m         \u001b[38;5;28;01mraise\u001b[39;00m \u001b[38;5;167;01mImportError\u001b[39;00m(ERROR_NO_CEXT)\n\u001b[1;32m    292\u001b[0m \u001b[38;5;28;01mif\u001b[39;00m CMySQLConnection \u001b[38;5;129;01mand\u001b[39;00m \u001b[38;5;129;01mnot\u001b[39;00m use_pure:\n\u001b[0;32m--> 293\u001b[0m     \u001b[38;5;28;01mreturn\u001b[39;00m \u001b[43mCMySQLConnection\u001b[49m\u001b[43m(\u001b[49m\u001b[38;5;241;43m*\u001b[39;49m\u001b[43margs\u001b[49m\u001b[43m,\u001b[49m\u001b[43m \u001b[49m\u001b[38;5;241;43m*\u001b[39;49m\u001b[38;5;241;43m*\u001b[39;49m\u001b[43mkwargs\u001b[49m\u001b[43m)\u001b[49m\n\u001b[1;32m    294\u001b[0m \u001b[38;5;28;01mreturn\u001b[39;00m MySQLConnection(\u001b[38;5;241m*\u001b[39margs, \u001b[38;5;241m*\u001b[39m\u001b[38;5;241m*\u001b[39mkwargs)\n",
      "File \u001b[0;32m/opt/conda/lib/python3.10/site-packages/mysql/connector/connection_cext.py:129\u001b[0m, in \u001b[0;36mCMySQLConnection.__init__\u001b[0;34m(self, **kwargs)\u001b[0m\n\u001b[1;32m    127\u001b[0m \u001b[38;5;28;01mif\u001b[39;00m kwargs:\n\u001b[1;32m    128\u001b[0m     \u001b[38;5;28;01mtry\u001b[39;00m:\n\u001b[0;32m--> 129\u001b[0m         \u001b[38;5;28;43mself\u001b[39;49m\u001b[38;5;241;43m.\u001b[39;49m\u001b[43mconnect\u001b[49m\u001b[43m(\u001b[49m\u001b[38;5;241;43m*\u001b[39;49m\u001b[38;5;241;43m*\u001b[39;49m\u001b[43mkwargs\u001b[49m\u001b[43m)\u001b[49m\n\u001b[1;32m    130\u001b[0m     \u001b[38;5;28;01mexcept\u001b[39;00m \u001b[38;5;167;01mException\u001b[39;00m:\n\u001b[1;32m    131\u001b[0m         \u001b[38;5;28mself\u001b[39m\u001b[38;5;241m.\u001b[39mclose()\n",
      "File \u001b[0;32m/opt/conda/lib/python3.10/site-packages/mysql/connector/abstracts.py:1237\u001b[0m, in \u001b[0;36mMySQLConnectionAbstract.connect\u001b[0;34m(self, **kwargs)\u001b[0m\n\u001b[1;32m   1234\u001b[0m     \u001b[38;5;28mself\u001b[39m\u001b[38;5;241m.\u001b[39mconfig(\u001b[38;5;241m*\u001b[39m\u001b[38;5;241m*\u001b[39mkwargs)\n\u001b[1;32m   1236\u001b[0m \u001b[38;5;28mself\u001b[39m\u001b[38;5;241m.\u001b[39mdisconnect()\n\u001b[0;32m-> 1237\u001b[0m \u001b[38;5;28;43mself\u001b[39;49m\u001b[38;5;241;43m.\u001b[39;49m\u001b[43m_open_connection\u001b[49m\u001b[43m(\u001b[49m\u001b[43m)\u001b[49m\n\u001b[1;32m   1239\u001b[0m charset, collation \u001b[38;5;241m=\u001b[39m (\n\u001b[1;32m   1240\u001b[0m     kwargs\u001b[38;5;241m.\u001b[39mpop(\u001b[38;5;124m\"\u001b[39m\u001b[38;5;124mcharset\u001b[39m\u001b[38;5;124m\"\u001b[39m, \u001b[38;5;28;01mNone\u001b[39;00m),\n\u001b[1;32m   1241\u001b[0m     kwargs\u001b[38;5;241m.\u001b[39mpop(\u001b[38;5;124m\"\u001b[39m\u001b[38;5;124mcollation\u001b[39m\u001b[38;5;124m\"\u001b[39m, \u001b[38;5;28;01mNone\u001b[39;00m),\n\u001b[1;32m   1242\u001b[0m )\n\u001b[1;32m   1243\u001b[0m \u001b[38;5;28;01mif\u001b[39;00m charset \u001b[38;5;129;01mor\u001b[39;00m collation:\n",
      "File \u001b[0;32m/opt/conda/lib/python3.10/site-packages/mysql/connector/connection_cext.py:313\u001b[0m, in \u001b[0;36mCMySQLConnection._open_connection\u001b[0;34m(self)\u001b[0m\n\u001b[1;32m    311\u001b[0m         \u001b[38;5;28mself\u001b[39m\u001b[38;5;241m.\u001b[39mconverter\u001b[38;5;241m.\u001b[39mstr_fallback \u001b[38;5;241m=\u001b[39m \u001b[38;5;28mself\u001b[39m\u001b[38;5;241m.\u001b[39m_converter_str_fallback\n\u001b[1;32m    312\u001b[0m \u001b[38;5;28;01mexcept\u001b[39;00m MySQLInterfaceError \u001b[38;5;28;01mas\u001b[39;00m err:\n\u001b[0;32m--> 313\u001b[0m     \u001b[38;5;28;01mraise\u001b[39;00m get_mysql_exception(\n\u001b[1;32m    314\u001b[0m         msg\u001b[38;5;241m=\u001b[39merr\u001b[38;5;241m.\u001b[39mmsg, errno\u001b[38;5;241m=\u001b[39merr\u001b[38;5;241m.\u001b[39merrno, sqlstate\u001b[38;5;241m=\u001b[39merr\u001b[38;5;241m.\u001b[39msqlstate\n\u001b[1;32m    315\u001b[0m     ) \u001b[38;5;28;01mfrom\u001b[39;00m \u001b[38;5;21;01merr\u001b[39;00m\n\u001b[1;32m    317\u001b[0m \u001b[38;5;28mself\u001b[39m\u001b[38;5;241m.\u001b[39m_do_handshake()\n",
      "\u001b[0;31mDatabaseError\u001b[0m: 2003 (HY000): Can't connect to MySQL server on 'localhost:3306' (99)"
     ]
    }
   ],
   "source": [
    "import mysql.connector\n",
    "\n",
    "# Replace 'your_username', 'your_password', 'your_database', and 'your_host' with your MySQL credentials\n",
    "conn = mysql.connector.connect(\n",
    "    user='your_username',\n",
    "    password='your_password',\n",
    "    database='your_database',\n",
    "    host='localhost'\n",
    ")\n",
    "\n",
    "# Create a cursor object\n",
    "cursor = conn.cursor()\n",
    "\n",
    "# Example 1: Execute a simple query using execute()\n",
    "query = \"SELECT * FROM your_table;\"\n",
    "cursor.execute(query)\n",
    "\n",
    "# Fetch all the rows\n",
    "rows = cursor.fetchall()\n",
    "\n",
    "# Display the results\n",
    "for row in rows:\n",
    "    print(row)\n",
    "\n",
    "# Example 2: Execute a parameterized query using execute()\n",
    "insert_query = \"INSERT INTO your_table (column1, column2) VALUES (%s, %s);\"\n",
    "values = ('value1', 'value2')\n",
    "\n",
    "cursor.execute(insert_query, values)\n",
    "\n",
    "# Commit the transaction to save the changes\n",
    "conn.commit()\n",
    "\n",
    "# Close the cursor and connection\n",
    "cursor.close()\n",
    "conn.close()"
   ]
  },
  {
   "cell_type": "markdown",
   "id": "d3991b86-f915-4969-b516-95ddd5a4728e",
   "metadata": {},
   "source": [
    "# Explanation of cursor() and execute() methods:"
   ]
  },
  {
   "cell_type": "markdown",
   "id": "a970ffb0-6840-4429-a1b5-ef12c485b33b",
   "metadata": {},
   "source": [
    "# 1. 'cursor()' Method:"
   ]
  },
  {
   "cell_type": "raw",
   "id": "9c32ad8f-f77a-4e51-a803-95114b504475",
   "metadata": {},
   "source": [
    "a) The cursor() method creates a cursor object, which is used to interact with the database.\n",
    "\n",
    "b) Cursors allow you to execute SQL queries and fetch results.\n",
    "\n",
    "   cursor = conn.cursor()"
   ]
  },
  {
   "cell_type": "markdown",
   "id": "7e1c3aed-052a-4c3d-bdf5-96fbefd12937",
   "metadata": {},
   "source": [
    "# 2. 'execute()' Method:"
   ]
  },
  {
   "cell_type": "raw",
   "id": "dcd1079c-e71d-4535-af98-31b72b29ac9f",
   "metadata": {},
   "source": [
    "a) The execute() method is used to execute SQL queries or commands.\n",
    "\n",
    "b) It can be used for both SELECT queries and non-SELECT queries (e.g., INSERT, UPDATE, DELETE).\n",
    "\n",
    "c) For SELECT queries, you typically use fetchone(), fetchall(), or fetchmany(size) after executing to retrieve the results.\n",
    "\n",
    "query = \"SELECT * FROM your_table;\"\n",
    "cursor.execute(query)\n",
    "\n",
    "# Fetch all the rows\n",
    "rows = cursor.fetchall()\n",
    "\n"
   ]
  },
  {
   "cell_type": "raw",
   "id": "5b1d9097-e5aa-4228-a15d-7033e2f5e602",
   "metadata": {},
   "source": [
    "For non-SELECT queries, you may need to commit the changes to the database:\n",
    "    \n",
    "    \n",
    "    insert_query = \"INSERT INTO your_table (column1, column2) VALUES (%s, %s);\"\n",
    "    values = ('value1', 'value2')\n",
    "\n",
    "    cursor.execute(insert_query, values)\n",
    "\n",
    "    # Commit the transaction to save the changes\n",
    "    conn.commit()\n"
   ]
  },
  {
   "cell_type": "raw",
   "id": "332fd4fa-b986-4fa9-905c-222a1f76625f",
   "metadata": {},
   "source": [
    "Remember to replace placeholders like 'your_username', 'your_password', 'your_database', 'your_host', and others with your actual MySQL connection details and query parameters."
   ]
  },
  {
   "cell_type": "markdown",
   "id": "fc00a98d-6065-41fd-8d6d-7ef86629d664",
   "metadata": {},
   "source": [
    "# Q-7: Give the Order of Execution of SQL clauses in an sql query?"
   ]
  },
  {
   "cell_type": "raw",
   "id": "bf758b90-e120-4873-b815-fda29250387c",
   "metadata": {},
   "source": [
    "The order of execution of SQL clauses in a query generally follows these main steps:\n",
    "    \n",
    "    1) FROM:\n",
    "        Specifies the table or tables from which to retrieve the data.\n",
    "\n",
    "    2) JOIN:\n",
    "        If the query involves multiple tables, the JOIN clause is used to combine rows from two or more tables based on a related column.\n",
    "\n",
    "    3) WHERE:\n",
    "        Applies a condition to filter the rows returned by the FROM and JOIN clauses.\n",
    "\n",
    "    4) GROUP BY:\n",
    "        Groups the result set based on one or more columns. It is often used with aggregate functions like COUNT, SUM, AVG, etc.\n",
    "\n",
    "    5) HAVING:\n",
    "        Applies a condition to filter the groups produced by the GROUP BY clause.\n",
    "\n",
    "    6) SELECT:\n",
    "        Specifies the columns to be retrieved in the result set.\n",
    "\n",
    "    7) DISTINCT:\n",
    "        Removes duplicate rows from the result set.\n",
    "\n",
    "    8) ORDER BY:\n",
    "        Sorts the result set based on one or more columns.\n",
    "\n",
    "    9) LIMIT / OFFSET:\n",
    "        Limits the number of rows returned or skips a specified number of rows.\n",
    "\n",
    "These steps represent a logical order of processing, but not all queries will include every clause, and some clauses can be reordered based on the specific requirements of the query. For example, the WHERE clause is usually applied before the SELECT clause, but the logical order might be rearranged for readability.\n",
    "\n",
    "It's important to note that the SQL query optimizer might also influence the actual execution plan, and in some cases, the database engine may choose an optimized execution plan based on factors such as indexes and statistics.\n"
   ]
  },
  {
   "cell_type": "code",
   "execution_count": null,
   "id": "53999321-ed96-4cbf-aa56-78a232d36701",
   "metadata": {},
   "outputs": [],
   "source": []
  }
 ],
 "metadata": {
  "kernelspec": {
   "display_name": "Python 3 (ipykernel)",
   "language": "python",
   "name": "python3"
  },
  "language_info": {
   "codemirror_mode": {
    "name": "ipython",
    "version": 3
   },
   "file_extension": ".py",
   "mimetype": "text/x-python",
   "name": "python",
   "nbconvert_exporter": "python",
   "pygments_lexer": "ipython3",
   "version": "3.10.6"
  }
 },
 "nbformat": 4,
 "nbformat_minor": 5
}
