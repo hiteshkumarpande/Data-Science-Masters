{
 "cells": [
  {
   "cell_type": "raw",
   "id": "2878be41-2607-41b5-b8d3-79ff024d1fd8",
   "metadata": {},
   "source": [
    "Assignment\n",
    "Data Science Masters\n",
    "Consider the below code to answer further questions:\n",
    "\n",
    "\n",
    "import numpy as np\n",
    "\n",
    "list_ = [ ‘1’ , ’2’ , ‘3’ , ‘4’ , ‘5’ ]\n",
    "\n",
    "array_list = np.array(object = list_)\n"
   ]
  },
  {
   "cell_type": "markdown",
   "id": "cce00fdf-3aca-4029-9eb1-9ec91b73040a",
   "metadata": {},
   "source": [
    "## Q1. Is there any difference in the data type of variables list_ and array_list? If there is then write a code to print the data types of both the variables."
   ]
  },
  {
   "cell_type": "code",
   "execution_count": 5,
   "id": "fb5a536a-ae2f-4ce5-a005-df21d4a71101",
   "metadata": {},
   "outputs": [
    {
     "name": "stdout",
     "output_type": "stream",
     "text": [
      "Datatype of list_:<class 'list'>\n",
      "Array list are: ['1' '2' '3' '4' '5']\n",
      "Datatype of array_list: <class 'numpy.ndarray'>\n"
     ]
    }
   ],
   "source": [
    "import numpy as np\n",
    "\n",
    "list_ = ['1','2','3','4','5']\n",
    "print(f'Datatype of list_:{type(list_)}')\n",
    "\n",
    "array_list = np.array(object= list_)\n",
    "print(f'Array list are: {array_list}')\n",
    "print(f'Datatype of array_list: {type(array_list)}')"
   ]
  },
  {
   "cell_type": "markdown",
   "id": "43a62439-307f-4d9e-b69c-1e3a32561c2a",
   "metadata": {},
   "source": [
    "## Q2. Write a code to print the data type of each and every element of both the variables list_ and array_list.\n",
    "\n"
   ]
  },
  {
   "cell_type": "code",
   "execution_count": 16,
   "id": "b954cc1b-6bb5-41e5-8d49-88d153eb2b65",
   "metadata": {},
   "outputs": [
    {
     "name": "stdout",
     "output_type": "stream",
     "text": [
      "<class 'list'>\n",
      "Datatype of 1 is <class 'str'>\n",
      "Datatype of 2 is <class 'str'>\n",
      "Datatype of 3 is <class 'str'>\n",
      "Datatype of 4 is <class 'str'>\n",
      "Datatype of 5 is <class 'str'>\n",
      "*************************************\n",
      "Datatype of 1 is <class 'numpy.str_'>\n",
      "Datatype of 2 is <class 'numpy.str_'>\n",
      "Datatype of 3 is <class 'numpy.str_'>\n",
      "Datatype of 4 is <class 'numpy.str_'>\n",
      "Datatype of 5 is <class 'numpy.str_'>\n"
     ]
    }
   ],
   "source": [
    "import numpy as np\n",
    "\n",
    "list_ = ['1','2','3','4','5']\n",
    "print(type(list_))\n",
    "\n",
    "for i in list_:\n",
    "    print(f'Datatype of {i} is {type(i)}')\n",
    "    \n",
    "print('*************************************')\n",
    "array_list = np.array(object = list_)\n",
    "for k in array_list:\n",
    "    print(f'Datatype of {k} is {type(k)}')"
   ]
  },
  {
   "cell_type": "markdown",
   "id": "77be2865-e2bd-4579-aa7e-d79eeb74c533",
   "metadata": {},
   "source": [
    "Q3. Considering the following changes in the variable, array_list:\n",
    "\n",
    "array_list = np.array(object = list_, dtype = int)\n",
    "\n",
    "Will there be any difference in the data type of the elements present in both the variables, list_ and\n",
    "arra_list? If so then print the data types of each and every element present in both the variables, list_\n",
    "and arra_list.\n",
    "\n",
    "Consider the below code to answer further questions:\n",
    "\n",
    "import numpy as np\n",
    "\n",
    "num_list = [ [ 1 , 2 , 3 ] , [ 4 , 5 , 6 ] ]\n",
    "\n",
    "num_array = np.array(object = num_list)\n"
   ]
  },
  {
   "cell_type": "code",
   "execution_count": 14,
   "id": "b920ebce-a17f-455b-bc46-d362eed3bfbf",
   "metadata": {},
   "outputs": [
    {
     "name": "stdout",
     "output_type": "stream",
     "text": [
      "The datatype of ['1' '2' '3' '4' '5'] is <U1\n",
      "[1 2 3 4 5]\n",
      "The datatype of [1 2 3 4 5] is int64\n"
     ]
    }
   ],
   "source": [
    "import numpy as np\n",
    "\n",
    "list_ = np.array(['1','2','3','4','5'])\n",
    "print(f'The datatype of {list_} is {list_.dtype}')\n",
    "array_list = np.array(object = list_, dtype=int)\n",
    "print(array_list)\n",
    "print(f'The datatype of {array_list} is {array_list.dtype}')"
   ]
  },
  {
   "cell_type": "code",
   "execution_count": 12,
   "id": "8b5fc9fd-138c-474f-a393-5bf6d4f81e98",
   "metadata": {},
   "outputs": [
    {
     "name": "stdout",
     "output_type": "stream",
     "text": [
      "The datatype of 1 is <class 'numpy.str_'>\n",
      "The datatype of 2 is <class 'numpy.str_'>\n",
      "The datatype of 3 is <class 'numpy.str_'>\n",
      "The datatype of 4 is <class 'numpy.str_'>\n",
      "The datatype of 5 is <class 'numpy.str_'>\n",
      "#########################################\n",
      "The datatype of 1 is <class 'numpy.int64'>\n",
      "The datatype of 2 is <class 'numpy.int64'>\n",
      "The datatype of 3 is <class 'numpy.int64'>\n",
      "The datatype of 4 is <class 'numpy.int64'>\n",
      "The datatype of 5 is <class 'numpy.int64'>\n"
     ]
    }
   ],
   "source": [
    "for j in list_:\n",
    "    print(f'The datatype of {j} is {type(j)}')\n",
    "print('#########################################')\n",
    "for k in array_list:\n",
    "    print(f'The datatype of {k} is {type(k)}')"
   ]
  },
  {
   "cell_type": "markdown",
   "id": "09aa732b-d294-48fd-997c-a82926e74d66",
   "metadata": {},
   "source": [
    "## Q4. Write a code to find the following characteristics of variable, num_array:\n",
    "# (i) shape\n",
    "# (ii) size"
   ]
  },
  {
   "cell_type": "code",
   "execution_count": 24,
   "id": "f494dbb0-a477-4562-a96d-c8f0d5122071",
   "metadata": {},
   "outputs": [
    {
     "name": "stdout",
     "output_type": "stream",
     "text": [
      "[[1 2 3]\n",
      " [4 5 6]]\n",
      "Shape and size of [[1, 2, 3], [4, 5, 6]] are <class 'list'> and 2 \n",
      "\n",
      "Shape and size of \n",
      "[[1 2 3]\n",
      " [4 5 6]] are (2, 3) and 6\n"
     ]
    }
   ],
   "source": [
    "import numpy as np\n",
    "\n",
    "num_list = [[1,2,3],[4,5,6]]  # variable\n",
    "\n",
    "num_array = np.array(object=num_list) # array\n",
    "print(num_array)\n",
    "\n",
    "print(f'Shape and size of {num_list} are {type(num_list)} and {len(num_list)} ')\n",
    "print()\n",
    "print(f'Shape and size of \\n{num_array} are {num_array.shape} and {num_array.size}')"
   ]
  },
  {
   "cell_type": "markdown",
   "id": "9cd7ce76-c0e7-4447-9cec-085f7b6228cf",
   "metadata": {},
   "source": [
    "## Q5. Write a code to create numpy array of 3*3 matrix containing zeros only, using a numpy array creation function.\n",
    "\n",
    "## [Hint: The size of the array will be 9 and the shape will be (3,3)."
   ]
  },
  {
   "cell_type": "code",
   "execution_count": 40,
   "id": "23d10b76-2e67-49e2-b4a3-b1138c82a207",
   "metadata": {},
   "outputs": [
    {
     "name": "stdout",
     "output_type": "stream",
     "text": [
      "[[0 0 0]\n",
      " [0 0 0]\n",
      " [0 0 0]]\n",
      "\n",
      "The size of \n",
      "[[0 0 0]\n",
      " [0 0 0]\n",
      " [0 0 0]] will be 9\n",
      "\n",
      "The shape of \n",
      "[[0 0 0]\n",
      " [0 0 0]\n",
      " [0 0 0]] is (3, 3)\n"
     ]
    }
   ],
   "source": [
    "import numpy as np\n",
    "\n",
    "arr = np.zeros(9, dtype=int).reshape((3,3))\n",
    "print(arr)\n",
    "print()\n",
    "print(f'The size of \\n{arr} will be {arr.size}')\n",
    "print()\n",
    "print(f'The shape of \\n{arr} is {arr.shape}')"
   ]
  },
  {
   "cell_type": "code",
   "execution_count": 41,
   "id": "685d93e5-b286-4cff-98b5-a4b17244acc6",
   "metadata": {},
   "outputs": [
    {
     "name": "stdout",
     "output_type": "stream",
     "text": [
      "[[0 0 0]\n",
      " [0 0 0]\n",
      " [0 0 0]]\n",
      "\n",
      "The size of \n",
      "[[0 0 0]\n",
      " [0 0 0]\n",
      " [0 0 0]] will be 9\n",
      "\n",
      "The shape of \n",
      "[[0 0 0]\n",
      " [0 0 0]\n",
      " [0 0 0]] is (3, 3)\n"
     ]
    }
   ],
   "source": [
    "arr1=np.random.randint(0,1,(3,3))\n",
    "print(arr1)\n",
    "print()\n",
    "print(f'The size of \\n{arr1} will be {arr1.size}')\n",
    "print()\n",
    "print(f'The shape of \\n{arr1} is {arr1.shape}')\n"
   ]
  },
  {
   "cell_type": "markdown",
   "id": "c50d2b89-3e8e-4ef9-8813-0add29baf6a9",
   "metadata": {},
   "source": [
    "## Q-6: Create an identity matrix of shape (5,5) using numpy functions?\n",
    "## [Hint: An identity matrix is a matrix containing diagonally and other element will be 0]"
   ]
  },
  {
   "cell_type": "code",
   "execution_count": 58,
   "id": "805d8ba9-02bb-4b60-8d86-937af1377b0a",
   "metadata": {},
   "outputs": [
    {
     "name": "stdout",
     "output_type": "stream",
     "text": [
      "[[1. 0. 0. 0. 0.]\n",
      " [0. 1. 0. 0. 0.]\n",
      " [0. 0. 1. 0. 0.]\n",
      " [0. 0. 0. 1. 0.]\n",
      " [0. 0. 0. 0. 1.]]\n"
     ]
    }
   ],
   "source": [
    "import numpy as np\n",
    "\n",
    "arr_mat = np.eye(5)\n",
    "print(arr_mat)"
   ]
  },
  {
   "cell_type": "code",
   "execution_count": 60,
   "id": "55f11ec3-838d-4c40-8dd1-515f878e0283",
   "metadata": {},
   "outputs": [
    {
     "name": "stdout",
     "output_type": "stream",
     "text": [
      "[[1 0 0 0 0]\n",
      " [0 1 0 0 0]\n",
      " [0 0 1 0 0]\n",
      " [0 0 0 1 0]\n",
      " [0 0 0 0 1]]\n"
     ]
    }
   ],
   "source": [
    "identity_matrix = np.identity(5, dtype=int)\n",
    "print(identity_matrix)"
   ]
  },
  {
   "cell_type": "code",
   "execution_count": 61,
   "id": "3ca1e586-3961-4c3f-9e48-eaa646b20e02",
   "metadata": {},
   "outputs": [
    {
     "name": "stdout",
     "output_type": "stream",
     "text": [
      "[[1 0 0 0 0]\n",
      " [0 1 0 0 0]\n",
      " [0 0 1 0 0]\n",
      " [0 0 0 1 0]\n",
      " [0 0 0 0 1]]\n"
     ]
    }
   ],
   "source": [
    "mat_diag = np.diag([1,1,1,1,1])\n",
    "print(mat_diag)"
   ]
  },
  {
   "cell_type": "code",
   "execution_count": null,
   "id": "39de4789-505e-426c-bb5a-85f440cdb657",
   "metadata": {},
   "outputs": [],
   "source": []
  },
  {
   "cell_type": "code",
   "execution_count": null,
   "id": "b62e39c1-fee5-412f-b604-133a867c298d",
   "metadata": {},
   "outputs": [],
   "source": []
  }
 ],
 "metadata": {
  "kernelspec": {
   "display_name": "Python 3 (ipykernel)",
   "language": "python",
   "name": "python3"
  },
  "language_info": {
   "codemirror_mode": {
    "name": "ipython",
    "version": 3
   },
   "file_extension": ".py",
   "mimetype": "text/x-python",
   "name": "python",
   "nbconvert_exporter": "python",
   "pygments_lexer": "ipython3",
   "version": "3.10.8"
  }
 },
 "nbformat": 4,
 "nbformat_minor": 5
}
