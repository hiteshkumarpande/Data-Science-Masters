{
  "cells": [
    {
      "cell_type": "code",
      "execution_count": null,
      "id": "1890f2f5-6c16-4566-96a3-380acb9259e6",
      "metadata": {
        "id": "1890f2f5-6c16-4566-96a3-380acb9259e6"
      },
      "outputs": [],
      "source": [
        "#Numpy - Array Manipulation."
      ]
    },
    {
      "cell_type": "code",
      "execution_count": null,
      "id": "dba4df9f-2c20-4ce4-a433-ef64cad090d0",
      "metadata": {
        "id": "dba4df9f-2c20-4ce4-a433-ef64cad090d0"
      },
      "outputs": [],
      "source": [
        "import numpy as np"
      ]
    },
    {
      "cell_type": "code",
      "execution_count": null,
      "id": "5632259c-dc2a-4f2a-9b61-7f383ea33a1b",
      "metadata": {
        "id": "5632259c-dc2a-4f2a-9b61-7f383ea33a1b"
      },
      "outputs": [],
      "source": [
        "arr = np.random.randint(1,10 , (3,4))"
      ]
    },
    {
      "cell_type": "code",
      "execution_count": null,
      "id": "eee2bbe4-55eb-41ec-9fad-e56bc005a6b3",
      "metadata": {
        "id": "eee2bbe4-55eb-41ec-9fad-e56bc005a6b3",
        "outputId": "b177132d-6782-4685-ae13-eb887eeeb776"
      },
      "outputs": [
        {
          "data": {
            "text/plain": [
              "array([[4, 4, 8, 6],\n",
              "       [8, 2, 5, 8],\n",
              "       [5, 2, 8, 9]])"
            ]
          },
          "execution_count": 4,
          "metadata": {},
          "output_type": "execute_result"
        }
      ],
      "source": [
        "arr"
      ]
    },
    {
      "cell_type": "code",
      "execution_count": null,
      "id": "d55d33e1-985f-4070-97d2-8eacf70b2ff8",
      "metadata": {
        "id": "d55d33e1-985f-4070-97d2-8eacf70b2ff8",
        "outputId": "a06bd13c-8d97-4c68-fc7a-3558ff62c21b"
      },
      "outputs": [
        {
          "data": {
            "text/plain": [
              "array([[4, 4],\n",
              "       [8, 6],\n",
              "       [8, 2],\n",
              "       [5, 8],\n",
              "       [5, 2],\n",
              "       [8, 9]])"
            ]
          },
          "execution_count": 5,
          "metadata": {},
          "output_type": "execute_result"
        }
      ],
      "source": [
        "arr.reshape(6,2)"
      ]
    },
    {
      "cell_type": "code",
      "execution_count": null,
      "id": "09cb23cc-8b83-467b-827d-dfbfa8b634c3",
      "metadata": {
        "id": "09cb23cc-8b83-467b-827d-dfbfa8b634c3",
        "outputId": "426d33f6-ad48-4eb2-f335-d999b4f00ce3"
      },
      "outputs": [
        {
          "data": {
            "text/plain": [
              "array([[4, 4, 8, 6, 8, 2],\n",
              "       [5, 8, 5, 2, 8, 9]])"
            ]
          },
          "execution_count": 6,
          "metadata": {},
          "output_type": "execute_result"
        }
      ],
      "source": [
        "arr.reshape(2,6)"
      ]
    },
    {
      "cell_type": "code",
      "execution_count": null,
      "id": "77eac4b6-d3c2-4a93-8c2f-bb711417539b",
      "metadata": {
        "id": "77eac4b6-d3c2-4a93-8c2f-bb711417539b",
        "outputId": "b774bec1-58c9-440e-f520-b31bb7ed91a2"
      },
      "outputs": [
        {
          "data": {
            "text/plain": [
              "array([[4, 4, 8, 6, 8, 2],\n",
              "       [5, 8, 5, 2, 8, 9]])"
            ]
          },
          "execution_count": 8,
          "metadata": {},
          "output_type": "execute_result"
        }
      ],
      "source": [
        "arr.reshape(2,-242342)"
      ]
    },
    {
      "cell_type": "code",
      "execution_count": null,
      "id": "43be7e8d-cc68-4191-baad-4bf94af48189",
      "metadata": {
        "id": "43be7e8d-cc68-4191-baad-4bf94af48189",
        "outputId": "36157a4a-10ac-4fa5-d9d0-06856b913924"
      },
      "outputs": [
        {
          "data": {
            "text/plain": [
              "array([[4, 8, 5],\n",
              "       [4, 2, 2],\n",
              "       [8, 5, 8],\n",
              "       [6, 8, 9]])"
            ]
          },
          "execution_count": 10,
          "metadata": {},
          "output_type": "execute_result"
        }
      ],
      "source": [
        "arr.T"
      ]
    },
    {
      "cell_type": "code",
      "execution_count": null,
      "id": "9c1b0a47-41c2-4f36-8750-9603ba7a3a15",
      "metadata": {
        "id": "9c1b0a47-41c2-4f36-8750-9603ba7a3a15",
        "outputId": "3d942f85-689e-429b-ff68-249e3797cecd"
      },
      "outputs": [
        {
          "data": {
            "text/plain": [
              "array([[4, 4, 8, 6],\n",
              "       [8, 2, 5, 8],\n",
              "       [5, 2, 8, 9]])"
            ]
          },
          "execution_count": 11,
          "metadata": {},
          "output_type": "execute_result"
        }
      ],
      "source": [
        "arr"
      ]
    },
    {
      "cell_type": "code",
      "execution_count": null,
      "id": "2fd29656-e8be-431a-af9c-7dbaf4e39571",
      "metadata": {
        "id": "2fd29656-e8be-431a-af9c-7dbaf4e39571",
        "outputId": "692b3769-0f40-45c1-943c-ca3191b9512e"
      },
      "outputs": [
        {
          "data": {
            "text/plain": [
              "array([4, 4, 8, 6, 8, 2, 5, 8, 5, 2, 8, 9])"
            ]
          },
          "execution_count": 12,
          "metadata": {},
          "output_type": "execute_result"
        }
      ],
      "source": [
        "arr.flatten()"
      ]
    },
    {
      "cell_type": "code",
      "execution_count": null,
      "id": "6f7862fc-ec30-47dc-bce8-b5101301205c",
      "metadata": {
        "id": "6f7862fc-ec30-47dc-bce8-b5101301205c"
      },
      "outputs": [],
      "source": [
        "arr1 = np.array([1,2,3,3,4])"
      ]
    },
    {
      "cell_type": "code",
      "execution_count": null,
      "id": "15357b1f-eff7-4453-89e8-3948f925c481",
      "metadata": {
        "id": "15357b1f-eff7-4453-89e8-3948f925c481",
        "outputId": "59806cda-0d4b-497d-a49d-952784039f44"
      },
      "outputs": [
        {
          "data": {
            "text/plain": [
              "1"
            ]
          },
          "execution_count": 14,
          "metadata": {},
          "output_type": "execute_result"
        }
      ],
      "source": [
        "arr1.ndim"
      ]
    },
    {
      "cell_type": "code",
      "execution_count": null,
      "id": "828fbacd-05dd-4ec7-9a9f-be474c13eff5",
      "metadata": {
        "id": "828fbacd-05dd-4ec7-9a9f-be474c13eff5",
        "outputId": "83aa01a0-44ed-4806-86f7-131eeb971938"
      },
      "outputs": [
        {
          "data": {
            "text/plain": [
              "array([[1],\n",
              "       [2],\n",
              "       [3],\n",
              "       [3],\n",
              "       [4]])"
            ]
          },
          "execution_count": 16,
          "metadata": {},
          "output_type": "execute_result"
        }
      ],
      "source": [
        "np.expand_dims(arr1 ,axis=1)"
      ]
    },
    {
      "cell_type": "code",
      "execution_count": null,
      "id": "581f2a02-7a94-46cf-ad50-89256379696e",
      "metadata": {
        "id": "581f2a02-7a94-46cf-ad50-89256379696e",
        "outputId": "8a2aab47-f34e-4dd4-982c-97dcf0f1394b"
      },
      "outputs": [
        {
          "data": {
            "text/plain": [
              "array([[1, 2, 3, 3, 4]])"
            ]
          },
          "execution_count": 17,
          "metadata": {},
          "output_type": "execute_result"
        }
      ],
      "source": [
        "np.expand_dims(arr1 ,axis=0)"
      ]
    },
    {
      "cell_type": "code",
      "execution_count": null,
      "id": "c5da4146-1911-4cb2-aed2-3adcb693bb51",
      "metadata": {
        "id": "c5da4146-1911-4cb2-aed2-3adcb693bb51",
        "outputId": "e9438aef-ca28-4870-a49e-f6f326ee0283"
      },
      "outputs": [
        {
          "data": {
            "text/plain": [
              "array([[4, 4, 8, 6],\n",
              "       [8, 2, 5, 8],\n",
              "       [5, 2, 8, 9]])"
            ]
          },
          "execution_count": 18,
          "metadata": {},
          "output_type": "execute_result"
        }
      ],
      "source": [
        "arr"
      ]
    },
    {
      "cell_type": "code",
      "execution_count": null,
      "id": "cb422a7e-f8c2-4df6-b7e0-56dc63a7c116",
      "metadata": {
        "id": "cb422a7e-f8c2-4df6-b7e0-56dc63a7c116",
        "outputId": "6a735321-2e5f-4c3c-8dae-89232400ac52"
      },
      "outputs": [
        {
          "data": {
            "text/plain": [
              "array([[4, 4, 8, 6],\n",
              "       [8, 2, 5, 8],\n",
              "       [5, 2, 8, 9]])"
            ]
          },
          "execution_count": 19,
          "metadata": {},
          "output_type": "execute_result"
        }
      ],
      "source": [
        "np.squeeze(arr)"
      ]
    },
    {
      "cell_type": "code",
      "execution_count": null,
      "id": "482a100e-261c-4a52-b7af-fc34c9dc8487",
      "metadata": {
        "id": "482a100e-261c-4a52-b7af-fc34c9dc8487"
      },
      "outputs": [],
      "source": [
        "data = np.array([[1] , [2] , [3]])"
      ]
    },
    {
      "cell_type": "code",
      "execution_count": null,
      "id": "2e0329cd-c448-499f-a364-f4fbd2653fa8",
      "metadata": {
        "id": "2e0329cd-c448-499f-a364-f4fbd2653fa8",
        "outputId": "325a463e-5253-4900-bc87-8bcb7041f98c"
      },
      "outputs": [
        {
          "data": {
            "text/plain": [
              "array([[1],\n",
              "       [2],\n",
              "       [3]])"
            ]
          },
          "execution_count": 22,
          "metadata": {},
          "output_type": "execute_result"
        }
      ],
      "source": [
        "data"
      ]
    },
    {
      "cell_type": "code",
      "execution_count": null,
      "id": "927de255-bce2-4de3-9814-46ec3c7a4ef1",
      "metadata": {
        "id": "927de255-bce2-4de3-9814-46ec3c7a4ef1",
        "outputId": "c96fc659-9e8a-4aac-d1d1-365de55447d5"
      },
      "outputs": [
        {
          "data": {
            "text/plain": [
              "array([1, 2, 3])"
            ]
          },
          "execution_count": 23,
          "metadata": {},
          "output_type": "execute_result"
        }
      ],
      "source": [
        "np.squeeze(data)"
      ]
    },
    {
      "cell_type": "code",
      "execution_count": null,
      "id": "25033fa3-39c5-4f5b-a18e-822fa164aff2",
      "metadata": {
        "id": "25033fa3-39c5-4f5b-a18e-822fa164aff2",
        "outputId": "4778591d-0d2c-4548-ff0b-e2e6e8277e96"
      },
      "outputs": [
        {
          "data": {
            "text/plain": [
              "array([1, 2, 3, 3, 4])"
            ]
          },
          "execution_count": 24,
          "metadata": {},
          "output_type": "execute_result"
        }
      ],
      "source": [
        "arr1"
      ]
    },
    {
      "cell_type": "code",
      "execution_count": null,
      "id": "791c67b7-bafc-489f-8ff9-b27ace034515",
      "metadata": {
        "id": "791c67b7-bafc-489f-8ff9-b27ace034515",
        "outputId": "7a160b5e-ca4a-4b9b-cebf-47d3876b9dc5"
      },
      "outputs": [
        {
          "data": {
            "text/plain": [
              "array([1, 1, 1, 2, 2, 2, 3, 3, 3, 3, 3, 3, 4, 4, 4])"
            ]
          },
          "execution_count": 25,
          "metadata": {},
          "output_type": "execute_result"
        }
      ],
      "source": [
        "np.repeat(arr1, 3)"
      ]
    },
    {
      "cell_type": "code",
      "execution_count": null,
      "id": "4ed5803c-fcb2-4112-83dc-e4a7cf80051f",
      "metadata": {
        "id": "4ed5803c-fcb2-4112-83dc-e4a7cf80051f",
        "outputId": "99854b98-0b5f-4ba3-e174-6848175806cf"
      },
      "outputs": [
        {
          "data": {
            "text/plain": [
              "array([3, 3, 4, 1, 2])"
            ]
          },
          "execution_count": 29,
          "metadata": {},
          "output_type": "execute_result"
        }
      ],
      "source": [
        "np.roll(arr1 , 3)"
      ]
    },
    {
      "cell_type": "code",
      "execution_count": null,
      "id": "06c351b0-3b5e-45aa-adcb-0b6f527f1ad4",
      "metadata": {
        "id": "06c351b0-3b5e-45aa-adcb-0b6f527f1ad4",
        "outputId": "44afa17b-c0ab-47d0-e250-ba05ba23c97c"
      },
      "outputs": [
        {
          "data": {
            "text/plain": [
              "array([1, 2, 3, 3, 4])"
            ]
          },
          "execution_count": 28,
          "metadata": {},
          "output_type": "execute_result"
        }
      ],
      "source": [
        "arr1"
      ]
    },
    {
      "cell_type": "code",
      "execution_count": null,
      "id": "9da0c1eb-9542-4359-8c82-1ae43e0d8d70",
      "metadata": {
        "id": "9da0c1eb-9542-4359-8c82-1ae43e0d8d70",
        "outputId": "249cb8df-56f4-4865-95be-47543061a5f9"
      },
      "outputs": [
        {
          "data": {
            "text/plain": [
              "array([[1, 0, 0, 0, 0],\n",
              "       [0, 2, 0, 0, 0],\n",
              "       [0, 0, 3, 0, 0],\n",
              "       [0, 0, 0, 3, 0],\n",
              "       [0, 0, 0, 0, 4]])"
            ]
          },
          "execution_count": 30,
          "metadata": {},
          "output_type": "execute_result"
        }
      ],
      "source": [
        "np.diag(arr1)"
      ]
    },
    {
      "cell_type": "code",
      "execution_count": null,
      "id": "087bc54f-ac68-4e4e-80a6-b90971b1efc7",
      "metadata": {
        "id": "087bc54f-ac68-4e4e-80a6-b90971b1efc7"
      },
      "outputs": [],
      "source": [
        "#Numpy - Binary Operators."
      ]
    },
    {
      "cell_type": "code",
      "execution_count": null,
      "id": "4743e781-a032-4b5c-97f9-6790a1475387",
      "metadata": {
        "id": "4743e781-a032-4b5c-97f9-6790a1475387"
      },
      "outputs": [],
      "source": [
        "arr1 = np.random.randint(1,10 , (3,4))"
      ]
    },
    {
      "cell_type": "code",
      "execution_count": null,
      "id": "0de34a3b-bb40-438d-8bdd-a50567fd0802",
      "metadata": {
        "id": "0de34a3b-bb40-438d-8bdd-a50567fd0802"
      },
      "outputs": [],
      "source": [
        "arr2 = np.random.randint(1,10 , (3,4))"
      ]
    },
    {
      "cell_type": "code",
      "execution_count": null,
      "id": "f365ba96-128e-4d6d-939d-ead1d78b2218",
      "metadata": {
        "id": "f365ba96-128e-4d6d-939d-ead1d78b2218",
        "outputId": "51873198-a8ab-4c5e-d2df-bdfad5e60e0e"
      },
      "outputs": [
        {
          "data": {
            "text/plain": [
              "array([[7, 9, 2, 2],\n",
              "       [1, 2, 8, 2],\n",
              "       [7, 5, 4, 6]])"
            ]
          },
          "execution_count": 34,
          "metadata": {},
          "output_type": "execute_result"
        }
      ],
      "source": [
        "arr1"
      ]
    },
    {
      "cell_type": "code",
      "execution_count": null,
      "id": "bb34436b-4a9d-4eaa-909c-507052b60928",
      "metadata": {
        "id": "bb34436b-4a9d-4eaa-909c-507052b60928",
        "outputId": "9ef724f3-1f89-4f76-c2d3-a739a524df93"
      },
      "outputs": [
        {
          "data": {
            "text/plain": [
              "array([[2, 8, 7, 5],\n",
              "       [8, 2, 6, 9],\n",
              "       [1, 8, 4, 3]])"
            ]
          },
          "execution_count": 35,
          "metadata": {},
          "output_type": "execute_result"
        }
      ],
      "source": [
        "arr2"
      ]
    },
    {
      "cell_type": "code",
      "execution_count": null,
      "id": "2aaa971a-c8b8-4389-bcce-e5ac95233df2",
      "metadata": {
        "id": "2aaa971a-c8b8-4389-bcce-e5ac95233df2",
        "outputId": "ff97115f-b7a6-40b8-db45-b6eb142446a4"
      },
      "outputs": [
        {
          "data": {
            "text/plain": [
              "array([[ 9, 17,  9,  7],\n",
              "       [ 9,  4, 14, 11],\n",
              "       [ 8, 13,  8,  9]])"
            ]
          },
          "execution_count": 36,
          "metadata": {},
          "output_type": "execute_result"
        }
      ],
      "source": [
        "arr1+arr2"
      ]
    },
    {
      "cell_type": "code",
      "execution_count": null,
      "id": "64bf4340-0f54-4c1b-92a4-25258f707440",
      "metadata": {
        "id": "64bf4340-0f54-4c1b-92a4-25258f707440",
        "outputId": "c36dd25d-bd75-4753-bff8-a2c2665fbd76"
      },
      "outputs": [
        {
          "data": {
            "text/plain": [
              "array([[14, 72, 14, 10],\n",
              "       [ 8,  4, 48, 18],\n",
              "       [ 7, 40, 16, 18]])"
            ]
          },
          "execution_count": 37,
          "metadata": {},
          "output_type": "execute_result"
        }
      ],
      "source": [
        "arr1*arr2"
      ]
    },
    {
      "cell_type": "code",
      "execution_count": null,
      "id": "9cada9db-d70b-4fc7-a799-113eea5feffc",
      "metadata": {
        "id": "9cada9db-d70b-4fc7-a799-113eea5feffc",
        "outputId": "08a87857-3314-4b90-a27c-ee6bae535b4d"
      },
      "outputs": [
        {
          "data": {
            "text/plain": [
              "array([[3.5       , 1.125     , 0.28571429, 0.4       ],\n",
              "       [0.125     , 1.        , 1.33333333, 0.22222222],\n",
              "       [7.        , 0.625     , 1.        , 2.        ]])"
            ]
          },
          "execution_count": 38,
          "metadata": {},
          "output_type": "execute_result"
        }
      ],
      "source": [
        "arr1/arr2"
      ]
    },
    {
      "cell_type": "code",
      "execution_count": null,
      "id": "7aa1aa01-9430-49a6-8512-a1c4659f3239",
      "metadata": {
        "id": "7aa1aa01-9430-49a6-8512-a1c4659f3239",
        "outputId": "864e3e7d-5ced-4e3a-af76-0c0a24ec2fb9"
      },
      "outputs": [
        {
          "data": {
            "text/plain": [
              "array([[ 5,  1, -5, -3],\n",
              "       [-7,  0,  2, -7],\n",
              "       [ 6, -3,  0,  3]])"
            ]
          },
          "execution_count": 39,
          "metadata": {},
          "output_type": "execute_result"
        }
      ],
      "source": [
        "arr1-arr2"
      ]
    },
    {
      "cell_type": "code",
      "execution_count": null,
      "id": "ae169e7d-614c-4413-9dc0-4e8c4f549b65",
      "metadata": {
        "id": "ae169e7d-614c-4413-9dc0-4e8c4f549b65",
        "outputId": "4a75289a-5afd-462e-8c84-2b1d09aa2d65"
      },
      "outputs": [
        {
          "data": {
            "text/plain": [
              "array([[1, 1, 2, 2],\n",
              "       [1, 0, 2, 2],\n",
              "       [0, 5, 0, 0]])"
            ]
          },
          "execution_count": 40,
          "metadata": {},
          "output_type": "execute_result"
        }
      ],
      "source": [
        "arr1%arr2"
      ]
    },
    {
      "cell_type": "code",
      "execution_count": null,
      "id": "de5cdebb-db94-4214-abee-e700ada41404",
      "metadata": {
        "id": "de5cdebb-db94-4214-abee-e700ada41404",
        "outputId": "ac80824d-6ccc-48bf-e437-203d5a5b1743"
      },
      "outputs": [
        {
          "data": {
            "text/plain": [
              "array([[      49, 43046721,      128,       32],\n",
              "       [       1,        4,   262144,      512],\n",
              "       [       7,   390625,      256,      216]])"
            ]
          },
          "execution_count": 41,
          "metadata": {},
          "output_type": "execute_result"
        }
      ],
      "source": [
        "arr1 ** arr2"
      ]
    },
    {
      "cell_type": "code",
      "execution_count": null,
      "id": "ba653204-07f5-48da-a72f-f509378710eb",
      "metadata": {
        "id": "ba653204-07f5-48da-a72f-f509378710eb",
        "outputId": "471e3f9c-d658-4201-cb91-81f0b0545c3a"
      },
      "outputs": [
        {
          "data": {
            "text/plain": [
              "array([[2, 8, 2, 0],\n",
              "       [0, 2, 0, 0],\n",
              "       [1, 0, 4, 2]])"
            ]
          },
          "execution_count": 42,
          "metadata": {},
          "output_type": "execute_result"
        }
      ],
      "source": [
        "arr1 & arr2"
      ]
    },
    {
      "cell_type": "code",
      "execution_count": null,
      "id": "ad37e291-4287-4b68-9ab6-601fc32b4956",
      "metadata": {
        "id": "ad37e291-4287-4b68-9ab6-601fc32b4956",
        "outputId": "24d5ce3f-af55-45e0-c1e8-59651c290c8e"
      },
      "outputs": [
        {
          "data": {
            "text/plain": [
              "array([[7, 9, 2, 2],\n",
              "       [1, 2, 8, 2],\n",
              "       [7, 5, 4, 6]])"
            ]
          },
          "execution_count": 43,
          "metadata": {},
          "output_type": "execute_result"
        }
      ],
      "source": [
        "arr1"
      ]
    },
    {
      "cell_type": "code",
      "execution_count": null,
      "id": "485c49a1-042f-4b25-b9c4-f8700428940f",
      "metadata": {
        "id": "485c49a1-042f-4b25-b9c4-f8700428940f",
        "outputId": "8b38ea2a-5322-454f-e077-ad72c329da28"
      },
      "outputs": [
        {
          "data": {
            "text/plain": [
              "array([[2, 8, 7, 5],\n",
              "       [8, 2, 6, 9],\n",
              "       [1, 8, 4, 3]])"
            ]
          },
          "execution_count": 44,
          "metadata": {},
          "output_type": "execute_result"
        }
      ],
      "source": [
        "arr2"
      ]
    },
    {
      "cell_type": "code",
      "execution_count": null,
      "id": "89b215f8-56fd-4120-bea1-7f7f9d0a38b9",
      "metadata": {
        "id": "89b215f8-56fd-4120-bea1-7f7f9d0a38b9",
        "outputId": "073a441b-f076-4e58-9ee7-fcecf313d91b"
      },
      "outputs": [
        {
          "data": {
            "text/plain": [
              "array([[ -8, -10,  -3,  -3],\n",
              "       [ -2,  -3,  -9,  -3],\n",
              "       [ -8,  -6,  -5,  -7]])"
            ]
          },
          "execution_count": 45,
          "metadata": {},
          "output_type": "execute_result"
        }
      ],
      "source": [
        "~arr1"
      ]
    },
    {
      "cell_type": "code",
      "execution_count": null,
      "id": "7e510c77-ee13-4d69-9471-44299248149c",
      "metadata": {
        "id": "7e510c77-ee13-4d69-9471-44299248149c",
        "outputId": "843d92be-54bc-4abf-a9ff-c6ef9195b607"
      },
      "outputs": [
        {
          "data": {
            "text/plain": [
              "array([[ 7,  9,  7,  7],\n",
              "       [ 9,  2, 14, 11],\n",
              "       [ 7, 13,  4,  7]])"
            ]
          },
          "execution_count": 46,
          "metadata": {},
          "output_type": "execute_result"
        }
      ],
      "source": [
        "arr1|arr2"
      ]
    },
    {
      "cell_type": "code",
      "execution_count": null,
      "id": "10a1f04d-2d64-4354-8f7a-089f70f21ab8",
      "metadata": {
        "id": "10a1f04d-2d64-4354-8f7a-089f70f21ab8",
        "outputId": "1d17864d-e30a-44ff-8ca0-00d2c342fe8f"
      },
      "outputs": [
        {
          "data": {
            "text/plain": [
              "array([[ True,  True, False, False],\n",
              "       [False, False,  True, False],\n",
              "       [ True, False, False,  True]])"
            ]
          },
          "execution_count": 47,
          "metadata": {},
          "output_type": "execute_result"
        }
      ],
      "source": [
        "arr1>arr2"
      ]
    },
    {
      "cell_type": "code",
      "execution_count": null,
      "id": "0c577286-be78-48f5-84fb-701aa8a66710",
      "metadata": {
        "id": "0c577286-be78-48f5-84fb-701aa8a66710"
      },
      "outputs": [],
      "source": [
        "#Numpy - String Functions."
      ]
    },
    {
      "cell_type": "code",
      "execution_count": null,
      "id": "311e0074-51cc-4ce0-935e-995426b974da",
      "metadata": {
        "id": "311e0074-51cc-4ce0-935e-995426b974da"
      },
      "outputs": [],
      "source": [
        "arr = np.array(['sudh' , \"Kumar\"])"
      ]
    },
    {
      "cell_type": "code",
      "execution_count": null,
      "id": "7a85b714-022c-4604-9f81-b0810abc39b7",
      "metadata": {
        "id": "7a85b714-022c-4604-9f81-b0810abc39b7",
        "outputId": "e8f1aa02-4baf-434c-ddbd-b2f0d617e25c"
      },
      "outputs": [
        {
          "data": {
            "text/plain": [
              "array(['sudh', 'Kumar'], dtype='<U5')"
            ]
          },
          "execution_count": 51,
          "metadata": {},
          "output_type": "execute_result"
        }
      ],
      "source": [
        "arr"
      ]
    },
    {
      "cell_type": "code",
      "execution_count": null,
      "id": "2920b441-c446-4d67-a92e-f17047b01881",
      "metadata": {
        "id": "2920b441-c446-4d67-a92e-f17047b01881",
        "outputId": "70c0d2f0-1563-45d0-8558-2f39e12047e6"
      },
      "outputs": [
        {
          "data": {
            "text/plain": [
              "array(['SUDH', 'KUMAR'], dtype='<U5')"
            ]
          },
          "execution_count": 52,
          "metadata": {},
          "output_type": "execute_result"
        }
      ],
      "source": [
        "np.char.upper(arr)"
      ]
    },
    {
      "cell_type": "code",
      "execution_count": null,
      "id": "3643e8c8-1ef6-438b-9944-a66d408f58f7",
      "metadata": {
        "id": "3643e8c8-1ef6-438b-9944-a66d408f58f7",
        "outputId": "c841cd37-d45e-418b-d988-c8dc0456f69e"
      },
      "outputs": [
        {
          "data": {
            "text/plain": [
              "array(['Sudh', 'Kumar'], dtype='<U5')"
            ]
          },
          "execution_count": 53,
          "metadata": {},
          "output_type": "execute_result"
        }
      ],
      "source": [
        "np.char.title(arr)"
      ]
    },
    {
      "cell_type": "code",
      "execution_count": null,
      "id": "15e4a766-26e6-4635-a820-af64a00accd7",
      "metadata": {
        "id": "15e4a766-26e6-4635-a820-af64a00accd7",
        "outputId": "88cd5a3d-58f4-4e74-c17d-700d212949f7"
      },
      "outputs": [
        {
          "data": {
            "text/plain": [
              "array(['Sudh', 'Kumar'], dtype='<U5')"
            ]
          },
          "execution_count": 54,
          "metadata": {},
          "output_type": "execute_result"
        }
      ],
      "source": [
        "np.char.capitalize(arr)"
      ]
    },
    {
      "cell_type": "code",
      "execution_count": null,
      "id": "4be60b9e-a4ac-43a7-bd7a-c5cf4c3f1f29",
      "metadata": {
        "id": "4be60b9e-a4ac-43a7-bd7a-c5cf4c3f1f29"
      },
      "outputs": [],
      "source": [
        "#Numpy - Mathematical Functions."
      ]
    },
    {
      "cell_type": "code",
      "execution_count": null,
      "id": "96bd5e25-ba4c-4f1f-89b9-e5fe6e8c6ae8",
      "metadata": {
        "id": "96bd5e25-ba4c-4f1f-89b9-e5fe6e8c6ae8",
        "outputId": "1eaf8a10-a28f-49bd-c29c-a57322225ea6"
      },
      "outputs": [
        {
          "data": {
            "text/plain": [
              "array([[7, 9, 2, 2],\n",
              "       [1, 2, 8, 2],\n",
              "       [7, 5, 4, 6]])"
            ]
          },
          "execution_count": 56,
          "metadata": {},
          "output_type": "execute_result"
        }
      ],
      "source": [
        "arr1"
      ]
    },
    {
      "cell_type": "code",
      "execution_count": null,
      "id": "0a1777e8-0b03-4fd8-9424-3dc1541eef3f",
      "metadata": {
        "id": "0a1777e8-0b03-4fd8-9424-3dc1541eef3f",
        "outputId": "6f6b48aa-dcfd-4870-d690-17ebe5995683"
      },
      "outputs": [
        {
          "data": {
            "text/plain": [
              "array([[ 0.6569866 ,  0.41211849,  0.90929743,  0.90929743],\n",
              "       [ 0.84147098,  0.90929743,  0.98935825,  0.90929743],\n",
              "       [ 0.6569866 , -0.95892427, -0.7568025 , -0.2794155 ]])"
            ]
          },
          "execution_count": 57,
          "metadata": {},
          "output_type": "execute_result"
        }
      ],
      "source": [
        "np.sin(arr1)"
      ]
    },
    {
      "cell_type": "code",
      "execution_count": null,
      "id": "64c4b08b-6a26-41a9-851b-6c9656904bad",
      "metadata": {
        "id": "64c4b08b-6a26-41a9-851b-6c9656904bad",
        "outputId": "1a5c3f27-ec23-4821-9fc9-486a56e69073"
      },
      "outputs": [
        {
          "data": {
            "text/plain": [
              "array([[ 0.75390225, -0.91113026, -0.41614684, -0.41614684],\n",
              "       [ 0.54030231, -0.41614684, -0.14550003, -0.41614684],\n",
              "       [ 0.75390225,  0.28366219, -0.65364362,  0.96017029]])"
            ]
          },
          "execution_count": 58,
          "metadata": {},
          "output_type": "execute_result"
        }
      ],
      "source": [
        "np.cos(arr1)"
      ]
    },
    {
      "cell_type": "code",
      "execution_count": null,
      "id": "70e50bc7-d0d2-4900-a442-9dcd0caf2186",
      "metadata": {
        "id": "70e50bc7-d0d2-4900-a442-9dcd0caf2186",
        "outputId": "27d18ce9-f835-455a-d5c3-3c71b34485d4"
      },
      "outputs": [
        {
          "data": {
            "text/plain": [
              "array([[ 0.87144798, -0.45231566, -2.18503986, -2.18503986],\n",
              "       [ 1.55740772, -2.18503986, -6.79971146, -2.18503986],\n",
              "       [ 0.87144798, -3.38051501,  1.15782128, -0.29100619]])"
            ]
          },
          "execution_count": 59,
          "metadata": {},
          "output_type": "execute_result"
        }
      ],
      "source": [
        "np.tan(arr1)"
      ]
    },
    {
      "cell_type": "code",
      "execution_count": null,
      "id": "f6b6ac01-ca6a-4fce-b51c-6f95fb528c31",
      "metadata": {
        "id": "f6b6ac01-ca6a-4fce-b51c-6f95fb528c31",
        "outputId": "da2fa52e-c580-4020-a8cb-a414bca42b33"
      },
      "outputs": [
        {
          "data": {
            "text/plain": [
              "array([[0.99999834, 0.99999997, 0.96402758, 0.96402758],\n",
              "       [0.76159416, 0.96402758, 0.99999977, 0.96402758],\n",
              "       [0.99999834, 0.9999092 , 0.9993293 , 0.99998771]])"
            ]
          },
          "execution_count": 60,
          "metadata": {},
          "output_type": "execute_result"
        }
      ],
      "source": [
        "np.tanh(arr1)"
      ]
    },
    {
      "cell_type": "code",
      "execution_count": null,
      "id": "20f6a349-a0e1-463e-990c-b243f053b25f",
      "metadata": {
        "id": "20f6a349-a0e1-463e-990c-b243f053b25f",
        "outputId": "7707c988-53ff-4057-e097-f60ed74ac5bb"
      },
      "outputs": [
        {
          "data": {
            "text/plain": [
              "array([[0.84509804, 0.95424251, 0.30103   , 0.30103   ],\n",
              "       [0.        , 0.30103   , 0.90308999, 0.30103   ],\n",
              "       [0.84509804, 0.69897   , 0.60205999, 0.77815125]])"
            ]
          },
          "execution_count": 61,
          "metadata": {},
          "output_type": "execute_result"
        }
      ],
      "source": [
        "np.log10(arr1)"
      ]
    },
    {
      "cell_type": "code",
      "execution_count": null,
      "id": "dea1ff7b-1373-462f-95ca-e04cedb7216a",
      "metadata": {
        "id": "dea1ff7b-1373-462f-95ca-e04cedb7216a",
        "outputId": "b4741f93-5891-498a-b691-53837b4e15c2"
      },
      "outputs": [
        {
          "data": {
            "text/plain": [
              "array([[1.09663316e+03, 8.10308393e+03, 7.38905610e+00, 7.38905610e+00],\n",
              "       [2.71828183e+00, 7.38905610e+00, 2.98095799e+03, 7.38905610e+00],\n",
              "       [1.09663316e+03, 1.48413159e+02, 5.45981500e+01, 4.03428793e+02]])"
            ]
          },
          "execution_count": 62,
          "metadata": {},
          "output_type": "execute_result"
        }
      ],
      "source": [
        "np.exp(arr1)"
      ]
    },
    {
      "cell_type": "code",
      "execution_count": null,
      "id": "d4d635ec-b87c-47bd-a5e7-77a9b992c075",
      "metadata": {
        "id": "d4d635ec-b87c-47bd-a5e7-77a9b992c075",
        "outputId": "692a320b-cf6c-4e35-9abb-7850d812cd18"
      },
      "outputs": [
        {
          "data": {
            "text/plain": [
              "array([[2.64575131, 3.        , 1.41421356, 1.41421356],\n",
              "       [1.        , 1.41421356, 2.82842712, 1.41421356],\n",
              "       [2.64575131, 2.23606798, 2.        , 2.44948974]])"
            ]
          },
          "execution_count": 63,
          "metadata": {},
          "output_type": "execute_result"
        }
      ],
      "source": [
        "np.sqrt(arr1)"
      ]
    },
    {
      "cell_type": "code",
      "execution_count": null,
      "id": "26fc3c49-dfc4-4282-ad9e-3e219f5d2888",
      "metadata": {
        "id": "26fc3c49-dfc4-4282-ad9e-3e219f5d2888",
        "outputId": "84fcee1a-f80d-480b-ebb8-9d78a760f29e"
      },
      "outputs": [
        {
          "data": {
            "text/plain": [
              "array([[49, 81,  4,  4],\n",
              "       [ 1,  4, 64,  4],\n",
              "       [49, 25, 16, 36]])"
            ]
          },
          "execution_count": 64,
          "metadata": {},
          "output_type": "execute_result"
        }
      ],
      "source": [
        "np.power(arr1,2)"
      ]
    },
    {
      "cell_type": "code",
      "execution_count": null,
      "id": "7854a41f-3a4d-48b2-8356-a1eff2c1f49c",
      "metadata": {
        "id": "7854a41f-3a4d-48b2-8356-a1eff2c1f49c",
        "outputId": "ef753699-c9be-4776-ce22-3a8d1817fff7"
      },
      "outputs": [
        {
          "data": {
            "text/plain": [
              "4.583333333333333"
            ]
          },
          "execution_count": 65,
          "metadata": {},
          "output_type": "execute_result"
        }
      ],
      "source": [
        "np.mean(arr1)"
      ]
    },
    {
      "cell_type": "code",
      "execution_count": null,
      "id": "47964225-57df-46ed-abb4-f09d0554b774",
      "metadata": {
        "id": "47964225-57df-46ed-abb4-f09d0554b774",
        "outputId": "d6a88f88-a184-424e-e0f3-3fdea49ac20f"
      },
      "outputs": [
        {
          "data": {
            "text/plain": [
              "4.5"
            ]
          },
          "execution_count": 66,
          "metadata": {},
          "output_type": "execute_result"
        }
      ],
      "source": [
        "np.median(arr1)"
      ]
    },
    {
      "cell_type": "code",
      "execution_count": null,
      "id": "ef6a5b39-9466-4a1e-a0b1-3d0bde8d9314",
      "metadata": {
        "id": "ef6a5b39-9466-4a1e-a0b1-3d0bde8d9314",
        "outputId": "7e464afc-598b-4d08-ab48-446779a226ed"
      },
      "outputs": [
        {
          "data": {
            "text/plain": [
              "2.6601482832520613"
            ]
          },
          "execution_count": 67,
          "metadata": {},
          "output_type": "execute_result"
        }
      ],
      "source": [
        "np.std(arr1)"
      ]
    },
    {
      "cell_type": "code",
      "execution_count": null,
      "id": "9fb70efd-6272-484f-9fd8-d578198e8832",
      "metadata": {
        "id": "9fb70efd-6272-484f-9fd8-d578198e8832",
        "outputId": "b2c21fc6-3442-46d6-8ebd-df6c55877c6d"
      },
      "outputs": [
        {
          "data": {
            "text/plain": [
              "7.076388888888888"
            ]
          },
          "execution_count": 68,
          "metadata": {},
          "output_type": "execute_result"
        }
      ],
      "source": [
        "np.var(arr1)"
      ]
    },
    {
      "cell_type": "code",
      "execution_count": null,
      "id": "d8835b5e-0b5b-4e2e-826c-47fdf357266a",
      "metadata": {
        "id": "d8835b5e-0b5b-4e2e-826c-47fdf357266a",
        "outputId": "e9ef0ac6-4cf5-4539-d96b-f87af71f1c81"
      },
      "outputs": [
        {
          "data": {
            "text/plain": [
              "1"
            ]
          },
          "execution_count": 69,
          "metadata": {},
          "output_type": "execute_result"
        }
      ],
      "source": [
        "np.min(arr1\n",
        "      )"
      ]
    },
    {
      "cell_type": "code",
      "execution_count": null,
      "id": "6648b623-f9f1-4fb9-9596-41bf22c32635",
      "metadata": {
        "id": "6648b623-f9f1-4fb9-9596-41bf22c32635",
        "outputId": "bbac0285-fc45-436a-9945-0b37445187be"
      },
      "outputs": [
        {
          "data": {
            "text/plain": [
              "9"
            ]
          },
          "execution_count": 70,
          "metadata": {},
          "output_type": "execute_result"
        }
      ],
      "source": [
        "np.max(arr1)"
      ]
    },
    {
      "cell_type": "code",
      "execution_count": null,
      "id": "3981a976-c908-4bcd-9140-3c179a165d6f",
      "metadata": {
        "id": "3981a976-c908-4bcd-9140-3c179a165d6f"
      },
      "outputs": [],
      "source": []
    }
  ],
  "metadata": {
    "kernelspec": {
      "display_name": "Python 3 (ipykernel)",
      "language": "python",
      "name": "python3"
    },
    "language_info": {
      "codemirror_mode": {
        "name": "ipython",
        "version": 3
      },
      "file_extension": ".py",
      "mimetype": "text/x-python",
      "name": "python",
      "nbconvert_exporter": "python",
      "pygments_lexer": "ipython3",
      "version": "3.10.8"
    },
    "colab": {
      "provenance": []
    }
  },
  "nbformat": 4,
  "nbformat_minor": 5
}