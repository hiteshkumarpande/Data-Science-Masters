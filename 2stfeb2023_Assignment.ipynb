{
 "cells": [
  {
   "cell_type": "markdown",
   "id": "8f928e5e-08e7-40f7-bd24-5e765a5fb995",
   "metadata": {},
   "source": [
    "# 1 Explain with an example each when to use a for loop and a while loop."
   ]
  },
  {
   "cell_type": "code",
   "execution_count": null,
   "id": "96d42497-55cf-414f-a23e-6e0477353f1e",
   "metadata": {},
   "outputs": [],
   "source": [
    "1) For loop is used when number of iterations is already known.\n",
    "2) While loop is used when the number of iterations is already unknown.\n"
   ]
  },
  {
   "cell_type": "code",
   "execution_count": 3,
   "id": "7c54a24e-624d-4bca-b34c-cf606cd6118c",
   "metadata": {},
   "outputs": [
    {
     "name": "stdout",
     "output_type": "stream",
     "text": [
      "1\n",
      "2\n",
      "3\n",
      "4\n",
      "5\n"
     ]
    }
   ],
   "source": [
    "# For loop\n",
    "n = [1,2,3,4,5]\n",
    "for i in n:\n",
    "    print(i)"
   ]
  },
  {
   "cell_type": "code",
   "execution_count": 1,
   "id": "06039a73-e9e7-4a26-b9a8-c851f7a912f7",
   "metadata": {},
   "outputs": [
    {
     "name": "stdout",
     "output_type": "stream",
     "text": [
      "1\n",
      "2\n",
      "3\n",
      "4\n",
      "5\n"
     ]
    }
   ],
   "source": [
    "# while loop\n",
    "i = 1  # Initialization\n",
    "while i < 6:  # Condition\n",
    "    print(i)\n",
    "    i += 1  # Updation\n",
    "\n"
   ]
  },
  {
   "cell_type": "markdown",
   "id": "95995918-730d-4a6e-8fe3-26c985fe593d",
   "metadata": {},
   "source": [
    "# 2 Write a python program to print the sum and product of the first 10 natural number using for and while loop."
   ]
  },
  {
   "cell_type": "markdown",
   "id": "8cf52bac-da19-4621-b726-23e5a147249d",
   "metadata": {},
   "source": [
    "# For loop"
   ]
  },
  {
   "cell_type": "code",
   "execution_count": 24,
   "id": "c0db9bc8-a84a-4c03-93c8-f39fb695a234",
   "metadata": {},
   "outputs": [
    {
     "name": "stdin",
     "output_type": "stream",
     "text": [
      "Enter any number:\n",
      " 10\n"
     ]
    },
    {
     "name": "stdout",
     "output_type": "stream",
     "text": [
      "Sum of 10 numbers are:55\n",
      "\n",
      "Product of 10 numbers are:3628800\n"
     ]
    }
   ],
   "source": [
    "sum=0\n",
    "product=1\n",
    "n=int(input('Enter any number:\\n'))\n",
    "for i in range(1,n+1):\n",
    "    sum+=i\n",
    "    product=product*i\n",
    "print(f'Sum of {n} numbers are:{sum}')\n",
    "print()\n",
    "print(f'Product of {n} numbers are:{product}')\n",
    "    "
   ]
  },
  {
   "cell_type": "markdown",
   "id": "d761b7df-5972-4453-9417-e227aac65c59",
   "metadata": {},
   "source": [
    "# While loop:"
   ]
  },
  {
   "cell_type": "code",
   "execution_count": 23,
   "id": "a13862ca-3f07-4411-8e5b-fee099949943",
   "metadata": {},
   "outputs": [
    {
     "name": "stdin",
     "output_type": "stream",
     "text": [
      "Enter any number:\n",
      " 10\n"
     ]
    },
    {
     "name": "stdout",
     "output_type": "stream",
     "text": [
      "Sum of 10 numbers are 55\n",
      "\n",
      "Product of 10 numbers are 3628800\n"
     ]
    }
   ],
   "source": [
    "n=int(input('Enter any number:\\n'))\n",
    "i=1\n",
    "add=0\n",
    "product=1\n",
    "while i<=n:\n",
    "    add+=i\n",
    "    product*=i\n",
    "    i+=1\n",
    "print(f'Sum of {n} numbers are {add}')\n",
    "print()\n",
    "print(f'Product of {n} numbers are {product}')"
   ]
  },
  {
   "cell_type": "markdown",
   "id": "9838eb34-afd5-43bc-bc1c-9dc3c6efb123",
   "metadata": {},
   "source": [
    "# Q-3. Create a python program to compute the electricity bill for a household.\n",
    "\n",
    "# The per-unit charges in rupees are as follows: For the first 100 units, the user will be charged Rs. 4.5 per \n",
    "# unit, for the next 100 units, the user will be charged Rs. 6 per unit, and for the next 100 units, the user will \n",
    "# be charged Rs. 10 per unit, After 300 units and above the user will be charged Rs. 20 per unit.\n",
    "\n",
    "\n",
    "# You are required to take the units of electricity consumed in a month from the user as input.\n",
    "\n",
    "# your program must pass this test case: when the unit of electricity consumed by the user in a month is 310, the total eectricity bill should be 2250."
   ]
  },
  {
   "cell_type": "code",
   "execution_count": 12,
   "id": "9fade6cc-3144-4c0f-9d4a-edabec20bac9",
   "metadata": {},
   "outputs": [
    {
     "name": "stdin",
     "output_type": "stream",
     "text": [
      "Enter the number of units:\n",
      " 310\n"
     ]
    },
    {
     "name": "stdout",
     "output_type": "stream",
     "text": [
      "Total Electricity Bill:\n",
      "2250.00\n"
     ]
    }
   ],
   "source": [
    "unit_consumed=int(input('Enter the number of units:\\n'))\n",
    "\n",
    "if unit_consumed<=100:\n",
    "    amount = 4.5*unit_consumed\n",
    "elif 100>unit_consumed<=200:\n",
    "    amount = 450+((unit_consumed-100)*6)\n",
    "elif 200>unit_consumed<=300:\n",
    "    amount = 450+((unit_consumed-100)*6)+((unit_consumed-200)*10)\n",
    "elif unit_consumed>300:\n",
    "    amount = 450+600+1000+((unit_consumed-300)*20)\n",
    "print(f'Total Electricity Bill:\\n{amount:.2f}')"
   ]
  },
  {
   "cell_type": "markdown",
   "id": "a0b05660-27f8-471d-9329-5d7fe3650692",
   "metadata": {},
   "source": [
    "# 4 Create a list of numbers from 1 to 100. Use for loop and while loop to calculate the cube of each number and if the cube of that number is divisible by 4 or 5 then append that number in a list and print that list."
   ]
  },
  {
   "cell_type": "markdown",
   "id": "1095de3a-aa3c-4ff9-a34f-94458a3610ff",
   "metadata": {},
   "source": [
    "# for loop"
   ]
  },
  {
   "cell_type": "code",
   "execution_count": 35,
   "id": "8e7889a5-3fd6-4b89-8174-a342be1cd73d",
   "metadata": {},
   "outputs": [
    {
     "name": "stdin",
     "output_type": "stream",
     "text": [
      "Enter the number:\n",
      " 100\n"
     ]
    },
    {
     "name": "stdout",
     "output_type": "stream",
     "text": [
      "[1, 8, 27, 64, 125, 216, 343, 512, 729, 1000, 1331, 1728, 2197, 2744, 3375, 4096, 4913, 5832, 6859, 8000, 9261, 10648, 12167, 13824, 15625, 17576, 19683, 21952, 24389, 27000, 29791, 32768, 35937, 39304, 42875, 46656, 50653, 54872, 59319, 64000, 68921, 74088, 79507, 85184, 91125, 97336, 103823, 110592, 117649, 125000, 132651, 140608, 148877, 157464, 166375, 175616, 185193, 195112, 205379, 216000, 226981, 238328, 250047, 262144, 274625, 287496, 300763, 314432, 328509, 343000, 357911, 373248, 389017, 405224, 421875, 438976, 456533, 474552, 493039, 512000, 531441, 551368, 571787, 592704, 614125, 636056, 658503, 681472, 704969, 729000, 753571, 778688, 804357, 830584, 857375, 884736, 912673, 941192, 970299, 1000000]\n",
      "\n",
      "List with cube of 4 and 5:\n",
      "[8, 64, 125, 216, 512, 1000, 1728, 2744, 3375, 4096, 5832, 8000, 10648, 13824, 15625, 17576, 21952, 27000, 32768, 39304, 42875, 46656, 54872, 64000, 74088, 85184, 91125, 97336, 110592, 125000, 140608, 157464, 166375, 175616, 195112, 216000, 238328, 262144, 274625, 287496, 314432, 343000, 373248, 405224, 421875, 438976, 474552, 512000, 551368, 592704, 614125, 636056, 681472, 729000, 778688, 830584, 857375, 884736, 941192, 1000000]\n",
      "\n",
      "Length of list of cubes of 4 and 5: 60\n"
     ]
    }
   ],
   "source": [
    "l100=[]\n",
    "l_4_5=[]\n",
    "n = int(input('Enter the number:\\n'))# for loop\n",
    "\n",
    "for i in range(1,n+1):\n",
    "    l100.append(i**3) \n",
    "print(l100)\n",
    "print()\n",
    "\n",
    "for i in l100:\n",
    "    if (i%4==0) or (i%5==0):\n",
    "        l_4_5.append(i)\n",
    "print(f'List with cube of 4 and 5:\\n{l_4_5}')\n",
    "print()\n",
    "print(f'Length of list of cubes of 4 and 5: {len(l_4_5)}')"
   ]
  },
  {
   "cell_type": "markdown",
   "id": "91f3b9d8-9214-4d12-a5f9-940060c01796",
   "metadata": {},
   "source": [
    "# while loop"
   ]
  },
  {
   "cell_type": "code",
   "execution_count": 34,
   "id": "7734e713-c12d-4cbe-b9e0-089480fe38d3",
   "metadata": {},
   "outputs": [
    {
     "name": "stdout",
     "output_type": "stream",
     "text": [
      "Original list of cube of 100 numbers:\n",
      "[1, 8, 27, 64, 125, 216, 343, 512, 729, 1000, 1331, 1728, 2197, 2744, 3375, 4096, 4913, 5832, 6859, 8000, 9261, 10648, 12167, 13824, 15625, 17576, 19683, 21952, 24389, 27000, 29791, 32768, 35937, 39304, 42875, 46656, 50653, 54872, 59319, 64000, 68921, 74088, 79507, 85184, 91125, 97336, 103823, 110592, 117649, 125000, 132651, 140608, 148877, 157464, 166375, 175616, 185193, 195112, 205379, 216000, 226981, 238328, 250047, 262144, 274625, 287496, 300763, 314432, 328509, 343000, 357911, 373248, 389017, 405224, 421875, 438976, 456533, 474552, 493039, 512000, 531441, 551368, 571787, 592704, 614125, 636056, 658503, 681472, 704969, 729000, 753571, 778688, 804357, 830584, 857375, 884736, 912673, 941192, 970299, 1000000]\n",
      "*********************************************************************************************************************************************************************\n",
      "List of numbers are divisible by 4 or 5:\n",
      "[8, 64, 125, 216, 512, 1000, 1728, 2744, 3375, 4096, 5832, 8000, 10648, 13824, 15625, 17576, 21952, 27000, 32768, 39304, 42875, 46656, 54872, 64000, 74088, 85184, 91125, 97336, 110592, 125000, 140608, 157464, 166375, 175616, 195112, 216000, 238328, 262144, 274625, 287496, 314432, 343000, 373248, 405224, 421875, 438976, 474552, 512000, 551368, 592704, 614125, 636056, 681472, 729000, 778688, 830584, 857375, 884736, 941192, 1000000]\n",
      "\n",
      "Length of list of cubes of 4 and 5: 60\n"
     ]
    }
   ],
   "source": [
    "l_100=[]\n",
    "l_4_5=[]\n",
    "i=1\n",
    "while i<=100:\n",
    "    l_100.append(i**3)\n",
    "    i+=1\n",
    "print(f'Original list of cube of 100 numbers:\\n{l_100}')\n",
    "print(165*'*')\n",
    "j=0\n",
    "while j<len(l_100):\n",
    "    if ((l_100[j]%4)==0) or ((l_100[j]%5)==0):\n",
    "        l_4_5.append(l_100[j])\n",
    "    j+=1\n",
    "print(f'List of numbers are divisible by 4 or 5:\\n{l_4_5}')\n",
    "print()\n",
    "print(f'Length of list of cubes of 4 and 5: {len(l_4_5)}')"
   ]
  },
  {
   "cell_type": "markdown",
   "id": "91e1cd64-4f8a-4235-a85f-ddbef0df37ab",
   "metadata": {},
   "source": [
    "# Q5. Write a program to filter count vowels in the below-given string.\n",
    "\n",
    "# string = \"I want to become a data scientist\""
   ]
  },
  {
   "cell_type": "code",
   "execution_count": 1,
   "id": "e867f6ae-59e1-438c-b322-4f5512366bc7",
   "metadata": {},
   "outputs": [
    {
     "name": "stdout",
     "output_type": "stream",
     "text": [
      "The number of vowels in given string: 12\n"
     ]
    }
   ],
   "source": [
    "string = 'I want to become a data scientist'\n",
    "count=0\n",
    "for i in string:\n",
    "    if i=='':\n",
    "        continue\n",
    "    elif(i=='a')or(i=='A'):\n",
    "        count+=1\n",
    "    elif i=='e' or i=='E':\n",
    "        count+=1\n",
    "    elif i=='i' or i=='I':\n",
    "        count+=1\n",
    "    elif i=='o' or i=='O':\n",
    "        count+=1\n",
    "    elif i=='U' or i=='u':\n",
    "        count+=1\n",
    "print(f'The number of vowels in given string: {count}')"
   ]
  },
  {
   "cell_type": "code",
   "execution_count": null,
   "id": "4ba99406-2d75-4b0e-b2e8-54e50733aad9",
   "metadata": {},
   "outputs": [],
   "source": []
  }
 ],
 "metadata": {
  "kernelspec": {
   "display_name": "Python 3 (ipykernel)",
   "language": "python",
   "name": "python3"
  },
  "language_info": {
   "codemirror_mode": {
    "name": "ipython",
    "version": 3
   },
   "file_extension": ".py",
   "mimetype": "text/x-python",
   "name": "python",
   "nbconvert_exporter": "python",
   "pygments_lexer": "ipython3",
   "version": "3.10.6"
  }
 },
 "nbformat": 4,
 "nbformat_minor": 5
}
