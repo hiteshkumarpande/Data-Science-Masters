{
 "cells": [
  {
   "cell_type": "markdown",
   "id": "d27191e2",
   "metadata": {},
   "source": [
    "# Q1: What is an exception in python? Write the difference between Exceptions and Syntax Errors?"
   ]
  },
  {
   "cell_type": "raw",
   "id": "c582aada",
   "metadata": {},
   "source": [
    "When an unexpected condition is encountered while running a Python code, the program stops its execution and throws an error.\n",
    "There are basically two types of errors in Python: syntax errors and exceptions. To understand the difference between these two types, let's run the following piece of code:\n"
   ]
  },
  {
   "cell_type": "code",
   "execution_count": 3,
   "id": "8117d692",
   "metadata": {},
   "outputs": [
    {
     "ename": "SyntaxError",
     "evalue": "invalid syntax (4217672763.py, line 2)",
     "output_type": "error",
     "traceback": [
      "\u001b[1;36m  File \u001b[1;32m\"C:\\Users\\Hitesh\\AppData\\Local\\Temp\\ipykernel_11260\\4217672763.py\"\u001b[1;36m, line \u001b[1;32m2\u001b[0m\n\u001b[1;33m    print(1)\u001b[0m\n\u001b[1;37m    ^\u001b[0m\n\u001b[1;31mSyntaxError\u001b[0m\u001b[1;31m:\u001b[0m invalid syntax\n"
     ]
    }
   ],
   "source": [
    "print(x\n",
    "print(1)"
   ]
  },
  {
   "cell_type": "raw",
   "id": "7ddd181e",
   "metadata": {},
   "source": [
    "A syntax error was thrown since we forgot to close the parenthesis. This type of error is always raised when we use a statement that is syntactically incorrect in Python. The parser shows the place where the syntax error was detected by a little arrow ^. Notice also that the subsequent line print(1) was not executed since the Python interpreter stopped working when the error occurred.\n",
    "\n",
    "Let's fix this error and re-run the code:"
   ]
  },
  {
   "cell_type": "code",
   "execution_count": 4,
   "id": "64181572",
   "metadata": {},
   "outputs": [
    {
     "ename": "NameError",
     "evalue": "name 'x' is not defined",
     "output_type": "error",
     "traceback": [
      "\u001b[1;31m---------------------------------------------------------------------------\u001b[0m",
      "\u001b[1;31mNameError\u001b[0m                                 Traceback (most recent call last)",
      "\u001b[1;32m~\\AppData\\Local\\Temp\\ipykernel_11260\\971139432.py\u001b[0m in \u001b[0;36m<module>\u001b[1;34m\u001b[0m\n\u001b[1;32m----> 1\u001b[1;33m \u001b[0mprint\u001b[0m\u001b[1;33m(\u001b[0m\u001b[0mx\u001b[0m\u001b[1;33m)\u001b[0m\u001b[1;33m\u001b[0m\u001b[1;33m\u001b[0m\u001b[0m\n\u001b[0m\u001b[0;32m      2\u001b[0m \u001b[0mprint\u001b[0m\u001b[1;33m(\u001b[0m\u001b[1;36m1\u001b[0m\u001b[1;33m)\u001b[0m\u001b[1;33m\u001b[0m\u001b[1;33m\u001b[0m\u001b[0m\n",
      "\u001b[1;31mNameError\u001b[0m: name 'x' is not defined"
     ]
    }
   ],
   "source": [
    "print(x)\n",
    "print(1)"
   ]
  },
  {
   "cell_type": "raw",
   "id": "5b55b1e2",
   "metadata": {},
   "source": [
    "Now when we have fixed the wrong syntax, we got another type of error: an exception. In other words, an exception is a type of error that occurs when a syntactically correct Python code raises an error. An arrow indicates the line where the exception occurred, while the last line of the error message specifies the exact type of exception and provides its description to facilitate debugging. In our case, it is a NameError since we tried to print the value of a variable x that was not defined before. Also in this case, the second line of our piece of code print(1) was not executed because the normal flow of the Python program was interrupted.\n",
    "\n",
    "To prevent a sudden program crash, it is important to catch and handle exceptions. For example, provide an alternative version of the code execution when the given exception occurs."
   ]
  },
  {
   "cell_type": "markdown",
   "id": "46a6304d",
   "metadata": {},
   "source": [
    "## Standard Built-in Types of Exceptions: "
   ]
  },
  {
   "cell_type": "raw",
   "id": "cf457595",
   "metadata": {},
   "source": [
    "Python provides many types of exceptions thrown in various situations. Let's take a look at the most common built-in exceptions with their examples:\n",
    "\n",
    "1) NameError – Raised when a name doesn't exist among either local or global variables:"
   ]
  },
  {
   "cell_type": "code",
   "execution_count": 5,
   "id": "14ca6cdf",
   "metadata": {},
   "outputs": [
    {
     "ename": "NameError",
     "evalue": "name 'x' is not defined",
     "output_type": "error",
     "traceback": [
      "\u001b[1;31m---------------------------------------------------------------------------\u001b[0m",
      "\u001b[1;31mNameError\u001b[0m                                 Traceback (most recent call last)",
      "\u001b[1;32m~\\AppData\\Local\\Temp\\ipykernel_11260\\1353120783.py\u001b[0m in \u001b[0;36m<module>\u001b[1;34m\u001b[0m\n\u001b[1;32m----> 1\u001b[1;33m \u001b[0mprint\u001b[0m\u001b[1;33m(\u001b[0m\u001b[0mx\u001b[0m\u001b[1;33m)\u001b[0m\u001b[1;33m\u001b[0m\u001b[1;33m\u001b[0m\u001b[0m\n\u001b[0m",
      "\u001b[1;31mNameError\u001b[0m: name 'x' is not defined"
     ]
    }
   ],
   "source": [
    "print(x)"
   ]
  },
  {
   "cell_type": "raw",
   "id": "ad280f94",
   "metadata": {},
   "source": [
    "2) TypeError – Raised when an operation is run on an inapplicable data type:"
   ]
  },
  {
   "cell_type": "code",
   "execution_count": 6,
   "id": "e4e9d8e1",
   "metadata": {},
   "outputs": [
    {
     "ename": "TypeError",
     "evalue": "unsupported operand type(s) for +: 'int' and 'str'",
     "output_type": "error",
     "traceback": [
      "\u001b[1;31m---------------------------------------------------------------------------\u001b[0m",
      "\u001b[1;31mTypeError\u001b[0m                                 Traceback (most recent call last)",
      "\u001b[1;32m~\\AppData\\Local\\Temp\\ipykernel_11260\\218464413.py\u001b[0m in \u001b[0;36m<module>\u001b[1;34m\u001b[0m\n\u001b[1;32m----> 1\u001b[1;33m \u001b[0mprint\u001b[0m\u001b[1;33m(\u001b[0m\u001b[1;36m1\u001b[0m\u001b[1;33m+\u001b[0m\u001b[1;34m'1'\u001b[0m\u001b[1;33m)\u001b[0m\u001b[1;33m\u001b[0m\u001b[1;33m\u001b[0m\u001b[0m\n\u001b[0m",
      "\u001b[1;31mTypeError\u001b[0m: unsupported operand type(s) for +: 'int' and 'str'"
     ]
    }
   ],
   "source": [
    "print(1+'1')"
   ]
  },
  {
   "cell_type": "raw",
   "id": "34e93e7b",
   "metadata": {},
   "source": [
    "3) ValueError – Raised when an operation or function takes in an invalid value of an argument:"
   ]
  },
  {
   "cell_type": "code",
   "execution_count": 7,
   "id": "f7922ac1",
   "metadata": {},
   "outputs": [
    {
     "ename": "ValueError",
     "evalue": "invalid literal for int() with base 10: 'a'",
     "output_type": "error",
     "traceback": [
      "\u001b[1;31m---------------------------------------------------------------------------\u001b[0m",
      "\u001b[1;31mValueError\u001b[0m                                Traceback (most recent call last)",
      "\u001b[1;32m~\\AppData\\Local\\Temp\\ipykernel_11260\\3219923713.py\u001b[0m in \u001b[0;36m<module>\u001b[1;34m\u001b[0m\n\u001b[1;32m----> 1\u001b[1;33m \u001b[0mprint\u001b[0m\u001b[1;33m(\u001b[0m\u001b[0mint\u001b[0m\u001b[1;33m(\u001b[0m\u001b[1;34m'a'\u001b[0m\u001b[1;33m)\u001b[0m\u001b[1;33m)\u001b[0m\u001b[1;33m\u001b[0m\u001b[1;33m\u001b[0m\u001b[0m\n\u001b[0m",
      "\u001b[1;31mValueError\u001b[0m: invalid literal for int() with base 10: 'a'"
     ]
    }
   ],
   "source": [
    "print(int('a'))"
   ]
  },
  {
   "cell_type": "raw",
   "id": "8927611e",
   "metadata": {},
   "source": [
    "4) IndexError – Raised when an index doesn't exist in an iterable:"
   ]
  },
  {
   "cell_type": "code",
   "execution_count": 9,
   "id": "a947a7d7",
   "metadata": {},
   "outputs": [
    {
     "ename": "IndexError",
     "evalue": "string index out of range",
     "output_type": "error",
     "traceback": [
      "\u001b[1;31m---------------------------------------------------------------------------\u001b[0m",
      "\u001b[1;31mIndexError\u001b[0m                                Traceback (most recent call last)",
      "\u001b[1;32m~\\AppData\\Local\\Temp\\ipykernel_11260\\3047350370.py\u001b[0m in \u001b[0;36m<module>\u001b[1;34m\u001b[0m\n\u001b[1;32m----> 1\u001b[1;33m \u001b[0mprint\u001b[0m\u001b[1;33m(\u001b[0m\u001b[1;34m'bat'\u001b[0m\u001b[1;33m[\u001b[0m\u001b[1;36m3\u001b[0m\u001b[1;33m]\u001b[0m\u001b[1;33m)\u001b[0m\u001b[1;33m\u001b[0m\u001b[1;33m\u001b[0m\u001b[0m\n\u001b[0m",
      "\u001b[1;31mIndexError\u001b[0m: string index out of range"
     ]
    }
   ],
   "source": [
    "print('bat'[3])"
   ]
  },
  {
   "cell_type": "raw",
   "id": "8d2b1df8",
   "metadata": {},
   "source": [
    "5) IndentationError – Raised when indentation is incorrect:\n"
   ]
  },
  {
   "cell_type": "code",
   "execution_count": 11,
   "id": "91df4ecf",
   "metadata": {},
   "outputs": [
    {
     "ename": "IndentationError",
     "evalue": "expected an indented block (3296739069.py, line 2)",
     "output_type": "error",
     "traceback": [
      "\u001b[1;36m  File \u001b[1;32m\"C:\\Users\\Hitesh\\AppData\\Local\\Temp\\ipykernel_11260\\3296739069.py\"\u001b[1;36m, line \u001b[1;32m2\u001b[0m\n\u001b[1;33m    print(i)\u001b[0m\n\u001b[1;37m    ^\u001b[0m\n\u001b[1;31mIndentationError\u001b[0m\u001b[1;31m:\u001b[0m expected an indented block\n"
     ]
    }
   ],
   "source": [
    "for i in range(3):\n",
    "print(i)"
   ]
  },
  {
   "cell_type": "raw",
   "id": "f90a6861",
   "metadata": {},
   "source": [
    "6) ZeroDivisionError – Raised at attempt to divide a number by zero:"
   ]
  },
  {
   "cell_type": "code",
   "execution_count": 12,
   "id": "846a7cc9",
   "metadata": {},
   "outputs": [
    {
     "ename": "ZeroDivisionError",
     "evalue": "division by zero",
     "output_type": "error",
     "traceback": [
      "\u001b[1;31m---------------------------------------------------------------------------\u001b[0m",
      "\u001b[1;31mZeroDivisionError\u001b[0m                         Traceback (most recent call last)",
      "\u001b[1;32m~\\AppData\\Local\\Temp\\ipykernel_11260\\165659023.py\u001b[0m in \u001b[0;36m<module>\u001b[1;34m\u001b[0m\n\u001b[1;32m----> 1\u001b[1;33m \u001b[0mprint\u001b[0m\u001b[1;33m(\u001b[0m\u001b[1;36m1\u001b[0m\u001b[1;33m/\u001b[0m\u001b[1;36m0\u001b[0m\u001b[1;33m)\u001b[0m\u001b[1;33m\u001b[0m\u001b[1;33m\u001b[0m\u001b[0m\n\u001b[0m",
      "\u001b[1;31mZeroDivisionError\u001b[0m: division by zero"
     ]
    }
   ],
   "source": [
    "print(1/0)"
   ]
  },
  {
   "cell_type": "raw",
   "id": "0ebcf276",
   "metadata": {},
   "source": [
    "7) ImportError – Raised when an import statement is incorrect:\n",
    "\n"
   ]
  },
  {
   "cell_type": "code",
   "execution_count": 13,
   "id": "9b863bb0",
   "metadata": {},
   "outputs": [
    {
     "ename": "ImportError",
     "evalue": "cannot import name 'pandas' from 'numpy' (C:\\Users\\Hitesh\\anaconda3\\lib\\site-packages\\numpy\\__init__.py)",
     "output_type": "error",
     "traceback": [
      "\u001b[1;31m---------------------------------------------------------------------------\u001b[0m",
      "\u001b[1;31mImportError\u001b[0m                               Traceback (most recent call last)",
      "\u001b[1;32m~\\AppData\\Local\\Temp\\ipykernel_11260\\3955928270.py\u001b[0m in \u001b[0;36m<module>\u001b[1;34m\u001b[0m\n\u001b[1;32m----> 1\u001b[1;33m \u001b[1;32mfrom\u001b[0m \u001b[0mnumpy\u001b[0m \u001b[1;32mimport\u001b[0m \u001b[0mpandas\u001b[0m\u001b[1;33m\u001b[0m\u001b[1;33m\u001b[0m\u001b[0m\n\u001b[0m",
      "\u001b[1;31mImportError\u001b[0m: cannot import name 'pandas' from 'numpy' (C:\\Users\\Hitesh\\anaconda3\\lib\\site-packages\\numpy\\__init__.py)"
     ]
    }
   ],
   "source": [
    "from numpy import pandas"
   ]
  },
  {
   "cell_type": "raw",
   "id": "b158bf6b",
   "metadata": {},
   "source": [
    "8) AttributeError – Raised at attempt to assign or refer an attribute inapplicable for a given Python object:\n",
    "\n"
   ]
  },
  {
   "cell_type": "code",
   "execution_count": 14,
   "id": "4253db8a",
   "metadata": {
    "scrolled": true
   },
   "outputs": [
    {
     "ename": "AttributeError",
     "evalue": "'str' object has no attribute 'sum'",
     "output_type": "error",
     "traceback": [
      "\u001b[1;31m---------------------------------------------------------------------------\u001b[0m",
      "\u001b[1;31mAttributeError\u001b[0m                            Traceback (most recent call last)",
      "\u001b[1;32m~\\AppData\\Local\\Temp\\ipykernel_11260\\2316121794.py\u001b[0m in \u001b[0;36m<module>\u001b[1;34m\u001b[0m\n\u001b[1;32m----> 1\u001b[1;33m \u001b[0mprint\u001b[0m\u001b[1;33m(\u001b[0m\u001b[1;34m'a'\u001b[0m\u001b[1;33m.\u001b[0m\u001b[0msum\u001b[0m\u001b[1;33m(\u001b[0m\u001b[1;33m)\u001b[0m\u001b[1;33m)\u001b[0m\u001b[1;33m\u001b[0m\u001b[1;33m\u001b[0m\u001b[0m\n\u001b[0m",
      "\u001b[1;31mAttributeError\u001b[0m: 'str' object has no attribute 'sum'"
     ]
    }
   ],
   "source": [
    "print('a'.sum())"
   ]
  },
  {
   "cell_type": "raw",
   "id": "3a9944f5",
   "metadata": {},
   "source": [
    "9) KeyError – Raised when the key is absent in the dictionary: "
   ]
  },
  {
   "cell_type": "code",
   "execution_count": 16,
   "id": "bbdc2ce2",
   "metadata": {},
   "outputs": [
    {
     "ename": "KeyError",
     "evalue": "'rabbit'",
     "output_type": "error",
     "traceback": [
      "\u001b[1;31m---------------------------------------------------------------------------\u001b[0m",
      "\u001b[1;31mKeyError\u001b[0m                                  Traceback (most recent call last)",
      "\u001b[1;32m~\\AppData\\Local\\Temp\\ipykernel_11260\\1340951462.py\u001b[0m in \u001b[0;36m<module>\u001b[1;34m\u001b[0m\n\u001b[0;32m      1\u001b[0m \u001b[0manimals\u001b[0m \u001b[1;33m=\u001b[0m \u001b[1;33m{\u001b[0m\u001b[1;34m'koala'\u001b[0m\u001b[1;33m:\u001b[0m \u001b[1;36m1\u001b[0m\u001b[1;33m,\u001b[0m \u001b[1;34m'panda'\u001b[0m\u001b[1;33m:\u001b[0m \u001b[1;36m2\u001b[0m\u001b[1;33m}\u001b[0m\u001b[1;33m\u001b[0m\u001b[1;33m\u001b[0m\u001b[0m\n\u001b[1;32m----> 2\u001b[1;33m \u001b[0mprint\u001b[0m\u001b[1;33m(\u001b[0m\u001b[0manimals\u001b[0m\u001b[1;33m[\u001b[0m\u001b[1;34m'rabbit'\u001b[0m\u001b[1;33m]\u001b[0m\u001b[1;33m)\u001b[0m\u001b[1;33m\u001b[0m\u001b[1;33m\u001b[0m\u001b[0m\n\u001b[0m",
      "\u001b[1;31mKeyError\u001b[0m: 'rabbit'"
     ]
    }
   ],
   "source": [
    "animals = {'koala': 1, 'panda': 2}\n",
    "print(animals['rabbit'])"
   ]
  },
  {
   "cell_type": "markdown",
   "id": "22241fdf",
   "metadata": {},
   "source": [
    "# Syntax Errors:"
   ]
  },
  {
   "cell_type": "raw",
   "id": "21289570",
   "metadata": {},
   "source": [
    "a) Syntax errors, also known as parsing errors, occur when the Python interpreter encounters code that violates the rules of the Python language's syntax.\n",
    "\n",
    "b) These errors typically prevent your code from running at all, and they are detected during the compilation or parsing phase before the program is executed.\n",
    "\n",
    "c) Syntax errors are caused by issues like missing colons, incorrect indentation, misspelled keywords, or invalid variable names."
   ]
  },
  {
   "cell_type": "markdown",
   "id": "52701761",
   "metadata": {},
   "source": [
    "## Examples of syntax errors: "
   ]
  },
  {
   "cell_type": "raw",
   "id": "5e13ff35",
   "metadata": {},
   "source": [
    "a) Missing a colon at the end of an 'if' statement:"
   ]
  },
  {
   "cell_type": "code",
   "execution_count": 17,
   "id": "712113b6",
   "metadata": {},
   "outputs": [
    {
     "ename": "SyntaxError",
     "evalue": "invalid syntax (1886701350.py, line 1)",
     "output_type": "error",
     "traceback": [
      "\u001b[1;36m  File \u001b[1;32m\"C:\\Users\\Hitesh\\AppData\\Local\\Temp\\ipykernel_11260\\1886701350.py\"\u001b[1;36m, line \u001b[1;32m1\u001b[0m\n\u001b[1;33m    if x>5  # SyntaxError\u001b[0m\n\u001b[1;37m            ^\u001b[0m\n\u001b[1;31mSyntaxError\u001b[0m\u001b[1;31m:\u001b[0m invalid syntax\n"
     ]
    }
   ],
   "source": [
    "if x>5  # SyntaxError"
   ]
  },
  {
   "cell_type": "raw",
   "id": "4062002d",
   "metadata": {},
   "source": [
    "b) Misspelling the 'print' function:"
   ]
  },
  {
   "cell_type": "code",
   "execution_count": 20,
   "id": "78ab147d",
   "metadata": {},
   "outputs": [
    {
     "ename": "NameError",
     "evalue": "name 'prnt' is not defined",
     "output_type": "error",
     "traceback": [
      "\u001b[1;31m---------------------------------------------------------------------------\u001b[0m",
      "\u001b[1;31mNameError\u001b[0m                                 Traceback (most recent call last)",
      "\u001b[1;32m~\\AppData\\Local\\Temp\\ipykernel_11260\\3278766168.py\u001b[0m in \u001b[0;36m<module>\u001b[1;34m\u001b[0m\n\u001b[1;32m----> 1\u001b[1;33m \u001b[0mprnt\u001b[0m\u001b[1;33m(\u001b[0m\u001b[1;34m\"Hello, World!\"\u001b[0m\u001b[1;33m)\u001b[0m  \u001b[1;31m#SyntaxError\u001b[0m\u001b[1;33m\u001b[0m\u001b[1;33m\u001b[0m\u001b[0m\n\u001b[0m",
      "\u001b[1;31mNameError\u001b[0m: name 'prnt' is not defined"
     ]
    }
   ],
   "source": [
    "prnt(\"Hello, World!\")  #SyntaxError"
   ]
  },
  {
   "cell_type": "markdown",
   "id": "2587a0da",
   "metadata": {},
   "source": [
    "## Examples of Exceptions:"
   ]
  },
  {
   "cell_type": "markdown",
   "id": "8fd33889",
   "metadata": {},
   "source": [
    "## Ex-1"
   ]
  },
  {
   "cell_type": "code",
   "execution_count": 23,
   "id": "50e4c977",
   "metadata": {},
   "outputs": [
    {
     "name": "stdout",
     "output_type": "stream",
     "text": [
      "division by zero\n"
     ]
    }
   ],
   "source": [
    "try:\n",
    "    a=10/0\n",
    "except Exception as e:\n",
    "          print(e)"
   ]
  },
  {
   "cell_type": "code",
   "execution_count": 33,
   "id": "df367f91",
   "metadata": {},
   "outputs": [
    {
     "name": "stdout",
     "output_type": "stream",
     "text": [
      "'rabbit'\n"
     ]
    }
   ],
   "source": [
    "animals = {'koala': 1, 'panda': 2}\n",
    "try:\n",
    "    print(animals['rabbit'])\n",
    "except Exception as e:\n",
    "          print(e)"
   ]
  },
  {
   "cell_type": "code",
   "execution_count": 38,
   "id": "0368fd38",
   "metadata": {},
   "outputs": [
    {
     "name": "stdout",
     "output_type": "stream",
     "text": [
      "please declare the variabe y first.\n"
     ]
    }
   ],
   "source": [
    "try:\n",
    "    print(y)\n",
    "except NameError as e:\n",
    "    print('please declare the variabe y first.')"
   ]
  },
  {
   "cell_type": "code",
   "execution_count": null,
   "id": "40ff719a",
   "metadata": {},
   "outputs": [],
   "source": []
  },
  {
   "cell_type": "markdown",
   "id": "2247e90e",
   "metadata": {},
   "source": [
    "# Q-2: What happen when an exception is not handled?Explain with an example."
   ]
  },
  {
   "cell_type": "raw",
   "id": "816a23d9",
   "metadata": {},
   "source": [
    "when syntactically correct code runs into an error, Python will throw an exception error. This exception error will crash the program if it is unhandled."
   ]
  },
  {
   "cell_type": "raw",
   "id": "50c1941a",
   "metadata": {},
   "source": [
    "When an exception is not handled in Python, it leads to the termination of the program's normal execution flow. The Python interpreter will print an error message along with a traceback to the standard error (usually the console) to help you identify the location and nature of the unhandled exception. After printing the error message and traceback, the program will exit."
   ]
  },
  {
   "cell_type": "code",
   "execution_count": 39,
   "id": "2106f1eb",
   "metadata": {},
   "outputs": [
    {
     "ename": "ZeroDivisionError",
     "evalue": "division by zero",
     "output_type": "error",
     "traceback": [
      "\u001b[1;31m---------------------------------------------------------------------------\u001b[0m",
      "\u001b[1;31mZeroDivisionError\u001b[0m                         Traceback (most recent call last)",
      "\u001b[1;32m~\\AppData\\Local\\Temp\\ipykernel_11260\\4124253026.py\u001b[0m in \u001b[0;36m<module>\u001b[1;34m\u001b[0m\n\u001b[0;32m      2\u001b[0m     \u001b[1;32mreturn\u001b[0m\u001b[1;33m(\u001b[0m\u001b[0mx\u001b[0m\u001b[1;33m/\u001b[0m\u001b[0my\u001b[0m\u001b[1;33m)\u001b[0m\u001b[1;33m\u001b[0m\u001b[1;33m\u001b[0m\u001b[0m\n\u001b[0;32m      3\u001b[0m \u001b[1;33m\u001b[0m\u001b[0m\n\u001b[1;32m----> 4\u001b[1;33m \u001b[0mresult\u001b[0m\u001b[1;33m=\u001b[0m\u001b[0mdivide\u001b[0m\u001b[1;33m(\u001b[0m\u001b[1;36m10\u001b[0m\u001b[1;33m,\u001b[0m\u001b[1;36m0\u001b[0m\u001b[1;33m)\u001b[0m\u001b[1;33m\u001b[0m\u001b[1;33m\u001b[0m\u001b[0m\n\u001b[0m\u001b[0;32m      5\u001b[0m \u001b[0mprint\u001b[0m\u001b[1;33m(\u001b[0m\u001b[1;34m\"Result:\"\u001b[0m\u001b[1;33m,\u001b[0m\u001b[0mresult\u001b[0m\u001b[1;33m)\u001b[0m\u001b[1;33m\u001b[0m\u001b[1;33m\u001b[0m\u001b[0m\n",
      "\u001b[1;32m~\\AppData\\Local\\Temp\\ipykernel_11260\\4124253026.py\u001b[0m in \u001b[0;36mdivide\u001b[1;34m(x, y)\u001b[0m\n\u001b[0;32m      1\u001b[0m \u001b[1;32mdef\u001b[0m \u001b[0mdivide\u001b[0m\u001b[1;33m(\u001b[0m\u001b[0mx\u001b[0m\u001b[1;33m,\u001b[0m\u001b[0my\u001b[0m\u001b[1;33m)\u001b[0m\u001b[1;33m:\u001b[0m\u001b[1;33m\u001b[0m\u001b[1;33m\u001b[0m\u001b[0m\n\u001b[1;32m----> 2\u001b[1;33m     \u001b[1;32mreturn\u001b[0m\u001b[1;33m(\u001b[0m\u001b[0mx\u001b[0m\u001b[1;33m/\u001b[0m\u001b[0my\u001b[0m\u001b[1;33m)\u001b[0m\u001b[1;33m\u001b[0m\u001b[1;33m\u001b[0m\u001b[0m\n\u001b[0m\u001b[0;32m      3\u001b[0m \u001b[1;33m\u001b[0m\u001b[0m\n\u001b[0;32m      4\u001b[0m \u001b[0mresult\u001b[0m\u001b[1;33m=\u001b[0m\u001b[0mdivide\u001b[0m\u001b[1;33m(\u001b[0m\u001b[1;36m10\u001b[0m\u001b[1;33m,\u001b[0m\u001b[1;36m0\u001b[0m\u001b[1;33m)\u001b[0m\u001b[1;33m\u001b[0m\u001b[1;33m\u001b[0m\u001b[0m\n\u001b[0;32m      5\u001b[0m \u001b[0mprint\u001b[0m\u001b[1;33m(\u001b[0m\u001b[1;34m\"Result:\"\u001b[0m\u001b[1;33m,\u001b[0m\u001b[0mresult\u001b[0m\u001b[1;33m)\u001b[0m\u001b[1;33m\u001b[0m\u001b[1;33m\u001b[0m\u001b[0m\n",
      "\u001b[1;31mZeroDivisionError\u001b[0m: division by zero"
     ]
    }
   ],
   "source": [
    "def divide(x,y):\n",
    "    return(x/y)\n",
    "\n",
    "result=divide(10,0)\n",
    "print(\"Result:\",result)"
   ]
  },
  {
   "cell_type": "raw",
   "id": "012afaba",
   "metadata": {},
   "source": [
    "In the above example, we have a function divide that attempts to perform a division operation. In the divide(10, 0) call, we are trying to divide 10 by 0, which results in a ZeroDivisionError because division by zero is not allowed in Python.\n",
    "\n",
    "Below is the exception part of above error, How we handled Exception within \"try...except\" block to catch the exception and provide custom error handling code."
   ]
  },
  {
   "cell_type": "code",
   "execution_count": 40,
   "id": "55b6abfc",
   "metadata": {},
   "outputs": [
    {
     "name": "stdout",
     "output_type": "stream",
     "text": [
      "division by zero\n"
     ]
    }
   ],
   "source": [
    "def divide(x,y):\n",
    "    return x/y\n",
    "\n",
    "try:\n",
    "    result=divide(10,0)\n",
    "    print(\"Result:\",result)\n",
    "except Exception as e:\n",
    "    print(e)"
   ]
  },
  {
   "cell_type": "markdown",
   "id": "722dc292",
   "metadata": {},
   "source": [
    "# Q-3) Which Python statements are used to catch and handle exceptions? Explain with an example."
   ]
  },
  {
   "cell_type": "raw",
   "id": "9f5e6e1a",
   "metadata": {},
   "source": [
    "The try and except block in Python is used to catch and handle exceptions. Python executes code following the try statement as a “normal” part of the program."
   ]
  },
  {
   "cell_type": "markdown",
   "id": "39febcab",
   "metadata": {},
   "source": [
    "## Python try...except Block"
   ]
  },
  {
   "cell_type": "raw",
   "id": "0a7b4e8c",
   "metadata": {},
   "source": [
    "The try...except block is used to handle exceptions in Python. Here's the syntax of try...except block:\n",
    "\n",
    "try:\n",
    "    # code that may cause exception\n",
    "except:\n",
    "    # code to run when exception occurs\n",
    "\n",
    "Here, we have placed the code that might generate an exception inside the try block. Every try block is followed by an except block.\n",
    "\n",
    "When an exception occurs, it is caught by the except block. The except block cannot be used without the try block.\n"
   ]
  },
  {
   "cell_type": "markdown",
   "id": "966ebdac",
   "metadata": {},
   "source": [
    "## Example: Exception Handling Using try...except"
   ]
  },
  {
   "cell_type": "code",
   "execution_count": 43,
   "id": "f0a1cfd6",
   "metadata": {},
   "outputs": [
    {
     "name": "stdout",
     "output_type": "stream",
     "text": [
      "Enter any number:\n",
      "12\n",
      "Error: Denominator cannot be 0.\n",
      "Error is division by zero\n"
     ]
    }
   ],
   "source": [
    "try:\n",
    "    a=int(input('Enter any number:\\n'))\n",
    "    print(a/0)\n",
    "except Exception as e:\n",
    "    print(\"Error: Denominator cannot be 0.\")\n",
    "    print(f'Error is {e}')"
   ]
  },
  {
   "cell_type": "markdown",
   "id": "c4dc0c36",
   "metadata": {},
   "source": [
    "# Catching Specific Exceptions in Python:"
   ]
  },
  {
   "cell_type": "raw",
   "id": "dc2dc649",
   "metadata": {},
   "source": [
    "For each try block, there can be zero or more except blocks. Multiple except blocks allow us to handle each exception differently.\n",
    "\n",
    "The argument type of each except block indicates the type of exception that can be handled by it."
   ]
  },
  {
   "cell_type": "code",
   "execution_count": 47,
   "id": "f4d7f5ea",
   "metadata": {},
   "outputs": [
    {
     "name": "stdout",
     "output_type": "stream",
     "text": [
      "Index Out of Bound.\n"
     ]
    }
   ],
   "source": [
    "try:\n",
    "    even_numbers=[2,4,6,8]\n",
    "    print(even_numbers[5])\n",
    "except ZeroDivisionError:\n",
    "    print(\"Denominator cannot be 0.\")\n",
    "except IndexError:\n",
    "    print(\"Index Out of Bound.\")"
   ]
  },
  {
   "cell_type": "raw",
   "id": "59629ab1",
   "metadata": {},
   "source": [
    "In this example, we have created a list named even_numbers.\n",
    "\n",
    "Since the list index starts from 0, the last element of the list is at index 3."
   ]
  },
  {
   "cell_type": "code",
   "execution_count": 48,
   "id": "4ea3f5b3",
   "metadata": {},
   "outputs": [
    {
     "ename": "IndexError",
     "evalue": "list index out of range",
     "output_type": "error",
     "traceback": [
      "\u001b[1;31m---------------------------------------------------------------------------\u001b[0m",
      "\u001b[1;31mIndexError\u001b[0m                                Traceback (most recent call last)",
      "\u001b[1;32m~\\AppData\\Local\\Temp\\ipykernel_11260\\4090718137.py\u001b[0m in \u001b[0;36m<module>\u001b[1;34m\u001b[0m\n\u001b[1;32m----> 1\u001b[1;33m \u001b[0mprint\u001b[0m\u001b[1;33m(\u001b[0m\u001b[0meven_numbers\u001b[0m\u001b[1;33m[\u001b[0m\u001b[1;36m5\u001b[0m\u001b[1;33m]\u001b[0m\u001b[1;33m)\u001b[0m\u001b[1;33m\u001b[0m\u001b[1;33m\u001b[0m\u001b[0m\n\u001b[0m",
      "\u001b[1;31mIndexError\u001b[0m: list index out of range"
     ]
    }
   ],
   "source": [
    "print(even_numbers[5])"
   ]
  },
  {
   "cell_type": "raw",
   "id": "dca0d3a1",
   "metadata": {},
   "source": [
    "Here, we are trying to access a value to the index 5. Hence, IndexError exception occurs.\n",
    "\n",
    "When the IndexError exception occurs in the try block,\n",
    "\n",
    "   a) The ZeroDivisionError exception is skipped.\n",
    "   \n",
    "   b)The set of code inside the IndexError exception is executed.\n",
    "\n"
   ]
  },
  {
   "cell_type": "markdown",
   "id": "bbe75640",
   "metadata": {},
   "source": [
    "# Q-4) Explain with an example:\n",
    "#     a) try and else\n",
    "#     b) finally\n",
    "#     c) raise"
   ]
  },
  {
   "cell_type": "markdown",
   "id": "a9c3de1a",
   "metadata": {},
   "source": [
    "## a) try and else:"
   ]
  },
  {
   "cell_type": "raw",
   "id": "ea692412",
   "metadata": {},
   "source": [
    "The try block lets you test a block of code for errors.\n",
    "\n",
    "The else block lets you execute code when there is no error.\n",
    "\n",
    "The else block will executed once your try block will execute without any error."
   ]
  },
  {
   "cell_type": "code",
   "execution_count": 50,
   "id": "16ffc4b8",
   "metadata": {},
   "outputs": [
    {
     "name": "stdout",
     "output_type": "stream",
     "text": [
      "Hello\n",
      "Nothing went wrong\n"
     ]
    }
   ],
   "source": [
    "try:\n",
    "    print(\"Hello\")\n",
    "except:\n",
    "      print(\"Something went wrong\")\n",
    "else:\n",
    "      print(\"Nothing went wrong\")\n"
   ]
  },
  {
   "cell_type": "code",
   "execution_count": 4,
   "id": "cdbdbb3c",
   "metadata": {},
   "outputs": [
    {
     "name": "stdout",
     "output_type": "stream",
     "text": [
      "Sorry! You are dividing by zero \n",
      "Enter the value of first parameters:\n",
      "45\n",
      "Enter the value of first parameters:\n",
      "4\n",
      "Yeah ! Your answer is : 11\n"
     ]
    }
   ],
   "source": [
    "def divide(x,y):\n",
    "    try:\n",
    "        result=x//y\n",
    "    except ZeroDivisionError:\n",
    "        print(\"Sorry! You are dividing by zero \")\n",
    "    else:\n",
    "        print(\"Yeah ! Your answer is :\",result)\n",
    "        \n",
    "# Look at parameters and note the working of program:\n",
    "# divide(3,2)\n",
    "divide(10,0)\n",
    "divide(int(input(\"Enter the value of first parameters:\\n\")),int(input(\"Enter the value of first parameters:\\n\")))"
   ]
  },
  {
   "cell_type": "markdown",
   "id": "e08c091b",
   "metadata": {},
   "source": [
    "# Else Clause:"
   ]
  },
  {
   "cell_type": "raw",
   "id": "18c2b2a8",
   "metadata": {},
   "source": [
    "The code enters the else block only if the try clause does not raise an exception."
   ]
  },
  {
   "cell_type": "markdown",
   "id": "1a4573cb",
   "metadata": {},
   "source": [
    "## Example:Else block will execute \"only when no exception occurs\"."
   ]
  },
  {
   "cell_type": "code",
   "execution_count": 5,
   "id": "f856e5b3",
   "metadata": {},
   "outputs": [
    {
     "name": "stdout",
     "output_type": "stream",
     "text": [
      "Sorry! You are dividing by zero \n",
      "Enter the value of first parameters:\n",
      "10\n",
      "Enter the value of first parameters:\n",
      "0\n",
      "Sorry! You are dividing by zero \n"
     ]
    }
   ],
   "source": [
    "def divide(x,y):\n",
    "    try:\n",
    "        result=x//y\n",
    "    except ZeroDivisionError:\n",
    "        print(\"Sorry! You are dividing by zero \")\n",
    "    else:\n",
    "        print(\"Yeah ! Your answer is :\",result)\n",
    "        \n",
    "# Look at parameters and note the working of program:\n",
    "# divide(3,2)\n",
    "divide(10,0)\n",
    "divide(int(input(\"Enter the value of first parameters:\\n\")),int(input(\"Enter the value of first parameters:\\n\")))"
   ]
  },
  {
   "cell_type": "markdown",
   "id": "7e0f5341",
   "metadata": {},
   "source": [
    "## b) Finally:"
   ]
  },
  {
   "cell_type": "raw",
   "id": "6e840588",
   "metadata": {},
   "source": [
    "The finally keyword is used in try...except blocks. It defines a block of code to run when the try...except...else block is final.\n",
    "\n",
    "The finally block will be executed no matter if the try block raises an error or not."
   ]
  },
  {
   "cell_type": "markdown",
   "id": "7ebdb0cc",
   "metadata": {},
   "source": [
    "## Example\n",
    "\n",
    "\n",
    "The finally block will always be executed, no matter if the try block raises an error or not:"
   ]
  },
  {
   "cell_type": "code",
   "execution_count": 2,
   "id": "77f94d5e",
   "metadata": {},
   "outputs": [
    {
     "name": "stdout",
     "output_type": "stream",
     "text": [
      "Enter any number:\n",
      "5\n",
      "Entered number is 5 , which is greater than 3.\n",
      "Nothing went wrong\n",
      "The try...except block is finished.\n"
     ]
    }
   ],
   "source": [
    "try:\n",
    "    x=int(input(\"Enter any number:\\n\"))\n",
    "    if x>3:\n",
    "        print(f\"Entered number is {x} , which is greater than 3.\")\n",
    "except:\n",
    "    print(\"Something went wrong.\")\n",
    "else:\n",
    "    print(\"Nothing went wrong\")\n",
    "finally:\n",
    "    print(\"The try...except block is finished.\")"
   ]
  },
  {
   "cell_type": "markdown",
   "id": "bae9a3a9",
   "metadata": {},
   "source": [
    "## c) raise:"
   ]
  },
  {
   "cell_type": "raw",
   "id": "3914f4b4",
   "metadata": {},
   "source": [
    "The raise keyword is used to raise an exception.\n",
    "\n",
    "You can define what kind of error to raise, and the text to print to the user."
   ]
  },
  {
   "cell_type": "markdown",
   "id": "e4e6c4c9",
   "metadata": {},
   "source": [
    "## Example: Raise an error and stop the program if x is lower than 0."
   ]
  },
  {
   "cell_type": "code",
   "execution_count": 16,
   "id": "ff042f9d",
   "metadata": {},
   "outputs": [
    {
     "name": "stdout",
     "output_type": "stream",
     "text": [
      "-5\n"
     ]
    },
    {
     "ename": "Exception",
     "evalue": "Sorry, no numbers below zero",
     "output_type": "error",
     "traceback": [
      "\u001b[1;31m---------------------------------------------------------------------------\u001b[0m",
      "\u001b[1;31mException\u001b[0m                                 Traceback (most recent call last)",
      "\u001b[1;32m~\\AppData\\Local\\Temp\\ipykernel_1364\\700431227.py\u001b[0m in \u001b[0;36m<module>\u001b[1;34m\u001b[0m\n\u001b[0;32m      1\u001b[0m \u001b[0mx\u001b[0m\u001b[1;33m=\u001b[0m\u001b[0mint\u001b[0m\u001b[1;33m(\u001b[0m\u001b[0minput\u001b[0m\u001b[1;33m(\u001b[0m\u001b[1;33m)\u001b[0m\u001b[1;33m)\u001b[0m\u001b[1;33m\u001b[0m\u001b[1;33m\u001b[0m\u001b[0m\n\u001b[0;32m      2\u001b[0m \u001b[1;32mif\u001b[0m \u001b[0mx\u001b[0m\u001b[1;33m<\u001b[0m\u001b[1;36m0\u001b[0m\u001b[1;33m:\u001b[0m\u001b[1;33m\u001b[0m\u001b[1;33m\u001b[0m\u001b[0m\n\u001b[1;32m----> 3\u001b[1;33m     \u001b[1;32mraise\u001b[0m \u001b[0mException\u001b[0m\u001b[1;33m(\u001b[0m\u001b[1;34m\"Sorry, no numbers below zero\"\u001b[0m\u001b[1;33m)\u001b[0m\u001b[1;33m\u001b[0m\u001b[1;33m\u001b[0m\u001b[0m\n\u001b[0m\u001b[0;32m      4\u001b[0m \u001b[1;32melse\u001b[0m\u001b[1;33m:\u001b[0m\u001b[1;33m\u001b[0m\u001b[1;33m\u001b[0m\u001b[0m\n\u001b[0;32m      5\u001b[0m     \u001b[0mprint\u001b[0m\u001b[1;33m(\u001b[0m\u001b[0mx\u001b[0m\u001b[1;33m)\u001b[0m\u001b[1;33m\u001b[0m\u001b[1;33m\u001b[0m\u001b[0m\n",
      "\u001b[1;31mException\u001b[0m: Sorry, no numbers below zero"
     ]
    }
   ],
   "source": [
    "x=int(input())\n",
    "if x<0:\n",
    "    raise Exception(\"Sorry, no numbers below zero\")\n",
    "else:\n",
    "    print(x)"
   ]
  },
  {
   "cell_type": "markdown",
   "id": "1477d201",
   "metadata": {},
   "source": [
    "## Example-2: Raise a TypeError if x is not an integer."
   ]
  },
  {
   "cell_type": "code",
   "execution_count": 17,
   "id": "d8311b5a",
   "metadata": {},
   "outputs": [
    {
     "ename": "TypeError",
     "evalue": "Only integers are allowed.",
     "output_type": "error",
     "traceback": [
      "\u001b[1;31m---------------------------------------------------------------------------\u001b[0m",
      "\u001b[1;31mTypeError\u001b[0m                                 Traceback (most recent call last)",
      "\u001b[1;32m~\\AppData\\Local\\Temp\\ipykernel_1364\\1059726897.py\u001b[0m in \u001b[0;36m<module>\u001b[1;34m\u001b[0m\n\u001b[0;32m      1\u001b[0m \u001b[0mx\u001b[0m\u001b[1;33m=\u001b[0m\u001b[1;34m\"hello\"\u001b[0m\u001b[1;33m\u001b[0m\u001b[1;33m\u001b[0m\u001b[0m\n\u001b[0;32m      2\u001b[0m \u001b[1;32mif\u001b[0m \u001b[1;32mnot\u001b[0m \u001b[0mtype\u001b[0m\u001b[1;33m(\u001b[0m\u001b[0mx\u001b[0m\u001b[1;33m)\u001b[0m \u001b[1;32mis\u001b[0m \u001b[0mint\u001b[0m\u001b[1;33m:\u001b[0m\u001b[1;33m\u001b[0m\u001b[1;33m\u001b[0m\u001b[0m\n\u001b[1;32m----> 3\u001b[1;33m     \u001b[1;32mraise\u001b[0m \u001b[0mTypeError\u001b[0m\u001b[1;33m(\u001b[0m\u001b[1;34m\"Only integers are allowed.\"\u001b[0m\u001b[1;33m)\u001b[0m\u001b[1;33m\u001b[0m\u001b[1;33m\u001b[0m\u001b[0m\n\u001b[0m",
      "\u001b[1;31mTypeError\u001b[0m: Only integers are allowed."
     ]
    }
   ],
   "source": [
    "x=\"hello\"\n",
    "if not type(x) is int:\n",
    "    raise TypeError(\"Only integers are allowed.\")"
   ]
  },
  {
   "cell_type": "markdown",
   "id": "79520e23",
   "metadata": {},
   "source": [
    "# Q5: What are Custom Exceptions in Python? Why do we need Custom Exceptions? Explain with an example."
   ]
  },
  {
   "cell_type": "raw",
   "id": "4f43cd06",
   "metadata": {},
   "source": [
    "custom exceptions are user-defined exception classes that you can create to handle specific error conditions in your code. While Python provides a variety of built-in exceptions (e.g., 'ValueError','TypeError','ZeroDivisionError'), sometimes it's beneficial to define your own exception classes to provide more meaningful and context-specific error messages for your application. Custom exceptions allow you to encapsulate and raise errors that are relevant to your code."
   ]
  },
  {
   "cell_type": "code",
   "execution_count": 18,
   "id": "2933ff0b",
   "metadata": {},
   "outputs": [
    {
     "name": "stdout",
     "output_type": "stream",
     "text": [
      "Custom error message: This is a custom exception.\n"
     ]
    }
   ],
   "source": [
    "class CustomError(Exception):\n",
    "    def __init__(self, message):\n",
    "        super().__init__(message)\n",
    "\n",
    "# Usage:\n",
    "try:\n",
    "    raise CustomError(\"This is a custom exception.\")\n",
    "except CustomError as e:\n",
    "    print(f\"Custom error message: {e}\")\n"
   ]
  },
  {
   "cell_type": "raw",
   "id": "f1aa9918",
   "metadata": {},
   "source": [
    "In the example above:\n",
    "    1. We define a custom exception class CustomError that inherits from the built-in Exception class. You can also inherit from other exception classes or subclasses of Exception depending on your specific use case.\n",
    "    \n",
    "    2. We provide a constructor (__init__) for the custom exception class. This constructor accepts an error message as an argument and calls the constructor of the base Exception class with the provided message.\n",
    "    \n",
    "    3. In the try block, we raise our custom exception by creating an instance of CustomError and passing a custom error message.\n",
    "    \n",
    "    4. In the except block, we catch the custom exception and can access the error message using the as keyword.\n",
    "\n",
    "Custom exceptions are particularly useful when you want to distinguish and handle specific error conditions in your application, improving code readability and maintainability. "
   ]
  },
  {
   "cell_type": "markdown",
   "id": "32e8747e",
   "metadata": {},
   "source": [
    "## Q-6) Create a Custom Exception class. Use this class to handle an exceptions."
   ]
  },
  {
   "cell_type": "raw",
   "id": "95f7967f",
   "metadata": {},
   "source": [
    "Custom exceptions are particularly useful when you want to distinguish and handle specific error conditions in your application, improving code readability and maintainability. They allow you to provide more meaningful information about what went wrong and why."
   ]
  },
  {
   "cell_type": "code",
   "execution_count": 19,
   "id": "c00483de",
   "metadata": {},
   "outputs": [
    {
     "name": "stdout",
     "output_type": "stream",
     "text": [
      "Custom error message: Value 42 is too high. It should not exceed 30.\n"
     ]
    }
   ],
   "source": [
    "class ValueTooHighError(Exception):\n",
    "    def __init__(self, value, limit):\n",
    "        self.value = value\n",
    "        self.limit = limit\n",
    "        super().__init__(f\"Value {value} is too high. It should not exceed {limit}.\")\n",
    "\n",
    "# Function that raises the custom exception\n",
    "def process_value(value, limit):\n",
    "    if value > limit:\n",
    "        raise ValueTooHighError(value, limit)\n",
    "    else:\n",
    "        return f\"Value {value} is within the limit.\"\n",
    "\n",
    "# Example usage\n",
    "try:\n",
    "    result = process_value(42, 30)\n",
    "    print(result)\n",
    "except ValueTooHighError as e:\n",
    "    print(f\"Custom error message: {e}\")\n"
   ]
  },
  {
   "cell_type": "code",
   "execution_count": 20,
   "id": "f8c6d815",
   "metadata": {},
   "outputs": [
    {
     "name": "stdout",
     "output_type": "stream",
     "text": [
      "Custom error message: Value 42 is too high. It should not exceed 30.\n"
     ]
    }
   ],
   "source": [
    "class ValueTooHighError(Exception):\n",
    "    def __init__(self, value, limit):\n",
    "        self.value = value\n",
    "        self.limit = limit\n",
    "        super().__init__(f\"Value {value} is too high. It should not exceed {limit}.\")\n",
    "\n",
    "# Function that raises the custom exception\n",
    "def process_value(value, limit):\n",
    "    if value > limit:\n",
    "        raise ValueTooHighError(value, limit)\n",
    "    else:\n",
    "        return f\"Value {value} is within the limit.\"\n",
    "\n",
    "# Example usage\n",
    "try:\n",
    "    result = process_value(42, 30)\n",
    "    print(result)\n",
    "except ValueTooHighError as e:\n",
    "    print(f\"Custom error message: {e}\")\n"
   ]
  },
  {
   "cell_type": "code",
   "execution_count": null,
   "id": "cc255775",
   "metadata": {},
   "outputs": [],
   "source": []
  },
  {
   "cell_type": "code",
   "execution_count": null,
   "id": "152e7ad6",
   "metadata": {},
   "outputs": [],
   "source": []
  }
 ],
 "metadata": {
  "kernelspec": {
   "display_name": "Python 3 (ipykernel)",
   "language": "python",
   "name": "python3"
  },
  "language_info": {
   "codemirror_mode": {
    "name": "ipython",
    "version": 3
   },
   "file_extension": ".py",
   "mimetype": "text/x-python",
   "name": "python",
   "nbconvert_exporter": "python",
   "pygments_lexer": "ipython3",
   "version": "3.9.13"
  }
 },
 "nbformat": 4,
 "nbformat_minor": 5
}
