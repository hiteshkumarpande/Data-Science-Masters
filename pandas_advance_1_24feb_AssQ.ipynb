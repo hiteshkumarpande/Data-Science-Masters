{
 "cells": [
  {
   "cell_type": "markdown",
   "id": "49750ac3-e065-4488-b7e7-e120852351f8",
   "metadata": {},
   "source": [
    "Q-1:  List any five functions of the pandas library with execution?"
   ]
  },
  {
   "cell_type": "markdown",
   "id": "20fccec9-26b1-4a99-bb4a-f2b22c37fd06",
   "metadata": {},
   "source": [
    "   1) read_csv: This function reads a CSV file into a DataFrame.\n",
    "\n",
    "   2) head: This function returns the first n rows of a DataFrame.\n",
    "\n",
    "   3) describe: This function generates descriptive statistics of a DataFrame.\n",
    "\n",
    "   4) groupby: This function is used to group data by a specific column and perform operations on the grouped data.\n",
    "\n",
    "   5) merge: This function merges two DataFrames based on a key column.\n",
    "\n",
    "Let's execute these functions with example data.\n",
    "\n",
    "First, let's import the pandas library:"
   ]
  },
  {
   "cell_type": "code",
   "execution_count": 1,
   "id": "af381cc0-1029-4274-bb1d-b4ca7aa0857e",
   "metadata": {},
   "outputs": [],
   "source": [
    "import pandas as pd"
   ]
  },
  {
   "cell_type": "markdown",
   "id": "47e160f5-2c83-415c-886c-94d42f0e046d",
   "metadata": {},
   "source": [
    "1) 'read_csv':\n",
    "    We will use small CSV string for demonstration."
   ]
  },
  {
   "cell_type": "code",
   "execution_count": 2,
   "id": "d57a6f1f-a112-4b95-bd3e-4fb0c698a46b",
   "metadata": {},
   "outputs": [
    {
     "name": "stdout",
     "output_type": "stream",
     "text": [
      "      Name  Age          City\n",
      "0    Alice    30     New York\n",
      "1      Bob    25  Los Angeles\n",
      "2  Charlie    35      Chicago\n"
     ]
    }
   ],
   "source": [
    "import pandas as pd\n",
    "\n",
    "# Example CSV content:\n",
    "# Name, Age, City\n",
    "# Alice, 30, New York\n",
    "# Bob, 25, Los Angeles\n",
    "# Charlie, 35, Chicago\n",
    "\n",
    "df = pd.read_csv('example.csv')\n",
    "print(df)\n"
   ]
  },
  {
   "cell_type": "code",
   "execution_count": null,
   "id": "2a66d914-2975-4bb3-8488-6546209f0dc4",
   "metadata": {},
   "outputs": [],
   "source": []
  },
  {
   "cell_type": "code",
   "execution_count": 1,
   "id": "daa49fb4-54f2-4126-afd3-eb36351023ea",
   "metadata": {},
   "outputs": [
    {
     "name": "stdout",
     "output_type": "stream",
     "text": [
      "DataFrame:\n",
      "       Name  Age          City\n",
      "0    Alice    30     New York\n",
      "1      Bob    25  Los Angeles\n",
      "2  Charlie    35      Chicago\n",
      "\n",
      "First 5 rows of the DataFrame:\n",
      "       Name  Age          City\n",
      "0    Alice    30     New York\n",
      "1      Bob    25  Los Angeles\n",
      "2  Charlie    35      Chicago\n",
      "\n",
      "Descriptive statistics:\n",
      "        Age \n",
      "count   3.0\n",
      "mean   30.0\n",
      "std     5.0\n",
      "min    25.0\n",
      "25%    27.5\n",
      "50%    30.0\n",
      "75%    32.5\n",
      "max    35.0\n",
      "\n",
      "DataFrame after dropping missing values:\n",
      "       Name  Age          City\n",
      "0    Alice    30     New York\n",
      "1      Bob    25  Los Angeles\n",
      "2  Charlie    35      Chicago\n"
     ]
    },
    {
     "ename": "KeyError",
     "evalue": "'category'",
     "output_type": "error",
     "traceback": [
      "\u001b[0;31m---------------------------------------------------------------------------\u001b[0m",
      "\u001b[0;31mKeyError\u001b[0m                                  Traceback (most recent call last)",
      "Cell \u001b[0;32mIn[1], line 21\u001b[0m\n\u001b[1;32m     17\u001b[0m \u001b[38;5;28mprint\u001b[39m(\u001b[38;5;124m\"\u001b[39m\u001b[38;5;130;01m\\n\u001b[39;00m\u001b[38;5;124mDataFrame after dropping missing values:\u001b[39m\u001b[38;5;130;01m\\n\u001b[39;00m\u001b[38;5;124m\"\u001b[39m, df_cleaned)\n\u001b[1;32m     19\u001b[0m \u001b[38;5;66;03m# 5. df.groupby()\u001b[39;00m\n\u001b[1;32m     20\u001b[0m \u001b[38;5;66;03m# Grouping by a column (assuming 'category' is a column in the DataFrame)\u001b[39;00m\n\u001b[0;32m---> 21\u001b[0m grouped_df \u001b[38;5;241m=\u001b[39m \u001b[43mdf\u001b[49m\u001b[38;5;241;43m.\u001b[39;49m\u001b[43mgroupby\u001b[49m\u001b[43m(\u001b[49m\u001b[38;5;124;43m'\u001b[39;49m\u001b[38;5;124;43mcategory\u001b[39;49m\u001b[38;5;124;43m'\u001b[39;49m\u001b[43m)\u001b[49m\u001b[38;5;241m.\u001b[39mmean()\n\u001b[1;32m     22\u001b[0m \u001b[38;5;28mprint\u001b[39m(\u001b[38;5;124m\"\u001b[39m\u001b[38;5;130;01m\\n\u001b[39;00m\u001b[38;5;124mGrouped DataFrame (mean values by category):\u001b[39m\u001b[38;5;130;01m\\n\u001b[39;00m\u001b[38;5;124m\"\u001b[39m, grouped_df)\n",
      "File \u001b[0;32m/opt/conda/lib/python3.10/site-packages/pandas/core/frame.py:8399\u001b[0m, in \u001b[0;36mDataFrame.groupby\u001b[0;34m(self, by, axis, level, as_index, sort, group_keys, squeeze, observed, dropna)\u001b[0m\n\u001b[1;32m   8396\u001b[0m     \u001b[38;5;28;01mraise\u001b[39;00m \u001b[38;5;167;01mTypeError\u001b[39;00m(\u001b[38;5;124m\"\u001b[39m\u001b[38;5;124mYou have to supply one of \u001b[39m\u001b[38;5;124m'\u001b[39m\u001b[38;5;124mby\u001b[39m\u001b[38;5;124m'\u001b[39m\u001b[38;5;124m and \u001b[39m\u001b[38;5;124m'\u001b[39m\u001b[38;5;124mlevel\u001b[39m\u001b[38;5;124m'\u001b[39m\u001b[38;5;124m\"\u001b[39m)\n\u001b[1;32m   8397\u001b[0m axis \u001b[38;5;241m=\u001b[39m \u001b[38;5;28mself\u001b[39m\u001b[38;5;241m.\u001b[39m_get_axis_number(axis)\n\u001b[0;32m-> 8399\u001b[0m \u001b[38;5;28;01mreturn\u001b[39;00m \u001b[43mDataFrameGroupBy\u001b[49m\u001b[43m(\u001b[49m\n\u001b[1;32m   8400\u001b[0m \u001b[43m    \u001b[49m\u001b[43mobj\u001b[49m\u001b[38;5;241;43m=\u001b[39;49m\u001b[38;5;28;43mself\u001b[39;49m\u001b[43m,\u001b[49m\n\u001b[1;32m   8401\u001b[0m \u001b[43m    \u001b[49m\u001b[43mkeys\u001b[49m\u001b[38;5;241;43m=\u001b[39;49m\u001b[43mby\u001b[49m\u001b[43m,\u001b[49m\n\u001b[1;32m   8402\u001b[0m \u001b[43m    \u001b[49m\u001b[43maxis\u001b[49m\u001b[38;5;241;43m=\u001b[39;49m\u001b[43maxis\u001b[49m\u001b[43m,\u001b[49m\n\u001b[1;32m   8403\u001b[0m \u001b[43m    \u001b[49m\u001b[43mlevel\u001b[49m\u001b[38;5;241;43m=\u001b[39;49m\u001b[43mlevel\u001b[49m\u001b[43m,\u001b[49m\n\u001b[1;32m   8404\u001b[0m \u001b[43m    \u001b[49m\u001b[43mas_index\u001b[49m\u001b[38;5;241;43m=\u001b[39;49m\u001b[43mas_index\u001b[49m\u001b[43m,\u001b[49m\n\u001b[1;32m   8405\u001b[0m \u001b[43m    \u001b[49m\u001b[43msort\u001b[49m\u001b[38;5;241;43m=\u001b[39;49m\u001b[43msort\u001b[49m\u001b[43m,\u001b[49m\n\u001b[1;32m   8406\u001b[0m \u001b[43m    \u001b[49m\u001b[43mgroup_keys\u001b[49m\u001b[38;5;241;43m=\u001b[39;49m\u001b[43mgroup_keys\u001b[49m\u001b[43m,\u001b[49m\n\u001b[1;32m   8407\u001b[0m \u001b[43m    \u001b[49m\u001b[43msqueeze\u001b[49m\u001b[38;5;241;43m=\u001b[39;49m\u001b[43msqueeze\u001b[49m\u001b[43m,\u001b[49m\n\u001b[1;32m   8408\u001b[0m \u001b[43m    \u001b[49m\u001b[43mobserved\u001b[49m\u001b[38;5;241;43m=\u001b[39;49m\u001b[43mobserved\u001b[49m\u001b[43m,\u001b[49m\n\u001b[1;32m   8409\u001b[0m \u001b[43m    \u001b[49m\u001b[43mdropna\u001b[49m\u001b[38;5;241;43m=\u001b[39;49m\u001b[43mdropna\u001b[49m\u001b[43m,\u001b[49m\n\u001b[1;32m   8410\u001b[0m \u001b[43m\u001b[49m\u001b[43m)\u001b[49m\n",
      "File \u001b[0;32m/opt/conda/lib/python3.10/site-packages/pandas/core/groupby/groupby.py:959\u001b[0m, in \u001b[0;36mGroupBy.__init__\u001b[0;34m(self, obj, keys, axis, level, grouper, exclusions, selection, as_index, sort, group_keys, squeeze, observed, mutated, dropna)\u001b[0m\n\u001b[1;32m    956\u001b[0m \u001b[38;5;28;01mif\u001b[39;00m grouper \u001b[38;5;129;01mis\u001b[39;00m \u001b[38;5;28;01mNone\u001b[39;00m:\n\u001b[1;32m    957\u001b[0m     \u001b[38;5;28;01mfrom\u001b[39;00m \u001b[38;5;21;01mpandas\u001b[39;00m\u001b[38;5;21;01m.\u001b[39;00m\u001b[38;5;21;01mcore\u001b[39;00m\u001b[38;5;21;01m.\u001b[39;00m\u001b[38;5;21;01mgroupby\u001b[39;00m\u001b[38;5;21;01m.\u001b[39;00m\u001b[38;5;21;01mgrouper\u001b[39;00m \u001b[38;5;28;01mimport\u001b[39;00m get_grouper\n\u001b[0;32m--> 959\u001b[0m     grouper, exclusions, obj \u001b[38;5;241m=\u001b[39m \u001b[43mget_grouper\u001b[49m\u001b[43m(\u001b[49m\n\u001b[1;32m    960\u001b[0m \u001b[43m        \u001b[49m\u001b[43mobj\u001b[49m\u001b[43m,\u001b[49m\n\u001b[1;32m    961\u001b[0m \u001b[43m        \u001b[49m\u001b[43mkeys\u001b[49m\u001b[43m,\u001b[49m\n\u001b[1;32m    962\u001b[0m \u001b[43m        \u001b[49m\u001b[43maxis\u001b[49m\u001b[38;5;241;43m=\u001b[39;49m\u001b[43maxis\u001b[49m\u001b[43m,\u001b[49m\n\u001b[1;32m    963\u001b[0m \u001b[43m        \u001b[49m\u001b[43mlevel\u001b[49m\u001b[38;5;241;43m=\u001b[39;49m\u001b[43mlevel\u001b[49m\u001b[43m,\u001b[49m\n\u001b[1;32m    964\u001b[0m \u001b[43m        \u001b[49m\u001b[43msort\u001b[49m\u001b[38;5;241;43m=\u001b[39;49m\u001b[43msort\u001b[49m\u001b[43m,\u001b[49m\n\u001b[1;32m    965\u001b[0m \u001b[43m        \u001b[49m\u001b[43mobserved\u001b[49m\u001b[38;5;241;43m=\u001b[39;49m\u001b[43mobserved\u001b[49m\u001b[43m,\u001b[49m\n\u001b[1;32m    966\u001b[0m \u001b[43m        \u001b[49m\u001b[43mmutated\u001b[49m\u001b[38;5;241;43m=\u001b[39;49m\u001b[38;5;28;43mself\u001b[39;49m\u001b[38;5;241;43m.\u001b[39;49m\u001b[43mmutated\u001b[49m\u001b[43m,\u001b[49m\n\u001b[1;32m    967\u001b[0m \u001b[43m        \u001b[49m\u001b[43mdropna\u001b[49m\u001b[38;5;241;43m=\u001b[39;49m\u001b[38;5;28;43mself\u001b[39;49m\u001b[38;5;241;43m.\u001b[39;49m\u001b[43mdropna\u001b[49m\u001b[43m,\u001b[49m\n\u001b[1;32m    968\u001b[0m \u001b[43m    \u001b[49m\u001b[43m)\u001b[49m\n\u001b[1;32m    970\u001b[0m \u001b[38;5;28mself\u001b[39m\u001b[38;5;241m.\u001b[39mobj \u001b[38;5;241m=\u001b[39m obj\n\u001b[1;32m    971\u001b[0m \u001b[38;5;28mself\u001b[39m\u001b[38;5;241m.\u001b[39maxis \u001b[38;5;241m=\u001b[39m obj\u001b[38;5;241m.\u001b[39m_get_axis_number(axis)\n",
      "File \u001b[0;32m/opt/conda/lib/python3.10/site-packages/pandas/core/groupby/grouper.py:888\u001b[0m, in \u001b[0;36mget_grouper\u001b[0;34m(obj, key, axis, level, sort, observed, mutated, validate, dropna)\u001b[0m\n\u001b[1;32m    886\u001b[0m         in_axis, level, gpr \u001b[38;5;241m=\u001b[39m \u001b[38;5;28;01mFalse\u001b[39;00m, gpr, \u001b[38;5;28;01mNone\u001b[39;00m\n\u001b[1;32m    887\u001b[0m     \u001b[38;5;28;01melse\u001b[39;00m:\n\u001b[0;32m--> 888\u001b[0m         \u001b[38;5;28;01mraise\u001b[39;00m \u001b[38;5;167;01mKeyError\u001b[39;00m(gpr)\n\u001b[1;32m    889\u001b[0m \u001b[38;5;28;01melif\u001b[39;00m \u001b[38;5;28misinstance\u001b[39m(gpr, Grouper) \u001b[38;5;129;01mand\u001b[39;00m gpr\u001b[38;5;241m.\u001b[39mkey \u001b[38;5;129;01mis\u001b[39;00m \u001b[38;5;129;01mnot\u001b[39;00m \u001b[38;5;28;01mNone\u001b[39;00m:\n\u001b[1;32m    890\u001b[0m     \u001b[38;5;66;03m# Add key to exclusions\u001b[39;00m\n\u001b[1;32m    891\u001b[0m     exclusions\u001b[38;5;241m.\u001b[39madd(gpr\u001b[38;5;241m.\u001b[39mkey)\n",
      "\u001b[0;31mKeyError\u001b[0m: 'category'"
     ]
    }
   ],
   "source": [
    "import pandas as pd\n",
    "\n",
    "# 1. pd.read_csv()\n",
    "df = pd.read_csv('example.csv')\n",
    "\n",
    "# Display the DataFrame\n",
    "print(\"DataFrame:\\n\", df)\n",
    "\n",
    "# 2. df.head()\n",
    "print(\"\\nFirst 5 rows of the DataFrame:\\n\", df.head())\n",
    "\n",
    "# 3. df.describe()\n",
    "print(\"\\nDescriptive statistics:\\n\", df.describe())\n",
    "\n",
    "# 4. df.dropna()\n",
    "df_cleaned = df.dropna()\n",
    "print(\"\\nDataFrame after dropping missing values:\\n\", df_cleaned)\n",
    "\n",
    "# 5. df.groupby()\n",
    "# Grouping by a column (assuming 'category' is a column in the DataFrame)\n",
    "grouped_df = df.groupby('category').mean()\n",
    "print(\"\\nGrouped DataFrame (mean values by category):\\n\", grouped_df)\n"
   ]
  },
  {
   "cell_type": "raw",
   "id": "62269200-c098-4634-97ae-eb3c653a2ed0",
   "metadata": {},
   "source": [
    "To make it more practical, let's create an example DataFrame and demonstrate these functions in a code execution cell:"
   ]
  },
  {
   "cell_type": "code",
   "execution_count": 1,
   "id": "0a338f5e-ddcf-48b9-b563-17ad991e515f",
   "metadata": {},
   "outputs": [
    {
     "name": "stdout",
     "output_type": "stream",
     "text": [
      "DataFrame:\n",
      "   category  value1  value2\n",
      "0        A     1.0     7.0\n",
      "1        B     2.0     8.0\n",
      "2        A     NaN     9.0\n",
      "3        B     4.0    10.0\n",
      "4        A     5.0     NaN\n",
      "5        B     6.0    12.0\n",
      "\n",
      "First 5 rows of the DataFrame:\n",
      "   category  value1  value2\n",
      "0        A     1.0     7.0\n",
      "1        B     2.0     8.0\n",
      "2        A     NaN     9.0\n",
      "3        B     4.0    10.0\n",
      "4        A     5.0     NaN\n",
      "\n",
      "Descriptive statistics:\n",
      "          value1     value2\n",
      "count  5.000000   5.000000\n",
      "mean   3.600000   9.200000\n",
      "std    2.073644   1.923538\n",
      "min    1.000000   7.000000\n",
      "25%    2.000000   8.000000\n",
      "50%    4.000000   9.000000\n",
      "75%    5.000000  10.000000\n",
      "max    6.000000  12.000000\n",
      "\n",
      "DataFrame after dropping missing values:\n",
      "   category  value1  value2\n",
      "0        A     1.0     7.0\n",
      "1        B     2.0     8.0\n",
      "3        B     4.0    10.0\n",
      "5        B     6.0    12.0\n",
      "\n",
      "Grouped DataFrame (mean values by category):\n",
      "           value1  value2\n",
      "category                \n",
      "A            3.0     8.0\n",
      "B            4.0    10.0\n"
     ]
    }
   ],
   "source": [
    "import pandas as pd\n",
    "import numpy as np\n",
    "\n",
    "# Creating an example DataFrame\n",
    "data = {\n",
    "    'category': ['A', 'B', 'A', 'B', 'A', 'B'],\n",
    "    'value1': [1, 2, np.nan, 4, 5, 6],\n",
    "    'value2': [7, 8, 9, 10, np.nan, 12]\n",
    "}\n",
    "df = pd.DataFrame(data)\n",
    "\n",
    "# 1. Display the DataFrame\n",
    "print(\"DataFrame:\\n\", df)\n",
    "\n",
    "# 2. First 5 rows of the DataFrame\n",
    "print(\"\\nFirst 5 rows of the DataFrame:\\n\", df.head())\n",
    "\n",
    "# 3. Descriptive statistics\n",
    "print(\"\\nDescriptive statistics:\\n\", df.describe())\n",
    "\n",
    "# 4. DataFrame after dropping missing values\n",
    "df_cleaned = df.dropna()\n",
    "print(\"\\nDataFrame after dropping missing values:\\n\", df_cleaned)\n",
    "\n",
    "# 5. Grouped DataFrame (mean values by category)\n",
    "grouped_df = df.groupby('category').mean()\n",
    "print(\"\\nGrouped DataFrame (mean values by category):\\n\", grouped_df)\n"
   ]
  },
  {
   "cell_type": "raw",
   "id": "98cb067d-0695-494a-80b2-a82227ecf735",
   "metadata": {},
   "source": [
    "To make it more practical, let's create an example DataFrame and demonstrate these functions in a code execution cell:"
   ]
  },
  {
   "cell_type": "code",
   "execution_count": 1,
   "id": "a2facc8f-ff15-4ef9-8440-e86c7051e220",
   "metadata": {},
   "outputs": [
    {
     "name": "stdout",
     "output_type": "stream",
     "text": [
      "DataFrame:\n",
      "   category  value1  value2\n",
      "0        A     1.0     7.0\n",
      "1        B     2.0     8.0\n",
      "2        A     NaN     9.0\n",
      "3        B     4.0    10.0\n",
      "4        A     5.0     NaN\n",
      "5        B     6.0    12.0\n",
      "\n",
      "First 5 rows of the DataFrame:\n",
      "   category  value1  value2\n",
      "0        A     1.0     7.0\n",
      "1        B     2.0     8.0\n",
      "2        A     NaN     9.0\n",
      "3        B     4.0    10.0\n",
      "4        A     5.0     NaN\n",
      "\n",
      "Descriptive statistics:\n",
      "          value1     value2\n",
      "count  5.000000   5.000000\n",
      "mean   3.600000   9.200000\n",
      "std    2.073644   1.923538\n",
      "min    1.000000   7.000000\n",
      "25%    2.000000   8.000000\n",
      "50%    4.000000   9.000000\n",
      "75%    5.000000  10.000000\n",
      "max    6.000000  12.000000\n",
      "\n",
      "DataFrame after dropping missing values:\n",
      "   category  value1  value2\n",
      "0        A     1.0     7.0\n",
      "1        B     2.0     8.0\n",
      "3        B     4.0    10.0\n",
      "5        B     6.0    12.0\n",
      "\n",
      "Grouped DataFrame (mean values by category):\n",
      "           value1  value2\n",
      "category                \n",
      "A            3.0     8.0\n",
      "B            4.0    10.0\n"
     ]
    }
   ],
   "source": [
    "import pandas as pd\n",
    "import numpy as np\n",
    "\n",
    "# Creating an example DataFrame\n",
    "data = {\n",
    "    'category': ['A', 'B', 'A', 'B', 'A', 'B'],\n",
    "    'value1': [1, 2, np.nan, 4, 5, 6],\n",
    "    'value2': [7, 8, 9, 10, np.nan, 12]\n",
    "}\n",
    "df = pd.DataFrame(data)\n",
    "\n",
    "# 1. Display the DataFrame\n",
    "print(\"DataFrame:\\n\", df)\n",
    "\n",
    "# 2. First 5 rows of the DataFrame\n",
    "print(\"\\nFirst 5 rows of the DataFrame:\\n\", df.head())\n",
    "\n",
    "# 3. Descriptive statistics\n",
    "print(\"\\nDescriptive statistics:\\n\", df.describe())\n",
    "\n",
    "# 4. DataFrame after dropping missing values\n",
    "df_cleaned = df.dropna()\n",
    "print(\"\\nDataFrame after dropping missing values:\\n\", df_cleaned)\n",
    "\n",
    "# 5. Grouped DataFrame (mean values by category)\n",
    "grouped_df = df.groupby('category').mean()\n",
    "print(\"\\nGrouped DataFrame (mean values by category):\\n\", grouped_df)\n"
   ]
  },
  {
   "cell_type": "markdown",
   "id": "8923d506-68ff-486c-af66-f4ed72f3a799",
   "metadata": {},
   "source": [
    "To make it more practical, let's create an example DataFrame and demonstrate these functions in a code execution cell:"
   ]
  },
  {
   "cell_type": "code",
   "execution_count": 3,
   "id": "b4f5fffc-5e18-4c96-8170-ad9da28bc2b7",
   "metadata": {},
   "outputs": [
    {
     "name": "stdout",
     "output_type": "stream",
     "text": [
      "DataFrame:\n",
      "   category  value1  value2\n",
      "0        A     1.0     7.0\n",
      "1        B     2.0     8.0\n",
      "2        A     NaN     9.0\n",
      "3        B     4.0    10.0\n",
      "4        A     5.0     NaN\n",
      "5        B     6.0    12.0\n",
      "\n",
      "First 5 rows of the DataFrame:\n",
      "   category  value1  value2\n",
      "0        A     1.0     7.0\n",
      "1        B     2.0     8.0\n",
      "2        A     NaN     9.0\n",
      "3        B     4.0    10.0\n",
      "4        A     5.0     NaN\n",
      "\n",
      "Descriptive statistics:\n",
      "          value1     value2\n",
      "count  5.000000   5.000000\n",
      "mean   3.600000   9.200000\n",
      "std    2.073644   1.923538\n",
      "min    1.000000   7.000000\n",
      "25%    2.000000   8.000000\n",
      "50%    4.000000   9.000000\n",
      "75%    5.000000  10.000000\n",
      "max    6.000000  12.000000\n",
      "\n",
      "DataFrame after dropping missing values:\n",
      "   category  value1  value2\n",
      "0        A     1.0     7.0\n",
      "1        B     2.0     8.0\n",
      "3        B     4.0    10.0\n",
      "5        B     6.0    12.0\n",
      "\n",
      "Grouped DataFrame (mean values by category):\n",
      "           value1  value2\n",
      "category                \n",
      "A            3.0     8.0\n",
      "B            4.0    10.0\n"
     ]
    }
   ],
   "source": [
    "import pandas as pd\n",
    "import numpy as np\n",
    "\n",
    "# Creating an example DataFrame\n",
    "data = {\n",
    "    'category': ['A', 'B', 'A', 'B', 'A', 'B'],\n",
    "    'value1': [1, 2, np.nan, 4, 5, 6],\n",
    "    'value2': [7, 8, 9, 10, np.nan, 12]\n",
    "}\n",
    "df = pd.DataFrame(data)\n",
    "\n",
    "# 1. Display the DataFrame\n",
    "print(\"DataFrame:\\n\", df)\n",
    "\n",
    "# 2. First 5 rows of the DataFrame\n",
    "print(\"\\nFirst 5 rows of the DataFrame:\\n\", df.head())\n",
    "\n",
    "# 3. Descriptive statistics\n",
    "print(\"\\nDescriptive statistics:\\n\", df.describe())\n",
    "\n",
    "# 4. DataFrame after dropping missing values\n",
    "df_cleaned = df.dropna()\n",
    "print(\"\\nDataFrame after dropping missing values:\\n\", df_cleaned)\n",
    "\n",
    "# 5. Grouped DataFrame (mean values by category)\n",
    "grouped_df = df.groupby('category').mean()\n",
    "print(\"\\nGrouped DataFrame (mean values by category):\\n\", grouped_df)\n"
   ]
  },
  {
   "cell_type": "markdown",
   "id": "56c6726b-9a78-4e3e-96d5-3dbe01afedaf",
   "metadata": {},
   "source": [
    "## Q-2:Given a Pandas DataFrame df with columns 'A', 'B', and 'C', write a Python function to re-index the DataFrame with a new index that starts from 1 and increments by 2 for each row."
   ]
  },
  {
   "cell_type": "code",
   "execution_count": 4,
   "id": "a5f77f27-7494-4616-993c-64056ac3be85",
   "metadata": {},
   "outputs": [],
   "source": [
    "import pandas as pd"
   ]
  },
  {
   "cell_type": "code",
   "execution_count": 5,
   "id": "99c08c38-31e7-40e3-b394-21fe1a3859da",
   "metadata": {},
   "outputs": [],
   "source": [
    "def reindex_dataframe(df):\n",
    "    new_index = range(1,2*len(df)+1,2)\n",
    "    df.index = new_index\n",
    "    return df"
   ]
  },
  {
   "cell_type": "code",
   "execution_count": 9,
   "id": "1db1ceba-a4ff-42a8-b9a5-8caebf11b684",
   "metadata": {},
   "outputs": [
    {
     "name": "stdout",
     "output_type": "stream",
     "text": [
      "Original Dataframe:\n",
      "   A  B  C\n",
      "0  1  4  7\n",
      "1  2  5  8\n",
      "2  3  6  9\n",
      "3\n"
     ]
    }
   ],
   "source": [
    "df = pd.DataFrame({\n",
    "    'A':[1,2,3],\n",
    "    'B':[4,5,6],\n",
    "    'C':[7,8,9]\n",
    "    })\n",
    "\n",
    "print('Original Dataframe:')\n",
    "print(df)\n"
   ]
  },
  {
   "cell_type": "code",
   "execution_count": 8,
   "id": "9a3db1e6-9a21-48c4-9468-293d90d2be60",
   "metadata": {},
   "outputs": [
    {
     "name": "stdout",
     "output_type": "stream",
     "text": [
      "Reindexed Dataframe:\n",
      "\n",
      "   A  B  C\n",
      "1  1  4  7\n",
      "3  2  5  8\n",
      "5  3  6  9\n",
      "3\n"
     ]
    }
   ],
   "source": [
    "reindexed_df = reindex_dataframe(df)\n",
    "print('Reindexed Dataframe:\\n')\n",
    "print(reindexed_df)\n"
   ]
  },
  {
   "cell_type": "markdown",
   "id": "3ac0bd0c-34fa-4afb-ad4d-7fd9999d7adb",
   "metadata": {},
   "source": [
    "## Q3. You have a Pandas DataFrame df with a column named 'Values'. Write a Python function that\n",
    "## iterates over the DataFrame and calculates the sum of the first three values in the 'Values' column. The\n",
    "## function should print the sum to the console.\n",
    "\n",
    "## For example, if the 'Values' column of df contains the values [10, 20, 30, 40, 50], your function should\n",
    "## calculate and print the sum of the first three values, which is 60."
   ]
  },
  {
   "cell_type": "code",
   "execution_count": 10,
   "id": "b89eca94-b4de-4643-9bef-1263c6d907fa",
   "metadata": {},
   "outputs": [
    {
     "name": "stdout",
     "output_type": "stream",
     "text": [
      "Sum of the first three values: 60\n"
     ]
    }
   ],
   "source": [
    "import pandas as pd\n",
    "\n",
    "def sum_first_three_values(df):\n",
    "    # Ensure there are at least three values to sum\n",
    "    if len(df) < 3:\n",
    "        print(\"The DataFrame does not contain at least three values.\")\n",
    "        return\n",
    "    \n",
    "    # Initialize the sum\n",
    "    total_sum = 0\n",
    "    # Iterate over the first three values\n",
    "    for i in range(3):\n",
    "        total_sum += df.loc[i, 'Values']\n",
    "    \n",
    "    # Print the sum\n",
    "    print(\"Sum of the first three values:\", total_sum)\n",
    "\n",
    "# Example usage\n",
    "df = pd.DataFrame({'Values': [10, 20, 30, 40, 50]})\n",
    "sum_first_three_values(df)\n"
   ]
  },
  {
   "cell_type": "markdown",
   "id": "571172d4-64da-4cbd-9a9b-f85aa6f00535",
   "metadata": {},
   "source": [
    "## Q:4 -Given a Pandas DataFrame df with a column 'Text', write a Python function to create a new column\n",
    "## 'Word_Count' that contains the number of words in each row of the 'Text' column."
   ]
  },
  {
   "cell_type": "code",
   "execution_count": 4,
   "id": "b7177232-0982-4018-b355-ffa67b4dc703",
   "metadata": {},
   "outputs": [
    {
     "data": {
      "text/html": [
       "<div>\n",
       "<style scoped>\n",
       "    .dataframe tbody tr th:only-of-type {\n",
       "        vertical-align: middle;\n",
       "    }\n",
       "\n",
       "    .dataframe tbody tr th {\n",
       "        vertical-align: top;\n",
       "    }\n",
       "\n",
       "    .dataframe thead th {\n",
       "        text-align: right;\n",
       "    }\n",
       "</style>\n",
       "<table border=\"1\" class=\"dataframe\">\n",
       "  <thead>\n",
       "    <tr style=\"text-align: right;\">\n",
       "      <th></th>\n",
       "      <th>Text</th>\n",
       "    </tr>\n",
       "  </thead>\n",
       "  <tbody>\n",
       "    <tr>\n",
       "      <th>0</th>\n",
       "      <td>This is a sample text</td>\n",
       "    </tr>\n",
       "    <tr>\n",
       "      <th>1</th>\n",
       "      <td>Another Example</td>\n",
       "    </tr>\n",
       "    <tr>\n",
       "      <th>2</th>\n",
       "      <td>Pandas is a great for data analysis</td>\n",
       "    </tr>\n",
       "  </tbody>\n",
       "</table>\n",
       "</div>"
      ],
      "text/plain": [
       "                                  Text\n",
       "0                This is a sample text\n",
       "1                      Another Example\n",
       "2  Pandas is a great for data analysis"
      ]
     },
     "execution_count": 4,
     "metadata": {},
     "output_type": "execute_result"
    }
   ],
   "source": [
    "import pandas as pd\n",
    "\n",
    "data = {\n",
    "    'Text':['This is a sample text','Another Example','Pandas is a great for data analysis']\n",
    "}\n",
    "df = pd.DataFrame(data)\n",
    "\n",
    "\n",
    "df"
   ]
  },
  {
   "cell_type": "raw",
   "id": "b19be9dd-8461-473a-9c75-99a804c1f45f",
   "metadata": {},
   "source": [
    "def count_words(text):\n",
    "    return len(text.split())\n",
    "\n",
    "# apply the function to the 'Text' column to create the 'Word_Count' column\n",
    "df['Word_Count'] = df['Text'].apply(count_words)\n",
    "\n",
    "\n",
    "# Display the Dataframe\n",
    "print(df)"
   ]
  },
  {
   "cell_type": "markdown",
   "id": "4cf636fa-33d5-4bfe-b11f-3096556d7e1c",
   "metadata": {},
   "source": [
    "## Q-5: How are DataFrame.size() and DataFrame.shape() different?"
   ]
  },
  {
   "cell_type": "raw",
   "id": "72093630-dd2d-49fd-9884-b231f8f29a62",
   "metadata": {},
   "source": [
    "The DataFrame.size and DataFrame.shape attributes in Pandas provide different types of information about a DataFrame:\n",
    "\n",
    "1) 'DataFrame.size':\n",
    "    Definition: The number of elements in the DataFrame.\n",
    "    Calculation: It is the total number of cells in the DataFrame, which is the product of the number of rows and the number of   columns.\n",
    "    Output: A single integer."
   ]
  },
  {
   "cell_type": "code",
   "execution_count": 12,
   "id": "9471880f-3498-443f-876b-f974a0137999",
   "metadata": {},
   "outputs": [
    {
     "name": "stdout",
     "output_type": "stream",
     "text": [
      "6\n"
     ]
    }
   ],
   "source": [
    "import pandas as pd\n",
    "\n",
    "df = pd.DataFrame({\n",
    "    'A': [1, 2, 3],\n",
    "    'B': [4, 5, 6]\n",
    "})\n",
    "print(df.size)  # Output: 6 (3 rows * 2 columns)\n"
   ]
  },
  {
   "cell_type": "raw",
   "id": "edc260ce-1f47-4c1b-a1c8-1ee7938596b0",
   "metadata": {},
   "source": [
    "2) 'DataFrame.shape':\n",
    "\n",
    "    Definition: The dimensions of the DataFrame.\n",
    "    Calculation: It returns a tuple representing the number of rows and columns in the DataFrame.\n",
    "    Output: A tuple (number_of_rows, number_of_columns).\n",
    "\n"
   ]
  },
  {
   "cell_type": "code",
   "execution_count": 13,
   "id": "02ac8fc1-b338-4b24-b7c9-a83235057888",
   "metadata": {},
   "outputs": [
    {
     "name": "stdout",
     "output_type": "stream",
     "text": [
      "(3, 2)\n"
     ]
    }
   ],
   "source": [
    "import pandas as pd\n",
    "\n",
    "df = pd.DataFrame({\n",
    "    'A': [1, 2, 3],\n",
    "    'B': [4, 5, 6]\n",
    "})\n",
    "print(df.shape)  # Output: (3, 2) (3 rows, 2 columns)\n"
   ]
  },
  {
   "cell_type": "raw",
   "id": "dfb64152-0d9f-4956-a22e-07dfb251ec32",
   "metadata": {},
   "source": [
    "1) DataFrame.size gives the total number of elements in the DataFrame.\n",
    "2) DataFrame.shape gives the dimensions of the DataFrame in terms of rows and columns."
   ]
  },
  {
   "cell_type": "code",
   "execution_count": 14,
   "id": "99290b16-0a47-470d-b333-e5a04def93a2",
   "metadata": {},
   "outputs": [
    {
     "name": "stdout",
     "output_type": "stream",
     "text": [
      "Size: 6\n",
      "Shape: (3, 2)\n"
     ]
    }
   ],
   "source": [
    "import pandas as pd\n",
    "\n",
    "# Create a sample DataFrame\n",
    "df = pd.DataFrame({\n",
    "    'A': [1, 2, 3],\n",
    "    'B': [4, 5, 6]\n",
    "})\n",
    "\n",
    "# Get the size of the DataFrame\n",
    "print(f\"Size: {df.size}\")  # Output: Size: 6\n",
    "\n",
    "# Get the shape of the DataFrame\n",
    "print(f\"Shape: {df.shape}\")  # Output: Shape: (3, 2)\n"
   ]
  },
  {
   "cell_type": "raw",
   "id": "31fd99cd-7195-4508-b8b4-7ec25bcfee6f",
   "metadata": {},
   "source": [
    "In this example:\n",
    "\n",
    "   (a) df.size returns 6, which is the total number of elements (3 rows * 2 columns).\n",
    "   (b) df.shape returns (3, 2), indicating that the DataFrame has 3 rows and 2 columns.\n",
    "\n"
   ]
  },
  {
   "cell_type": "markdown",
   "id": "f8521ded-bbf3-419d-9e56-2845e175e749",
   "metadata": {},
   "source": [
    "## Q-6: Which function of pandas do we use to read an excel file?"
   ]
  },
  {
   "cell_type": "raw",
   "id": "c131c3a9-0b3c-417e-8a46-42d26eb24b8b",
   "metadata": {},
   "source": [
    "To read an Excel file into a Pandas DataFrame, you use the pd.read_excel() function. This function allows you to specify the path to the Excel file and various other parameters to control how the data is read."
   ]
  },
  {
   "cell_type": "code",
   "execution_count": 17,
   "id": "be519318-fe33-4536-8304-b20b8a3db788",
   "metadata": {},
   "outputs": [
    {
     "name": "stdout",
     "output_type": "stream",
     "text": [
      "      Name  Age          City\n",
      "0    Alice    30     New York\n",
      "1      Bob    25  Los Angeles\n",
      "2  Charlie    35      Chicago\n"
     ]
    }
   ],
   "source": [
    "import pandas as pd\n",
    "\n",
    "# Read the Excel file\n",
    "df = pd.read_excel('sample.xlsx')\n",
    "\n",
    "# Display the DataFrame\n",
    "print(df)\n"
   ]
  },
  {
   "cell_type": "raw",
   "id": "1065dcad-2632-4151-8897-c5eacbabdbf4",
   "metadata": {},
   "source": [
    "Key Parameters\n",
    "\n",
    "  1)  io: The path to the Excel file (can be a string, a file-like object, or an Excel file URL).\n",
    "  2)  sheet_name: The sheet to read. It can be a string (the sheet name), an integer (the sheet index), or None (read all sheets into a dictionary of DataFrames).\n",
    "  3)  header: Row (0-indexed) to use for the column labels of the parsed DataFrame. Default is 0.\n",
    "  4)  names: List of column names to use. If the file contains no header row, then you should explicitly pass header=None.\n",
    "  5)  index_col: Column(s) to set as the index (row labels) of the DataFrame.\n",
    "  6)  usecols: Return a subset of the columns. It accepts a list of strings or column indexes.\n",
    "  7)  dtype: Data type for data or columns. For example, {'a': np.float64, 'b': np.int32}.\n",
    "  8)  skiprows: Number of rows to skip at the start (0-indexed).\n",
    "  9)  nrows: Number of rows to read."
   ]
  },
  {
   "cell_type": "markdown",
   "id": "a1a2d72f-846e-418d-8415-3d63bb9fcec3",
   "metadata": {},
   "source": [
    "# Example with Parameters"
   ]
  },
  {
   "cell_type": "raw",
   "id": "bf968537-9536-42cf-9159-1b34e54db955",
   "metadata": {},
   "source": [
    "import pandas as pd\n",
    "\n",
    "# Read the Excel file, specifying the sheet name and column names\n",
    "df = pd.read_excel('path_to_your_file.xlsx', sheet_name='Sheet1', usecols=['A', 'B', 'C'], dtype={'A': str, 'B': int, 'C': float})\n",
    "\n",
    "# Display the DataFrame\n",
    "print(df)\n"
   ]
  },
  {
   "cell_type": "markdown",
   "id": "0c25a37b-d61e-42fa-9a69-cf5ffd36812c",
   "metadata": {},
   "source": [
    "# Reading Multiple Sheets"
   ]
  },
  {
   "cell_type": "raw",
   "id": "4a34df1c-128d-48b1-910c-76cbc4cda64c",
   "metadata": {},
   "source": [
    "If you want to read multiple sheets from an Excel file, you can pass a list of sheet names or indices to the sheet_name parameter. If you pass None, it will read all sheets into a dictionary of DataFrames."
   ]
  },
  {
   "cell_type": "code",
   "execution_count": 1,
   "id": "d8bc499d-5315-4b86-a0b7-5e7686516c01",
   "metadata": {},
   "outputs": [
    {
     "name": "stdout",
     "output_type": "stream",
     "text": [
      "0     Module 1\n",
      "1          NaN\n",
      "2          NaN\n",
      "3     Module 2\n",
      "4          NaN\n",
      "5          NaN\n",
      "6          NaN\n",
      "7          NaN\n",
      "8          NaN\n",
      "9          NaN\n",
      "10         NaN\n",
      "11         NaN\n",
      "12         NaN\n",
      "13         NaN\n",
      "14         NaN\n",
      "15    Module 3\n",
      "16         NaN\n",
      "17         NaN\n",
      "18         NaN\n",
      "19         NaN\n",
      "20         NaN\n",
      "21         NaN\n",
      "22         NaN\n",
      "23         NaN\n",
      "24         NaN\n",
      "25    Module 4\n",
      "26         NaN\n",
      "27         NaN\n",
      "28         NaN\n",
      "29         NaN\n",
      "30         NaN\n",
      "31         NaN\n",
      "32         NaN\n",
      "33         NaN\n",
      "34         NaN\n",
      "35         NaN\n",
      "36         NaN\n",
      "37         NaN\n",
      "38    Module 5\n",
      "39         NaN\n",
      "40         NaN\n",
      "41         NaN\n",
      "42         NaN\n",
      "43         NaN\n",
      "44         NaN\n",
      "45         NaN\n",
      "46         NaN\n",
      "47         NaN\n",
      "48         NaN\n",
      "49         NaN\n",
      "50         NaN\n",
      "51         NaN\n",
      "52         NaN\n",
      "53         NaN\n",
      "54         NaN\n",
      "55    Module 6\n",
      "56         NaN\n",
      "Name: Introduction to Cloud Computing, dtype: object\n"
     ]
    }
   ],
   "source": [
    "import pandas as pd\n",
    "\n",
    "# Read all sheets into a dictionary of DataFrames\n",
    "dfs = pd.read_excel('devops_timesheet.xlsx', sheet_name='Introduction to Cloud Computing')\n",
    "\n",
    "# Access a specific sheet's DataFrame\n",
    "df_sheet1 = dfs['Introduction to Cloud Computing']\n",
    "\n",
    "# Display the DataFrame for 'Sheet1'\n",
    "print(df_sheet1)\n"
   ]
  },
  {
   "cell_type": "raw",
   "id": "213267ca-91e4-43b2-a6c5-bd3b7c76b5ef",
   "metadata": {},
   "source": [
    "This flexibility makes pd.read_excel() a powerful tool for reading data from Excel files into Pandas DataFrames."
   ]
  },
  {
   "cell_type": "markdown",
   "id": "0b2b5b90-e769-43b0-ac9c-af5a4c04641e",
   "metadata": {},
   "source": [
    "# Q-7:  You have a Pandas DataFrame df that contains a column named 'Email' that contains email\n",
    "# addresses in the format 'username@domain.com'. Write a Python function that creates a new column 'Username' in df that contains only the username part of each email address.\n",
    "\n",
    "# The username is the part of the email address that appears before the '@' symbol. For example, if the email address is 'john.doe@example.com', the 'Username' column should contain 'john.doe'. Yourfunction should extract the username from each email address and store it in the new 'Username'column.\n",
    "\n"
   ]
  },
  {
   "cell_type": "code",
   "execution_count": 4,
   "id": "8e513fb9-2877-41cd-940d-ab76d84ebd11",
   "metadata": {},
   "outputs": [
    {
     "name": "stdout",
     "output_type": "stream",
     "text": [
      "                    Email    Username\n",
      "0    john.doe@example.com    john.doe\n",
      "1  jane.smith@example.com  jane.smith\n",
      "2     user123@example.com     user123\n"
     ]
    }
   ],
   "source": [
    "import pandas as pd\n",
    "\n",
    "def extract_username(df):\n",
    "    # Create the 'Username' column by extracting the part before '@' from the 'Email' column\n",
    "    df['Username'] = df['Email'].apply(lambda x: x.split('@')[0])\n",
    "    return df\n",
    "\n",
    "# Example usage:\n",
    "df = pd.DataFrame({\n",
    "    'Email': ['john.doe@example.com', 'jane.smith@example.com', 'user123@example.com']\n",
    "})\n",
    "\n",
    "df = extract_username(df)\n",
    "print(df)\n"
   ]
  },
  {
   "cell_type": "markdown",
   "id": "73ac4f5c-d0ab-4218-a1cd-58f34e8763e0",
   "metadata": {},
   "source": [
    "# Q-8:You have a Pandas DataFrame df with columns 'A', 'B', and 'C'. Write a Python function that selects all rows where the value in column 'A' is greater than 5 and the value in column 'B' is less than 10. The function should return a new DataFrame that contains only the selected rows.\n",
    "\n",
    "For example, if df contains the following values:\n",
    "\n",
    "A B C\n",
    "\n",
    "0 3 5 1\n",
    "\n",
    "1 8 2 7\n",
    "\n",
    "2 6 9 4\n",
    "\n",
    "3 2 3 5\n",
    "\n",
    "4 9 1 2\n",
    "\n",
    "\n",
    "\n",
    "Your function should select the following rows: A B C\n",
    "\n",
    "1 8 2 7\n",
    "\n",
    "4 9 1 2\n",
    "\n",
    "The function should return a new DataFrame that contains only the selected rows.\n",
    "\n",
    "\n"
   ]
  },
  {
   "cell_type": "code",
   "execution_count": 1,
   "id": "3407fc30-4f20-472a-bb9c-a20fe5c208b3",
   "metadata": {},
   "outputs": [],
   "source": [
    "import pandas as pd"
   ]
  },
  {
   "cell_type": "code",
   "execution_count": 3,
   "id": "cbd23a39-55aa-4aad-a9f5-84b61c73734a",
   "metadata": {},
   "outputs": [
    {
     "name": "stdout",
     "output_type": "stream",
     "text": [
      "   A  B  C\n",
      "0  3  5  1\n",
      "1  8  2  7\n",
      "2  6  9  4\n",
      "3  2  3  5\n",
      "4  9  1  2\n",
      "*************************\n",
      "   A  B  C\n",
      "1  8  2  7\n",
      "2  6  9  4\n",
      "4  9  1  2\n"
     ]
    }
   ],
   "source": [
    "def select_rows(df):\n",
    "    selected_df = df[(df['A']>5)& (df['B']<10)]\n",
    "    return selected_df\n",
    "\n",
    "\n",
    "\n",
    "# Example usage\n",
    "data = {'A':[3,8,6,2,9],'B':[5,2,9,3,1],'C':[1,7,4,5,2]}\n",
    "df = pd.DataFrame(data)\n",
    "print(df)\n",
    "print('*************************')\n",
    "result_df = select_rows(df)\n",
    "print(result_df)"
   ]
  },
  {
   "cell_type": "markdown",
   "id": "6eeececf-b158-4ff6-a78b-e8bbd4a956a2",
   "metadata": {},
   "source": [
    "# Q-9: Given a Pandas DataFrame df with a column 'Values', write a Python function to calculate the mean, median, and standard deviation of the values in the 'Values' column"
   ]
  },
  {
   "cell_type": "code",
   "execution_count": 4,
   "id": "a7696061-d442-42e3-a3a5-43b59a471397",
   "metadata": {},
   "outputs": [],
   "source": [
    "import pandas as pd"
   ]
  },
  {
   "cell_type": "code",
   "execution_count": 5,
   "id": "94113293-b730-402a-8cbe-d5fff11bd941",
   "metadata": {},
   "outputs": [],
   "source": [
    "def calculate_statistics(df):\n",
    "    mean_value = df['Values'].mean()\n",
    "    median_value = df['Values'].median()\n",
    "    std_dev_value = df['Values'].std()\n",
    "    \n",
    "    return mean_value,median_value,std_dev_value"
   ]
  },
  {
   "cell_type": "code",
   "execution_count": 6,
   "id": "494b9ad7-b755-4837-8a2f-6e2c90639142",
   "metadata": {},
   "outputs": [
    {
     "data": {
      "text/html": [
       "<div>\n",
       "<style scoped>\n",
       "    .dataframe tbody tr th:only-of-type {\n",
       "        vertical-align: middle;\n",
       "    }\n",
       "\n",
       "    .dataframe tbody tr th {\n",
       "        vertical-align: top;\n",
       "    }\n",
       "\n",
       "    .dataframe thead th {\n",
       "        text-align: right;\n",
       "    }\n",
       "</style>\n",
       "<table border=\"1\" class=\"dataframe\">\n",
       "  <thead>\n",
       "    <tr style=\"text-align: right;\">\n",
       "      <th></th>\n",
       "      <th>Values</th>\n",
       "    </tr>\n",
       "  </thead>\n",
       "  <tbody>\n",
       "    <tr>\n",
       "      <th>0</th>\n",
       "      <td>10</td>\n",
       "    </tr>\n",
       "    <tr>\n",
       "      <th>1</th>\n",
       "      <td>20</td>\n",
       "    </tr>\n",
       "    <tr>\n",
       "      <th>2</th>\n",
       "      <td>30</td>\n",
       "    </tr>\n",
       "    <tr>\n",
       "      <th>3</th>\n",
       "      <td>40</td>\n",
       "    </tr>\n",
       "    <tr>\n",
       "      <th>4</th>\n",
       "      <td>50</td>\n",
       "    </tr>\n",
       "  </tbody>\n",
       "</table>\n",
       "</div>"
      ],
      "text/plain": [
       "   Values\n",
       "0      10\n",
       "1      20\n",
       "2      30\n",
       "3      40\n",
       "4      50"
      ]
     },
     "execution_count": 6,
     "metadata": {},
     "output_type": "execute_result"
    }
   ],
   "source": [
    "data = {'Values':[10,20,30,40,50]}\n",
    "df = pd.DataFrame(data)\n",
    "df"
   ]
  },
  {
   "cell_type": "code",
   "execution_count": 7,
   "id": "99ed106f-dc27-4b05-b78d-9b518288075a",
   "metadata": {},
   "outputs": [],
   "source": [
    "mean,median,std_dev = calculate_statistics(df)"
   ]
  },
  {
   "cell_type": "code",
   "execution_count": 8,
   "id": "1f75e2a2-449b-4e59-93d3-7b3454554334",
   "metadata": {},
   "outputs": [
    {
     "name": "stdout",
     "output_type": "stream",
     "text": [
      "Mean: 30.0\n",
      "Median: 30.0\n",
      "Standard Deviation: 15.811388300841896\n"
     ]
    }
   ],
   "source": [
    "print(f'Mean: {mean}')\n",
    "print(f'Median: {median}')\n",
    "print(f'Standard Deviation: {std_dev}')"
   ]
  },
  {
   "cell_type": "markdown",
   "id": "73fbffd1-f5ac-44b5-b1d8-9a0c0647e156",
   "metadata": {},
   "source": [
    "# Q-10: Given a Pandas DataFrame df with a column 'Sales' and a column 'Date', write a Python function to create a new column 'MovingAverage' that contains the moving average of the sales for the past 7 days for each row in the DataFrame. The moving average should be calculated using a window of size 7 and should include the current day."
   ]
  },
  {
   "cell_type": "code",
   "execution_count": 12,
   "id": "7b5762f9-6b80-440a-a481-22f107f87ec1",
   "metadata": {},
   "outputs": [],
   "source": [
    "import pandas as pd\n",
    "#Example usage\n",
    "# Assuming df is your DataFrame with 'Sales' and 'Date' columns\n",
    "df = pd.DataFrame({\n",
    "     'Date': pd.date_range(start='2023-01-01', periods=11, freq='D'),\n",
    "     'Sales': [10, 20, 30, 40, 50, 60, 70, 80, 90, 100,110]\n",
    " })"
   ]
  },
  {
   "cell_type": "code",
   "execution_count": 15,
   "id": "ff999701-fc13-40fc-af46-16b90e0a6854",
   "metadata": {},
   "outputs": [
    {
     "data": {
      "text/html": [
       "<div>\n",
       "<style scoped>\n",
       "    .dataframe tbody tr th:only-of-type {\n",
       "        vertical-align: middle;\n",
       "    }\n",
       "\n",
       "    .dataframe tbody tr th {\n",
       "        vertical-align: top;\n",
       "    }\n",
       "\n",
       "    .dataframe thead th {\n",
       "        text-align: right;\n",
       "    }\n",
       "</style>\n",
       "<table border=\"1\" class=\"dataframe\">\n",
       "  <thead>\n",
       "    <tr style=\"text-align: right;\">\n",
       "      <th></th>\n",
       "      <th>Date</th>\n",
       "      <th>Sales</th>\n",
       "      <th>MovingAverage</th>\n",
       "    </tr>\n",
       "  </thead>\n",
       "  <tbody>\n",
       "    <tr>\n",
       "      <th>0</th>\n",
       "      <td>2023-01-01</td>\n",
       "      <td>10</td>\n",
       "      <td>10.0</td>\n",
       "    </tr>\n",
       "    <tr>\n",
       "      <th>1</th>\n",
       "      <td>2023-01-02</td>\n",
       "      <td>20</td>\n",
       "      <td>15.0</td>\n",
       "    </tr>\n",
       "    <tr>\n",
       "      <th>2</th>\n",
       "      <td>2023-01-03</td>\n",
       "      <td>30</td>\n",
       "      <td>20.0</td>\n",
       "    </tr>\n",
       "    <tr>\n",
       "      <th>3</th>\n",
       "      <td>2023-01-04</td>\n",
       "      <td>40</td>\n",
       "      <td>25.0</td>\n",
       "    </tr>\n",
       "    <tr>\n",
       "      <th>4</th>\n",
       "      <td>2023-01-05</td>\n",
       "      <td>50</td>\n",
       "      <td>30.0</td>\n",
       "    </tr>\n",
       "    <tr>\n",
       "      <th>5</th>\n",
       "      <td>2023-01-06</td>\n",
       "      <td>60</td>\n",
       "      <td>35.0</td>\n",
       "    </tr>\n",
       "    <tr>\n",
       "      <th>6</th>\n",
       "      <td>2023-01-07</td>\n",
       "      <td>70</td>\n",
       "      <td>40.0</td>\n",
       "    </tr>\n",
       "    <tr>\n",
       "      <th>7</th>\n",
       "      <td>2023-01-08</td>\n",
       "      <td>80</td>\n",
       "      <td>50.0</td>\n",
       "    </tr>\n",
       "    <tr>\n",
       "      <th>8</th>\n",
       "      <td>2023-01-09</td>\n",
       "      <td>90</td>\n",
       "      <td>60.0</td>\n",
       "    </tr>\n",
       "    <tr>\n",
       "      <th>9</th>\n",
       "      <td>2023-01-10</td>\n",
       "      <td>100</td>\n",
       "      <td>70.0</td>\n",
       "    </tr>\n",
       "    <tr>\n",
       "      <th>10</th>\n",
       "      <td>2023-01-11</td>\n",
       "      <td>110</td>\n",
       "      <td>80.0</td>\n",
       "    </tr>\n",
       "  </tbody>\n",
       "</table>\n",
       "</div>"
      ],
      "text/plain": [
       "         Date  Sales  MovingAverage\n",
       "0  2023-01-01     10           10.0\n",
       "1  2023-01-02     20           15.0\n",
       "2  2023-01-03     30           20.0\n",
       "3  2023-01-04     40           25.0\n",
       "4  2023-01-05     50           30.0\n",
       "5  2023-01-06     60           35.0\n",
       "6  2023-01-07     70           40.0\n",
       "7  2023-01-08     80           50.0\n",
       "8  2023-01-09     90           60.0\n",
       "9  2023-01-10    100           70.0\n",
       "10 2023-01-11    110           80.0"
      ]
     },
     "execution_count": 15,
     "metadata": {},
     "output_type": "execute_result"
    }
   ],
   "source": [
    "df"
   ]
  },
  {
   "cell_type": "code",
   "execution_count": 16,
   "id": "4bb95324-7dd9-427f-90f2-0ee6515c70df",
   "metadata": {},
   "outputs": [],
   "source": [
    "import pandas as pd\n",
    "\n",
    "def add_moving_average(df):\n",
    "    # Ensure the DataFrame is sorted by 'Date'\n",
    "    df = df.sort_values(by='Date')\n",
    "    \n",
    "    # Calculate the moving average with a window of 7 days\n",
    "    df['MovingAverage'] = df['Sales'].rolling(window=7, min_periods=1).mean()\n",
    "    \n",
    "    return df"
   ]
  },
  {
   "cell_type": "code",
   "execution_count": 17,
   "id": "984c6ed6-54d7-499a-8f10-074747d16229",
   "metadata": {},
   "outputs": [
    {
     "name": "stdout",
     "output_type": "stream",
     "text": [
      "         Date  Sales  MovingAverage\n",
      "0  2023-01-01     10           10.0\n",
      "1  2023-01-02     20           15.0\n",
      "2  2023-01-03     30           20.0\n",
      "3  2023-01-04     40           25.0\n",
      "4  2023-01-05     50           30.0\n",
      "5  2023-01-06     60           35.0\n",
      "6  2023-01-07     70           40.0\n",
      "7  2023-01-08     80           50.0\n",
      "8  2023-01-09     90           60.0\n",
      "9  2023-01-10    100           70.0\n",
      "10 2023-01-11    110           80.0\n"
     ]
    }
   ],
   "source": [
    "df = add_moving_average(df)\n",
    "print(df)"
   ]
  },
  {
   "cell_type": "markdown",
   "id": "36126994-e9f2-4fda-8d7b-c176819a65bc",
   "metadata": {},
   "source": [
    "# Q-11:You have a Pandas DataFrame df with a column 'Date'. Write a Python function that creates a new column 'Weekday' in the DataFrame. The 'Weekday' column should contain the weekday name (e.g. Monday, Tuesday) corresponding to each date in the 'Date' column.\n",
    "# For example, if df contains the following values:\n",
    "   # Date\n",
    "#0 2023-01-01\n",
    "#1 2023-01-02\n",
    "#2 2023-01-03\n",
    "#3 2023-01-04\n",
    "#4 2023-01-05\n",
    "# Your function should create the following DataFrame:\n",
    "\n",
    "    # Date Weekday\n",
    "#0 2023-01-01 Sunday\n",
    "#1 2023-01-02 Monday\n",
    "#2 2023-01-03 Tuesday\n",
    "#3 2023-01-04 Wednesday\n",
    "#4 2023-01-05 Thursday\n",
    "# The function should return the modified DataFrame."
   ]
  },
  {
   "cell_type": "markdown",
   "id": "2a396d92-773c-4d5b-9a15-c0e115cf6c83",
   "metadata": {},
   "source": [
    "## "
   ]
  },
  {
   "cell_type": "code",
   "execution_count": 1,
   "id": "b233a597-b735-4fb3-8d39-5eec3dca2b14",
   "metadata": {},
   "outputs": [
    {
     "name": "stdout",
     "output_type": "stream",
     "text": [
      "        Date    Weekday\n",
      "0 2023-01-01     Sunday\n",
      "1 2023-01-02     Monday\n",
      "2 2023-01-03    Tuesday\n",
      "3 2023-01-04  Wednesday\n",
      "4 2023-01-05   Thursday\n"
     ]
    }
   ],
   "source": [
    "import pandas as pd\n",
    "\n",
    "def add_weekday_column(df):\n",
    "    # Convert the 'Date' column to datetime if it is not already\n",
    "    df['Date'] = pd.to_datetime(df['Date'])\n",
    "    \n",
    "    # Create the 'Weekday' column with the weekday name\n",
    "    df['Weekday'] = df['Date'].dt.day_name()\n",
    "    \n",
    "    return df\n",
    "\n",
    "# Example usage:\n",
    "data = {'Date': ['2023-01-01', '2023-01-02', '2023-01-03', '2023-01-04', '2023-01-05']}\n",
    "df = pd.DataFrame(data)\n",
    "df = add_weekday_column(df)\n",
    "print(df)\n"
   ]
  },
  {
   "cell_type": "markdown",
   "id": "95a887f5-b1b1-4cc9-8441-e1ae9d756fc6",
   "metadata": {},
   "source": [
    "# Q12. Given a Pandas DataFrame df with a column 'Date' that contains timestamps, write a Python function to select all rows where the date is between '2023-01-01' and '2023-01-31'."
   ]
  },
  {
   "cell_type": "code",
   "execution_count": 18,
   "id": "0ecdf724-3405-41ec-95d6-f4445a55246b",
   "metadata": {},
   "outputs": [
    {
     "name": "stdout",
     "output_type": "stream",
     "text": [
      "        Date    Weekday\n",
      "0 2023-01-01     Sunday\n",
      "1 2023-01-02     Monday\n",
      "2 2023-01-03    Tuesday\n",
      "3 2023-01-04  Wednesday\n",
      "4 2023-01-05   Thursday\n"
     ]
    }
   ],
   "source": [
    "import pandas as pd\n",
    "\n",
    "def select_rows_between_dates(df):\n",
    "    # Convert 'Date' column to datetime if it's not already\n",
    "    df['Date'] = pd.to_datetime(df['Date'])\n",
    "    \n",
    "    # Define the start and end dates for filtering\n",
    "    start_date = '2023-01-01'\n",
    "    end_date = '2023-01-31'\n",
    "    \n",
    "    # Use boolean indexing to filter rows\n",
    "    mask = (df['Date'] >= start_date) & (df['Date'] <= end_date)\n",
    "    \n",
    "    filtered_df = df.loc[mask]\n",
    "    \n",
    "    return filtered_df\n",
    "\n",
    "\n",
    "\n",
    "# Example usage:\n",
    "filtered_df = select_rows_between_dates(df)\n",
    "print(filtered_df)\n"
   ]
  },
  {
   "cell_type": "markdown",
   "id": "1bdcfa55-7ec7-4933-a1ed-1c384b30ee6a",
   "metadata": {},
   "source": [
    "# Q13. To use the basic functions of pandas, what is the first and foremost necessary library that needs to be imported?"
   ]
  },
  {
   "cell_type": "raw",
   "id": "1aecca49-6803-49a0-8d1e-6c5bb3817554",
   "metadata": {},
   "source": [
    "The first and foremost necessary library that needs to be imported to use the basic functions of pandas is pandas itself.\n",
    "\n",
    "You typically import pandas using the following convention:"
   ]
  },
  {
   "cell_type": "code",
   "execution_count": 19,
   "id": "f2b27747-275b-4529-b8dc-edd2a9364093",
   "metadata": {},
   "outputs": [],
   "source": [
    "import pandas as pd"
   ]
  },
  {
   "cell_type": "raw",
   "id": "04c5ea8e-2f27-4802-ad6f-edb63b1fbe5d",
   "metadata": {},
   "source": [
    "Here, pd is an alias commonly used for pandas to make code more concise. After importing pandas, you can then access its functions and classes to work with DataFrames and Series, manipulate data, perform calculations, and much more. This import statement is usually placed at the beginning of your Python script or notebook."
   ]
  },
  {
   "cell_type": "code",
   "execution_count": null,
   "id": "372bf1bb-d258-47c3-a8cc-d97650173d1e",
   "metadata": {},
   "outputs": [],
   "source": []
  }
 ],
 "metadata": {
  "kernelspec": {
   "display_name": "Python 3 (ipykernel)",
   "language": "python",
   "name": "python3"
  },
  "language_info": {
   "codemirror_mode": {
    "name": "ipython",
    "version": 3
   },
   "file_extension": ".py",
   "mimetype": "text/x-python",
   "name": "python",
   "nbconvert_exporter": "python",
   "pygments_lexer": "ipython3",
   "version": "3.10.8"
  }
 },
 "nbformat": 4,
 "nbformat_minor": 5
}
