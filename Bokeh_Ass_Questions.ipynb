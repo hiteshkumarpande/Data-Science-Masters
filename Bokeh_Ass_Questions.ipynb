{
  "nbformat": 4,
  "nbformat_minor": 0,
  "metadata": {
    "colab": {
      "private_outputs": true,
      "provenance": []
    },
    "kernelspec": {
      "name": "python3",
      "display_name": "Python 3"
    },
    "language_info": {
      "name": "python"
    }
  },
  "cells": [
    {
      "cell_type": "markdown",
      "source": [
        "Q1. How can you create a Bokeh plot using Python code?"
      ],
      "metadata": {
        "id": "VCXRQoJmkom7"
      }
    },
    {
      "cell_type": "markdown",
      "source": [
        "Creating a Bokeh plot using Python involves the following steps:\n",
        "\n",
        "    Install Bokeh: Ensure you have Bokeh installed by running:\n",
        "\n",
        "\n",
        "    Import Bokeh modules: Import the necessary Bokeh modules for creating plots, such as figure, output_file, and show.\n",
        "\n",
        "    Prepare your data: Define or load the data that you want to plot. This could be a simple list or a more complex dataset like a Pandas DataFrame.\n",
        "\n",
        "    Create a plot (Figure): Use figure() to create a plot where you'll add graphical elements such as lines, circles, or bars.\n",
        "\n",
        "    Add glyphs (visual elements): Use methods like line(), circle(), bar(), etc., to add visual elements (called glyphs) to the plot.\n",
        "\n",
        "    Output the plot to a file or show in browser:\n",
        "      Use output_file() to specify the output as an HTML file.\n",
        "      \n",
        "      Use show() to display the plot in a web browser.\n",
        "\n"
      ],
      "metadata": {
        "id": "syH1k1ehod-B"
      }
    },
    {
      "cell_type": "code",
      "source": [
        "pip install bokeh"
      ],
      "metadata": {
        "id": "KcPYiIKooakt"
      },
      "execution_count": null,
      "outputs": []
    },
    {
      "cell_type": "markdown",
      "source": [
        "Example of a simple Bokeh plot in Python:"
      ],
      "metadata": {
        "id": "--68kBbMpA3g"
      }
    },
    {
      "cell_type": "code",
      "source": [
        "# Step 1: Import Bokeh modules\n",
        "from bokeh.plotting import figure, output_file, show\n",
        "import bokeh.io\n",
        "\n",
        "# Step 2: Prepare your data\n",
        "x = [1, 2, 3, 4, 5]\n",
        "y = [6, 7, 2, 4, 5]\n",
        "\n",
        "# Step 3: Create an output file\n",
        "output_file(\"line_plot.html\")\n",
        "\n",
        "# Step 4: Create a plot\n",
        "p = figure(title=\"Simple Line Plot\", x_axis_label='X-axis', y_axis_label='Y-axis')\n",
        "\n",
        "# Step 5: Add a line renderer to the plot\n",
        "p.line(x, y, legend_label=\"Line\", line_width=2)\n",
        "\n",
        "# Step 6: Display the plot\n",
        "show(p)\n"
      ],
      "metadata": {
        "id": "bZxQtVQToca0"
      },
      "execution_count": null,
      "outputs": []
    },
    {
      "cell_type": "markdown",
      "source": [
        "Key steps explained:\n",
        "\n",
        "1) figure(): Creates a new plot.\n",
        "  \n",
        "2) line(): Adds a line glyph to the plot.\n",
        "\n",
        "3) output_file(): Specifies the output file for the plot (in HTML format).\n",
        "    \n",
        "4) show(): Displays the plot in the browser.\n",
        "\n",
        "This will create an interactive Bokeh plot and render it in a browser window."
      ],
      "metadata": {
        "id": "_NG2Ue0IpOg8"
      }
    },
    {
      "cell_type": "markdown",
      "source": [
        "Q2. What are glyphs in Bokeh, and how can you add them to a Bokeh plot? Explain with an example."
      ],
      "metadata": {
        "id": "sH9eqC_JpYqJ"
      }
    },
    {
      "cell_type": "markdown",
      "source": [
        "In Bokeh, glyphs are the basic visual building blocks of a plot. They represent shapes, markers, and lines that are used to visually display data. Glyphs include elements such as circles, lines, rectangles, bars, wedges, and more.\n",
        "How to Add Glyphs to a Bokeh Plot\n",
        "\n",
        "To add glyphs to a Bokeh plot:\n",
        "\n",
        "1) Create a figure using figure().\n",
        "2) Call the glyph method (like circle(), line(), rect(), etc.) to add a      specific shape to the plot.\n",
        "3) Provide the data you want to visualize.\n",
        "\n",
        "Each glyph method takes the data for the x and y coordinates, and you can customize the appearance by adding attributes like color, size, alpha, and line_width.\n",
        "\n",
        "Example of Adding Multiple Glyphs to a Bokeh Plot\n",
        "\n",
        "Here’s an example of adding two glyphs (circle and line) to a Bokeh plot:"
      ],
      "metadata": {
        "id": "yt9ovhIy_WDY"
      }
    },
    {
      "cell_type": "code",
      "execution_count": null,
      "metadata": {
        "id": "QnXNJdDPki5f"
      },
      "outputs": [],
      "source": [
        "# Import Bokeh modules\n",
        "from bokeh.plotting import figure, output_file, show\n",
        "import bokeh.io\n",
        "\n",
        "# Prepare some data\n",
        "x = [1, 2, 3, 4, 5]\n",
        "y = [6, 7, 2, 4, 5]\n",
        "\n",
        "# Output file\n",
        "output_file(\"glyphs_example.html\")\n",
        "\n",
        "# Create a figure\n",
        "p = figure(title=\"Bokeh Plot with Glyphs\", x_axis_label=\"X-Axis\", y_axis_label=\"Y-Axis\")\n",
        "\n",
        "# Add a line glyph\n",
        "p.line(x, y, legend_label=\"Line\", line_width=2, color=\"blue\")\n",
        "\n",
        "# Add a circle glyph at each point in the line\n",
        "p.scatter(x, y, size=20, color=\"red\", marker=\"circle\" )\n",
        "\n",
        "\n",
        "# Display the plot\n",
        "show(p)\n"
      ]
    },
    {
      "cell_type": "markdown",
      "source": [
        "## Q3. How can you customize the appearance of a Bokeh plot, including the axes, title, and legend?"
      ],
      "metadata": {
        "id": "O1kC6Iv2Qrp0"
      }
    },
    {
      "cell_type": "markdown",
      "source": [
        "Customizing the Appearance of a Bokeh Plot\n",
        "\n",
        "Bokeh provides a lot of flexibility for customizing the appearance of plots, including the plot's title, axes, and legend. Here’s how you can customize these elements.\n",
        "1. Customizing the Title\n",
        "\n",
        "You can modify the title's properties (such as font size, color, alignment, etc.) by setting attributes directly on the figure object."
      ],
      "metadata": {
        "id": "ydOSCukwc4jq"
      }
    },
    {
      "cell_type": "code",
      "source": [
        "p = figure(title=\"Customized Bokeh Plot\")\n",
        "p.title.text_color = \"blue\"\n",
        "p.title.text_font = \"times\"\n",
        "p.title.text_font_size = \"20pt\"\n",
        "p.title.align = \"center\"\n"
      ],
      "metadata": {
        "id": "OW5fLPdfpEf0"
      },
      "execution_count": null,
      "outputs": []
    },
    {
      "cell_type": "markdown",
      "source": [
        "1) title.text_color: Sets the title color.\n",
        "\n",
        "2) title.text_font: Changes the font.\n",
        "\n",
        "3) title.text_font_size: Adjusts the font size.\n",
        "\n",
        "4) title.align: Aligns the title (can be left, right, center)."
      ],
      "metadata": {
        "id": "vD3F_xThdAIR"
      }
    },
    {
      "cell_type": "markdown",
      "source": [
        "2. Customizing the Axes\n",
        "\n",
        "You can customize the x-axis and y-axis with attributes like labels, ticks, font, color, and more.\n"
      ],
      "metadata": {
        "id": "90Uuw3ZIdZaR"
      }
    },
    {
      "cell_type": "code",
      "source": [
        "# Customizing axis labels\n",
        "p.xaxis.axis_label = \"Custom X-Axis Label\"\n",
        "p.yaxis.axis_label = \"Custom Y-Axis Label\"\n",
        "\n",
        "# Customizing axis label properties\n",
        "p.xaxis.axis_label_text_color = \"green\"\n",
        "p.xaxis.axis_label_text_font_size = \"15pt\"\n",
        "\n",
        "# Customizing tick labels\n",
        "p.xaxis.major_label_text_color = \"orange\"\n",
        "p.xaxis.major_label_orientation = \"vertical\"  # Rotating tick labels\n"
      ],
      "metadata": {
        "id": "VMTzzje6c_KZ"
      },
      "execution_count": null,
      "outputs": []
    },
    {
      "cell_type": "markdown",
      "source": [
        "1) axis_label: Sets the axis label text.\n",
        "\n",
        "2) axis_label_text_color: Changes the color of the axis label.\n",
        "\n",
        "3) axis_label_text_font_size: Modifies the font size.\n",
        "\n",
        "4) major_label_orientation: Controls the orientation of tick labels (can be horizontal, vertical, or a specific angle in radians)."
      ],
      "metadata": {
        "id": "tLnkIfiYdnci"
      }
    },
    {
      "cell_type": "markdown",
      "source": [
        "3. Customizing the Legend\n",
        "\n",
        "The legend can be customized for position, font size, label color, and more.\n"
      ],
      "metadata": {
        "id": "7Xi_S6r1d79V"
      }
    },
    {
      "cell_type": "code",
      "source": [
        "# Add some data and plot a line with a legend label\n",
        "p.line(x, y, legend_label=\"Line Example\", line_width=2)\n",
        "\n",
        "# Customizing the legend\n",
        "p.legend.title = \"Legend Title\"\n",
        "p.legend.label_text_font_size = \"12pt\"\n",
        "p.legend.label_text_color = \"navy\"\n",
        "\n",
        "# Moving the legend to the top-left corner\n",
        "p.legend.location = \"top_left\"\n",
        "\n",
        "# Changing the background color of the legend\n",
        "p.legend.background_fill_color = \"lightgray\"\n"
      ],
      "metadata": {
        "id": "cHF_K4F0ddyS"
      },
      "execution_count": null,
      "outputs": []
    },
    {
      "cell_type": "markdown",
      "source": [
        "1) legend.title: Adds a title to the legend.\n",
        "\n",
        "2) legend.label_text_font_size: Changes the font size of legend labels.\n",
        "    \n",
        "3) legend.location: Changes the position of the legend (e.g., top_left, bottom_right).\n",
        "    \n",
        "4) legend.background_fill_color: Changes the background color of the legend.\n",
        "\n"
      ],
      "metadata": {
        "id": "GhJY1o8meB8c"
      }
    },
    {
      "cell_type": "markdown",
      "source": [
        "4.Customizing the Plot Outline and Background\n",
        "\n",
        "You can also customize the appearance of the plot's border and background."
      ],
      "metadata": {
        "id": "p4EOPrjxeU4b"
      }
    },
    {
      "cell_type": "code",
      "source": [
        "# Customizing the plot background and border\n",
        "p.border_fill_color = \"whitesmoke\"  # Background of the plot area\n",
        "p.outline_line_width = 3            # Width of the border around the plot\n",
        "p.outline_line_color = \"black\"      # Border color\n",
        "p.background_fill_color = \"lightblue\"  # Background outside the plot area\n"
      ],
      "metadata": {
        "id": "SFpAbcUpd9oU"
      },
      "execution_count": null,
      "outputs": []
    },
    {
      "cell_type": "markdown",
      "source": [
        "1) border_fill_color: Sets the background color of the plot area.\n",
        "    \n",
        "2) outline_line_width and outline_line_color: Change the border thickness and color.\n",
        "    \n",
        "3) background_fill_color: Changes the color outside the plot area.\n",
        "\n"
      ],
      "metadata": {
        "id": "zyLI9b0VefdB"
      }
    },
    {
      "cell_type": "markdown",
      "source": [
        "Putting It All Together: A Fully Customized Bokeh Plot"
      ],
      "metadata": {
        "id": "SM6mJ-WVepTd"
      }
    },
    {
      "cell_type": "code",
      "source": [
        "from bokeh.plotting import figure, output_file, show\n",
        "\n",
        "# Prepare data\n",
        "x = [1, 2, 3, 4, 5]\n",
        "y = [6, 7, 2, 4, 5]\n",
        "\n",
        "# Output file\n",
        "output_file(\"customized_plot.html\")\n",
        "\n",
        "# Create a figure with a title\n",
        "p = figure(title=\"Fully Customized Bokeh Plot\")\n",
        "\n",
        "# Add a line glyph and a legend\n",
        "p.line(x, y, legend_label=\"Line Example\", line_width=2)\n",
        "\n",
        "# Customizing the title\n",
        "p.title.text_color = \"red\"\n",
        "p.title.text_font = \"times\"\n",
        "p.title.text_font_size = \"20pt\"\n",
        "p.title.align = \"center\"\n",
        "\n",
        "# Customizing the axes\n",
        "p.xaxis.axis_label = \"X-Axis\"\n",
        "p.yaxis.axis_label = \"Y-Axis\"\n",
        "p.xaxis.axis_label_text_color = \"green\"\n",
        "p.xaxis.axis_label_text_font_size = \"15pt\"\n",
        "p.yaxis.major_label_text_color = \"orange\"\n",
        "p.yaxis.major_label_orientation = \"horizontal\"\n",
        "\n",
        "# Customizing the legend\n",
        "p.legend.title = \"Legend\"\n",
        "p.legend.label_text_font_size = \"15pt\"\n",
        "p.legend.label_text_color = \"navy\"\n",
        "p.legend.location = \"top_right\"\n",
        "p.legend.background_fill_color = \"lightblue\"\n",
        "\n",
        "# Customizing the plot outline and background\n",
        "p.border_fill_color = \"whitesmoke\"\n",
        "p.outline_line_width = 3\n",
        "p.outline_line_color = \"black\"\n",
        "p.background_fill_color = \"yellow\"\n",
        "\n",
        "# Show the plot\n",
        "show(p)\n"
      ],
      "metadata": {
        "id": "mlZEq6_7eZb4"
      },
      "execution_count": null,
      "outputs": []
    },
    {
      "cell_type": "markdown",
      "source": [
        "Summary of Customization Options:\n",
        "\n",
        "1) Title: Adjust color, font, size, and alignment.\n",
        "\n",
        "2) Axes: Customize labels, ticks, and orientation.\n",
        "\n",
        "3) Legend: Control the position, font, color, and background.\n",
        "\n",
        "4) Plot Appearance: Modify the background and border of the plot.\n",
        "\n",
        "This allows you to create a visually polished and easy-to-read plot, tailored to your specific needs."
      ],
      "metadata": {
        "id": "ftE77onLfPVR"
      }
    },
    {
      "cell_type": "markdown",
      "source": [
        "Q4. What is a Bokeh server, and how can you use it to create interactive plots that can be updated in real time?\n",
        "\n"
      ],
      "metadata": {
        "id": "wNt3oRqKfvoq"
      }
    },
    {
      "cell_type": "markdown",
      "source": [
        "The Bokeh server is a powerful feature of the Bokeh library that allows you to create interactive plots and dashboards that can respond to user input, stream data, or update in real time. Unlike static plots, Bokeh server apps are dynamic, meaning the data or layout can change based on events like user interaction (e.g., clicking, selecting), background processes, or real-time data sources.\n",
        "\n",
        "With the Bokeh server, you can:\n",
        "\n",
        "1) Respond to user interactions (like slider adjustments or button clicks).\n",
        "   \n",
        "2) Push real-time data updates to the plot.\n",
        "   \n",
        "3) Stream data continuously for dashboards and monitoring tools.\n",
        "    \n",
        "4) Sync your plots with Python callbacks and other logic.\n",
        "\n"
      ],
      "metadata": {
        "id": "AsR5dVLguLry"
      }
    },
    {
      "cell_type": "markdown",
      "source": [
        "Key Concepts:\n",
        "\n",
        "1) Sessions: A user’s connection to the Bokeh server. Each session can have different data or settings.\n",
        "    \n",
        "2) Callbacks: Functions that are triggered by user interactions like clicks, selections, or updates from the server."
      ],
      "metadata": {
        "id": "S66RX_yKuddF"
      }
    },
    {
      "cell_type": "markdown",
      "source": [
        "Steps to Create a Bokeh Server App\n",
        "\n",
        "1) Install Bokeh (if not already installed):\n",
        "\n",
        "pip install bokeh\n",
        "\n",
        "2) Create Python script for your app: Write a Python script using Bokeh components like figure, Slider, and Button. Use Bokeh's curdoc() to keep track of the current document (plot) and update it dynamically.\n",
        "\n",
        "3) Run the Bokeh server: Start the server with the bokeh serve command, pointing it to your script.\n",
        "\n",
        "4) Access the interactive app: Open your browser to the URL where the server is running (e.g., localhost:5006)."
      ],
      "metadata": {
        "id": "JrXU15zGuv2O"
      }
    },
    {
      "cell_type": "markdown",
      "source": [
        "Example of a Bokeh Server App: Interactive Plot with Slider\n",
        "\n",
        "In this example, we create an interactive plot where the user can adjust a slider, and the plot updates in real time based on the slider’s value.\n",
        "\n",
        "Step 1: Write the Python Script (app.py)"
      ],
      "metadata": {
        "id": "vv4hfb_pvTl8"
      }
    },
    {
      "cell_type": "code",
      "source": [
        "# Import necessary Bokeh components\n",
        "from bokeh.plotting import figure\n",
        "from bokeh.layouts import column\n",
        "from bokeh.models import Slider\n",
        "from bokeh.io import curdoc\n",
        "\n",
        "# Create some initial data\n",
        "x = [i for i in range(11)]\n",
        "y = [i**2 for i in x]\n",
        "\n",
        "# Create a figure (plot)\n",
        "p = figure(title=\"Interactive Bokeh Plot\", x_axis_label='X-Axis', y_axis_label='Y-Axis')\n",
        "\n",
        "# Plot a line based on the initial data\n",
        "line = p.line(x, y, line_width=2)\n",
        "\n",
        "# Define a callback function to update the plot when the slider is changed\n",
        "def update(attr, old, new):\n",
        "    scale = slider.value  # Get the new value from the slider\n",
        "    new_y = [i**scale for i in x]  # Update y values based on slider\n",
        "    line.data_source.data['y'] = new_y  # Update the data source with new values\n",
        "\n",
        "# Create a slider widget\n",
        "slider = Slider(start=0.1, end=4, value=2, step=0.1, title=\"Exponent\")\n",
        "\n",
        "# Attach the callback to the slider's value change\n",
        "slider.on_change('value', update)\n",
        "\n",
        "# Arrange plot and slider in a layout\n",
        "layout = column(p, slider)\n",
        "\n",
        "# Add the layout to the current document (app)\n",
        "curdoc().add_root(layout)\n"
      ],
      "metadata": {
        "id": "g6dvgEIaes-n"
      },
      "execution_count": null,
      "outputs": []
    },
    {
      "cell_type": "markdown",
      "source": [
        "Step 2: Run the Bokeh Server\n",
        "\n",
        "To run this script with the Bokeh server, open a terminal and run:"
      ],
      "metadata": {
        "id": "xc_seuWdvnyg"
      }
    },
    {
      "cell_type": "code",
      "source": [
        "bokeh serve --show app.py"
      ],
      "metadata": {
        "id": "o3oG12DLve2X"
      },
      "execution_count": null,
      "outputs": []
    },
    {
      "cell_type": "markdown",
      "source": [
        "This will:\n",
        "\n",
        "1) Start the Bokeh server.\n",
        "    \n",
        "2) Automatically open your web browser to http://localhost:5006/app where the app is running.\n",
        "\n",
        "Explanation:\n",
        "\n",
        "1) figure(): Creates a plot.\n",
        "    \n",
        "2) Slider: Adds a slider widget to the layout.\n",
        "    \n",
        "3) on_change(): Attaches the update function to respond to slider value changes.\n",
        "    \n",
        "4) curdoc(): Gets the current document (the plot and layout) and keeps track of it so the server can update it in real time.\n",
        "\n"
      ],
      "metadata": {
        "id": "I7Hq2ak4v45s"
      }
    },
    {
      "cell_type": "markdown",
      "source": [
        "How Bokeh Server Works in Real-Time Updates\n",
        "\n",
        "1) Real-time interaction: The update function is called whenever the slider value changes. It recalculates the y values based on the slider and updates the plot immediately.\n",
        "    \n",
        "2) Streaming or updating data: You can also update the plot with new data streamed from a file or an external data source (e.g., real-time monitoring data).\n",
        "\n",
        "**Streaming Real-Time Data Example:**\n",
        "\n",
        "Here’s how you can modify the previous example to stream real-time data into the plot."
      ],
      "metadata": {
        "id": "fcuW2GvXwSnd"
      }
    },
    {
      "cell_type": "code",
      "source": [
        "import numpy as np\n",
        "from bokeh.plotting import figure\n",
        "from bokeh.layouts import column\n",
        "from bokeh.models import Button\n",
        "from bokeh.io import curdoc\n",
        "from bokeh.driving import linear\n",
        "\n",
        "# Create a figure\n",
        "p = figure(title=\"Streaming Data\", x_axis_label='X', y_axis_label='Y')\n",
        "\n",
        "# Create a line plot\n",
        "line = p.line([], [], line_width=2)\n",
        "\n",
        "# Define a function to update the plot with new data\n",
        "@linear()\n",
        "def update(step):\n",
        "    new_x = step\n",
        "    new_y = np.sin(step / 10)  # Some new data based on step\n",
        "    line.data_source.stream({'x': [new_x], 'y': [new_y]}, rollover=200)  # Rollover keeps the plot fresh\n",
        "\n",
        "# Start a periodic callback to run the update function every 100ms\n",
        "curdoc().add_periodic_callback(update, 100)\n",
        "\n",
        "# Add the plot to the current document\n",
        "curdoc().add_root(p)\n"
      ],
      "metadata": {
        "id": "mnHeikXkvsKi"
      },
      "execution_count": null,
      "outputs": []
    },
    {
      "cell_type": "markdown",
      "source": [
        "In this example:\n",
        "\n",
        "a) @linear(): A decorator that automatically increments the step variable each time the update function is called.\n",
        "    \n",
        "b) stream(): Continuously adds new data points to the plot in real time.\n",
        "    \n",
        "c) add_periodic_callback(): Tells the server to call the update function every 100 milliseconds.\n",
        "\n"
      ],
      "metadata": {
        "id": "smh5QE20wk4g"
      }
    },
    {
      "cell_type": "markdown",
      "source": [
        "Summary: Using Bokeh Server for Real-Time Interactive Plots\n",
        "\n",
        "1. Bokeh Server allows you to create dynamic and interactive plots that can update in real time, based on user input or live data streams.\n",
        "    \n",
        "2. Callbacks: Define Python functions to respond to user actions like clicks, selections, and changes in widget values.\n",
        "    \n",
        "3. Real-time data: Bokeh server supports streaming data, making it ideal for monitoring and dashboard applications.\n",
        "    \n",
        "4. Running: Use bokeh serve to launch the server and interact with your app in a browser.\n",
        "\n",
        "This enables you to build interactive dashboards, data visualizations, and real-time monitoring applications with Python."
      ],
      "metadata": {
        "id": "OTv4ez3hwwlN"
      }
    },
    {
      "cell_type": "code",
      "source": [],
      "metadata": {
        "id": "rXMdghgkwgTn"
      },
      "execution_count": null,
      "outputs": []
    }
  ]
}