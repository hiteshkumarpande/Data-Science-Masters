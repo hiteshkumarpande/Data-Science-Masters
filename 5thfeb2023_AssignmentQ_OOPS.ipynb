{
 "cells": [
  {
   "cell_type": "markdown",
   "id": "490be41c-c3bb-43bb-a153-81f8b5a2c3c3",
   "metadata": {},
   "source": [
    "# Q-1) Explain Class and Object with respect to Object_Oriented Programming. Give a Suitable example."
   ]
  },
  {
   "cell_type": "markdown",
   "id": "7271da0d-bd4c-4e88-9432-fef669b59b4f",
   "metadata": {},
   "source": [
    "A class is considered as a blueprint of objects. We can think of the class as a sketch (prototype) of a house. It contains all the details about the floors, doors, windows, etc. Based on these descriptions we build the house. House is the object.\n",
    "\n",
    "\n",
    "Since many houses can be made from the same description, we can create many objects from a class.\n",
    "\n",
    "Define Python Class\n",
    "We use the class keyword to create a class in Python. For example,\n",
    "\n",
    "class ClassName:\n",
    "    # class definition \n",
    "Here, we have created a class named ClassName.\n",
    "\n",
    "Let's see an example,\n",
    "\n",
    "class Bike:\n",
    "    name = \"\"\n",
    "    gear = 0\n",
    "Here,\n",
    "\n",
    "Bike - the name of the class\n",
    "name/gear - variables inside the class with default values \"\" and 0 respectively.\n",
    "Note: The variables inside a class are called attributes.\n",
    "\n"
   ]
  },
  {
   "cell_type": "markdown",
   "id": "3706df7a-cb4e-4bbf-b33e-871be6bcfac8",
   "metadata": {},
   "source": [
    "Python Objects\n",
    "\n",
    "An object is called an instance of a class. For example, suppose Bike is a class then we can create objects like bike1, bike2, etc from the class.\n",
    "\n",
    "Here's the syntax to create an object.\n",
    "\n",
    "objectName = ClassName()\n",
    "Let's see an example,\n",
    "\n",
    "# create class\n",
    "class Bike:\n",
    "    name = \"\"\n",
    "    gear = 0\n",
    "\n",
    "# create objects of class\n",
    "bike1 = Bike()\n",
    "Here, bike1 is the object of the class. Now, we can use this object to access the class attributes.\n",
    "\n"
   ]
  },
  {
   "cell_type": "markdown",
   "id": "f61ab202-1ab7-4ae1-8019-f26692b9759a",
   "metadata": {},
   "source": [
    "Access Class Attributes Using Objects\n",
    "\n",
    "We use the . notation to access the attributes of a class. For example,\n",
    "\n",
    "# modify the name attribute\n",
    "bike1.name = \"Mountain Bike\"\n",
    "\n",
    "# access the gear attribute\n",
    "bike1.gear\n",
    "Here, we have used bike1.name and bike1.gear to change and access the value of name and gear attribute respectively."
   ]
  },
  {
   "cell_type": "markdown",
   "id": "6ce265d2-3d80-4c24-807f-c1a560123fbf",
   "metadata": {},
   "source": [
    "# Example of Python Class and Objects"
   ]
  },
  {
   "cell_type": "code",
   "execution_count": 1,
   "id": "7c30ce30-fc51-4929-93bc-9277d5cf218a",
   "metadata": {},
   "outputs": [
    {
     "name": "stdout",
     "output_type": "stream",
     "text": [
      "Name: Mountain Bike,  Gears: 11\n"
     ]
    }
   ],
   "source": [
    "# define a class\n",
    "class Bike:\n",
    "    name=\"\"\n",
    "    gear=0\n",
    "    \n",
    "# create object of class\n",
    "bike1 = Bike()\n",
    "\n",
    "#access attributes and assign new values\n",
    "bike1.gear=11\n",
    "bike1.name=\"Mountain Bike\"\n",
    "\n",
    "print(f'Name: {bike1.name},  Gears: {bike1.gear}')"
   ]
  },
  {
   "cell_type": "markdown",
   "id": "be39095b-29b6-4a2a-b745-71a065a06293",
   "metadata": {},
   "source": [
    "# Q-2) Name the four pillars of OOPs?"
   ]
  },
  {
   "cell_type": "markdown",
   "id": "ad6a67e6-e065-48ab-847b-597a5bce6ad0",
   "metadata": {},
   "source": [
    "there are four(4) basic principles for writing clean and concise code. These principles are called the four pillars of object-oriented programming (OOP). These four pillars are Inheritance, Polymorphism, Encapsulation and Abstraction. In this article we are going to explore these four pillars of object-oriented programming."
   ]
  },
  {
   "cell_type": "markdown",
   "id": "1cbc6ffb-c056-498c-b7fe-a1600ab1d083",
   "metadata": {},
   "source": [
    "# 1) Inheritence:\n",
    "# In Python it is possible to create an object that inherits the methods and properties of another object. This is called inheritance. In inheritance, there is a parent class and a child class. A child class inherits the properties and methods of the parent class. Here is an example of how inheritance is implemented when creating objects in Python."
   ]
  },
  {
   "cell_type": "code",
   "execution_count": 1,
   "id": "3f712a83-da28-462a-8812-bb3f5cc55483",
   "metadata": {},
   "outputs": [],
   "source": [
    "# Parent class\n",
    "class Animals:\n",
    "    def __init__(self,name,age):\n",
    "        self.name=name\n",
    "        self.age=age\n",
    "        \n",
    "# Child class that inherits from the parent class\n",
    "class Dog(Animals):\n",
    "    def __init__(self,name,age,color):\n",
    "         #Using super() to access methods of the parent class\n",
    "            super().__init__(name,age)\n",
    "            self.color"
   ]
  },
  {
   "cell_type": "markdown",
   "id": "11c7292e-7e86-4831-b67d-f870e3979ec3",
   "metadata": {},
   "source": [
    "# Inheritance helps in creating reusable code and makes our code more concise."
   ]
  },
  {
   "cell_type": "markdown",
   "id": "9dc0f369-e114-47de-8508-409031e7ff69",
   "metadata": {},
   "source": [
    "# 2) Polymorphism\n",
    " Polymorphism simply means 'many forms'. In Python this means that you can have one function or object that can be used in different ways. Let's take an example of the addition operator (+); we can use it to add numbers, but we can also use it to concatenate strings. Here are two examples below:"
   ]
  },
  {
   "cell_type": "code",
   "execution_count": 4,
   "id": "4342a79e-cdf3-4dc5-943a-2b4d0dafb005",
   "metadata": {},
   "outputs": [
    {
     "name": "stdout",
     "output_type": "stream",
     "text": [
      "68\n",
      "I love you\n"
     ]
    }
   ],
   "source": [
    "# Using operator on integers \n",
    "x=23\n",
    "y=45\n",
    "\n",
    "print(x+y)\n",
    "\n",
    "# Using operator on strings\n",
    "a=\"I love\"\n",
    "b=\" you\"\n",
    "print(a+b)"
   ]
  },
  {
   "cell_type": "markdown",
   "id": "c119987c-c313-4d3e-8f06-367897e972dd",
   "metadata": {},
   "source": [
    "# In OOP, polymorphism can be implemented with inheritance. The methods of the child class will have the same name as those of the parent class. The child class method overrides the method inherited from the parent class, when called with the child class object. This kind of implementation is called method overriding. Below, we have a parent class called Cars, and child classes that inherit from the parent class. Notice that all the classes (base class and child classes) have the same method called start. However, the start methods in the child classes have been modified to fit the 'needs' of that child class. So polymorphism in inheritance is useful if we need to modifify the parent method to fit the needs of the child class; while still maintaining access to the parent class method."
   ]
  },
  {
   "cell_type": "code",
   "execution_count": 10,
   "id": "eaf4e11b-cd1f-4920-a6e8-d2a38c698077",
   "metadata": {},
   "outputs": [
    {
     "name": "stdout",
     "output_type": "stream",
     "text": [
      "This method starts all cars\n",
      "This method starts a Tesla\n",
      "This method starts a BMW\n"
     ]
    }
   ],
   "source": [
    "class Cars:\n",
    "    def start(self): # Cars class method\n",
    "        return 'This method starts all cars'\n",
    "    \n",
    "class Tesla(Cars): # inheriting from the Cars class\n",
    "    def start(self): #Tesla class method\n",
    "        return 'This method starts a Tesla'\n",
    "    \n",
    "class BMW(Cars):  #inheriting from the Cars class\n",
    "    def start(self): # BMW class method\n",
    "        return 'This method starts a BMW'\n",
    "    \n",
    "# Instantiating and peinting cars object\n",
    "car = Cars()\n",
    "print(car.start())\n",
    "tesla = Tesla()\n",
    "print(tesla.start())\n",
    "bmw = BMW()\n",
    "print(bmw.start())\n",
    "\n"
   ]
  },
  {
   "cell_type": "markdown",
   "id": "ecdfdd00-903f-4ebd-81f5-139bab279f38",
   "metadata": {},
   "source": [
    "# However, note that polymorphism can also be implemented without inheritance. This means that even though the classes are not explicitly linked to the parent class, we can still use the same name for the class methods, and the implementation will achieve the same results as above. See the modified code below:"
   ]
  },
  {
   "cell_type": "code",
   "execution_count": 12,
   "id": "a13df2ca-1b09-4850-b84a-d1e4462b01f2",
   "metadata": {},
   "outputs": [
    {
     "name": "stdout",
     "output_type": "stream",
     "text": [
      "This method starts all cars\n",
      "This method starts a Tesla\n",
      "This method starts a BMW\n"
     ]
    }
   ],
   "source": [
    "class Cars:\n",
    "    def start(self): # Cars class method\n",
    "        return 'This method starts all cars'\n",
    "    \n",
    "class Tesla(): # inheriting from the Cars class\n",
    "    def start(self): #Tesla class method\n",
    "        return 'This method starts a Tesla'\n",
    "    \n",
    "class BMW():  #inheriting from the Cars class\n",
    "    def start(self): # BMW class method\n",
    "        return 'This method starts a BMW'\n",
    "\n",
    "#instantiating objects and calling the methods\n",
    "for car in (Cars(),Tesla(),BMW()):\n",
    "    print(car.start())"
   ]
  },
  {
   "cell_type": "markdown",
   "id": "36543456-cb29-4781-b28f-56d8ed4b4d57",
   "metadata": {},
   "source": [
    "# 3) Encapsulation"
   ]
  },
  {
   "cell_type": "markdown",
   "id": "fa3c7690-1204-44fd-bf31-6a8893846331",
   "metadata": {},
   "source": [
    "# Encapsulation is the process of making data private by wrapping data and its methods in a 'capsule' or unit, so that it can not be accessed or modified outside of that unit. This is achieved by making variables inside a class private. In Python we can make variables private by prefixing the variable name with a double underscore '__'. In the code below, we have a variable called brand. We add a double underscore to the name (__brand) to make it private. Now, when we try to access the variable outside the function (print(car.__brand), we get an attribute error because the variable __brand is now private, and cannot be modified or changed from outside the class."
   ]
  },
  {
   "cell_type": "code",
   "execution_count": 23,
   "id": "aaa3ef3f-57b3-4255-a0af-b45f44de0ca7",
   "metadata": {},
   "outputs": [
    {
     "ename": "AttributeError",
     "evalue": "'Car' object has no attribute '__brand'",
     "output_type": "error",
     "traceback": [
      "\u001b[0;31m---------------------------------------------------------------------------\u001b[0m",
      "\u001b[0;31mAttributeError\u001b[0m                            Traceback (most recent call last)",
      "Cell \u001b[0;32mIn [23], line 10\u001b[0m\n\u001b[1;32m      6\u001b[0m         \u001b[38;5;28;01mreturn\u001b[39;00m \u001b[38;5;124mf\u001b[39m\u001b[38;5;124m'\u001b[39m\u001b[38;5;124mPlease run \u001b[39m\u001b[38;5;132;01m{\u001b[39;00m\u001b[38;5;28mself\u001b[39m\u001b[38;5;241m.\u001b[39m__brand\u001b[38;5;132;01m}\u001b[39;00m\u001b[38;5;124m'\u001b[39m\n\u001b[1;32m      9\u001b[0m \u001b[38;5;66;03m# printing the double underscore variable\u001b[39;00m\n\u001b[0;32m---> 10\u001b[0m \u001b[38;5;28mprint\u001b[39m(\u001b[43mcar\u001b[49m\u001b[38;5;241;43m.\u001b[39;49m\u001b[43m__brand\u001b[49m)\n\u001b[1;32m     11\u001b[0m \u001b[38;5;28mprint\u001b[39m(car\u001b[38;5;241m.\u001b[39m__brand)\n",
      "\u001b[0;31mAttributeError\u001b[0m: 'Car' object has no attribute '__brand'"
     ]
    }
   ],
   "source": [
    "class Car:\n",
    "    def __init__(self,brand):\n",
    "        self.__brand = brand  # class variables\n",
    "        \n",
    "    def run(self):\n",
    "        return f'Please run {self.__brand}'\n",
    "    \n",
    "\n",
    "# printing the double underscore variable\n",
    "print(car.__brand)\n",
    "print(car.__brand)"
   ]
  },
  {
   "cell_type": "markdown",
   "id": "09b9004f-b838-4fec-b24b-f80028ed7dbf",
   "metadata": {},
   "source": [
    "# 4) Abstraction"
   ]
  },
  {
   "cell_type": "markdown",
   "id": "687be907-0ec0-459c-b434-0bf24d29bdf1",
   "metadata": {},
   "source": [
    "# The fourth pillar of OOP is Abstraction. Abstraction is about keeping the process simple by hiding unnecessary details from the user. Think of a car; the actual mechanism that keeps a car moving is hidden from the user. It is important to know how to drive a car; but it is not necessarily important to know what happens under the hood when you drive the car. Abstraction is about keeping the internal mechanics of the code hidden from the user. This reduces the complexity of the code, and ensures that we only concentrate on what is important.\n",
    "\n",
    "# In OOP abstraction is achieved by creating an interface class (base class) and implementation classes (subclasses). We can create an interface class using the built-in abc module. Below, we create an abstract class called Car. "
   ]
  },
  {
   "cell_type": "code",
   "execution_count": 24,
   "id": "4a87b060-b594-40bf-8ac4-ae12d75d6391",
   "metadata": {},
   "outputs": [],
   "source": [
    "from abc import ABC, abstractmethod\n",
    "\n",
    "class Car(ABC):\n",
    "    @abstractmethod\n",
    "    def car_model(self):\n",
    "        pass"
   ]
  },
  {
   "cell_type": "markdown",
   "id": "109d336c-d069-416a-915d-c966a1e8c62f",
   "metadata": {},
   "source": [
    "# In the code above, we create the abstract class (Interface class) with the help of ABC class from the abc module. The @abstractmethod is a decorator for the abstract methods. The abstract class and its decorated methods are for declaration only, and not for implementation. Remember this is only an interface class; the implementation classes will come later. You cannot instantiate an object of the abstract class; you will get an error. See below:"
   ]
  },
  {
   "cell_type": "code",
   "execution_count": 27,
   "id": "7083e079-49c8-4db2-ac18-993b6c0c9d3b",
   "metadata": {},
   "outputs": [
    {
     "ename": "TypeError",
     "evalue": "Can't instantiate abstract class Car with abstract method car_model",
     "output_type": "error",
     "traceback": [
      "\u001b[0;31m---------------------------------------------------------------------------\u001b[0m",
      "\u001b[0;31mTypeError\u001b[0m                                 Traceback (most recent call last)",
      "Cell \u001b[0;32mIn [27], line 9\u001b[0m\n\u001b[1;32m      6\u001b[0m         \u001b[38;5;28;01mpass\u001b[39;00m\n\u001b[1;32m      8\u001b[0m \u001b[38;5;66;03m# Instantiating car object\u001b[39;00m\n\u001b[0;32m----> 9\u001b[0m car \u001b[38;5;241m=\u001b[39m \u001b[43mCar\u001b[49m\u001b[43m(\u001b[49m\u001b[43m)\u001b[49m\n\u001b[1;32m     10\u001b[0m car\u001b[38;5;241m.\u001b[39mcar_model()\n\u001b[1;32m     12\u001b[0m \u001b[38;5;66;03m#Output\u001b[39;00m\n",
      "\u001b[0;31mTypeError\u001b[0m: Can't instantiate abstract class Car with abstract method car_model"
     ]
    }
   ],
   "source": [
    "from abc import ABC, abstractmethod\n",
    "\n",
    "class Car(ABC):\n",
    "    @abstractmethod\n",
    "    def car_model(self):\n",
    "        pass\n",
    "    \n",
    "# Instantiating car object\n",
    "car = Car()\n",
    "car.car_model()\n",
    "\n",
    "#Output\n",
    "car = Car()"
   ]
  },
  {
   "cell_type": "markdown",
   "id": "9836a5a3-921d-436d-a3c5-f6707243f103",
   "metadata": {},
   "source": [
    "# Now that we have created the abstract class, we can now create the classes that will implement the abstract class. The implementation classes will have the same method name as that of the abstract class. The methods in the implementation classes will override the method in the abstract class. In the code below, we have created the Tesla and BMW classes as subclasses of the abstract class. Here is a full code below:"
   ]
  },
  {
   "cell_type": "code",
   "execution_count": 29,
   "id": "89541977-2631-4644-b232-4a7838768efc",
   "metadata": {},
   "outputs": [
    {
     "name": "stdout",
     "output_type": "stream",
     "text": [
      "This Tesla model is Y.\n",
      "This BMW model is X6.\n"
     ]
    }
   ],
   "source": [
    "from abc import ABC, abstractmethod\n",
    "\n",
    "# Abstract class\n",
    "class Car(ABC):\n",
    "    @abstractmethod\n",
    "    def car_model(self):\n",
    "        pass\n",
    "    \n",
    "# Creating an implementation class\n",
    "class Tesla(Car):\n",
    "    def car_model(self):\n",
    "        print(\"This Tesla model is Y.\")\n",
    "        \n",
    "# Creating an implementation class\n",
    "class BMW(Car):\n",
    "    def car_model(self):\n",
    "        print('This BMW model is X6.')\n",
    "        \n",
    "        \n",
    "# Instantiating the objects in the implementation classes\n",
    "y = Tesla()\n",
    "y.car_model()\n",
    "z=BMW()\n",
    "z.car_model()"
   ]
  },
  {
   "cell_type": "markdown",
   "id": "e93fea4e-889c-4491-96b2-eea31363b7af",
   "metadata": {},
   "source": [
    "# So in the above code, the abstract class sets a standard that every car subclass should have a model - car_model (method). This is implemented by the subclasses (Tesla and BMW). Basically, the abstraction class ensures that the focus is on WHAT should be implemented (That is, every car should have a model) and not HOW it is implemented. The implementation is left to the subclasses."
   ]
  },
  {
   "cell_type": "markdown",
   "id": "f67b6caf-9767-44a6-a10e-2c50dda2b219",
   "metadata": {},
   "source": [
    "# Q-3) Explain why the __init__() function is used. Give a suitable example."
   ]
  },
  {
   "cell_type": "markdown",
   "id": "3723d864-79fe-44db-aa23-d5e6a7cacdc0",
   "metadata": {},
   "source": [
    "Special methods are identified by a double underscore at either side of their name, such as __init__. Python uses special methods to enhance the functionality of classes. Most of them work in the background and are called automatically when needed by the program. You cannot call them explicitly. For instance, when you create a new object, Python automatically calls the __new__ method, which in turn calls the __init__ method."
   ]
  },
  {
   "cell_type": "markdown",
   "id": "95bf5fe0-1db0-4e04-afb1-dbcc6cc3ac98",
   "metadata": {},
   "source": [
    "#The Constructor\n",
    "\n",
    "# A constructor is a special method that the program calls upon an object’s creation. The constructor is used in the class to initialize data members to the object. With our dog class example, you can use a constructor to assign dog characteristics to each Fox Terrier object. The special method __init__ is the Python constructor.\n",
    "\n",
    "# With an understanding of object oriented programming and classes, let’s now look at how the __init__ method works within a Python program."
   ]
  },
  {
   "cell_type": "code",
   "execution_count": 1,
   "id": "270be786-5476-4893-86ab-ff1a495506ca",
   "metadata": {},
   "outputs": [
    {
     "name": "stdout",
     "output_type": "stream",
     "text": [
      "I ran first\n",
      "I ran second\n",
      "Name: Audi R8\n"
     ]
    }
   ],
   "source": [
    "class Car:\n",
    "    def __init__(self, name):\n",
    "        self.name = name\n",
    "        print(\"I ran first\")\n",
    " \n",
    "    def product(self):\n",
    "        print(\"I ran second\")\n",
    "        return (\"Name: \" + self.name)\n",
    " \n",
    " \n",
    "C = Car('Audi R8')\n",
    "print(C.product())\n"
   ]
  },
  {
   "cell_type": "code",
   "execution_count": null,
   "id": "9e22f1ee-ea47-4502-be42-bc8fbb7eacc0",
   "metadata": {},
   "outputs": [],
   "source": []
  },
  {
   "cell_type": "markdown",
   "id": "6a4fa834-4c0a-4d44-910b-5512d20ccaaf",
   "metadata": {},
   "source": [
    "# Q-4) Why self is used in OOPs?"
   ]
  },
  {
   "cell_type": "markdown",
   "id": "e59311bd-f497-4c32-8576-e3fe5b9a8191",
   "metadata": {},
   "source": [
    "# self represents the instance of the class. By using the \"self\" we can access the attributes and methods of the class in python. It binds the attributes with the given arguments. The reason you need to use self. is because Python does not use the @ syntax to refer to instance attributes. "
   ]
  },
  {
   "cell_type": "code",
   "execution_count": null,
   "id": "5344b3ed-6f96-4cbb-b63b-c7851f332620",
   "metadata": {},
   "outputs": [],
   "source": [
    "Characteristic-\n",
    "\n",
    "    Self is always pointing to Current Object."
   ]
  },
  {
   "cell_type": "code",
   "execution_count": 1,
   "id": "5911e19f-a460-4fa5-b1a8-ff4f388b84a9",
   "metadata": {},
   "outputs": [
    {
     "name": "stdout",
     "output_type": "stream",
     "text": [
      "Address of self =  139837899476368\n",
      "Address of class object =  139837899476368\n"
     ]
    }
   ],
   "source": [
    "class check:\n",
    "    def __init__(self):\n",
    "        print(\"Address of self = \",id(self))\n",
    "  \n",
    "obj = check()\n",
    "print(\"Address of class object = \",id(obj))"
   ]
  },
  {
   "cell_type": "markdown",
   "id": "d55f4ccc-cdff-406e-b6be-f0d30890b02a",
   "metadata": {},
   "source": [
    "# Q-5) What is inheritance? Give an example for each type of inheritence."
   ]
  },
  {
   "cell_type": "markdown",
   "id": "7a9babd1-ee5f-4044-8adb-0f01e289a08b",
   "metadata": {},
   "source": [
    "Inheritance allows us to define a class that inherits all the methods and properties from another class. Parent class is the class being inherited from, also called base class. Child class is the class that inherits from another class, also called derived class."
   ]
  },
  {
   "cell_type": "markdown",
   "id": "2edc1b06-7f09-46d1-9a86-025eaa767fd4",
   "metadata": {},
   "source": [
    "# Types of Inheritance in Python"
   ]
  },
  {
   "cell_type": "markdown",
   "id": "b6accd59-4fd3-4b40-87ae-2f44958c659f",
   "metadata": {},
   "source": [
    "# 1) Single Inheritance:"
   ]
  },
  {
   "cell_type": "markdown",
   "id": "a42e11a0-4193-42f0-be0a-83f2f5464b53",
   "metadata": {},
   "source": [
    "# Single inheritance enables a derived class to inherit properties from a single parent class, thus enabling code reusability and the addition of new features to existing code.\n"
   ]
  },
  {
   "cell_type": "code",
   "execution_count": 4,
   "id": "06b026d7-0699-4db4-9e65-fa40e28344f0",
   "metadata": {},
   "outputs": [
    {
     "name": "stdout",
     "output_type": "stream",
     "text": [
      "This function is in Parent class.\n",
      "This function is in child class.\n"
     ]
    }
   ],
   "source": [
    "# Base Class\n",
    "class Parent:\n",
    "    def func1(self):\n",
    "        print(\"This function is in Parent class.\")\n",
    "        \n",
    "# Derived class\n",
    "class Child(Parent):\n",
    "    def func2(self):\n",
    "        print(\"This function is in child class.\")\n",
    "        \n",
    "# Driver's code\n",
    "object = Child()\n",
    "object.func1()\n",
    "object.func2()"
   ]
  },
  {
   "cell_type": "markdown",
   "id": "5f3e709e-03e3-4424-96fa-30c1e9361de9",
   "metadata": {},
   "source": [
    "# 2) Multiple Inheritance:"
   ]
  },
  {
   "cell_type": "markdown",
   "id": "91986d09-e4cc-4c79-bd3d-36378dfdd912",
   "metadata": {},
   "source": [
    "# When a class can be derived from more than one base class this type of inheritance is called multiple inheritances. In multiple inheritances, all the features of the base classes are inherited into the derived class. "
   ]
  },
  {
   "cell_type": "code",
   "execution_count": 2,
   "id": "07657106-b027-4328-8b29-c558cd921a16",
   "metadata": {},
   "outputs": [
    {
     "name": "stdout",
     "output_type": "stream",
     "text": [
      "Father : RAM\n",
      "Mother : SITA\n"
     ]
    }
   ],
   "source": [
    "# Base class1\n",
    "class Mother:\n",
    "    mothername = \"\"\n",
    " \n",
    "    def mother(self):\n",
    "        print(self.mothername)\n",
    " \n",
    "# Base class2\n",
    " \n",
    " \n",
    "class Father:\n",
    "    fathername = \"\"\n",
    " \n",
    "    def father(self):\n",
    "        print(self.fathername)\n",
    " \n",
    "# Derived class\n",
    " \n",
    " \n",
    "class Son(Mother, Father):\n",
    "    def parents(self):\n",
    "        print(\"Father :\", self.fathername)\n",
    "        print(\"Mother :\", self.mothername)\n",
    " \n",
    " \n",
    "# Driver's code\n",
    "s1 = Son()\n",
    "s1.fathername = \"RAM\"\n",
    "s1.mothername = \"SITA\"\n",
    "s1.parents()"
   ]
  },
  {
   "cell_type": "markdown",
   "id": "953c662a-a8e3-40f2-b692-6ab1fb560859",
   "metadata": {},
   "source": [
    "# 3) Multilevel Inheritance :"
   ]
  },
  {
   "cell_type": "markdown",
   "id": "36aa3993-c9a3-4784-82f1-8da8122a09f6",
   "metadata": {},
   "source": [
    "# In multilevel inheritance, features of the base class and the derived class are further inherited into the new derived class. This is similar to a relationship representing a child and a grandfather. "
   ]
  },
  {
   "cell_type": "code",
   "execution_count": 7,
   "id": "d09bfe2f-9864-4a4c-b6be-25dbc2500332",
   "metadata": {},
   "outputs": [
    {
     "name": "stdout",
     "output_type": "stream",
     "text": [
      "Lal mani\n",
      "Grandfather name : Lal mani\n",
      "Father name : Rampal\n",
      "Son name : Prince\n"
     ]
    }
   ],
   "source": [
    "# Python program to demonstrate\n",
    "# multilevel inheritance\n",
    " \n",
    "# Base class\n",
    " \n",
    " \n",
    "class Grandfather:\n",
    " \n",
    "    def __init__(self, grandfathername):\n",
    "        self.grandfathername = grandfathername\n",
    " \n",
    "# Intermediate class\n",
    " \n",
    " \n",
    "class Father(Grandfather):\n",
    "    def __init__(self, fathername, grandfathername):\n",
    "        self.fathername = fathername\n",
    " \n",
    "        # invoking constructor of Grandfather class\n",
    "        Grandfather.__init__(self, grandfathername)\n",
    " \n",
    "# Derived class\n",
    " \n",
    " \n",
    "class Son(Father):\n",
    "    def __init__(self, sonname, fathername, grandfathername):\n",
    "        self.sonname = sonname\n",
    " \n",
    "        # invoking constructor of Father class\n",
    "        Father.__init__(self, fathername, grandfathername)\n",
    " \n",
    "    def print_name(self):\n",
    "        print('Grandfather name :', self.grandfathername)\n",
    "        print(\"Father name :\", self.fathername)\n",
    "        print(\"Son name :\", self.sonname)\n",
    " \n",
    " \n",
    "#  Driver code\n",
    "s1 = Son('Prince', 'Rampal', 'Lal mani')\n",
    "print(s1.grandfathername)\n",
    "s1.print_name()"
   ]
  },
  {
   "cell_type": "markdown",
   "id": "eaf35c55-f654-484f-9a62-e208ee874d9e",
   "metadata": {},
   "source": [
    "# 4)  Hierarchical Inheritance: \n",
    "\n",
    "# When more than one derived class are created from a single base this type of inheritance is called hierarchical inheritance. In this program, we have a parent (base) class and two child (derived) classes."
   ]
  },
  {
   "cell_type": "code",
   "execution_count": 1,
   "id": "dacdc93f-f1fe-4151-ad0b-30cedbaf5651",
   "metadata": {},
   "outputs": [
    {
     "name": "stdout",
     "output_type": "stream",
     "text": [
      "This function is in parent class.\n",
      "This function is in child 1.\n",
      "This function is in parent class.\n",
      "This function is in child 2.\n"
     ]
    }
   ],
   "source": [
    "# Base class\n",
    "class Parent:\n",
    "    def func1(self):\n",
    "        print(\"This function is in parent class.\")\n",
    " \n",
    "# Derived class1\n",
    " \n",
    " \n",
    "class Child1(Parent):\n",
    "    def func2(self):\n",
    "        print(\"This function is in child 1.\")\n",
    " \n",
    "# Derivied class2\n",
    " \n",
    " \n",
    "class Child2(Parent):\n",
    "    def func3(self):\n",
    "        print(\"This function is in child 2.\")\n",
    " \n",
    " \n",
    "# Driver's code\n",
    "object1 = Child1()\n",
    "object2 = Child2()\n",
    "object1.func1()\n",
    "object1.func2()\n",
    "object2.func1()\n",
    "object2.func3()"
   ]
  },
  {
   "cell_type": "code",
   "execution_count": null,
   "id": "a56eb6ac-f535-49e9-a7de-36eb5827049e",
   "metadata": {},
   "outputs": [],
   "source": []
  }
 ],
 "metadata": {
  "kernelspec": {
   "display_name": "Python 3 (ipykernel)",
   "language": "python",
   "name": "python3"
  },
  "language_info": {
   "codemirror_mode": {
    "name": "ipython",
    "version": 3
   },
   "file_extension": ".py",
   "mimetype": "text/x-python",
   "name": "python",
   "nbconvert_exporter": "python",
   "pygments_lexer": "ipython3",
   "version": "3.10.6"
  }
 },
 "nbformat": 4,
 "nbformat_minor": 5
}
