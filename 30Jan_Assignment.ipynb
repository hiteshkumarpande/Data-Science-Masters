{
 "cells": [
  {
   "cell_type": "code",
   "execution_count": 2,
   "id": "b15e6484-9908-4d01-99b5-8f45d8afa92a",
   "metadata": {},
   "outputs": [],
   "source": [
    "# 1) Write a program to accept percentage from thr user and display the grade according to the following criteria.\n",
    "    \n",
    "    # Marks           Grade\n",
    "    ## >90              A\n",
    "    ## >80 AND <=90     B\n",
    "    ## >=60 AND <=80    C\n",
    "    ## below 60         D"
   ]
  },
  {
   "cell_type": "code",
   "execution_count": 1,
   "id": "ed23fe24-ea8d-4363-b079-e3dee3414d44",
   "metadata": {},
   "outputs": [
    {
     "name": "stdin",
     "output_type": "stream",
     "text": [
      "Enter the percentage:\n",
      " 258\n"
     ]
    },
    {
     "name": "stdout",
     "output_type": "stream",
     "text": [
      "A\n"
     ]
    }
   ],
   "source": [
    "inp_per = float(input(\"Enter the percentage:\\n\"))\n",
    "\n",
    "if inp_per>90:\n",
    "    print(\"A\")\n",
    "elif (inp_per>80) and (inp_per<=90):\n",
    "    print(\"B\")\n",
    "elif (inp_per>=60) and (inp_per<=80):\n",
    "    print(\"C\")\n",
    "else:\n",
    "    print(\"D\")"
   ]
  },
  {
   "cell_type": "markdown",
   "id": "7c4faead-da2c-418c-9a2e-ed371417b743",
   "metadata": {},
   "source": [
    "# Write a program to accept the cost price of a bike and display the road tax to be paid according to the given data."
   ]
  },
  {
   "cell_type": "code",
   "execution_count": 3,
   "id": "6b751398-72db-4062-8f35-75bc78bd786b",
   "metadata": {},
   "outputs": [
    {
     "name": "stdin",
     "output_type": "stream",
     "text": [
      "Enter the price of bike:\n",
      " 850000\n"
     ]
    },
    {
     "name": "stdout",
     "output_type": "stream",
     "text": [
      "Road tax is 127500.00\n"
     ]
    }
   ],
   "source": [
    "cp_bike = float(input(\"Enter the price of bike:\\n\"))\n",
    "\n",
    "if cp_bike>100000:\n",
    "    road_tax=0.15*cp_bike\n",
    "elif (cp_bike>50000) and (cp_bike<=100000):\n",
    "    road_tax=0.1*cp_bike\n",
    "elif cp_bike<=50000:\n",
    "    road_tax=0.05*cp_bike\n",
    "print(f'Road tax is {road_tax:.2f}')"
   ]
  },
  {
   "cell_type": "markdown",
   "id": "4946c752-d543-4c17-a7f6-d492f6d6144d",
   "metadata": {},
   "source": [
    "# Accept any city from the user and display monuments of that city."
   ]
  },
  {
   "cell_type": "code",
   "execution_count": 4,
   "id": "68039b3a-5598-4700-aba3-fe2e1dc7e373",
   "metadata": {},
   "outputs": [
    {
     "name": "stdin",
     "output_type": "stream",
     "text": [
      "Enter the city name:\n",
      " Delhi\n"
     ]
    },
    {
     "name": "stdout",
     "output_type": "stream",
     "text": [
      "Red Fort\n"
     ]
    }
   ],
   "source": [
    "City=input(\"Enter the city name:\\n\").capitalize()\n",
    "if City=='Delhi':\n",
    "    print(f'Red Fort')\n",
    "elif City=='Agra':\n",
    "    print(f'Red Fort')\n",
    "elif City=='Jaipur':\n",
    "    print(f'Red Fort')"
   ]
  },
  {
   "cell_type": "markdown",
   "id": "f03e9795-0b8a-40bc-9410-619768b7f3c2",
   "metadata": {},
   "source": [
    "# Check how many times a given number can be divided by 3 before it is less than or equal to 10"
   ]
  },
  {
   "cell_type": "code",
   "execution_count": 5,
   "id": "bb3565b7-c73f-4a06-a5eb-727a96564431",
   "metadata": {},
   "outputs": [
    {
     "name": "stdin",
     "output_type": "stream",
     "text": [
      "Enter the number: 69\n"
     ]
    },
    {
     "name": "stdout",
     "output_type": "stream",
     "text": [
      "count:2\n"
     ]
    }
   ],
   "source": [
    "num=float(input(\"Enter the number:\"))\n",
    "count=0\n",
    "while (num>10):\n",
    "    num/=3\n",
    "    count+=1\n",
    "print(f'count:{count}')"
   ]
  },
  {
   "cell_type": "markdown",
   "id": "232f1ec7-2bd4-4bee-83cd-59efcda69453",
   "metadata": {},
   "source": [
    "# Why and when to use while loop in Python give a detailed description with example"
   ]
  },
  {
   "cell_type": "code",
   "execution_count": null,
   "id": "75d3c497-167a-4d79-95f7-e39371089026",
   "metadata": {},
   "outputs": [],
   "source": [
    "Python While Loop is used to execute a block of statements repeatedly until a given condition is satisfied. And when the condition becomes false, the line immediately after the loop in the program is executed.\n",
    "\n",
    "Syntax: \n",
    "\n",
    "while expression:\n",
    "    statement(s)\n",
    "    \n",
    "Example:\n",
    "num=float(input(\"Enter the number:\"))\n",
    "count=0\n",
    "while (num>10):\n",
    "    num/=3\n",
    "    count+=1\n",
    "print(f'count:{count}')"
   ]
  },
  {
   "cell_type": "markdown",
   "id": "b957fabb-7e4a-4fa4-9ce5-ab14cdc1624d",
   "metadata": {},
   "source": [
    "# Use nested while loop to print different pattern."
   ]
  },
  {
   "cell_type": "markdown",
   "id": "c9877017-18ce-405b-bf7a-5a3887940fb0",
   "metadata": {},
   "source": [
    "Python While loop is just another Python statement. As you already know that while loop body can contain statements, we can write while loop inside while loop. While loop inside another while loop is called Nested While Loop.\n",
    "\n",
    "Syntax:\n",
    "Following is the quick code snippet of a while loop inside another while loop.\n",
    "\n",
    "#statement(s)\n",
    "while condition_1 :\n",
    "    #statement(s)\n",
    "    while condition_2 : \n",
    "        #statement(s)"
   ]
  },
  {
   "cell_type": "code",
   "execution_count": 6,
   "id": "5d78c438-063a-4249-899e-9baf38ea1451",
   "metadata": {},
   "outputs": [
    {
     "name": "stdout",
     "output_type": "stream",
     "text": [
      "pattern 1\n",
      "* \n",
      "* * \n",
      "* * * \n",
      "* * * * \n",
      "* * * * * \n"
     ]
    }
   ],
   "source": [
    "# Example:\n",
    "print(\"pattern 1\")\n",
    "\n",
    "row=1\n",
    "while row<=5:\n",
    "    col=1\n",
    "    while col<=row:\n",
    "        print(\"*\",end=' ')\n",
    "        col+=1\n",
    "    print()\n",
    "    row+=1     "
   ]
  },
  {
   "cell_type": "code",
   "execution_count": 2,
   "id": "63d505b2-aac8-43ff-952d-1e17b1107bdd",
   "metadata": {},
   "outputs": [
    {
     "name": "stdout",
     "output_type": "stream",
     "text": [
      "\n",
      "Pattern 2:\n",
      "1\n",
      "12\n",
      "123\n",
      "1234\n",
      "12345\n"
     ]
    }
   ],
   "source": [
    "print(\"\\nPattern 2:\")\n",
    "row = 1\n",
    "while row <= 5:\n",
    "    col = 1\n",
    "    while col <= row:\n",
    "        print(col, end=\"\")\n",
    "        col += 1\n",
    "    print()\n",
    "    row += 1"
   ]
  },
  {
   "cell_type": "code",
   "execution_count": 3,
   "id": "7911a7b6-b60a-4a32-9589-016befc51a42",
   "metadata": {},
   "outputs": [
    {
     "name": "stdout",
     "output_type": "stream",
     "text": [
      "\n",
      "Pattern 3:\n",
      "* * * * * \n",
      "* * * * \n",
      "* * * \n",
      "* * \n",
      "* \n"
     ]
    }
   ],
   "source": [
    "print(\"\\nPattern 3:\")\n",
    "row=5\n",
    "while row>=1:\n",
    "    col=1\n",
    "    while col<=row:\n",
    "        print(\"*\",end=\" \")\n",
    "        col+=1\n",
    "    print()\n",
    "    row-=1"
   ]
  },
  {
   "cell_type": "markdown",
   "id": "a703be7c-871c-4460-a134-4e148ffe8dbd",
   "metadata": {},
   "source": [
    "# Reverse a while loop to display numbers from 10 to 1"
   ]
  },
  {
   "cell_type": "code",
   "execution_count": 10,
   "id": "162163d6-a897-4169-9add-bf002d1e1fd7",
   "metadata": {},
   "outputs": [
    {
     "name": "stdin",
     "output_type": "stream",
     "text": [
      " 15\n"
     ]
    },
    {
     "name": "stdout",
     "output_type": "stream",
     "text": [
      "15\n",
      "14\n",
      "13\n",
      "12\n",
      "11\n",
      "10\n",
      "9\n",
      "8\n",
      "7\n",
      "6\n",
      "5\n",
      "4\n",
      "3\n",
      "2\n",
      "1\n"
     ]
    }
   ],
   "source": [
    "n=int(input())\n",
    "while n>=1:\n",
    "    print(n)\n",
    "    n=n-1  "
   ]
  },
  {
   "cell_type": "markdown",
   "id": "23601fdc-2d08-46ff-8732-d4cb2154691b",
   "metadata": {},
   "source": [
    "# Reverse a while loop to display numbers from 10 to 1"
   ]
  },
  {
   "cell_type": "code",
   "execution_count": 12,
   "id": "a6247d99-3194-4471-abdd-909133295f3d",
   "metadata": {},
   "outputs": [
    {
     "name": "stdin",
     "output_type": "stream",
     "text": [
      " 10\n"
     ]
    },
    {
     "name": "stdout",
     "output_type": "stream",
     "text": [
      "10\n",
      "9\n",
      "8\n",
      "7\n",
      "6\n",
      "5\n",
      "4\n",
      "3\n",
      "2\n",
      "1\n"
     ]
    }
   ],
   "source": [
    "m=int(input())\n",
    "while m>=1:\n",
    "    print(m)\n",
    "    m-=1"
   ]
  },
  {
   "cell_type": "code",
   "execution_count": null,
   "id": "a3e008d0-b75f-458f-9945-946ded9b2883",
   "metadata": {},
   "outputs": [],
   "source": []
  }
 ],
 "metadata": {
  "kernelspec": {
   "display_name": "Python 3 (ipykernel)",
   "language": "python",
   "name": "python3"
  },
  "language_info": {
   "codemirror_mode": {
    "name": "ipython",
    "version": 3
   },
   "file_extension": ".py",
   "mimetype": "text/x-python",
   "name": "python",
   "nbconvert_exporter": "python",
   "pygments_lexer": "ipython3",
   "version": "3.10.6"
  }
 },
 "nbformat": 4,
 "nbformat_minor": 5
}
